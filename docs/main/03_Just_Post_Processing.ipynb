{
 "cells": [
  {
   "cell_type": "markdown",
   "metadata": {},
   "source": [
    "# 03 - Just Post-Processing\n",
    "\n",
    "We have introduced the workflow from building circuits to executing post-processing to get the final result. However, for some users that already have measurement outcomes from their own calculations, they may want to skip the building circuits and job manager to use the post-processing part only.\n",
    "\n",
    "In this notebook, we will focus on the post-processing part. We will introduce how to access the fuctions that performs post-processing for <u>**those who are familiar with the post-processing procedure and more experienced with Python**</u>."
   ]
  },
  {
   "cell_type": "markdown",
   "metadata": {},
   "source": [
    "## Access the post-processing functions with Rust or Cython acceleration\n",
    "\n",
    "All the functions are located in the `qurry.process` module. You can access them by importing the module.\n",
    "\n",
    "We also prepared Rust and Cython acceleration for the post-processing because Python is notorious for its inefficiency. The post-processing is the most time-consuming part in the workflow, as a result of the exponential amount of quantum data. Thus, acceleration of the process is of extreme importance. \n",
    "\n",
    "For comparison, Rust is the fastest, Cython is the second, and Python is the slowest. You can check whether the acceleration module is available by checking `AVAIBILITY_STATESHEET` from `qurry.process.status`"
   ]
  },
  {
   "cell_type": "code",
   "execution_count": 1,
   "metadata": {},
   "outputs": [
    {
     "data": {
      "text/plain": [
       " | Qurry version: 0.9.1.dev1\n",
       "--------------------------------------------------------\n",
       " ### Qurry Post-Processing\n",
       "   - Backend Availability ......... Python Cython Rust  \n",
       " - randomized_measure\n",
       "   - entangled_core ............... True   True   True  \n",
       "   - purity_cell .................. True   True   True  \n",
       "   - wavefunction_overlap ......... True   True   True  \n",
       "   - echo_cell .................... True   True   True  \n",
       " - utils\n",
       "   - randomized ................... True   True   True  \n",
       "   - construct .................... True   None   True  \n",
       "   - dummy ........................ True   None   True  \n",
       " - hadamard_test\n",
       "   - purity_echo_core ............. True   None   True  \n",
       " - magnet_square\n",
       "   - magnsq_core .................. True   None   None  \n",
       "--------------------------------------------------------\n",
       "   + True ..... Working normally.\n",
       "   + False .... Exception occurred.\n",
       "   + None ..... Not supported.\n",
       "--------------------------------------------------------\n",
       "by <Hoshi>"
      ]
     },
     "execution_count": 1,
     "metadata": {},
     "output_type": "execute_result"
    }
   ],
   "source": [
    "from qurry.process.status import AVAIBILITY_STATESHEET\n",
    "\n",
    "AVAIBILITY_STATESHEET"
   ]
  },
  {
   "cell_type": "markdown",
   "metadata": {},
   "source": [
    "## The Future of Acceleration\n",
    "\n",
    "The future version of Qurry will only maintain Rust acceleration. \n",
    "Cython acceleration that has been implemented will remain in the package, but not be updated anymore. For the computation efficiency of Cython is only slightly better than that of Python. Nonetheless, Cython and Python are hard to work parallelly due to not just **GIL (Global Interpreter Lock) in multi-thread**, but also **memory-wasted and inefficient for each children process in multi-process**. Therefore, we decided to focus on Rust acceleration. Python version will be remained for the compatibility and the convenience of debugging."
   ]
  },
  {
   "cell_type": "markdown",
   "metadata": {},
   "source": [
    "<style type=\"text/css\">\n",
    "  @counter-style prefix3 {\n",
    "    system: numeric;\n",
    "    symbols: \"0\" \"1\" \"2\" \"3\" \"4\" \"5\" \"6\" \"7\" \"8\" \"9\";\n",
    "    prefix: \"3.\";\n",
    "    suffix: \". \";\n",
    "  }\n",
    "  @counter-style prefix31 {\n",
    "    system: numeric;\n",
    "    symbols: \"0\" \"1\" \"2\" \"3\" \"4\" \"5\" \"6\" \"7\" \"8\" \"9\";\n",
    "    prefix: \"3.1.\";\n",
    "    suffix: \". \";\n",
    "  }\n",
    "  @counter-style prefix32 {\n",
    "    system: numeric;\n",
    "    symbols: \"0\" \"1\" \"2\" \"3\" \"4\" \"5\" \"6\" \"7\" \"8\" \"9\";\n",
    "    prefix: \"3.2.\";\n",
    "    suffix: \". \";\n",
    "  }\n",
    "  ul.root3 li { list-style-type: prefix3; }\n",
    "  ul.root3 li ul.root31 li { list-style-type: prefix31; }\n",
    "  ul.root3 li ul.root32 li { list-style-type: prefix32; }\n",
    "  ul.root3 li ul.root3-child li ol li { list-style-type: lower-alpha; }\n",
    "  ul.root3 li ul.root3-child li ul li { list-style-type: circle; }\n",
    "</style>\n",
    "\n",
    "## Content\n",
    "\n",
    "<ul class=\"root3\">\n",
    "  <li>EntropyMeasure\n",
    "    <ul class=\"root31 root3-child\">\n",
    "      <li>Entanglement Entropy - Randomized Measure\n",
    "        <ol>\n",
    "          <li><a href=\"./0311a_EntropyRandomizedMeasure.ipynb\">randomized_entangled_entropy</a></li>\n",
    "          <li><a href=\"./0311b_EntropyRandomizedMeasure.ipynb\">randomized_entangled_entropy_mitigated</a></li>\n",
    "        </ol>\n",
    "      </li>\n",
    "      <li><a href=\"./0312_EntropyHadamardTest.ipynb\">Entanglement Entropy - Hadamard Test</a></li>\n",
    "      <li>Entanglement Entropy - Randomized Measure V1\n",
    "        <ul>\n",
    "          <li>This method is deprecated, and we recommend <strong>not</strong> using it for post-processing except when dealing with data from versions <strong>below <code>0.9.1</code></strong></li>\n",
    "          <li><code>EntropyRandomizedMeasureV1</code> is a deprecated version of <code>EntropyRandomizedMeasure</code> because it lacks clarity on the relationship between bitstrings and qubit indices. This limitation can easily cause confusion, especially when working with systems that do not measure all qubits. However, it is retained for backward compatibility.</li>\n",
    "        </ul>\n",
    "        <ol>\n",
    "          <li><a href=\"./0313a_EntropyRandomizedMeasureV1.ipynb\">randomized_entangled_entropy_v1</a></li>\n",
    "          <li><a href=\"./0313b_EntropyRandomizedMeasureV1.ipynb\">randomized_entangled_entropy_mitigated_v1</a></li>\n",
    "        </ol>\n",
    "      </li>\n",
    "    </ul>\n",
    "  </li>\n",
    "  <li>EchoListen\n",
    "    <ul class=\"root32 root3-child\">\n",
    "      <li>This feature has been implemented, but documentation is not ready yet. Please wait for the next version.</li>\n",
    "    </ul>\n",
    "  </li>\n",
    "</ul>\n",
    "\n",
    "\n",
    "<!-- - EntropyMeasure\n",
    "  - Entanglement Entropy - Randomized Measure\n",
    "    1. [randomized_entangled_entropy](./0311a_EntropyRandomizedMeasure.ipynb)\n",
    "    2. [randomized_entangled_entropy_mitigated](./0311b_EntropyRandomizedMeasure.ipynb)\n",
    "  - [Entanglement Entropy - Hadamard Test](./0312_EntropyHadamardTest.ipynb)\n",
    "  - Entanglement Entropy - Randomized Measure V1\n",
    "    - This method is deprecated, and we recommend **not** using it for post-processing except when dealing with data from versions **below `0.9.1`**\n",
    "    - `EntropyRandomizedMeasureV1` is a deprecated version of `EntropyRandomizedMeasure` because it lacks clarity on the relationship between bitstrings and qubit indices. This limitation can easily cause confusion, especially when working with systems that do not measure all qubits. However, it is retained for backward compatibility.\n",
    "    1. [randomized_entangled_entropy_v1](./0313a_EntropyRandomizedMeasureV1.ipynb)\n",
    "    2. [randomized_entangled_entropy_mitigated_v1](./0313b_EntropyRandomizedMeasureV1.ipynb)\n",
    "\n",
    "- EchoListen\n",
    "  - This feature has been implemented, but documentation is not ready yet. Please wait for the next version.  -->\n",
    "\n"
   ]
  },
  {
   "cell_type": "code",
   "execution_count": null,
   "metadata": {},
   "outputs": [],
   "source": []
  }
 ],
 "metadata": {
  "kernelspec": {
   "display_name": "quantumsphere12",
   "language": "python",
   "name": "python3"
  },
  "language_info": {
   "codemirror_mode": {
    "name": "ipython",
    "version": 3
   },
   "file_extension": ".py",
   "mimetype": "text/x-python",
   "name": "python",
   "nbconvert_exporter": "python",
   "pygments_lexer": "ipython3",
   "version": "3.12.2"
  }
 },
 "nbformat": 4,
 "nbformat_minor": 4
}
