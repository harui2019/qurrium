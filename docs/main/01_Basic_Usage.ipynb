{
 "cells": [
  {
   "attachments": {},
   "cell_type": "markdown",
   "metadata": {},
   "source": [
    "# 01 - Basic Usage of Qurry\n",
    "\n",
    "In Qurry, we use the instance of `Qurry` to store quantum circuits, experiments, build experiment, and excute them on local simulator or pending to the real quantum machine on `IBM`. In this chapter (or we say this jupyter file), we will introduce how to use Qurry to build a simple quantum circuit and measure their Renyi Entropy on local simulator.\n"
   ]
  },
  {
   "cell_type": "markdown",
   "metadata": {},
   "source": [
    "If you are using Colab, you can run the following command in terminal to install Qurry.\n",
    "\n",
    "```bash\n",
    "pip install -i https://test.pypi.org/simple/ qurry\n",
    "```\n"
   ]
  },
  {
   "cell_type": "code",
   "execution_count": 1,
   "metadata": {},
   "outputs": [
    {
     "data": {
      "text/plain": [
       "'0.7.4.dev1'"
      ]
     },
     "execution_count": 1,
     "metadata": {},
     "output_type": "execute_result"
    }
   ],
   "source": [
    "from IPython.display import display\n",
    "from qurry import __version__\n",
    "\n",
    "__version__"
   ]
  },
  {
   "attachments": {},
   "cell_type": "markdown",
   "metadata": {},
   "source": [
    "## 1.1 Setup Environment and Creat experiment executor\n"
   ]
  },
  {
   "cell_type": "code",
   "execution_count": 2,
   "metadata": {},
   "outputs": [],
   "source": [
    "from qurry import EntropyMeasure\n",
    "from qiskit import QuantumCircuit"
   ]
  },
  {
   "cell_type": "markdown",
   "metadata": {},
   "source": [
    "- Import simulator\n"
   ]
  },
  {
   "cell_type": "code",
   "execution_count": 3,
   "metadata": {},
   "outputs": [],
   "source": [
    "from qiskit.providers.basic_provider import BasicProvider\n",
    "\n",
    "basic_provider = BasicProvider()\n",
    "backend_sim = basic_provider.get_backend(\"basic_simulator\")"
   ]
  },
  {
   "attachments": {},
   "cell_type": "markdown",
   "metadata": {},
   "source": [
    "- Next, we will initialize our `EntropyMeasure` instance. There are two methods implemented based on two theories. The defaul method is `randomized` based on Randomized Measure. The other method is `hadamard` based on Hadamard Test. \n",
    "\n",
    "- In the following tutorial, we will use `randomized` as our measurement method.\n"
   ]
  },
  {
   "cell_type": "code",
   "execution_count": 4,
   "metadata": {},
   "outputs": [
    {
     "name": "stdout",
     "output_type": "stream",
     "text": [
      "| The first method is which is `Hadamard Test`\".\n",
      "| The default method is which is `Randomized Measure` we will use.\n"
     ]
    }
   ],
   "source": [
    "experiment_hadamard = EntropyMeasure(method=\"hadamard\")\n",
    "print('| The first method is which is `Hadamard Test`\".')\n",
    "experiment_randomized = EntropyMeasure()\n",
    "print(\"| The default method is which is `Randomized Measure` we will use.\")"
   ]
  },
  {
   "attachments": {},
   "cell_type": "markdown",
   "metadata": {},
   "source": [
    "---\n",
    "\n",
    "## 1.2 Load quantum circuits\n",
    "\n",
    "- In `Qurry`, there are built-in quantum circuits that construct certain wave functions, or equivalently, quantum states. They can be imported from `qurry.recipe`.\n",
    "- The user can define customized circuits following Qiskit workflow.\n",
    "\n"
   ]
  },
  {
   "cell_type": "code",
   "execution_count": 5,
   "metadata": {},
   "outputs": [],
   "source": [
    "from qurry.recipe import TrivialParamagnet, GHZ"
   ]
  },
  {
   "cell_type": "code",
   "execution_count": 6,
   "metadata": {},
   "outputs": [
    {
     "name": "stdout",
     "output_type": "stream",
     "text": [
      "| trivial paramagnet in 8 qubits:\n",
      "     ┌───┐\n",
      "q_0: ┤ H ├\n",
      "     ├───┤\n",
      "q_1: ┤ H ├\n",
      "     ├───┤\n",
      "q_2: ┤ H ├\n",
      "     ├───┤\n",
      "q_3: ┤ H ├\n",
      "     ├───┤\n",
      "q_4: ┤ H ├\n",
      "     ├───┤\n",
      "q_5: ┤ H ├\n",
      "     ├───┤\n",
      "q_6: ┤ H ├\n",
      "     ├───┤\n",
      "q_7: ┤ H ├\n",
      "     └───┘\n",
      "| GHZ in 8 qubits:\n",
      "     ┌───┐                                   \n",
      "q_0: ┤ H ├──■────────────────────────────────\n",
      "     └───┘┌─┴─┐                              \n",
      "q_1: ─────┤ X ├──■───────────────────────────\n",
      "          └───┘┌─┴─┐                         \n",
      "q_2: ──────────┤ X ├──■──────────────────────\n",
      "               └───┘┌─┴─┐                    \n",
      "q_3: ───────────────┤ X ├──■─────────────────\n",
      "                    └───┘┌─┴─┐               \n",
      "q_4: ────────────────────┤ X ├──■────────────\n",
      "                         └───┘┌─┴─┐          \n",
      "q_5: ─────────────────────────┤ X ├──■───────\n",
      "                              └───┘┌─┴─┐     \n",
      "q_6: ──────────────────────────────┤ X ├──■──\n",
      "                                   └───┘┌─┴─┐\n",
      "q_7: ───────────────────────────────────┤ X ├\n",
      "                                        └───┘\n",
      "| Custom circuit:\n",
      "     ┌───┐\n",
      "q_0: ┤ X ├\n",
      "     └───┘\n",
      "q_1: ─────\n",
      "     ┌───┐\n",
      "q_2: ┤ X ├\n",
      "     └───┘\n",
      "q_3: ─────\n",
      "     ┌───┐\n",
      "q_4: ┤ X ├\n",
      "     └───┘\n",
      "q_5: ─────\n",
      "     ┌───┐\n",
      "q_6: ┤ X ├\n",
      "     └───┘\n",
      "q_7: ─────\n",
      "          \n"
     ]
    }
   ],
   "source": [
    "sample01 = TrivialParamagnet(8)\n",
    "print(\"| trivial paramagnet in 8 qubits:\")\n",
    "print(sample01)\n",
    "sample02 = GHZ(8)\n",
    "print(\"| GHZ in 8 qubits:\")\n",
    "print(sample02)\n",
    "sample03 = QuantumCircuit(8)\n",
    "sample03.x(range(0, 8, 2))\n",
    "print(\"| Custom circuit:\")\n",
    "print(sample03)"
   ]
  },
  {
   "cell_type": "markdown",
   "metadata": {},
   "source": [
    "- After we prepare three quantum circuits, we append them to the `EntropyMeasure` object by the `.add()` method.\n",
    "- The attribute `.waves` of `Qurry` object is a customized `dict`. we can check the stored circuits by printing the dictionary."
   ]
  },
  {
   "cell_type": "code",
   "execution_count": 7,
   "metadata": {},
   "outputs": [
    {
     "name": "stdout",
     "output_type": "stream",
     "text": [
      "<WaveContainer={\n",
      "    TrivialParamagnet: ...\n",
      "    GHZ: ...\n",
      "    2: ...\n",
      "} with 3 waves load, a customized dictionary>\n"
     ]
    }
   ],
   "source": [
    "experiment_randomized.add(\n",
    "    wave=sample01,  # The circuit object\n",
    "    key=\"TrivialParamagnet\",  # The name of the circuit\n",
    "    replace=False,  # True for if you want to replace the circuit with the same name.\n",
    ")  # Default is False, so if you add the same name when False,\n",
    "# it will be added with serial number.\n",
    "experiment_randomized.add(sample02, \"GHZ\")\n",
    "experiment_randomized.add(sample03)\n",
    "print(experiment_randomized.waves)"
   ]
  },
  {
   "attachments": {},
   "cell_type": "markdown",
   "metadata": {},
   "source": [
    "If you do not give the name of circuit, it will be named by series number.\n",
    "\n",
    "Now, waves are loading, time to excute.\n"
   ]
  },
  {
   "attachments": {},
   "cell_type": "markdown",
   "metadata": {},
   "source": [
    "## 1.3 Excute Circuits\n"
   ]
  },
  {
   "cell_type": "markdown",
   "metadata": {},
   "source": [
    "- We can use `.measure()` method to excute the specific circuit in the `EntropyMeasure` object. The `.measure()` method  returns a hash id of this experiment and save a `Experiment` object in `EntropyMeasure`.\n",
    "- `EntropyMeasure.measure()` requires the following input parameters:\n",
    "  - wave: the name of circuit in `Qurry.waves` object\n",
    "  - times: the number of random measurements\n",
    "  - shots: the number of shots for each measurement. The default is 1024.\n"
   ]
  },
  {
   "cell_type": "code",
   "execution_count": 8,
   "metadata": {},
   "outputs": [
    {
     "data": {
      "text/plain": [
       "'d355a026-ccd1-4150-b211-8af0efe11920'"
      ]
     },
     "execution_count": 8,
     "metadata": {},
     "output_type": "execute_result"
    }
   ],
   "source": [
    "exp1 = experiment_randomized.measure(\n",
    "    wave=\"TrivialParamagnet\", times=100, shots=1024, backend=backend_sim\n",
    ")\n",
    "exp1"
   ]
  },
  {
   "cell_type": "markdown",
   "metadata": {},
   "source": [
    "- You can specify the backend by add a parameter `backend` in `measure` method, if you do not specify, it will use simulator as the default backend. Moreover, qiskit has multiple simulators, they are `QasmSimulatorPy` from `qiskit`, `AerSimulator` from `qiskit-aer`, and `AerSimulator` from `qiskit-aer-gpu`. Qurry will check the availability of these simulators and use the first available one as the default backend in following order:\n",
    "  1. `AerSimulator` from `qiskit-aer-gpu`\n",
    "  2. `AerSimulator` from `qiskit-aer`\n",
    "  3. `QasmSimulatorPy` from `qiskit`\n"
   ]
  },
  {
   "cell_type": "code",
   "execution_count": 9,
   "metadata": {},
   "outputs": [
    {
     "data": {
      "text/plain": [
       "'89015bfb-3b78-43b4-9e1d-af57173c1627'"
      ]
     },
     "execution_count": 9,
     "metadata": {},
     "output_type": "execute_result"
    }
   ],
   "source": [
    "exp2 = experiment_randomized.measure(\n",
    "    wave=\"TrivialParamagnet\",\n",
    "    times=100,\n",
    "    shots=1024,\n",
    ")\n",
    "exp2"
   ]
  },
  {
   "cell_type": "markdown",
   "metadata": {},
   "source": [
    "- And we can check the attribute `.exps` of `EntropyMeasure` object, it will return the hash id of all experiments.\n"
   ]
  },
  {
   "cell_type": "code",
   "execution_count": 10,
   "metadata": {},
   "outputs": [
    {
     "name": "stdout",
     "output_type": "stream",
     "text": [
      "<ExperimentContainer={\n",
      "    d355a026-ccd1-4150-b211-8af0efe11920: ...\n",
      "    89015bfb-3b78-43b4-9e1d-af57173c1627: ...\n",
      "} with 2 experiments load, a customized dictionary>\n"
     ]
    }
   ],
   "source": [
    "print(experiment_randomized.exps)"
   ]
  },
  {
   "cell_type": "markdown",
   "metadata": {},
   "source": [
    "- The following is the other informatiom you can access.\n"
   ]
  },
  {
   "cell_type": "code",
   "execution_count": 11,
   "metadata": {},
   "outputs": [
    {
     "data": {
      "text/plain": [
       "<WaveContainer={\n",
       "    TrivialParamagnet: ...\n",
       "    GHZ: ...\n",
       "    2: ...\n",
       "} with 3 waves load, a customized dictionary>"
      ]
     },
     "execution_count": 11,
     "metadata": {},
     "output_type": "execute_result"
    }
   ],
   "source": [
    "experiment_randomized.waves"
   ]
  },
  {
   "cell_type": "code",
   "execution_count": 12,
   "metadata": {},
   "outputs": [
    {
     "data": {
      "text/plain": [
       "<qurrentRandomized.Experiment with exp_id=d355a026-ccd1-4150-b211-8af0efe11920, EntropyRandomizedArguments(exp_name='exps', times=100, measure=(0, 8), unitary_loc=(0, 8), workers_num=16), Commonparams(exp_id='d355a026-ccd1-4150-b211-8af0efe11920', wave_key='TrivialParamagnet', shots=1024, backend=<qiskit.providers.basic_provider.basic_simulator.BasicSimulator object at 0x75725c4638d0>, run_args={}, transpile_args={}, tags=(), default_analysis=[], save_location=PosixPath('.'), filename='', files={}, serial=None, summoner_id=None, summoner_name=None, datetimes={'build': '2024-06-03 17:55:45', 'run': '2024-06-03 17:55:45'}), 0 unused arguments, 6 preparing dates, 2 experiment result datasets, and 0 analysis>"
      ]
     },
     "execution_count": 12,
     "metadata": {},
     "output_type": "execute_result"
    }
   ],
   "source": [
    "experiment_randomized.exps[exp1]"
   ]
  },
  {
   "cell_type": "code",
   "execution_count": 13,
   "metadata": {},
   "outputs": [
    {
     "name": "stdout",
     "output_type": "stream",
     "text": [
      " # qurrentRandomized.Experiment with exp_id=d355a026-ccd1-4150-b211-8af0efe11920\n",
      " - arguments\n",
      "   - exp_name ---------------- exps\n",
      "   - times ------------------- 100\n",
      "   - measure ----------------- (0, 8)\n",
      "   - unitary_loc ------------- (0, 8)\n",
      "   - workers_num ------------- 16\n",
      " - commonparams\n",
      "   - exp_id ------------------ d355a026-ccd1-4150-b211-8af0efe11920   # This is ID is generated by Qurry which is different from 'job_id' for pending.\n",
      "   - wave_key ---------------- TrivialParamagnet\n",
      "   - shots ------------------- 1024\n",
      "   - backend ----------------- <qiskit.providers.basic_provider.basic_simulator.BasicSimulator object at 0x75725c4638d0>\n",
      "   - run_args ---------------- {}\n",
      "   - transpile_args ---------- {}\n",
      "   - tags -------------------- ()\n",
      "   - default_analysis -------- []\n",
      "   - save_location ----------- .\n",
      "   - filename ---------------- \n",
      "   - files ------------------- {}\n",
      "   - serial ------------------ None\n",
      "   - summoner_id ------------- None\n",
      "   - summoner_name ----------- None\n",
      "   - datetimes --------------- {'build': '2024-06-03 17:55:45', 'run': '2024-06-03 17:55:45'}\n",
      " - outfields --------------- 0 ........  # Number of unused arguments.\n",
      " - beforewards\n",
      "   - circuit ----------------- 100 ......  # Number of circuit\n",
      "   - circuit_qasm ------------ 100 ......  # Number of circuit_qasm\n",
      "   - fig_original ------------ 0 ........  # Number of fig_original\n",
      "   - job_id ------------------ 16e856b2-0f7a-403a-96c5-f365fa9ed65e\n",
      "   - exp_name ---------------- exps\n",
      "   - side_product ------------ 2 ........  # Number of side_product\n",
      " - afterwards\n",
      "   - result ------------------ 1 ........  # Number of result\n",
      "   - counts ------------------ 100 ......  # Number of counts\n",
      " - reports ----------------- 0 ........  # Number of analysis.\n",
      "\n"
     ]
    }
   ],
   "source": [
    "print(experiment_randomized.exps[exp1].statesheet())"
   ]
  },
  {
   "attachments": {},
   "cell_type": "markdown",
   "metadata": {},
   "source": [
    "- Then, there is a experiment completed, and we can calculate the Renyi Entropy by `analyze`.\n"
   ]
  },
  {
   "attachments": {},
   "cell_type": "markdown",
   "metadata": {},
   "source": [
    "---\n",
    "\n",
    "## 1.4 Post-Processing\n",
    "\n",
    "- To obtain the Renyi Entropy of the whole system and the subsystems. We use `exps[].analyze()` method to calculate and store a `Analysis` object in `Experiment`.\n",
    "- The `analyze` method requires the following input parameters:\n",
    "  - degree: The size or selected qubits of the subsystem. Please refer to the following chart for the selection.\n"
   ]
  },
  {
   "cell_type": "markdown",
   "metadata": {},
   "source": [
    "### Bit select hint\n",
    "\n",
    "A bit string mapping to the index of qubit is `'76543210'` for 8 qubits example here.\n",
    "\n",
    "| the input | bitStringRange | String Slice | Actual Qubit Included |\n",
    "| --------- | -------------- | ------------ | --------------------- |\n",
    "| `2`       | `(6, 8)`       | `'10'`       | 01                    |\n",
    "| `4`       | `(4, 8)`       | `'3210'`     | 0123                  |\n",
    "| `6`       | `(2, 8)`       | `'543210'`   | 012345                |\n",
    "| `(2, 4)`  | `(2, 4)`       | `'54'`       | 45                    |\n",
    "| `(4, 6)`  | `(4, 6)`       | `'32'`       | 23                    |\n",
    "| `(2, 6)`  | `(2, 6)`       | `'5432'`     | 2345                  |\n",
    "| `(-2, 2)` | `(-2, 2)`      | `'1076'`     | 6701                  |\n",
    "| `(-4, 2)` | `(-4, 2)`      | `'321076'`   | 670123                |\n",
    "| `(-2, 4)` | `(-2, 4)`      | `'107654'`   | 456701                |\n",
    "| `3`       | `(5, 8)`       | `'210'`      | 012                   |\n",
    "| `(5, 7)`  | `(5, 7)`       | `'21'`       | 12                    |\n",
    "| `(4, 7)`  | `(4, 7)`       | `'321'`      | 123                   |\n"
   ]
  },
  {
   "cell_type": "code",
   "execution_count": 14,
   "metadata": {},
   "outputs": [
    {
     "data": {
      "application/vnd.jupyter.widget-view+json": {
       "model_id": "0811e408bdb044749a808c46082a5b01",
       "version_major": 2,
       "version_minor": 0
      },
      "text/plain": [
       "|  - 00:00 < ?"
      ]
     },
     "metadata": {},
     "output_type": "display_data"
    },
    {
     "data": {
      "application/vnd.jupyter.widget-view+json": {
       "model_id": "3e0ec4899dbb4629a850245767405cad",
       "version_major": 2,
       "version_minor": 0
      },
      "text/plain": [
       "|  - 00:00 < ?"
      ]
     },
     "metadata": {},
     "output_type": "display_data"
    }
   ],
   "source": [
    "exp1_report1 = experiment_randomized.exps[exp1].analyze(degree=(3, 4))\n",
    "exp1_report2 = experiment_randomized.exps[exp1].analyze(degree=1)"
   ]
  },
  {
   "cell_type": "markdown",
   "metadata": {},
   "source": [
    "- The `analyze` will return the result of this analysis.\n"
   ]
  },
  {
   "cell_type": "code",
   "execution_count": 15,
   "metadata": {},
   "outputs": [
    {
     "data": {
      "text/plain": [
       "({'purity': 1.0566659164428711,\n",
       "  'entropy': -0.0795193153427059,\n",
       "  'puritySD': 0.48580666272767997,\n",
       "  'entropySD': 0.6632851994577739,\n",
       "  'bitStringRange': [7, 8],\n",
       "  'allSystemSource': \"AnalysisHeader(serial=0, datetime='2024-06-03 17:55:47', summoner=None, log={})\",\n",
       "  'purityAllSys': 1.2927798652648925,\n",
       "  'entropyAllSys': -0.37047663374945394,\n",
       "  'puritySDAllSys': 1.7144946824753815,\n",
       "  'entropySDAllSys': 1.9133133509399982,\n",
       "  'bitsStringRangeAllSys': [3, 4],\n",
       "  'errorRate': -0.13750956989348648,\n",
       "  'mitigatedPurity': 0.9302139741551041,\n",
       "  'mitigatedEntropy': 0.10436548195147936,\n",
       "  'num_qubits': 8,\n",
       "  'measure': ['measure range:', [0, 8]],\n",
       "  'measureActually': [0, 8],\n",
       "  'measureActuallyAllSys': [0, 8],\n",
       "  'countsNum': 100,\n",
       "  'takingTime': 0.00032463,\n",
       "  'takingTimeAllSys': 0,\n",
       "  'input': {'degree': 1, 'shots': 1024, 'unitary_loc': [0, 8]},\n",
       "  'header': {'serial': 1,\n",
       "   'datetime': '2024-06-03 17:55:47',\n",
       "   'summoner': None,\n",
       "   'log': {}}},\n",
       " {'purityCells': {5: 1.02880859375,\n",
       "   99: 0.5280380249023438,\n",
       "   66: 0.8808822631835938,\n",
       "   35: 0.6270351409912109,\n",
       "   29: 1.221120834350586,\n",
       "   56: 1.9133968353271484,\n",
       "   47: 0.5272426605224609,\n",
       "   81: 0.8779354095458984,\n",
       "   39: 0.5384750366210938,\n",
       "   86: 0.5011215209960938,\n",
       "   84: 1.4063949584960938,\n",
       "   88: 1.2665023803710938,\n",
       "   51: 0.5321865081787109,\n",
       "   8: 1.982473373413086,\n",
       "   48: 1.330617904663086,\n",
       "   28: 0.5908432006835938,\n",
       "   78: 1.27490234375,\n",
       "   20: 0.8576278686523438,\n",
       "   52: 0.5730648040771484,\n",
       "   76: 1.9190902709960938,\n",
       "   79: 1.936239242553711,\n",
       "   7: 0.935882568359375,\n",
       "   0: 0.9582729339599609,\n",
       "   69: 0.5006923675537109,\n",
       "   32: 0.5865688323974609,\n",
       "   23: 1.6587142944335938,\n",
       "   22: 1.321920394897461,\n",
       "   68: 1.705526351928711,\n",
       "   12: 0.5185909271240234,\n",
       "   77: 1.970846176147461,\n",
       "   40: 0.7596035003662109,\n",
       "   90: 0.5020656585693359,\n",
       "   1: 1.982473373413086,\n",
       "   60: 0.5038681030273438,\n",
       "   89: 1.330617904663086,\n",
       "   63: 0.8957881927490234,\n",
       "   2: 1.1537094116210938,\n",
       "   16: 1.5238399505615234,\n",
       "   37: 0.863372802734375,\n",
       "   55: 1.6484375,\n",
       "   41: 1.5286865234375,\n",
       "   13: 0.8159999847412109,\n",
       "   62: 1.840423583984375,\n",
       "   72: 0.5020656585693359,\n",
       "   97: 1.429311752319336,\n",
       "   57: 1.130706787109375,\n",
       "   59: 1.705526351928711,\n",
       "   49: 0.935882568359375,\n",
       "   17: 1.976654052734375,\n",
       "   38: 0.9713191986083984,\n",
       "   87: 0.5030269622802734,\n",
       "   54: 1.6794052124023438,\n",
       "   10: 1.1118526458740234,\n",
       "   14: 0.5922908782958984,\n",
       "   53: 0.5234375,\n",
       "   93: 1.0932846069335938,\n",
       "   95: 0.6236476898193359,\n",
       "   92: 0.8434658050537109,\n",
       "   25: 1.4618759155273438,\n",
       "   98: 1.0013427734375,\n",
       "   44: 1.9020442962646484,\n",
       "   4: 0.9912319183349609,\n",
       "   42: 0.566741943359375,\n",
       "   26: 1.509368896484375,\n",
       "   27: 0.6979598999023438,\n",
       "   58: 0.5384750366210938,\n",
       "   43: 1.6178817749023438,\n",
       "   67: 1.6128292083740234,\n",
       "   36: 1.0896053314208984,\n",
       "   70: 1.287588119506836,\n",
       "   80: 0.5219955444335938,\n",
       "   30: 0.5618896484375,\n",
       "   18: 1.4854793548583984,\n",
       "   24: 0.5179443359375,\n",
       "   33: 0.7087459564208984,\n",
       "   64: 1.710784912109375,\n",
       "   83: 0.6027450561523438,\n",
       "   75: 0.5192489624023438,\n",
       "   34: 0.5549545288085938,\n",
       "   11: 1.0534420013427734,\n",
       "   6: 0.8434658050537109,\n",
       "   9: 1.157583236694336,\n",
       "   50: 0.5012874603271484,\n",
       "   65: 1.229269027709961,\n",
       "   71: 1.2009506225585938,\n",
       "   85: 0.5160732269287109,\n",
       "   3: 0.57177734375,\n",
       "   94: 0.9018306732177734,\n",
       "   19: 1.4247055053710938,\n",
       "   61: 0.5148830413818359,\n",
       "   96: 0.5595321655273438,\n",
       "   21: 0.8268489837646484,\n",
       "   46: 0.552734375,\n",
       "   73: 0.757171630859375,\n",
       "   31: 1.3882675170898438,\n",
       "   74: 1.801931381225586,\n",
       "   82: 1.7747802734375,\n",
       "   91: 1.9650497436523438,\n",
       "   45: 0.6287460327148438,\n",
       "   15: 0.59375},\n",
       "  'purityCellsAllSys': {47: 0.46134376525878906,\n",
       "   85: 0.47435569763183594,\n",
       "   1: 1.4381942749023438,\n",
       "   45: 3.309720993041992,\n",
       "   33: 0.652008056640625,\n",
       "   41: 1.0150032043457031,\n",
       "   51: 0.40711021423339844,\n",
       "   26: 0.67425537109375,\n",
       "   62: 1.2780227661132812,\n",
       "   68: 0.5678825378417969,\n",
       "   11: 0.8733196258544922,\n",
       "   20: 0.2657814025878906,\n",
       "   28: 1.0765953063964844,\n",
       "   32: 0.9430942535400391,\n",
       "   76: 1.7440948486328125,\n",
       "   82: 0.3485736846923828,\n",
       "   6: 0.6654090881347656,\n",
       "   49: 0.5316390991210938,\n",
       "   93: 0.7134113311767578,\n",
       "   43: 0.6859169006347656,\n",
       "   37: 1.4821910858154297,\n",
       "   35: 1.164937973022461,\n",
       "   5: 1.1197795867919922,\n",
       "   63: 2.240459442138672,\n",
       "   72: 1.028564453125,\n",
       "   2: 0.9113254547119141,\n",
       "   42: 0.8111438751220703,\n",
       "   88: 0.2687511444091797,\n",
       "   96: 1.2844886779785156,\n",
       "   4: 0.8391075134277344,\n",
       "   9: 3.4018402099609375,\n",
       "   39: 2.048358917236328,\n",
       "   70: 0.5213394165039062,\n",
       "   80: 0.5793094635009766,\n",
       "   40: 1.2732105255126953,\n",
       "   73: 0.9736614227294922,\n",
       "   16: 1.168588638305664,\n",
       "   38: 2.717306137084961,\n",
       "   77: 2.2124557495117188,\n",
       "   81: 0.35173797607421875,\n",
       "   52: 0.7116718292236328,\n",
       "   67: 0.7272129058837891,\n",
       "   18: 2.050882339477539,\n",
       "   56: 15.549125671386719,\n",
       "   71: 3.2311859130859375,\n",
       "   87: 0.9357414245605469,\n",
       "   92: 0.4715461730957031,\n",
       "   90: 0.471649169921875,\n",
       "   22: 1.0615978240966797,\n",
       "   13: 0.7820072174072266,\n",
       "   3: 0.37963294982910156,\n",
       "   91: 0.4261360168457031,\n",
       "   78: 1.3256988525390625,\n",
       "   15: 0.5855808258056641,\n",
       "   17: 0.6755256652832031,\n",
       "   69: 1.5250892639160156,\n",
       "   34: 1.3700675964355469,\n",
       "   98: 0.9737815856933594,\n",
       "   58: 0.44642066955566406,\n",
       "   53: 0.3568763732910156,\n",
       "   64: 1.4903450012207031,\n",
       "   21: 2.1889266967773438,\n",
       "   48: 0.5719566345214844,\n",
       "   84: 0.38037109375,\n",
       "   60: 0.7040786743164062,\n",
       "   54: 0.26899147033691406,\n",
       "   65: 4.369770050048828,\n",
       "   66: 0.24237823486328125,\n",
       "   99: 0.439239501953125,\n",
       "   55: 0.9200572967529297,\n",
       "   24: 0.7818813323974609,\n",
       "   95: 0.38741493225097656,\n",
       "   44: 1.1897144317626953,\n",
       "   94: 2.1313228607177734,\n",
       "   30: 0.3893718719482422,\n",
       "   29: 0.3754730224609375,\n",
       "   14: 0.3065452575683594,\n",
       "   79: 3.427349090576172,\n",
       "   83: 0.6301727294921875,\n",
       "   61: 0.33926963806152344,\n",
       "   7: 0.7899150848388672,\n",
       "   89: 5.103118896484375,\n",
       "   25: 2.8918914794921875,\n",
       "   46: 0.4018402099609375,\n",
       "   50: 0.6483917236328125,\n",
       "   57: 1.6105823516845703,\n",
       "   75: 0.3495521545410156,\n",
       "   86: 2.3507862091064453,\n",
       "   97: 2.7200698852539062,\n",
       "   36: 1.0211257934570312,\n",
       "   19: 1.0112438201904297,\n",
       "   31: 0.7087478637695312,\n",
       "   12: 0.2597789764404297,\n",
       "   10: 2.279987335205078,\n",
       "   8: 3.0023040771484375,\n",
       "   23: 1.1284770965576172,\n",
       "   27: 1.1524181365966797,\n",
       "   0: 0.5804996490478516,\n",
       "   59: 0.31543731689453125,\n",
       "   74: 0.8354682922363281}})"
      ]
     },
     "execution_count": 15,
     "metadata": {},
     "output_type": "execute_result"
    }
   ],
   "source": [
    "exp1_report2.export()"
   ]
  },
  {
   "cell_type": "code",
   "execution_count": 16,
   "metadata": {},
   "outputs": [
    {
     "name": "stdout",
     "output_type": "stream",
     "text": [
      "<qurrentRandomized.Analysis with serial=0, AnalysisInput(degree=(3, 4), shots=1024, unitary_loc=(0, 8)), AnalysisContent(purity=1.0482955360412598, entropy=-0.06804549958001889, and others), 0 unused arguments>\n",
      "AnalysisHeader(serial=0, datetime='2024-06-03 17:55:47', summoner=None, log={})\n"
     ]
    }
   ],
   "source": [
    "print(exp1_report1)\n",
    "print(exp1_report1.header)"
   ]
  },
  {
   "cell_type": "markdown",
   "metadata": {},
   "source": [
    "- It can also be found in the attribute `.reports` of `Experiment` object.\n"
   ]
  },
  {
   "cell_type": "code",
   "execution_count": 17,
   "metadata": {},
   "outputs": [
    {
     "name": "stdout",
     "output_type": "stream",
     "text": [
      "<AnalysisContainer={\n",
      "    0: ...\n",
      "    1: ...\n",
      "} with 2 analysis load, a customized dictionary>\n",
      "<qurrentRandomized.Analysis with serial=0, AnalysisInput(degree=(3, 4), shots=1024, unitary_loc=(0, 8)), AnalysisContent(purity=1.0482955360412598, entropy=-0.06804549958001889, and others), 0 unused arguments>\n",
      "AnalysisHeader(serial=0, datetime='2024-06-03 17:55:47', summoner=None, log={})\n"
     ]
    }
   ],
   "source": [
    "print(experiment_randomized.exps[exp1].reports)\n",
    "print(experiment_randomized.exps[exp1].reports[0])\n",
    "print(experiment_randomized.exps[exp1].reports[0].header)"
   ]
  },
  {
   "cell_type": "markdown",
   "metadata": {},
   "source": [
    "- We can use `.export()` to get the result of this analysis.\n"
   ]
  },
  {
   "cell_type": "code",
   "execution_count": 18,
   "metadata": {},
   "outputs": [],
   "source": [
    "main, side_prodct = experiment_randomized.exps[exp1].reports[0].export()"
   ]
  },
  {
   "attachments": {},
   "cell_type": "markdown",
   "metadata": {},
   "source": [
    "- And there is it\n"
   ]
  },
  {
   "cell_type": "code",
   "execution_count": 19,
   "metadata": {},
   "outputs": [
    {
     "data": {
      "text/plain": [
       "{'purity': 1.0482955360412598,\n",
       " 'entropy': -0.06804549958001889,\n",
       " 'puritySD': 0.4938075744472797,\n",
       " 'entropySD': 0.6795924568169278,\n",
       " 'bitStringRange': [3, 4],\n",
       " 'allSystemSource': 'independent',\n",
       " 'purityAllSys': 1.2927798652648925,\n",
       " 'entropyAllSys': -0.37047663374945394,\n",
       " 'puritySDAllSys': 1.7144946824753815,\n",
       " 'entropySDAllSys': 1.9133133509399982,\n",
       " 'bitsStringRangeAllSys': [0, 8],\n",
       " 'errorRate': -0.13750956989348648,\n",
       " 'mitigatedPurity': 0.923745005045628,\n",
       " 'mitigatedEntropy': 0.11443343667364543,\n",
       " 'num_qubits': 8,\n",
       " 'measure': ['measure range:', [0, 8]],\n",
       " 'measureActually': [0, 8],\n",
       " 'measureActuallyAllSys': [0, 8],\n",
       " 'countsNum': 100,\n",
       " 'takingTime': 0.000794718,\n",
       " 'takingTimeAllSys': 0.00318872,\n",
       " 'input': {'degree': [3, 4], 'shots': 1024, 'unitary_loc': [0, 8]},\n",
       " 'header': {'serial': 0,\n",
       "  'datetime': '2024-06-03 17:55:47',\n",
       "  'summoner': None,\n",
       "  'log': {}}}"
      ]
     },
     "execution_count": 19,
     "metadata": {},
     "output_type": "execute_result"
    }
   ],
   "source": [
    "main"
   ]
  },
  {
   "attachments": {},
   "cell_type": "markdown",
   "metadata": {},
   "source": [
    "- Also, `sideProdct` will record the data of each circuit, and you can use it to do more analysis.\n"
   ]
  },
  {
   "cell_type": "code",
   "execution_count": 20,
   "metadata": {},
   "outputs": [
    {
     "data": {
      "text/plain": [
       "{'purityCells': {6: 0.5011215209960938,\n",
       "  26: 1.3175888061523438,\n",
       "  1: 1.8570919036865234,\n",
       "  45: 1.490234375,\n",
       "  88: 0.5002059936523438,\n",
       "  31: 1.801931381225586,\n",
       "  75: 0.6236476898193359,\n",
       "  66: 0.5185909271240234,\n",
       "  30: 1.3525619506835938,\n",
       "  87: 1.192962646484375,\n",
       "  13: 1.229269027709961,\n",
       "  99: 1.253988265991211,\n",
       "  51: 1.924795150756836,\n",
       "  78: 1.9133968353271484,\n",
       "  38: 1.046346664428711,\n",
       "  34: 1.747915267944336,\n",
       "  0: 0.6322021484375,\n",
       "  95: 0.5087032318115234,\n",
       "  2: 1.330617904663086,\n",
       "  32: 0.9812240600585938,\n",
       "  7: 0.5655117034912109,\n",
       "  4: 0.5227108001708984,\n",
       "  8: 0.5413417816162109,\n",
       "  10: 1.476003646850586,\n",
       "  33: 0.6027450561523438,\n",
       "  36: 0.5313339233398438,\n",
       "  39: 1.7693843841552734,\n",
       "  41: 0.511077880859375,\n",
       "  42: 1.553091049194336,\n",
       "  55: 0.6916255950927734,\n",
       "  23: 0.6105556488037109,\n",
       "  84: 0.5313339233398438,\n",
       "  90: 0.552734375,\n",
       "  91: 0.515472412109375,\n",
       "  97: 0.7744350433349609,\n",
       "  12: 1.669036865234375,\n",
       "  74: 0.7645015716552734,\n",
       "  5: 0.5313339233398438,\n",
       "  17: 0.5375423431396484,\n",
       "  72: 0.587982177734375,\n",
       "  9: 0.7451839447021484,\n",
       "  49: 0.5100936889648438,\n",
       "  57: 1.4525146484375,\n",
       "  73: 1.018423080444336,\n",
       "  18: 1.885101318359375,\n",
       "  16: 0.6287460327148438,\n",
       "  35: 0.8957881927490234,\n",
       "  46: 0.5001430511474609,\n",
       "  25: 1.791036605834961,\n",
       "  64: 0.6520290374755859,\n",
       "  65: 1.7856063842773438,\n",
       "  76: 0.8378810882568359,\n",
       "  81: 0.5160732269287109,\n",
       "  47: 1.0859375,\n",
       "  40: 1.8963851928710938,\n",
       "  24: 0.7131404876708984,\n",
       "  62: 0.5423202514648438,\n",
       "  82: 0.5126399993896484,\n",
       "  89: 1.56787109375,\n",
       "  19: 1.262319564819336,\n",
       "  60: 1.365865707397461,\n",
       "  59: 0.5494899749755859,\n",
       "  80: 1.2130184173583984,\n",
       "  11: 1.8238582611083984,\n",
       "  29: 1.8238582611083984,\n",
       "  3: 0.6428451538085938,\n",
       "  22: 1.429311752319336,\n",
       "  69: 1.9592647552490234,\n",
       "  71: 0.7109375,\n",
       "  14: 0.776947021484375,\n",
       "  67: 1.9020442962646484,\n",
       "  96: 1.0641708374023438,\n",
       "  21: 1.587738037109375,\n",
       "  56: 1.6846065521240234,\n",
       "  43: 1.6587142944335938,\n",
       "  70: 0.5423202514648438,\n",
       "  58: 1.6794052124023438,\n",
       "  27: 0.961517333984375,\n",
       "  61: 0.502288818359375,\n",
       "  50: 0.8378810882568359,\n",
       "  86: 1.8738632202148438,\n",
       "  68: 0.7451839447021484,\n",
       "  79: 1.3046627044677734,\n",
       "  44: 0.5051498413085938,\n",
       "  92: 0.987884521484375,\n",
       "  28: 1.2665023803710938,\n",
       "  52: 1.5977401733398438,\n",
       "  54: 0.6576766967773438,\n",
       "  77: 0.5000514984130859,\n",
       "  94: 0.9713191986083984,\n",
       "  98: 0.7596035003662109,\n",
       "  15: 0.7451839447021484,\n",
       "  53: 0.6374721527099609,\n",
       "  85: 0.7428207397460938,\n",
       "  20: 1.02880859375,\n",
       "  37: 1.8238582611083984,\n",
       "  83: 1.2130184173583984,\n",
       "  93: 1.2333602905273438,\n",
       "  48: 0.5952205657958984,\n",
       "  63: 0.5607051849365234},\n",
       " 'purityCellsAllSys': {47: 0.46134376525878906,\n",
       "  85: 0.47435569763183594,\n",
       "  1: 1.4381942749023438,\n",
       "  45: 3.309720993041992,\n",
       "  33: 0.652008056640625,\n",
       "  41: 1.0150032043457031,\n",
       "  51: 0.40711021423339844,\n",
       "  26: 0.67425537109375,\n",
       "  62: 1.2780227661132812,\n",
       "  68: 0.5678825378417969,\n",
       "  11: 0.8733196258544922,\n",
       "  20: 0.2657814025878906,\n",
       "  28: 1.0765953063964844,\n",
       "  32: 0.9430942535400391,\n",
       "  76: 1.7440948486328125,\n",
       "  82: 0.3485736846923828,\n",
       "  6: 0.6654090881347656,\n",
       "  49: 0.5316390991210938,\n",
       "  93: 0.7134113311767578,\n",
       "  43: 0.6859169006347656,\n",
       "  37: 1.4821910858154297,\n",
       "  35: 1.164937973022461,\n",
       "  5: 1.1197795867919922,\n",
       "  63: 2.240459442138672,\n",
       "  72: 1.028564453125,\n",
       "  2: 0.9113254547119141,\n",
       "  42: 0.8111438751220703,\n",
       "  88: 0.2687511444091797,\n",
       "  96: 1.2844886779785156,\n",
       "  4: 0.8391075134277344,\n",
       "  9: 3.4018402099609375,\n",
       "  39: 2.048358917236328,\n",
       "  70: 0.5213394165039062,\n",
       "  80: 0.5793094635009766,\n",
       "  40: 1.2732105255126953,\n",
       "  73: 0.9736614227294922,\n",
       "  16: 1.168588638305664,\n",
       "  38: 2.717306137084961,\n",
       "  77: 2.2124557495117188,\n",
       "  81: 0.35173797607421875,\n",
       "  52: 0.7116718292236328,\n",
       "  67: 0.7272129058837891,\n",
       "  18: 2.050882339477539,\n",
       "  56: 15.549125671386719,\n",
       "  71: 3.2311859130859375,\n",
       "  87: 0.9357414245605469,\n",
       "  92: 0.4715461730957031,\n",
       "  90: 0.471649169921875,\n",
       "  22: 1.0615978240966797,\n",
       "  13: 0.7820072174072266,\n",
       "  3: 0.37963294982910156,\n",
       "  91: 0.4261360168457031,\n",
       "  78: 1.3256988525390625,\n",
       "  15: 0.5855808258056641,\n",
       "  17: 0.6755256652832031,\n",
       "  69: 1.5250892639160156,\n",
       "  34: 1.3700675964355469,\n",
       "  98: 0.9737815856933594,\n",
       "  58: 0.44642066955566406,\n",
       "  53: 0.3568763732910156,\n",
       "  64: 1.4903450012207031,\n",
       "  21: 2.1889266967773438,\n",
       "  48: 0.5719566345214844,\n",
       "  84: 0.38037109375,\n",
       "  60: 0.7040786743164062,\n",
       "  54: 0.26899147033691406,\n",
       "  65: 4.369770050048828,\n",
       "  66: 0.24237823486328125,\n",
       "  99: 0.439239501953125,\n",
       "  55: 0.9200572967529297,\n",
       "  24: 0.7818813323974609,\n",
       "  95: 0.38741493225097656,\n",
       "  44: 1.1897144317626953,\n",
       "  94: 2.1313228607177734,\n",
       "  30: 0.3893718719482422,\n",
       "  29: 0.3754730224609375,\n",
       "  14: 0.3065452575683594,\n",
       "  79: 3.427349090576172,\n",
       "  83: 0.6301727294921875,\n",
       "  61: 0.33926963806152344,\n",
       "  7: 0.7899150848388672,\n",
       "  89: 5.103118896484375,\n",
       "  25: 2.8918914794921875,\n",
       "  46: 0.4018402099609375,\n",
       "  50: 0.6483917236328125,\n",
       "  57: 1.6105823516845703,\n",
       "  75: 0.3495521545410156,\n",
       "  86: 2.3507862091064453,\n",
       "  97: 2.7200698852539062,\n",
       "  36: 1.0211257934570312,\n",
       "  19: 1.0112438201904297,\n",
       "  31: 0.7087478637695312,\n",
       "  12: 0.2597789764404297,\n",
       "  10: 2.279987335205078,\n",
       "  8: 3.0023040771484375,\n",
       "  23: 1.1284770965576172,\n",
       "  27: 1.1524181365966797,\n",
       "  0: 0.5804996490478516,\n",
       "  59: 0.31543731689453125,\n",
       "  74: 0.8354682922363281}}"
      ]
     },
     "execution_count": 20,
     "metadata": {},
     "output_type": "execute_result"
    }
   ],
   "source": [
    "side_prodct"
   ]
  },
  {
   "cell_type": "code",
   "execution_count": 21,
   "metadata": {},
   "outputs": [
    {
     "data": {
      "text/plain": [
       " # qurrentRandomized.Analysis with serial=0\n",
       " - header\n",
       "   - serial ----------------------- 0\n",
       "   - datetime --------------------- 2024-06-03 17:55:47\n",
       "   - summoner --------------------- None\n",
       "   - log -------------------------- {}\n",
       " - input\n",
       "   - degree ----------------------- (3, 4)\n",
       "   - shots ------------------------ 1024\n",
       "   - unitary_loc ------------------ (0, 8)\n",
       " - outfields -------------------- 0 ........  # Number of unused arguments.\n",
       " - content\n",
       "   - purity ----------------------- 1.0482955360412598\n",
       "   - entropy ---------------------- -0.06804549958001889\n",
       "   - puritySD --------------------- 0.4938075744472797\n",
       "   - entropySD -------------------- 0.6795924568169278\n",
       "   - purityCells ------------------ {6: 0.5011215209960938, 26: 1.3175888061523438, 1: 1.8570919036865234, 45: 1.490234375, 88: 0.5002059936523438, 31: 1.801931381225586, 75: 0.6236476898193359, 66: 0.5185909271240234, 30: 1.3525619506835938, 87: 1.192962646484375, 13: 1.229269027709961, 99: 1.253988265991211, 51: 1.924795150756836, 78: 1.9133968353271484, 38: 1.046346664428711, 34: 1.747915267944336, 0: 0.6322021484375, 95: 0.5087032318115234, 2: 1.330617904663086, 32: 0.9812240600585938, 7: 0.5655117034912109, 4: 0.5227108001708984, 8: 0.5413417816162109, 10: 1.476003646850586, 33: 0.6027450561523438, 36: 0.5313339233398438, 39: 1.7693843841552734, 41: 0.511077880859375, 42: 1.553091049194336, 55: 0.6916255950927734, 23: 0.6105556488037109, 84: 0.5313339233398438, 90: 0.552734375, 91: 0.515472412109375, 97: 0.7744350433349609, 12: 1.669036865234375, 74: 0.7645015716552734, 5: 0.5313339233398438, 17: 0.5375423431396484, 72: 0.587982177734375, 9: 0.7451839447021484, 49: 0.5100936889648438, 57: 1.4525146484375, 73: 1.018423080444336, 18: 1.885101318359375, 16: 0.6287460327148438, 35: 0.8957881927490234, 46: 0.5001430511474609, 25: 1.791036605834961, 64: 0.6520290374755859, 65: 1.7856063842773438, 76: 0.8378810882568359, 81: 0.5160732269287109, 47: 1.0859375, 40: 1.8963851928710938, 24: 0.7131404876708984, 62: 0.5423202514648438, 82: 0.5126399993896484, 89: 1.56787109375, 19: 1.262319564819336, 60: 1.365865707397461, 59: 0.5494899749755859, 80: 1.2130184173583984, 11: 1.8238582611083984, 29: 1.8238582611083984, 3: 0.6428451538085938, 22: 1.429311752319336, 69: 1.9592647552490234, 71: 0.7109375, 14: 0.776947021484375, 67: 1.9020442962646484, 96: 1.0641708374023438, 21: 1.587738037109375, 56: 1.6846065521240234, 43: 1.6587142944335938, 70: 0.5423202514648438, 58: 1.6794052124023438, 27: 0.961517333984375, 61: 0.502288818359375, 50: 0.8378810882568359, 86: 1.8738632202148438, 68: 0.7451839447021484, 79: 1.3046627044677734, 44: 0.5051498413085938, 92: 0.987884521484375, 28: 1.2665023803710938, 52: 1.5977401...\n",
       "   - bitStringRange --------------- (3, 4)\n",
       "   - allSystemSource -------------- independent\n",
       "   - purityAllSys ----------------- 1.2927798652648925\n",
       "   - entropyAllSys ---------------- -0.37047663374945394\n",
       "   - puritySDAllSys --------------- 1.7144946824753815\n",
       "   - entropySDAllSys -------------- 1.9133133509399982\n",
       "   - purityCellsAllSys ------------ {47: 0.46134376525878906, 85: 0.47435569763183594, 1: 1.4381942749023438, 45: 3.309720993041992, 33: 0.652008056640625, 41: 1.0150032043457031, 51: 0.40711021423339844, 26: 0.67425537109375, 62: 1.2780227661132812, 68: 0.5678825378417969, 11: 0.8733196258544922, 20: 0.2657814025878906, 28: 1.0765953063964844, 32: 0.9430942535400391, 76: 1.7440948486328125, 82: 0.3485736846923828, 6: 0.6654090881347656, 49: 0.5316390991210938, 93: 0.7134113311767578, 43: 0.6859169006347656, 37: 1.4821910858154297, 35: 1.164937973022461, 5: 1.1197795867919922, 63: 2.240459442138672, 72: 1.028564453125, 2: 0.9113254547119141, 42: 0.8111438751220703, 88: 0.2687511444091797, 96: 1.2844886779785156, 4: 0.8391075134277344, 9: 3.4018402099609375, 39: 2.048358917236328, 70: 0.5213394165039062, 80: 0.5793094635009766, 40: 1.2732105255126953, 73: 0.9736614227294922, 16: 1.168588638305664, 38: 2.717306137084961, 77: 2.2124557495117188, 81: 0.35173797607421875, 52: 0.7116718292236328, 67: 0.7272129058837891, 18: 2.050882339477539, 56: 15.549125671386719, 71: 3.2311859130859375, 87: 0.9357414245605469, 92: 0.4715461730957031, 90: 0.471649169921875, 22: 1.0615978240966797, 13: 0.7820072174072266, 3: 0.37963294982910156, 91: 0.4261360168457031, 78: 1.3256988525390625, 15: 0.5855808258056641, 17: 0.6755256652832031, 69: 1.5250892639160156, 34: 1.3700675964355469, 98: 0.9737815856933594, 58: 0.44642066955566406, 53: 0.3568763732910156, 64: 1.4903450012207031, 21: 2.1889266967773438, 48: 0.5719566345214844, 84: 0.38037109375, 60: 0.7040786743164062, 54: 0.26899147033691406, 65: 4.369770050048828, 66: 0.24237823486328125, 99: 0.439239501953125, 55: 0.9200572967529297, 24: 0.7818813323974609, 95: 0.38741493225097656, 44: 1.1897144317626953, 94: 2.1313228607177734, 30: 0.3893718719482422, 29: 0.3754730224609375, 14: 0.3065452575683594, 79: 3.427349090576172, 83: 0.6301727294921875, 61: 0.33926963806152344, 7: 0.7899150848388672, 89: 5.103118896484375, 25: 2.8918914794921875, 46: 0.4018402099609375, 50: 0...\n",
       "   - bitsStringRangeAllSys -------- (0, 8)\n",
       "   - errorRate -------------------- -0.13750956989348648\n",
       "   - mitigatedPurity -------------- 0.923745005045628\n",
       "   - mitigatedEntropy ------------- 0.11443343667364543\n",
       "   - num_qubits ------------------- 8\n",
       "   - measure ---------------------- ('measure range:', (0, 8))\n",
       "   - measureActually -------------- (0, 8)\n",
       "   - measureActuallyAllSys -------- (0, 8)\n",
       "   - countsNum -------------------- 100\n",
       "   - takingTime ------------------- 0.000794718\n",
       "   - takingTimeAllSys ------------- 0.00318872\n",
       "by <QurryAnalysisSheet>"
      ]
     },
     "execution_count": 21,
     "metadata": {},
     "output_type": "execute_result"
    }
   ],
   "source": [
    "experiment_randomized.exps[exp1].reports[0].statesheet()"
   ]
  },
  {
   "cell_type": "markdown",
   "metadata": {},
   "source": [
    "---\n",
    "\n",
    "## Post-Process Availablities and Version Info\n",
    "\n",
    "We currently do not support Qsikit 1.0 for we are working on it, and we will support it in the future.\n"
   ]
  },
  {
   "cell_type": "code",
   "execution_count": 22,
   "metadata": {},
   "outputs": [
    {
     "name": "stdout",
     "output_type": "stream",
     "text": [
      " | Qurry version: 0.7.4.dev1\n",
      "--------------------------------------------------------\n",
      " ### Qurry Post-Processing\n",
      "   - Backend Availability ......... Python Cython Rust  \n",
      " - randomized_measure\n",
      "   - entangled_core ............... True   True   True  \n",
      "   - purity_cell .................. True   True   True  \n",
      "   - wavefunction_overlap ......... True   True   None  \n",
      "   - echo_cell .................... True   True   None  \n",
      " - utils\n",
      "   - randomized ................... True   True   True  \n",
      "   - construct .................... True   None   True  \n",
      "--------------------------------------------------------\n",
      "   + True ..... Working normally.\n",
      "   + False .... Exception occurred.\n",
      "   + None ..... Not supported yet.\n",
      "--------------------------------------------------------\n",
      "\n",
      " | Qurry version: 0.7.4.dev1\n",
      "--------------------------------------------\n",
      " ### Qiskit version\n",
      " - main\n",
      "   - qiskit-aer ................... 0.11.2\n",
      "   - qiskit-aer-gpu ............... 0.11.2\n",
      "   - qiskit-ibm-provider .......... 0.11.0\n",
      "   - qiskit-ibm-runtime ........... 0.19.0\n",
      " - deprecated\n",
      "   - qiskit-ibmq-provider ......... 0.20.2\n",
      "   - qiskit-terra ................. 0.23.2\n",
      " - into-community\n",
      "   - qiskit-machine-learning ...... 0.6.1\n",
      "--------------------------------------------\n",
      " + qiskit-aer-gpu should have the same version as qiskit-aer.\n",
      "--------------------------------------------\n",
      "\n"
     ]
    }
   ],
   "source": [
    "from qurry.process import AVAIBILITY_STATESHEET\n",
    "from qurry.tools.qiskit_version import QISKIT_VERSION_STATESHEET\n",
    "\n",
    "print(AVAIBILITY_STATESHEET)\n",
    "print(QISKIT_VERSION_STATESHEET)"
   ]
  },
  {
   "cell_type": "code",
   "execution_count": null,
   "metadata": {},
   "outputs": [],
   "source": []
  }
 ],
 "metadata": {
  "kernelspec": {
   "display_name": "Python 3 (ipykernel)",
   "language": "python",
   "name": "python3"
  },
  "language_info": {
   "codemirror_mode": {
    "name": "ipython",
    "version": 3
   },
   "file_extension": ".py",
   "mimetype": "text/x-python",
   "name": "python",
   "nbconvert_exporter": "python",
   "pygments_lexer": "ipython3",
   "version": "3.10.12"
  }
 },
 "nbformat": 4,
 "nbformat_minor": 4
}
