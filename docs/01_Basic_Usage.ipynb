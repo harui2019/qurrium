{
 "cells": [
  {
   "attachments": {},
   "cell_type": "markdown",
   "metadata": {},
   "source": [
    "# 01 - Basic Usage of Qurry\n",
    "\n",
    "In Qurry, we use the instance of `Qurry` to store Quantum Circuit, experiment, build experiment, and excute them by local simulator or pending to the real quantum machine on `IBM`. In this chapter (or we say this jupyter file), we will introduce how to use Qurry to build a simple quantum circuit and measure their Renyi Entropy by local simulator.\n"
   ]
  },
  {
   "cell_type": "markdown",
   "metadata": {},
   "source": [
    "If you are using Colab, you can run the following command in terminal to install Qurry.\n",
    "\n",
    "```bash\n",
    "pip install -i https://test.pypi.org/simple/ qurry\n",
    "```"
   ]
  },
  {
   "attachments": {},
   "cell_type": "markdown",
   "metadata": {},
   "source": [
    "## 1.1 Setup Environment and Creat experiment executor"
   ]
  },
  {
   "cell_type": "code",
   "execution_count": 1,
   "metadata": {},
   "outputs": [],
   "source": [
    "from qurry import EntropyMeasure, BackendWrapper\n",
    "from qiskit import QuantumCircuit"
   ]
  },
  {
   "attachments": {},
   "cell_type": "markdown",
   "metadata": {},
   "source": [
    "- Before we start, we need to import the package of Qurry and other packages we need. \n",
    "\n",
    "- In Qurry, we provider a simple way to import backend called `BackendWrapper`, it will help us to import the backend we need, if your environment includes the GPU acceleration, `qiskit-aer-gpu`, it will be check the availability to access, if does, the GPU backend will also be available.\n",
    "\n",
    "- The following chapter, we will told you how to use `BackendWrapper` to import the real backend from your IBM account by `IBMProvider` or `AccountProvider`, and the more powerful class `backendManager` to import the real backend more easily.\n",
    "\n",
    "- In this example, we will use normal `aer_simulator` as our backend\n"
   ]
  },
  {
   "cell_type": "code",
   "execution_count": 2,
   "metadata": {},
   "outputs": [
    {
     "data": {
      "text/plain": [
       "AerSimulator('aer_simulator_gpu')"
      ]
     },
     "execution_count": 2,
     "metadata": {},
     "output_type": "execute_result"
    }
   ],
   "source": [
    "backend = BackendWrapper()\n",
    "backend('aer')"
   ]
  },
  {
   "cell_type": "code",
   "execution_count": 3,
   "metadata": {},
   "outputs": [
    {
     "name": "stdout",
     "output_type": "stream",
     "text": [
      "| Does we have GPU backend to access: True\n",
      "aer_simulator_gpu\n"
     ]
    }
   ],
   "source": [
    "print(\"| Does we have GPU backend to access:\", backend.is_aer_gpu)\n",
    "try:\n",
    "    # If you have GPU, you can use this backend.\n",
    "    print(backend('aer_gpu'))\n",
    "except:\n",
    "    pass"
   ]
  },
  {
   "attachments": {},
   "cell_type": "markdown",
   "metadata": {},
   "source": [
    "- Now, initialize our `EntropyMeasure`, we have two methods, `randomized` for Randomized Measure as default, and `hadamard` for Hadamard Test, these are our methods for measurement.\n",
    "\n",
    "- In following tutorial, we will use `randomized` as our measurement method."
   ]
  },
  {
   "cell_type": "code",
   "execution_count": 4,
   "metadata": {},
   "outputs": [
    {
     "name": "stdout",
     "output_type": "stream",
     "text": [
      "| The first method is which is `Hadamard Test`\".\n",
      "| The default method is which is `Randomized Measure` we will use.\n"
     ]
    }
   ],
   "source": [
    "experiment_execution_01 = EntropyMeasure(method='hadamard')\n",
    "print(f'| The first method is which is `Hadamard Test`\".')\n",
    "experiment_execution_02 = EntropyMeasure()\n",
    "print(f'| The default method is which is `Randomized Measure` we will use.')"
   ]
  },
  {
   "attachments": {},
   "cell_type": "markdown",
   "metadata": {},
   "source": [
    "---\n",
    "\n",
    "## 1.2 Load quantum circuit\n",
    "\n",
    "- We use `TrivialParamagnet` as our target to measure, and add it to our `Qurry` object, and import from `qurry.case` which there are some simple cases."
   ]
  },
  {
   "cell_type": "code",
   "execution_count": 5,
   "metadata": {},
   "outputs": [],
   "source": [
    "from qurry.recipe import TrivialParamagnet, GHZ"
   ]
  },
  {
   "cell_type": "code",
   "execution_count": 6,
   "metadata": {},
   "outputs": [
    {
     "name": "stdout",
     "output_type": "stream",
     "text": [
      "| trivial paramagnet in 8 qubits:\n",
      "     ┌───┐\n",
      "q_0: ┤ H ├\n",
      "     ├───┤\n",
      "q_1: ┤ H ├\n",
      "     ├───┤\n",
      "q_2: ┤ H ├\n",
      "     ├───┤\n",
      "q_3: ┤ H ├\n",
      "     ├───┤\n",
      "q_4: ┤ H ├\n",
      "     ├───┤\n",
      "q_5: ┤ H ├\n",
      "     ├───┤\n",
      "q_6: ┤ H ├\n",
      "     ├───┤\n",
      "q_7: ┤ H ├\n",
      "     └───┘\n",
      "| GHZ in 8 qubits:\n",
      "     ┌───┐                                   \n",
      "q_0: ┤ H ├──■────────────────────────────────\n",
      "     └───┘┌─┴─┐                              \n",
      "q_1: ─────┤ X ├──■───────────────────────────\n",
      "          └───┘┌─┴─┐                         \n",
      "q_2: ──────────┤ X ├──■──────────────────────\n",
      "               └───┘┌─┴─┐                    \n",
      "q_3: ───────────────┤ X ├──■─────────────────\n",
      "                    └───┘┌─┴─┐               \n",
      "q_4: ────────────────────┤ X ├──■────────────\n",
      "                         └───┘┌─┴─┐          \n",
      "q_5: ─────────────────────────┤ X ├──■───────\n",
      "                              └───┘┌─┴─┐     \n",
      "q_6: ──────────────────────────────┤ X ├──■──\n",
      "                                   └───┘┌─┴─┐\n",
      "q_7: ───────────────────────────────────┤ X ├\n",
      "                                        └───┘\n",
      "| Custom circuit:\n",
      "     ┌───┐\n",
      "q_0: ┤ X ├\n",
      "     └───┘\n",
      "q_1: ─────\n",
      "     ┌───┐\n",
      "q_2: ┤ X ├\n",
      "     └───┘\n",
      "q_3: ─────\n",
      "     ┌───┐\n",
      "q_4: ┤ X ├\n",
      "     └───┘\n",
      "q_5: ─────\n",
      "     ┌───┐\n",
      "q_6: ┤ X ├\n",
      "     └───┘\n",
      "q_7: ─────\n",
      "          \n"
     ]
    }
   ],
   "source": [
    "sample01 = TrivialParamagnet(8)\n",
    "print(\"| trivial paramagnet in 8 qubits:\")\n",
    "print(sample01)\n",
    "sample02 = GHZ(8)\n",
    "print(\"| GHZ in 8 qubits:\")\n",
    "print(sample02)\n",
    "sample03 = QuantumCircuit(8)\n",
    "sample03.x(range(0,8,2))\n",
    "print(\"| Custom circuit:\")\n",
    "print(sample03)"
   ]
  },
  {
   "cell_type": "markdown",
   "metadata": {},
   "source": [
    "- After we prepare three quantum circuits, we can add them to our `Qurry` object.\n",
    "The attribute `.waves` of `Qurry` object is a customized `dict`, we can check it by print it."
   ]
  },
  {
   "cell_type": "code",
   "execution_count": 7,
   "metadata": {},
   "outputs": [
    {
     "name": "stdout",
     "output_type": "stream",
     "text": [
      "<WaveContainer={\n",
      "    TrivialParamagnet: ...\n",
      "    GHZ: ...\n",
      "    2: ...\n",
      "} with 3 waves load, a customized dictionary>\n"
     ]
    }
   ],
   "source": [
    "experiment_execution_02.add(\n",
    "    wave=sample01,              # The circuit object\n",
    "    key='TrivialParamagnet',    # The name of the circuit\n",
    "    replace=False               # True for if you want to replace the circuit with the same name.\n",
    ")                               # Default is False, so if you add the same name when False, \n",
    "                                # it will be added with serial number.\n",
    "experiment_execution_02.add(sample02, 'GHZ')\n",
    "experiment_execution_02.add(sample03)\n",
    "print(experiment_execution_02.waves)"
   ]
  },
  {
   "attachments": {},
   "cell_type": "markdown",
   "metadata": {},
   "source": [
    "If you do not give the name of circuit, it will be named by series number.\n",
    "\n",
    "Now, waves are loading, time to excute."
   ]
  },
  {
   "attachments": {},
   "cell_type": "markdown",
   "metadata": {},
   "source": [
    "## 1.3 Excute Circuits"
   ]
  },
  {
   "cell_type": "markdown",
   "metadata": {},
   "source": [
    "- We can use `.measure()` to excute the specific circuit in `EntropyMeasure` object, and it will return hash id of this experiment and save a `Experiment` object in `EntropyMeasure`.\n",
    "- For `EntropyMeasure`, it will require the following parameters:\n",
    "  - wave: the name of circuit in `Qurry.waves` object\n",
    "  - times: the number of random measurement\n",
    "  - shots: the number of shots for each measurement. Default is 1024"
   ]
  },
  {
   "cell_type": "code",
   "execution_count": 8,
   "metadata": {},
   "outputs": [
    {
     "data": {
      "text/plain": [
       "'16c7454d-3db3-413c-93c1-2e0a243750d2'"
      ]
     },
     "execution_count": 8,
     "metadata": {},
     "output_type": "execute_result"
    }
   ],
   "source": [
    "exp1 = experiment_execution_02.measure(\n",
    "    wave='TrivialParamagnet',\n",
    "    times=100,\n",
    "    shots=1024,\n",
    ")\n",
    "exp1 "
   ]
  },
  {
   "cell_type": "markdown",
   "metadata": {},
   "source": [
    "- You can specify the backend by add a parameter `backend` in `measure` method, if you do not specify, it will use simulator as the default backend. Moreover, qiskit has multiple simulators, they are `QasmSimulatorPy` from `qiskit`, `AerSimulator` from `qiskit-aer`, and `AerSimulator` from `qiskit-aer-gpu`. Qurry will check the availability of these simulators and use the first available one as the default backend in following order:\n",
    "  1. `AerSimulator` from `qiskit-aer-gpu`\n",
    "  2. `AerSimulator` from `qiskit-aer`\n",
    "  3. `QasmSimulatorPy` from `qiskit`"
   ]
  },
  {
   "cell_type": "code",
   "execution_count": 9,
   "metadata": {},
   "outputs": [
    {
     "data": {
      "text/plain": [
       "'7e95c263-8185-43b3-aad5-718f5ba1cf40'"
      ]
     },
     "execution_count": 9,
     "metadata": {},
     "output_type": "execute_result"
    }
   ],
   "source": [
    "exp2 = experiment_execution_02.measure(\n",
    "    wave='TrivialParamagnet',\n",
    "    times=100,\n",
    "    shots=1024,\n",
    "    backend=backend('aer')\n",
    ")\n",
    "exp2"
   ]
  },
  {
   "cell_type": "markdown",
   "metadata": {},
   "source": [
    "- And we can check the attribute `.exps` of `EntropyMeasure` object, it will return the hash id of all experiments."
   ]
  },
  {
   "cell_type": "code",
   "execution_count": 10,
   "metadata": {},
   "outputs": [
    {
     "name": "stdout",
     "output_type": "stream",
     "text": [
      "<ExperimentContainer={\n",
      "    16c7454d-3db3-413c-93c1-2e0a243750d2: ...\n",
      "    7e95c263-8185-43b3-aad5-718f5ba1cf40: ...\n",
      "} with 2 experiments load, a customized dictionary>\n"
     ]
    }
   ],
   "source": [
    "print(experiment_execution_02.exps)"
   ]
  },
  {
   "cell_type": "markdown",
   "metadata": {},
   "source": [
    "- The following is the other informatiom you can access."
   ]
  },
  {
   "cell_type": "code",
   "execution_count": 11,
   "metadata": {},
   "outputs": [
    {
     "data": {
      "text/plain": [
       "<qurrentRandomized.Experiment with exp_id=16c7454d-3db3-413c-93c1-2e0a243750d2, EntropyRandomizedArguments(exp_name='w=TrivialParamagnet.with100random.qurrent_haar', times=100, measure=(0, 8), unitary_loc=(0, 8), workers_num=16), Commonparams(exp_id='16c7454d-3db3-413c-93c1-2e0a243750d2', wave_key='TrivialParamagnet', shots=1024, backend=<AerSimulator('aer_simulator')>, run_args={}, transpile_args={}, tags=(), default_analysis=[], save_location=PosixPath('.'), filename='', files={}, serial=None, summoner_id=None, summoner_name=None, datetimes={'build': '2024-03-19 19:05:45', 'run': '2024-03-19 19:05:45'}), 0 unused arguments, 6 preparing dates, 2 experiment result datasets, and 0 analysis>"
      ]
     },
     "execution_count": 11,
     "metadata": {},
     "output_type": "execute_result"
    }
   ],
   "source": [
    "experiment_execution_02.exps[exp1]"
   ]
  },
  {
   "cell_type": "code",
   "execution_count": 12,
   "metadata": {},
   "outputs": [
    {
     "name": "stdout",
     "output_type": "stream",
     "text": [
      " # qurrentRandomized.Experiment with exp_id=16c7454d-3db3-413c-93c1-2e0a243750d2\n",
      " - arguments\n",
      "   - exp_name ---------------- w=TrivialParamagnet.with100random.qurrent_haar\n",
      "   - times ------------------- 100\n",
      "   - measure ----------------- (0, 8)\n",
      "   - unitary_loc ------------- (0, 8)\n",
      "   - workers_num ------------- 16\n",
      " - commonparams\n",
      "   - exp_id ------------------ 16c7454d-3db3-413c-93c1-2e0a243750d2   # This is ID is generated by Qurry which is different from 'job_id' for pending.\n",
      "   - wave_key ---------------- TrivialParamagnet\n",
      "   - shots ------------------- 1024\n",
      "   - backend ----------------- aer_simulator\n",
      "   - run_args ---------------- {}\n",
      "   - transpile_args ---------- {}\n",
      "   - tags -------------------- ()\n",
      "   - default_analysis -------- []\n",
      "   - save_location ----------- .\n",
      "   - filename ---------------- \n",
      "   - files ------------------- {}\n",
      "   - serial ------------------ None\n",
      "   - summoner_id ------------- None\n",
      "   - summoner_name ----------- None\n",
      "   - datetimes --------------- {'build': '2024-03-19 19:05:45', 'run': '2024-03-19 19:05:45'}\n",
      " - outfields --------------- 0 ........  # Number of unused arguments.\n",
      " - beforewards\n",
      "   - circuit ----------------- 100 ......  # Number of circuit\n",
      "   - circuit_qasm ------------ 100 ......  # Number of circuit_qasm\n",
      "   - fig_original ------------ 0 ........  # Number of fig_original\n",
      "   - job_id ------------------ c4c99efb-8cf3-43c7-af6f-32a33e4d03e8\n",
      "   - exp_name ---------------- w=TrivialParamagnet.with100random.qurrent_haar\n",
      "   - side_product ------------ 2 ........  # Number of side_product\n",
      " - afterwards\n",
      "   - result ------------------ 1 ........  # Number of result\n",
      "   - counts ------------------ 100 ......  # Number of counts\n",
      " - reports ----------------- 0 ........  # Number of analysis.\n",
      "\n"
     ]
    }
   ],
   "source": [
    "print(experiment_execution_02.exps[exp1].statesheet())"
   ]
  },
  {
   "attachments": {},
   "cell_type": "markdown",
   "metadata": {},
   "source": [
    "- Then, there is a experiment completed, and we can calculate the Renyi Entropy by `analyze`."
   ]
  },
  {
   "attachments": {},
   "cell_type": "markdown",
   "metadata": {},
   "source": [
    "---\n",
    "\n",
    "## 1.4 Result\n",
    "\n",
    "- We want to know the Renyi Entropy of half system. Then we can use `.analyze()` to calculate it and it will store a `Analysis` object in `Experiment`.\n",
    "- The following is the parameter `analyze` of `EntropyMeasure` required.\n",
    "  - degree: The size or range of subsystem, if it is a number, it will be the size of subsystem, if it is a tuple, it will be the range of subsystem."
   ]
  },
  {
   "cell_type": "code",
   "execution_count": 13,
   "metadata": {},
   "outputs": [
    {
     "data": {
      "application/vnd.jupyter.widget-view+json": {
       "model_id": "952a97e5feb24cfa8677dabadf3a4ec9",
       "version_major": 2,
       "version_minor": 0
      },
      "text/plain": [
       "|  - 00:00 < ?"
      ]
     },
     "metadata": {},
     "output_type": "display_data"
    },
    {
     "data": {
      "application/vnd.jupyter.widget-view+json": {
       "model_id": "792d529aa4694353a6b5eac13127b795",
       "version_major": 2,
       "version_minor": 0
      },
      "text/plain": [
       "|  - 00:00 < ?"
      ]
     },
     "metadata": {},
     "output_type": "display_data"
    }
   ],
   "source": [
    "exp1_report1 = experiment_execution_02.exps[exp1].analyze(\n",
    "    degree=(0, 4)\n",
    ")\n",
    "exp1_report2 = experiment_execution_02.exps[exp1].analyze(\n",
    "    degree=4\n",
    ")"
   ]
  },
  {
   "cell_type": "markdown",
   "metadata": {},
   "source": [
    "- The `analyze` will return the result of this analysis."
   ]
  },
  {
   "cell_type": "code",
   "execution_count": 14,
   "metadata": {},
   "outputs": [
    {
     "name": "stdout",
     "output_type": "stream",
     "text": [
      "<qurrentRandomized.Analysis with serial=0, AnalysisInput(degree=(0, 4), shots=1024, unitary_loc=(0, 8)), AnalysisContent(purity=1.1818041610717773, entropy=-0.2409909836888523, and others), 0 unused arguments>\n",
      "AnalysisHeader(serial=0, datetime='2024-03-19 19:05:47', summoner=None, log={})\n"
     ]
    }
   ],
   "source": [
    "print(exp1_report1)\n",
    "print(exp1_report1.header)"
   ]
  },
  {
   "cell_type": "markdown",
   "metadata": {},
   "source": [
    "- It can also be found in the attribute `.reports` of `Experiment` object."
   ]
  },
  {
   "cell_type": "code",
   "execution_count": 15,
   "metadata": {},
   "outputs": [
    {
     "name": "stdout",
     "output_type": "stream",
     "text": [
      "<AnalysisContainer={\n",
      "    0: ...\n",
      "    1: ...\n",
      "} with 2 analysis load, a customized dictionary>\n",
      "<qurrentRandomized.Analysis with serial=0, AnalysisInput(degree=(0, 4), shots=1024, unitary_loc=(0, 8)), AnalysisContent(purity=1.1818041610717773, entropy=-0.2409909836888523, and others), 0 unused arguments>\n",
      "AnalysisHeader(serial=0, datetime='2024-03-19 19:05:47', summoner=None, log={})\n"
     ]
    }
   ],
   "source": [
    "print(experiment_execution_02.exps[exp1].reports)\n",
    "print(experiment_execution_02.exps[exp1].reports[0])\n",
    "print(experiment_execution_02.exps[exp1].reports[0].header)"
   ]
  },
  {
   "cell_type": "markdown",
   "metadata": {},
   "source": [
    "- We can use `.export()` to get the result of this analysis."
   ]
  },
  {
   "cell_type": "code",
   "execution_count": 16,
   "metadata": {},
   "outputs": [],
   "source": [
    "main, side_prodct = experiment_execution_02.exps[exp1].reports[0].export()"
   ]
  },
  {
   "attachments": {},
   "cell_type": "markdown",
   "metadata": {},
   "source": [
    "- And there is it"
   ]
  },
  {
   "cell_type": "code",
   "execution_count": 17,
   "metadata": {},
   "outputs": [
    {
     "data": {
      "text/plain": [
       "{'purity': 1.1818041610717773,\n",
       " 'entropy': -0.2409909836888523,\n",
       " 'puritySD': 1.1137335938579271,\n",
       " 'entropySD': 1.3595974575627563,\n",
       " 'bitStringRange': [0, 4],\n",
       " 'allSystemSource': 'independent',\n",
       " 'purityAllSys': 1.4394626808166504,\n",
       " 'entropyAllSys': -0.5255303864014051,\n",
       " 'puritySDAllSys': 1.7930460028623025,\n",
       " 'entropySDAllSys': 1.7970723457364257,\n",
       " 'bitsStringRangeAllSys': [0, 8],\n",
       " 'errorRate': -0.2004940915634181,\n",
       " 'mitigatedPurity': 0.8391548602748656,\n",
       " 'mitigatedEntropy': 0.2529910201765524,\n",
       " 'num_qubits': 8,\n",
       " 'measure': ['measure range:', [0, 8]],\n",
       " 'measureActually': [0, 8],\n",
       " 'measureActuallyAllSys': [0, 8],\n",
       " 'countsNum': 100,\n",
       " 'takingTime': 0.000714156,\n",
       " 'takingTimeAllSys': 0.003152348,\n",
       " 'input': {'degree': [0, 4], 'shots': 1024, 'unitary_loc': [0, 8]},\n",
       " 'header': {'serial': 0,\n",
       "  'datetime': '2024-03-19 19:05:47',\n",
       "  'summoner': None,\n",
       "  'log': {}}}"
      ]
     },
     "execution_count": 17,
     "metadata": {},
     "output_type": "execute_result"
    }
   ],
   "source": [
    "main"
   ]
  },
  {
   "attachments": {},
   "cell_type": "markdown",
   "metadata": {},
   "source": [
    "- Also, `sideProdct` will record the data of each circuit, and you can use it to do more analysis."
   ]
  },
  {
   "cell_type": "code",
   "execution_count": 18,
   "metadata": {},
   "outputs": [
    {
     "data": {
      "text/plain": [
       "{'purityCells': {61: 1.3342533111572266,\n",
       "  25: 4.869670867919922,\n",
       "  29: 1.5328655242919922,\n",
       "  65: 3.6087779998779297,\n",
       "  70: 0.8376827239990234,\n",
       "  35: 0.7242488861083984,\n",
       "  72: 1.8999004364013672,\n",
       "  16: 0.35748291015625,\n",
       "  56: 0.1423511505126953,\n",
       "  85: 2.0770034790039062,\n",
       "  20: 0.9743423461914062,\n",
       "  98: 0.5528850555419922,\n",
       "  93: 3.852611541748047,\n",
       "  50: 0.8923282623291016,\n",
       "  45: 0.7859325408935547,\n",
       "  28: 0.2659645080566406,\n",
       "  62: 0.2904834747314453,\n",
       "  74: 1.1436920166015625,\n",
       "  81: 0.9935340881347656,\n",
       "  87: 0.31452178955078125,\n",
       "  94: 0.8372821807861328,\n",
       "  38: 0.64312744140625,\n",
       "  59: 1.2306499481201172,\n",
       "  64: 0.19817543029785156,\n",
       "  9: 0.1980152130126953,\n",
       "  76: 0.5458011627197266,\n",
       "  77: 4.975500106811523,\n",
       "  97: 0.6272773742675781,\n",
       "  4: 1.0198554992675781,\n",
       "  54: 1.0745353698730469,\n",
       "  84: 0.8149662017822266,\n",
       "  11: 5.82179069519043,\n",
       "  1: 0.5531768798828125,\n",
       "  24: 2.1800804138183594,\n",
       "  40: 2.3923168182373047,\n",
       "  37: 0.2369251251220703,\n",
       "  86: 0.4221477508544922,\n",
       "  32: 1.0298175811767578,\n",
       "  91: 0.6367759704589844,\n",
       "  96: 0.35193824768066406,\n",
       "  90: 0.43090248107910156,\n",
       "  31: 1.8324832916259766,\n",
       "  12: 0.521728515625,\n",
       "  15: 0.4929180145263672,\n",
       "  82: 0.9898834228515625,\n",
       "  99: 1.1649894714355469,\n",
       "  8: 0.15003013610839844,\n",
       "  67: 0.5471858978271484,\n",
       "  68: 0.6238498687744141,\n",
       "  55: 1.1525840759277344,\n",
       "  73: 2.893648147583008,\n",
       "  2: 0.44817161560058594,\n",
       "  89: 1.4280948638916016,\n",
       "  88: 1.0520877838134766,\n",
       "  13: 0.20871543884277344,\n",
       "  22: 0.33438873291015625,\n",
       "  34: 0.6480083465576172,\n",
       "  5: 0.4474334716796875,\n",
       "  41: 1.6794300079345703,\n",
       "  51: 1.1520748138427734,\n",
       "  52: 1.2237377166748047,\n",
       "  53: 2.389455795288086,\n",
       "  57: 0.4807472229003906,\n",
       "  71: 0.2808647155761719,\n",
       "  42: 0.6372909545898438,\n",
       "  80: 2.226560592651367,\n",
       "  36: 2.838716506958008,\n",
       "  49: 0.5090255737304688,\n",
       "  92: 0.723602294921875,\n",
       "  95: 0.7163410186767578,\n",
       "  7: 3.6933326721191406,\n",
       "  17: 0.4022178649902344,\n",
       "  3: 0.3055438995361328,\n",
       "  27: 1.5428962707519531,\n",
       "  23: 1.5404300689697266,\n",
       "  47: 1.577005386352539,\n",
       "  18: 0.2084522247314453,\n",
       "  79: 0.9021530151367188,\n",
       "  58: 1.6452865600585938,\n",
       "  0: 0.8670139312744141,\n",
       "  6: 2.1872329711914062,\n",
       "  10: 0.5425853729248047,\n",
       "  14: 3.2206344604492188,\n",
       "  33: 0.216766357421875,\n",
       "  39: 0.45967864990234375,\n",
       "  60: 1.136373519897461,\n",
       "  63: 0.07952880859375,\n",
       "  66: 0.5684490203857422,\n",
       "  69: 1.1599369049072266,\n",
       "  75: 2.318920135498047,\n",
       "  26: 0.2856884002685547,\n",
       "  30: 0.19253921508789062,\n",
       "  21: 3.1429290771484375,\n",
       "  19: 0.37972450256347656,\n",
       "  78: 1.1689090728759766,\n",
       "  48: 0.6672401428222656,\n",
       "  46: 0.2580909729003906,\n",
       "  44: 2.390216827392578,\n",
       "  83: 0.9810085296630859,\n",
       "  43: 0.6739921569824219},\n",
       " 'purityCellsAllSys': {81: 1.3432197570800781,\n",
       "  4: 2.465015411376953,\n",
       "  87: 0.5712184906005859,\n",
       "  34: 0.4110584259033203,\n",
       "  53: 0.5008602142333984,\n",
       "  99: 2.978940963745117,\n",
       "  92: 0.5287895202636719,\n",
       "  79: 0.3931770324707031,\n",
       "  14: 1.2922706604003906,\n",
       "  82: 0.5762081146240234,\n",
       "  35: 0.4225597381591797,\n",
       "  71: 0.3395729064941406,\n",
       "  51: 1.7232551574707031,\n",
       "  37: 0.5700855255126953,\n",
       "  64: 0.2359294891357422,\n",
       "  84: 5.195152282714844,\n",
       "  97: 0.8357887268066406,\n",
       "  90: 0.26576995849609375,\n",
       "  30: 0.2258586883544922,\n",
       "  98: 0.849578857421875,\n",
       "  15: 1.0529060363769531,\n",
       "  3: 0.6021060943603516,\n",
       "  38: 0.59625244140625,\n",
       "  41: 3.2459144592285156,\n",
       "  60: 0.6498508453369141,\n",
       "  13: 0.8838596343994141,\n",
       "  21: 3.883207321166992,\n",
       "  11: 8.85995101928711,\n",
       "  26: 0.44028663635253906,\n",
       "  28: 0.3041191101074219,\n",
       "  5: 0.3294849395751953,\n",
       "  17: 0.5676765441894531,\n",
       "  57: 0.4634380340576172,\n",
       "  33: 0.2391796112060547,\n",
       "  32: 0.7662258148193359,\n",
       "  45: 0.2037200927734375,\n",
       "  67: 0.42160987854003906,\n",
       "  74: 2.1932010650634766,\n",
       "  58: 1.1548328399658203,\n",
       "  77: 3.68560791015625,\n",
       "  94: 0.6534099578857422,\n",
       "  66: 0.8047924041748047,\n",
       "  46: 0.3126220703125,\n",
       "  47: 4.106258392333984,\n",
       "  68: 1.5069217681884766,\n",
       "  40: 1.1307830810546875,\n",
       "  69: 0.5900211334228516,\n",
       "  96: 0.292022705078125,\n",
       "  95: 2.012401580810547,\n",
       "  50: 0.8143138885498047,\n",
       "  39: 1.0351333618164062,\n",
       "  1: 0.5708179473876953,\n",
       "  22: 0.7283744812011719,\n",
       "  12: 0.5655765533447266,\n",
       "  24: 8.943893432617188,\n",
       "  73: 3.0172901153564453,\n",
       "  16: 0.3214282989501953,\n",
       "  56: 0.22271728515625,\n",
       "  29: 1.2923564910888672,\n",
       "  9: 0.3261375427246094,\n",
       "  7: 7.424495697021484,\n",
       "  59: 0.6776371002197266,\n",
       "  23: 0.85992431640625,\n",
       "  2: 0.5418529510498047,\n",
       "  27: 2.1243019104003906,\n",
       "  89: 1.0890522003173828,\n",
       "  88: 0.6196956634521484,\n",
       "  19: 0.3749408721923828,\n",
       "  8: 0.3596172332763672,\n",
       "  20: 0.7478866577148438,\n",
       "  48: 0.7784309387207031,\n",
       "  86: 0.7242717742919922,\n",
       "  52: 1.227731704711914,\n",
       "  78: 0.33809661865234375,\n",
       "  65: 1.4878673553466797,\n",
       "  72: 1.848379135131836,\n",
       "  18: 0.32225799560546875,\n",
       "  44: 2.260223388671875,\n",
       "  61: 0.9596138000488281,\n",
       "  0: 1.0388469696044922,\n",
       "  63: 0.17404556274414062,\n",
       "  31: 1.9622764587402344,\n",
       "  10: 0.7569789886474609,\n",
       "  25: 3.6454620361328125,\n",
       "  75: 1.5217819213867188,\n",
       "  49: 1.4257316589355469,\n",
       "  70: 0.5511226654052734,\n",
       "  85: 1.3975448608398438,\n",
       "  93: 4.6402740478515625,\n",
       "  42: 3.685802459716797,\n",
       "  80: 1.6631450653076172,\n",
       "  76: 1.1323566436767578,\n",
       "  83: 0.7116718292236328,\n",
       "  62: 0.4597358703613281,\n",
       "  36: 8.974220275878906,\n",
       "  43: 0.480255126953125,\n",
       "  54: 1.5100231170654297,\n",
       "  55: 0.39756011962890625,\n",
       "  6: 1.0707588195800781,\n",
       "  91: 0.46538352966308594}}"
      ]
     },
     "execution_count": 18,
     "metadata": {},
     "output_type": "execute_result"
    }
   ],
   "source": [
    "side_prodct"
   ]
  },
  {
   "cell_type": "code",
   "execution_count": 19,
   "metadata": {},
   "outputs": [
    {
     "data": {
      "text/plain": [
       " # qurrentRandomized.Analysis with serial=0\n",
       " - header\n",
       "   - serial ----------------------- 0\n",
       "   - datetime --------------------- 2024-03-19 19:05:47\n",
       "   - summoner --------------------- None\n",
       "   - log -------------------------- {}\n",
       " - input\n",
       "   - degree ----------------------- (0, 4)\n",
       "   - shots ------------------------ 1024\n",
       "   - unitary_loc ------------------ (0, 8)\n",
       " - outfields -------------------- 0 ........  # Number of unused arguments.\n",
       " - content\n",
       "   - purity ----------------------- 1.1818041610717773\n",
       "   - entropy ---------------------- -0.2409909836888523\n",
       "   - puritySD --------------------- 1.1137335938579271\n",
       "   - entropySD -------------------- 1.3595974575627563\n",
       "   - purityCells ------------------ {61: 1.3342533111572266, 25: 4.869670867919922, 29: 1.5328655242919922, 65: 3.6087779998779297, 70: 0.8376827239990234, 35: 0.7242488861083984, 72: 1.8999004364013672, 16: 0.35748291015625, 56: 0.1423511505126953, 85: 2.0770034790039062, 20: 0.9743423461914062, 98: 0.5528850555419922, 93: 3.852611541748047, 50: 0.8923282623291016, 45: 0.7859325408935547, 28: 0.2659645080566406, 62: 0.2904834747314453, 74: 1.1436920166015625, 81: 0.9935340881347656, 87: 0.31452178955078125, 94: 0.8372821807861328, 38: 0.64312744140625, 59: 1.2306499481201172, 64: 0.19817543029785156, 9: 0.1980152130126953, 76: 0.5458011627197266, 77: 4.975500106811523, 97: 0.6272773742675781, 4: 1.0198554992675781, 54: 1.0745353698730469, 84: 0.8149662017822266, 11: 5.82179069519043, 1: 0.5531768798828125, 24: 2.1800804138183594, 40: 2.3923168182373047, 37: 0.2369251251220703, 86: 0.4221477508544922, 32: 1.0298175811767578, 91: 0.6367759704589844, 96: 0.35193824768066406, 90: 0.43090248107910156, 31: 1.8324832916259766, 12: 0.521728515625, 15: 0.4929180145263672, 82: 0.9898834228515625, 99: 1.1649894714355469, 8: 0.15003013610839844, 67: 0.5471858978271484, 68: 0.6238498687744141, 55: 1.1525840759277344, 73: 2.893648147583008, 2: 0.44817161560058594, 89: 1.4280948638916016, 88: 1.0520877838134766, 13: 0.20871543884277344, 22: 0.33438873291015625, 34: 0.6480083465576172, 5: 0.4474334716796875, 41: 1.6794300079345703, 51: 1.1520748138427734, 52: 1.2237377166748047, 53: 2.389455795288086, 57: 0.4807472229003906, 71: 0.2808647155761719, 42: 0.6372909545898438, 80: 2.226560592651367, 36: 2.838716506958008, 49: 0.5090255737304688, 92: 0.723602294921875, 95: 0.7163410186767578, 7: 3.6933326721191406, 17: 0.4022178649902344, 3: 0.3055438995361328, 27: 1.5428962707519531, 23: 1.5404300689697266, 47: 1.577005386352539, 18: 0.2084522247314453, 79: 0.9021530151367188, 58: 1.6452865600585938, 0: 0.8670139312744141, 6: 2.1872329711914062, 10: 0.5425853729248047, 14: 3.2206344604492188, 33: 0.216766357421875, 39: 0...\n",
       "   - bitStringRange --------------- (0, 4)\n",
       "   - allSystemSource -------------- independent\n",
       "   - purityAllSys ----------------- 1.4394626808166504\n",
       "   - entropyAllSys ---------------- -0.5255303864014051\n",
       "   - puritySDAllSys --------------- 1.7930460028623025\n",
       "   - entropySDAllSys -------------- 1.7970723457364257\n",
       "   - purityCellsAllSys ------------ {81: 1.3432197570800781, 4: 2.465015411376953, 87: 0.5712184906005859, 34: 0.4110584259033203, 53: 0.5008602142333984, 99: 2.978940963745117, 92: 0.5287895202636719, 79: 0.3931770324707031, 14: 1.2922706604003906, 82: 0.5762081146240234, 35: 0.4225597381591797, 71: 0.3395729064941406, 51: 1.7232551574707031, 37: 0.5700855255126953, 64: 0.2359294891357422, 84: 5.195152282714844, 97: 0.8357887268066406, 90: 0.26576995849609375, 30: 0.2258586883544922, 98: 0.849578857421875, 15: 1.0529060363769531, 3: 0.6021060943603516, 38: 0.59625244140625, 41: 3.2459144592285156, 60: 0.6498508453369141, 13: 0.8838596343994141, 21: 3.883207321166992, 11: 8.85995101928711, 26: 0.44028663635253906, 28: 0.3041191101074219, 5: 0.3294849395751953, 17: 0.5676765441894531, 57: 0.4634380340576172, 33: 0.2391796112060547, 32: 0.7662258148193359, 45: 0.2037200927734375, 67: 0.42160987854003906, 74: 2.1932010650634766, 58: 1.1548328399658203, 77: 3.68560791015625, 94: 0.6534099578857422, 66: 0.8047924041748047, 46: 0.3126220703125, 47: 4.106258392333984, 68: 1.5069217681884766, 40: 1.1307830810546875, 69: 0.5900211334228516, 96: 0.292022705078125, 95: 2.012401580810547, 50: 0.8143138885498047, 39: 1.0351333618164062, 1: 0.5708179473876953, 22: 0.7283744812011719, 12: 0.5655765533447266, 24: 8.943893432617188, 73: 3.0172901153564453, 16: 0.3214282989501953, 56: 0.22271728515625, 29: 1.2923564910888672, 9: 0.3261375427246094, 7: 7.424495697021484, 59: 0.6776371002197266, 23: 0.85992431640625, 2: 0.5418529510498047, 27: 2.1243019104003906, 89: 1.0890522003173828, 88: 0.6196956634521484, 19: 0.3749408721923828, 8: 0.3596172332763672, 20: 0.7478866577148438, 48: 0.7784309387207031, 86: 0.7242717742919922, 52: 1.227731704711914, 78: 0.33809661865234375, 65: 1.4878673553466797, 72: 1.848379135131836, 18: 0.32225799560546875, 44: 2.260223388671875, 61: 0.9596138000488281, 0: 1.0388469696044922, 63: 0.17404556274414062, 31: 1.9622764587402344, 10: 0.7569789886474609, 25: 3.6454620361328125, 75: 1.521781...\n",
       "   - bitsStringRangeAllSys -------- (0, 8)\n",
       "   - errorRate -------------------- -0.2004940915634181\n",
       "   - mitigatedPurity -------------- 0.8391548602748656\n",
       "   - mitigatedEntropy ------------- 0.2529910201765524\n",
       "   - num_qubits ------------------- 8\n",
       "   - measure ---------------------- ('measure range:', (0, 8))\n",
       "   - measureActually -------------- (0, 8)\n",
       "   - measureActuallyAllSys -------- (0, 8)\n",
       "   - countsNum -------------------- 100\n",
       "   - takingTime ------------------- 0.000714156\n",
       "   - takingTimeAllSys ------------- 0.003152348\n",
       "by <QurryAnalysisSheet>"
      ]
     },
     "execution_count": 19,
     "metadata": {},
     "output_type": "execute_result"
    }
   ],
   "source": [
    "experiment_execution_02.exps[exp1].reports[0].statesheet()"
   ]
  },
  {
   "cell_type": "markdown",
   "metadata": {},
   "source": [
    "---\n",
    "\n",
    "## Post-Process Availablities and Version Info\n",
    "\n",
    "We currently do not support Qsikit 1.0 for we are working on it, and we will support it in the future."
   ]
  },
  {
   "cell_type": "code",
   "execution_count": 20,
   "metadata": {},
   "outputs": [
    {
     "name": "stdout",
     "output_type": "stream",
     "text": [
      " | Qurry version: 0.7.1.dev5\n",
      "--------------------------------------------------------\n",
      " ### Qurry Post-Processing\n",
      "   - Backend Availability           Python Cython Rust  \n",
      " - randomized_measure\n",
      "   - entangled_core ............... True   True   True  \n",
      "   - purity_cell .................. True   True   True  \n",
      "   - wavefunction_overlap ......... True   True   None  \n",
      "   - echo_cell .................... True   True   None  \n",
      " - utils\n",
      "   - randomized ................... True   True   True  \n",
      "   - construct .................... True   None   True  \n",
      "--------------------------------------------------------\n",
      "   + True ..... Working normally.\n",
      "   + False .... Exception occurred.\n",
      "   + None ..... Not supported yet.\n",
      "--------------------------------------------------------\n",
      "\n"
     ]
    }
   ],
   "source": [
    "from qurry.process import AVAIBILITY_STATESHEET\n",
    "print(AVAIBILITY_STATESHEET)"
   ]
  },
  {
   "cell_type": "code",
   "execution_count": null,
   "metadata": {},
   "outputs": [],
   "source": []
  }
 ],
 "metadata": {
  "kernelspec": {
   "display_name": "quantumsphere11",
   "language": "python",
   "name": "python3"
  },
  "language_info": {
   "codemirror_mode": {
    "name": "ipython",
    "version": 3
   },
   "file_extension": ".py",
   "mimetype": "text/x-python",
   "name": "python",
   "nbconvert_exporter": "python",
   "pygments_lexer": "ipython3",
   "version": "3.11.3"
  },
  "orig_nbformat": 4
 },
 "nbformat": 4,
 "nbformat_minor": 2
}
