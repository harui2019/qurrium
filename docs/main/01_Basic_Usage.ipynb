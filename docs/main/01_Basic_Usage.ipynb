{
 "cells": [
  {
   "attachments": {},
   "cell_type": "markdown",
   "metadata": {},
   "source": [
    "# 01 - Basic Usage of Qurry\n",
    "\n",
    "In Qurry, we use the instance of `Qurry` to store quantum circuits, experiments, build experiment, and excute them on local simulator or pending to the real quantum machine on `IBM`. In this chapter (or we say this jupyter file), we will introduce how to use Qurry to build a simple quantum circuit and measure their Renyi Entropy on local simulator.\n"
   ]
  },
  {
   "cell_type": "markdown",
   "metadata": {},
   "source": [
    "If you are using Colab, you can run the following command in terminal to install Qurry.\n",
    "\n",
    "```bash\n",
    "pip install qurrium\n",
    "```\n"
   ]
  },
  {
   "cell_type": "code",
   "execution_count": 1,
   "metadata": {},
   "outputs": [
    {
     "name": "stdout",
     "output_type": "stream",
     "text": [
      "| Current Version: 0.9.1.dev1\n"
     ]
    }
   ],
   "source": [
    "from IPython.display import display\n",
    "from qurry import __version__\n",
    "\n",
    "print(f\"| Current Version: {__version__}\")"
   ]
  },
  {
   "attachments": {},
   "cell_type": "markdown",
   "metadata": {},
   "source": [
    "## 1.1 Setup Environment and Creat experiment executor\n"
   ]
  },
  {
   "cell_type": "code",
   "execution_count": 2,
   "metadata": {},
   "outputs": [],
   "source": [
    "from qurry import EntropyMeasure\n",
    "from qiskit import QuantumCircuit"
   ]
  },
  {
   "cell_type": "markdown",
   "metadata": {},
   "source": [
    "- Import simulator\n"
   ]
  },
  {
   "cell_type": "code",
   "execution_count": 3,
   "metadata": {},
   "outputs": [],
   "source": [
    "from qiskit.providers.basic_provider import BasicProvider\n",
    "\n",
    "basic_provider = BasicProvider()\n",
    "backend_sim = basic_provider.get_backend(\"basic_simulator\")"
   ]
  },
  {
   "attachments": {},
   "cell_type": "markdown",
   "metadata": {},
   "source": [
    "- Next, we will initialize our `EntropyMeasure` instance. There are two methods implemented based on two theories. The defaul method is `randomized` based on Randomized Measure. The other method is `hadamard` based on Hadamard Test. \n",
    "\n",
    "- In the following tutorial, we will use `randomized` as our measurement method.\n"
   ]
  },
  {
   "cell_type": "code",
   "execution_count": 4,
   "metadata": {},
   "outputs": [
    {
     "name": "stdout",
     "output_type": "stream",
     "text": [
      "| The first method is which is `Hadamard Test`\".\n",
      "| The default method is which is `Randomized Measure` we will use.\n"
     ]
    }
   ],
   "source": [
    "experiment_hadamard = EntropyMeasure(method=\"hadamard\")\n",
    "print('| The first method is which is `Hadamard Test`\".')\n",
    "experiment_randomized = EntropyMeasure()\n",
    "print(\"| The default method is which is `Randomized Measure` we will use.\")"
   ]
  },
  {
   "attachments": {},
   "cell_type": "markdown",
   "metadata": {},
   "source": [
    "---\n",
    "\n",
    "## 1.2 Load quantum circuits\n",
    "\n",
    "- In `Qurry`, there are built-in quantum circuits that construct certain wave functions, or equivalently, quantum states. They can be imported from `qurry.recipe`.\n",
    "- The user can define customized circuits following Qiskit workflow.\n",
    "\n"
   ]
  },
  {
   "cell_type": "code",
   "execution_count": 5,
   "metadata": {},
   "outputs": [],
   "source": [
    "from qurry.recipe import TrivialParamagnet, GHZ"
   ]
  },
  {
   "cell_type": "code",
   "execution_count": 6,
   "metadata": {},
   "outputs": [
    {
     "name": "stdout",
     "output_type": "stream",
     "text": [
      "| trivial paramagnet in 8 qubits:\n",
      "     ┌───┐\n",
      "q_0: ┤ H ├\n",
      "     ├───┤\n",
      "q_1: ┤ H ├\n",
      "     ├───┤\n",
      "q_2: ┤ H ├\n",
      "     ├───┤\n",
      "q_3: ┤ H ├\n",
      "     ├───┤\n",
      "q_4: ┤ H ├\n",
      "     ├───┤\n",
      "q_5: ┤ H ├\n",
      "     ├───┤\n",
      "q_6: ┤ H ├\n",
      "     ├───┤\n",
      "q_7: ┤ H ├\n",
      "     └───┘\n",
      "| GHZ in 8 qubits:\n",
      "     ┌───┐                                   \n",
      "q_0: ┤ H ├──■────────────────────────────────\n",
      "     └───┘┌─┴─┐                              \n",
      "q_1: ─────┤ X ├──■───────────────────────────\n",
      "          └───┘┌─┴─┐                         \n",
      "q_2: ──────────┤ X ├──■──────────────────────\n",
      "               └───┘┌─┴─┐                    \n",
      "q_3: ───────────────┤ X ├──■─────────────────\n",
      "                    └───┘┌─┴─┐               \n",
      "q_4: ────────────────────┤ X ├──■────────────\n",
      "                         └───┘┌─┴─┐          \n",
      "q_5: ─────────────────────────┤ X ├──■───────\n",
      "                              └───┘┌─┴─┐     \n",
      "q_6: ──────────────────────────────┤ X ├──■──\n",
      "                                   └───┘┌─┴─┐\n",
      "q_7: ───────────────────────────────────┤ X ├\n",
      "                                        └───┘\n",
      "| Custom circuit:\n",
      "     ┌───┐\n",
      "q_0: ┤ X ├\n",
      "     └───┘\n",
      "q_1: ─────\n",
      "     ┌───┐\n",
      "q_2: ┤ X ├\n",
      "     └───┘\n",
      "q_3: ─────\n",
      "     ┌───┐\n",
      "q_4: ┤ X ├\n",
      "     └───┘\n",
      "q_5: ─────\n",
      "     ┌───┐\n",
      "q_6: ┤ X ├\n",
      "     └───┘\n",
      "q_7: ─────\n",
      "          \n"
     ]
    }
   ],
   "source": [
    "sample01 = TrivialParamagnet(8)\n",
    "print(\"| trivial paramagnet in 8 qubits:\")\n",
    "print(sample01)\n",
    "sample02 = GHZ(8)\n",
    "print(\"| GHZ in 8 qubits:\")\n",
    "print(sample02)\n",
    "sample03 = QuantumCircuit(8)\n",
    "sample03.x(range(0, 8, 2))\n",
    "print(\"| Custom circuit:\")\n",
    "print(sample03)"
   ]
  },
  {
   "cell_type": "markdown",
   "metadata": {},
   "source": [
    "- After we prepare three quantum circuits, we append them to the `EntropyMeasure` object by the `.add()` method.\n",
    "- The attribute `.waves` of `Qurry` object is a customized `dict`. we can check the stored circuits by printing the dictionary."
   ]
  },
  {
   "cell_type": "code",
   "execution_count": 7,
   "metadata": {},
   "outputs": [
    {
     "name": "stdout",
     "output_type": "stream",
     "text": [
      "{'TrivialParamagnet': <qurry.recipe.simple.paramagnet.TrivialParamagnet object at 0x75f0be15c770>, 'GHZ': <qurry.recipe.simple.cat.GHZ object at 0x75f0c7f8f8c0>, 2: <qiskit.circuit.quantumcircuit.QuantumCircuit object at 0x75f0c0b73800>}\n"
     ]
    }
   ],
   "source": [
    "experiment_randomized.add(\n",
    "    wave=sample01,  # The circuit object\n",
    "    key=\"TrivialParamagnet\",  # The name of the circuit\n",
    "    replace=False,  # True for if you want to replace the circuit with the same name.\n",
    ")  # Default is False, so if you add the same name when False,\n",
    "# it will be added with serial number.\n",
    "experiment_randomized.add(sample02, \"GHZ\")\n",
    "experiment_randomized.add(sample03)\n",
    "print(experiment_randomized.waves)"
   ]
  },
  {
   "attachments": {},
   "cell_type": "markdown",
   "metadata": {},
   "source": [
    "If you do not give the name of circuit, it will be named by series number.\n",
    "\n",
    "Now, waves are loading, time to excute.\n"
   ]
  },
  {
   "attachments": {},
   "cell_type": "markdown",
   "metadata": {},
   "source": [
    "## 1.3 Excute Circuits\n"
   ]
  },
  {
   "cell_type": "markdown",
   "metadata": {},
   "source": [
    "- We can use `.measure()` method to excute the specific circuit in the `EntropyMeasure` object. The `.measure()` method  returns a hash id of this experiment and save a `Experiment` object in `EntropyMeasure`.\n",
    "- `EntropyMeasure.measure()` requires the following input parameters:\n",
    "  - wave: the name of circuit in `Qurry.waves` object\n",
    "  - times: the number of random measurements\n",
    "  - shots: the number of shots for each measurement. The default is 1024.\n"
   ]
  },
  {
   "cell_type": "code",
   "execution_count": 8,
   "metadata": {},
   "outputs": [
    {
     "data": {
      "text/plain": [
       "'4939d7d1-c2a5-4bb9-9de8-3194a3ce199b'"
      ]
     },
     "execution_count": 8,
     "metadata": {},
     "output_type": "execute_result"
    }
   ],
   "source": [
    "exp1 = experiment_randomized.measure(\n",
    "    wave=\"TrivialParamagnet\", times=100, shots=1024, backend=backend_sim\n",
    ")\n",
    "exp1"
   ]
  },
  {
   "cell_type": "markdown",
   "metadata": {},
   "source": [
    "- You can specify the backend by add a parameter `backend` in `measure` method, if you do not specify, it will use simulator as the default backend. Moreover, qiskit has multiple simulators, they are `QasmSimulatorPy` from `qiskit`, `AerSimulator` from `qiskit-aer`, and `AerSimulator` from `qiskit-aer-gpu`. Qurry will check the availability of these simulators and use the first available one as the default backend in following order:\n",
    "  1. `AerSimulator` from `qiskit-aer-gpu`\n",
    "  2. `AerSimulator` from `qiskit-aer`\n",
    "  3. `QasmSimulatorPy` from `qiskit`\n"
   ]
  },
  {
   "cell_type": "code",
   "execution_count": 9,
   "metadata": {},
   "outputs": [
    {
     "data": {
      "text/plain": [
       "'ac02024c-f2d4-4ff0-a1dd-7867e6b49f37'"
      ]
     },
     "execution_count": 9,
     "metadata": {},
     "output_type": "execute_result"
    }
   ],
   "source": [
    "exp2 = experiment_randomized.measure(\n",
    "    wave=\"TrivialParamagnet\",\n",
    "    times=100,\n",
    "    shots=1024,\n",
    ")\n",
    "exp2"
   ]
  },
  {
   "cell_type": "markdown",
   "metadata": {},
   "source": [
    "- And we can check the attribute `.exps` of `EntropyMeasure` object, it will return the hash id of all experiments.\n"
   ]
  },
  {
   "cell_type": "code",
   "execution_count": 10,
   "metadata": {},
   "outputs": [
    {
     "name": "stdout",
     "output_type": "stream",
     "text": [
      "{'4939d7d1-c2a5-4bb9-9de8-3194a3ce199b': <EntropyMeasureRandomizedExperiment(exp_id=4939d7d1-c2a5-4bb9-9de8-3194a3ce199b, EntropyMeasureRandomizedArguments(exp_name='experiment.N_U_100.qurrent_randomized', times=100, measure=(0, 8), unitary_loc=(0, 8), random_unitary_seeds=None, workers_num=16), Commonparams(exp_id='4939d7d1-c2a5-4bb9-9de8-3194a3ce199b', target_keys=['TrivialParamagnet'], shots=1024, backend=<qiskit.providers.basic_provider.basic_simulator.BasicSimulator object at 0x75f0be133410>, run_args={}, transpile_args={}, tags=(), default_analysis=[], save_location=PosixPath('.'), filename='', files={}, serial=None, summoner_id=None, summoner_name=None, datetimes=DatetimeDict({'build': '2024-10-07 03:21:12', 'run.001': '2024-10-07 03:21:12'})), unused_args_num=0, analysis_num=0)>, 'ac02024c-f2d4-4ff0-a1dd-7867e6b49f37': <EntropyMeasureRandomizedExperiment(exp_id=ac02024c-f2d4-4ff0-a1dd-7867e6b49f37, EntropyMeasureRandomizedArguments(exp_name='experiment.N_U_100.qurrent_randomized', times=100, measure=(0, 8), unitary_loc=(0, 8), random_unitary_seeds=None, workers_num=16), Commonparams(exp_id='ac02024c-f2d4-4ff0-a1dd-7867e6b49f37', target_keys=['TrivialParamagnet'], shots=1024, backend=<UnknownSimulator('aer_simulator')>, run_args={}, transpile_args={}, tags=(), default_analysis=[], save_location=PosixPath('.'), filename='', files={}, serial=None, summoner_id=None, summoner_name=None, datetimes=DatetimeDict({'build': '2024-10-07 03:21:14', 'run.001': '2024-10-07 03:21:14'})), unused_args_num=0, analysis_num=0)>}\n"
     ]
    }
   ],
   "source": [
    "print(experiment_randomized.exps)"
   ]
  },
  {
   "cell_type": "markdown",
   "metadata": {},
   "source": [
    "- The following is the other informatiom you can access.\n"
   ]
  },
  {
   "cell_type": "code",
   "execution_count": 11,
   "metadata": {},
   "outputs": [
    {
     "data": {
      "text/plain": [
       "WaveContainer({\n",
       "  'TrivialParamagnet': <qurry.recipe.simple.paramagnet.TrivialParamagnet object at 0x75f0be15c770>,\n",
       "  'GHZ': <qurry.recipe.simple.cat.GHZ object at 0x75f0c7f8f8c0>,\n",
       "  2: <qiskit.circuit.quantumcircuit.QuantumCircuit object at 0x75f0c0b73800>})"
      ]
     },
     "execution_count": 11,
     "metadata": {},
     "output_type": "execute_result"
    }
   ],
   "source": [
    "experiment_randomized.waves"
   ]
  },
  {
   "cell_type": "code",
   "execution_count": 12,
   "metadata": {},
   "outputs": [
    {
     "data": {
      "text/plain": [
       "<EntropyMeasureRandomizedExperiment(exp_id=4939d7d1-c2a5-4bb9-9de8-3194a3ce199b, \n",
       "  EntropyMeasureRandomizedArguments(exp_name='experiment.N_U_100.qurrent_randomized', times=100, measure=(0, 8), unitary_loc=(0, 8), random_unitary_seeds=None, workers_num=16),\n",
       "  Commonparams(exp_id='4939d7d1-c2a5-4bb9-9de8-3194a3ce199b', target_keys=['TrivialParamagnet'], shots=1024, backend=<qiskit.providers.basic_provider.basic_simulator.BasicSimulator object at 0x75f0be133410>, run_args={}, transpile_args={}, tags=(), default_analysis=[], save_location=PosixPath('.'), filename='', files={}, serial=None, summoner_id=None, summoner_name=None, datetimes=DatetimeDict({'build': '2024-10-07 03:21:12', 'run.001': '2024-10-07 03:21:12'})),\n",
       "  unused_args_num=0,\n",
       "  analysis_num=0))>"
      ]
     },
     "execution_count": 12,
     "metadata": {},
     "output_type": "execute_result"
    }
   ],
   "source": [
    "experiment_randomized.exps[exp1]"
   ]
  },
  {
   "cell_type": "code",
   "execution_count": 13,
   "metadata": {},
   "outputs": [
    {
     "name": "stdout",
     "output_type": "stream",
     "text": [
      " # EntropyMeasureRandomizedExperiment with exp_id=4939d7d1-c2a5-4bb9-9de8-3194a3ce199b\n",
      " - arguments\n",
      "   - exp_name --------------------- experiment.N_U_100.qurrent_randomized\n",
      "   - times ------------------------ 100\n",
      "   - measure ---------------------- (0, 8)\n",
      "   - unitary_loc ------------------ (0, 8)\n",
      "   - random_unitary_seeds --------- None\n",
      "   - workers_num ------------------ 16\n",
      " - commonparams\n",
      "   - exp_id ----------------------- 4939d7d1-c2a5-4bb9-9de8-3194a3ce199b   # This is ID is generated by Qurry which is different from 'job_id' for pending.\n",
      "   - target_keys ------------------ ['TrivialParamagnet']\n",
      "   - shots ------------------------ 1024\n",
      "   - backend ---------------------- <qiskit.providers.basic_provider.basic_simulator.BasicSimulator object at 0x75f0be133410>\n",
      "   - run_args --------------------- {}\n",
      "   - transpile_args --------------- {}\n",
      "   - tags ------------------------- ()\n",
      "   - default_analysis ------------- []\n",
      "   - save_location ---------------- .\n",
      "   - filename --------------------- \n",
      "   - files ------------------------ {}\n",
      "   - serial ----------------------- None\n",
      "   - summoner_id ------------------ None\n",
      "   - summoner_name ---------------- None\n",
      "   - datetimes -------------------- {'build': '2024-10-07 03:21:12', 'run.001': '2024-10-07 03:21:12'}\n",
      " - outfields -------------------- 0 ........  # Number of unused arguments.\n",
      " - beforewards\n",
      "   - target ----------------------- 1 ........  # Number of target\n",
      "   - target_qasm ------------------ 1 ........  # Number of target_qasm\n",
      "   - circuit ---------------------- 100 ......  # Number of circuit\n",
      "   - circuit_qasm ----------------- 100 ......  # Number of circuit_qasm\n",
      "   - fig_original ----------------- 0 ........  # Number of fig_original\n",
      "   - job_id ----------------------- 204a74c4-06e4-41db-b197-3d417b928abb\n",
      "   - exp_name --------------------- experiment.N_U_100.qurrent_randomized\n",
      "   - side_product ----------------- 2 ........  # Number of side_product\n",
      " - afterwards\n",
      "   - result ----------------------- 1 ........  # Number of result\n",
      "   - counts ----------------------- 100 ......  # Number of counts\n",
      " - reports ---------------------- 0 ........  # Number of analysis.\n",
      "\n"
     ]
    }
   ],
   "source": [
    "print(experiment_randomized.exps[exp1].statesheet())"
   ]
  },
  {
   "attachments": {},
   "cell_type": "markdown",
   "metadata": {},
   "source": [
    "- Then, there is a experiment completed, and we can calculate the Renyi Entropy by `analyze`.\n"
   ]
  },
  {
   "attachments": {},
   "cell_type": "markdown",
   "metadata": {},
   "source": [
    "---\n",
    "\n",
    "## 1.4 Post-Processing\n",
    "\n",
    "- To obtain the Renyi Entropy of the whole system and the subsystems. We use `exps[].analyze()` method to calculate and store a `Analysis` object in `Experiment`.\n",
    "- The `analyze` method requires the following input parameters:\n",
    "  - degree: The size or selected qubits of the subsystem. Please refer to the following chart for the selection.\n"
   ]
  },
  {
   "cell_type": "markdown",
   "metadata": {},
   "source": [
    "### Bit select hint\n",
    "\n",
    "A bit string mapping to the index of qubit is `'76543210'` for 8 qubits example here.\n",
    "\n",
    "| the input | bitStringRange | String Slice | Actual Qubit Included |\n",
    "| --------- | -------------- | ------------ | --------------------- |\n",
    "| `2`       | `(6, 8)`       | `'10'`       | 01                    |\n",
    "| `4`       | `(4, 8)`       | `'3210'`     | 0123                  |\n",
    "| `6`       | `(2, 8)`       | `'543210'`   | 012345                |\n",
    "| `(2, 4)`  | `(2, 4)`       | `'54'`       | 45                    |\n",
    "| `(4, 6)`  | `(4, 6)`       | `'32'`       | 23                    |\n",
    "| `(2, 6)`  | `(2, 6)`       | `'5432'`     | 2345                  |\n",
    "| `(-2, 2)` | `(-2, 2)`      | `'1076'`     | 6701                  |\n",
    "| `(-4, 2)` | `(-4, 2)`      | `'321076'`   | 670123                |\n",
    "| `(-2, 4)` | `(-2, 4)`      | `'107654'`   | 456701                |\n",
    "| `3`       | `(5, 8)`       | `'210'`      | 012                   |\n",
    "| `(5, 7)`  | `(5, 7)`       | `'21'`       | 12                    |\n",
    "| `(4, 7)`  | `(4, 7)`       | `'321'`      | 123                   |\n"
   ]
  },
  {
   "cell_type": "code",
   "execution_count": 14,
   "metadata": {},
   "outputs": [
    {
     "data": {
      "application/vnd.jupyter.widget-view+json": {
       "model_id": "0acba9c63be748d6bdcdb2f65be81fe6",
       "version_major": 2,
       "version_minor": 0
      },
      "text/plain": [
       "|  - 00:00 < ?"
      ]
     },
     "metadata": {},
     "output_type": "display_data"
    },
    {
     "data": {
      "application/vnd.jupyter.widget-view+json": {
       "model_id": "cdd1d252e8c14896bc7bc5b2b2fa62ef",
       "version_major": 2,
       "version_minor": 0
      },
      "text/plain": [
       "|  - 00:00 < ?"
      ]
     },
     "metadata": {},
     "output_type": "display_data"
    }
   ],
   "source": [
    "exp1_report1 = experiment_randomized.exps[exp1].analyze(degree=(3, 4))\n",
    "exp1_report2 = experiment_randomized.exps[exp1].analyze(degree=1)"
   ]
  },
  {
   "cell_type": "markdown",
   "metadata": {},
   "source": [
    "- The `analyze` will return the result of this analysis.\n"
   ]
  },
  {
   "cell_type": "code",
   "execution_count": 15,
   "metadata": {},
   "outputs": [
    {
     "data": {
      "text/plain": [
       "({'purity': np.float64(1.0110738563537598),\n",
       "  'entropy': np.float64(-0.015888386265190953),\n",
       "  'puritySD': np.float64(0.3859555994472044),\n",
       "  'entropySD': np.float64(0.5507176610557984),\n",
       "  'bitStringRange': [7, 8],\n",
       "  'allSystemSource': \"AnalysisHeader(serial=0, datetime='2024-10-07 03:21:15', summoner=None, log={})\",\n",
       "  'purityAllSys': np.float64(1.1983592414855957),\n",
       "  'entropyAllSys': np.float64(-0.26106046089646756),\n",
       "  'puritySDAllSys': np.float64(1.28021687418337),\n",
       "  'entropySDAllSys': np.float64(1.5412427857251338),\n",
       "  'bitsStringRangeAllSys': [3, 4],\n",
       "  'errorRate': np.float64(-0.09505119554474291),\n",
       "  'mitigatedPurity': np.float64(0.9262013471699836),\n",
       "  'mitigatedEntropy': np.float64(0.11060223942852317),\n",
       "  'num_qubits': 8,\n",
       "  'measure': ['measure range:', [0, 8]],\n",
       "  'measureActually': [0, 8],\n",
       "  'measureActuallyAllSys': [0, 8],\n",
       "  'countsNum': 100,\n",
       "  'takingTime': 0.000532519,\n",
       "  'takingTimeAllSys': 0,\n",
       "  'counts_used': None,\n",
       "  'input': {'degree': 1, 'shots': 1024, 'unitary_loc': [0, 8]},\n",
       "  'header': {'serial': 1,\n",
       "   'datetime': '2024-10-07 03:21:15',\n",
       "   'summoner': None,\n",
       "   'log': {}}},\n",
       " {'purityCells': {13: 0.5865688323974609,\n",
       "   39: 1.41552734375,\n",
       "   6: 0.5756740570068359,\n",
       "   26: 1.9941463470458984,\n",
       "   49: 0.6483211517333984,\n",
       "   38: 1.104391098022461,\n",
       "   62: 1.392782211303711,\n",
       "   66: 1.221120834350586,\n",
       "   34: 1.2009506225585938,\n",
       "   48: 0.5730648040771484,\n",
       "   63: 1.126913070678711,\n",
       "   77: 1.011556625366211,\n",
       "   85: 0.5394191741943359,\n",
       "   71: 1.41552734375,\n",
       "   86: 0.7948513031005859,\n",
       "   12: 1.0605831146240234,\n",
       "   29: 0.6105556488037109,\n",
       "   90: 1.2049617767333984,\n",
       "   94: 0.8957881927490234,\n",
       "   17: 0.5005722045898438,\n",
       "   40: 1.0047359466552734,\n",
       "   78: 1.2498397827148438,\n",
       "   97: 1.1537094116210938,\n",
       "   58: 1.0932846069335938,\n",
       "   74: 0.505859375,\n",
       "   24: 1.885101318359375,\n",
       "   76: 0.875,\n",
       "   44: 0.5851669311523438,\n",
       "   5: 0.5078334808349609,\n",
       "   55: 0.935882568359375,\n",
       "   46: 1.5286865234375,\n",
       "   16: 1.3132686614990234,\n",
       "   51: 1.1537094116210938,\n",
       "   52: 0.9518184661865234,\n",
       "   25: 0.6501693725585938,\n",
       "   31: 0.7109375,\n",
       "   43: 0.5105800628662109,\n",
       "   67: 0.5000514984130859,\n",
       "   69: 0.6595821380615234,\n",
       "   79: 1.471282958984375,\n",
       "   80: 0.5000228881835938,\n",
       "   81: 1.0570068359375,\n",
       "   14: 1.936239242553711,\n",
       "   21: 0.6653671264648438,\n",
       "   32: 0.6916255950927734,\n",
       "   57: 0.504486083984375,\n",
       "   4: 1.7266292572021484,\n",
       "   82: 1.291839599609375,\n",
       "   83: 1.0859375,\n",
       "   41: 0.587982177734375,\n",
       "   59: 0.5062313079833984,\n",
       "   47: 1.8128719329833984,\n",
       "   75: 0.5394191741943359,\n",
       "   64: 0.8927841186523438,\n",
       "   11: 1.4807357788085938,\n",
       "   0: 1.0822811126708984,\n",
       "   88: 0.6357040405273438,\n",
       "   45: 1.56787109375,\n",
       "   87: 1.8293685913085938,\n",
       "   19: 0.8026962280273438,\n",
       "   91: 1.5238399505615234,\n",
       "   33: 0.7131404876708984,\n",
       "   60: 1.4997787475585938,\n",
       "   70: 0.7043972015380859,\n",
       "   73: 0.9550399780273438,\n",
       "   95: 0.9140529632568359,\n",
       "   93: 0.9171371459960938,\n",
       "   18: 0.5070095062255859,\n",
       "   3: 1.02880859375,\n",
       "   84: 0.9422225952148438,\n",
       "   8: 0.9454097747802734,\n",
       "   68: 0.6089706420898438,\n",
       "   72: 0.7000942230224609,\n",
       "   89: 1.134511947631836,\n",
       "   10: 0.787109375,\n",
       "   96: 0.9202327728271484,\n",
       "   98: 0.7620468139648438,\n",
       "   50: 1.039297103881836,\n",
       "   30: 0.5463485717773438,\n",
       "   54: 0.8720760345458984,\n",
       "   56: 0.7065658569335938,\n",
       "   1: 1.4950008392333984,\n",
       "   28: 0.9550399780273438,\n",
       "   61: 1.253988265991211,\n",
       "   15: 0.7175807952880859,\n",
       "   99: 0.625335693359375,\n",
       "   36: 1.0641708374023438,\n",
       "   2: 1.5580062866210938,\n",
       "   65: 1.5286865234375,\n",
       "   23: 1.100677490234375,\n",
       "   53: 0.9582729339599609,\n",
       "   42: 0.8268489837646484,\n",
       "   92: 0.8691635131835938,\n",
       "   22: 1.490234375,\n",
       "   35: 1.039297103881836,\n",
       "   27: 0.7820053100585938,\n",
       "   9: 1.509368896484375,\n",
       "   37: 1.3003768920898438,\n",
       "   20: 1.6794052124023438,\n",
       "   7: 1.3089599609375},\n",
       "  'purityCellsAllSys': {37: 0.5177516937255859,\n",
       "   63: 1.7778034210205078,\n",
       "   94: 1.2722091674804688,\n",
       "   11: 0.6207656860351562,\n",
       "   4: 4.1224517822265625,\n",
       "   35: 1.3409538269042969,\n",
       "   38: 2.1868667602539062,\n",
       "   95: 0.5460414886474609,\n",
       "   3: 0.3195457458496094,\n",
       "   87: 0.5580520629882812,\n",
       "   33: 0.9394378662109375,\n",
       "   46: 0.9679050445556641,\n",
       "   8: 1.0331249237060547,\n",
       "   53: 0.3677196502685547,\n",
       "   48: 0.44800567626953125,\n",
       "   52: 2.4784507751464844,\n",
       "   14: 0.3972911834716797,\n",
       "   50: 1.8981952667236328,\n",
       "   98: 0.8684329986572266,\n",
       "   5: 1.0460052490234375,\n",
       "   36: 0.48950767517089844,\n",
       "   78: 0.36954498291015625,\n",
       "   77: 0.3354759216308594,\n",
       "   41: 0.39272499084472656,\n",
       "   32: 0.2443408966064453,\n",
       "   93: 0.6013908386230469,\n",
       "   24: 0.4820060729980469,\n",
       "   84: 1.0384864807128906,\n",
       "   85: 0.3747749328613281,\n",
       "   99: 0.19969749450683594,\n",
       "   31: 0.6694202423095703,\n",
       "   58: 1.5247573852539062,\n",
       "   13: 0.2408905029296875,\n",
       "   65: 3.5624923706054688,\n",
       "   55: 0.9465274810791016,\n",
       "   80: 5.133846282958984,\n",
       "   75: 0.3580665588378906,\n",
       "   59: 0.36101341247558594,\n",
       "   67: 0.2232208251953125,\n",
       "   15: 0.4376258850097656,\n",
       "   0: 1.0583763122558594,\n",
       "   25: 0.5360794067382812,\n",
       "   27: 0.3909912109375,\n",
       "   29: 0.8565940856933594,\n",
       "   39: 0.49741554260253906,\n",
       "   73: 0.24542236328125,\n",
       "   89: 0.4024467468261719,\n",
       "   96: 2.029642105102539,\n",
       "   83: 4.011432647705078,\n",
       "   70: 0.2762184143066406,\n",
       "   10: 1.5190868377685547,\n",
       "   16: 3.0739212036132812,\n",
       "   30: 1.0506401062011719,\n",
       "   43: 0.2324047088623047,\n",
       "   69: 2.27972412109375,\n",
       "   74: 0.4480857849121094,\n",
       "   79: 1.0431041717529297,\n",
       "   17: 0.7486133575439453,\n",
       "   97: 0.4382667541503906,\n",
       "   1: 0.6762180328369141,\n",
       "   26: 0.38595008850097656,\n",
       "   71: 4.58802604675293,\n",
       "   62: 0.5424652099609375,\n",
       "   20: 1.524911880493164,\n",
       "   61: 0.7050056457519531,\n",
       "   66: 1.163747787475586,\n",
       "   42: 0.37609100341796875,\n",
       "   18: 0.6615352630615234,\n",
       "   57: 1.1312294006347656,\n",
       "   72: 0.37268638610839844,\n",
       "   86: 0.6776027679443359,\n",
       "   51: 6.798343658447266,\n",
       "   40: 0.42708587646484375,\n",
       "   45: 3.48291015625,\n",
       "   19: 1.7469158172607422,\n",
       "   7: 1.6956863403320312,\n",
       "   49: 0.4858570098876953,\n",
       "   34: 0.8098335266113281,\n",
       "   68: 0.28144264221191406,\n",
       "   76: 0.3374614715576172,\n",
       "   81: 0.31893348693847656,\n",
       "   54: 0.8854846954345703,\n",
       "   2: 1.0339546203613281,\n",
       "   60: 2.2205238342285156,\n",
       "   90: 0.5546188354492188,\n",
       "   28: 0.3681201934814453,\n",
       "   64: 0.9427108764648438,\n",
       "   91: 1.8169364929199219,\n",
       "   56: 2.4169673919677734,\n",
       "   9: 0.37718963623046875,\n",
       "   21: 0.4083061218261719,\n",
       "   44: 1.1626262664794922,\n",
       "   47: 2.9639663696289062,\n",
       "   82: 0.4452247619628906,\n",
       "   12: 0.4670257568359375,\n",
       "   23: 0.9065933227539062,\n",
       "   22: 6.671588897705078,\n",
       "   88: 1.1424617767333984,\n",
       "   6: 1.82818603515625,\n",
       "   92: 1.2022113800048828}})"
      ]
     },
     "execution_count": 15,
     "metadata": {},
     "output_type": "execute_result"
    }
   ],
   "source": [
    "exp1_report2.export()"
   ]
  },
  {
   "cell_type": "code",
   "execution_count": 16,
   "metadata": {},
   "outputs": [
    {
     "name": "stdout",
     "output_type": "stream",
     "text": [
      "qurrentRandomized.Analysis with serial=0, AnalysisInput(degree=(3, 4), shots=1024, unitary_loc=(0, 8)), AnalysisContent(purity=0.8832622337341308, entropy=0.17908626840479677, and others), 0 unused arguments\n",
      "AnalysisHeader(serial=0, datetime='2024-10-07 03:21:15', summoner=None, log={})\n"
     ]
    }
   ],
   "source": [
    "print(exp1_report1)\n",
    "print(exp1_report1.header)"
   ]
  },
  {
   "cell_type": "markdown",
   "metadata": {},
   "source": [
    "- It can also be found in the attribute `.reports` of `Experiment` object.\n"
   ]
  },
  {
   "cell_type": "code",
   "execution_count": 17,
   "metadata": {},
   "outputs": [
    {
     "name": "stdout",
     "output_type": "stream",
     "text": [
      "AnalysisContainer(length=2, {0{...}, 1{...}})\n",
      "qurrentRandomized.Analysis with serial=0, AnalysisInput(degree=(3, 4), shots=1024, unitary_loc=(0, 8)), AnalysisContent(purity=0.8832622337341308, entropy=0.17908626840479677, and others), 0 unused arguments\n",
      "AnalysisHeader(serial=0, datetime='2024-10-07 03:21:15', summoner=None, log={})\n"
     ]
    }
   ],
   "source": [
    "print(experiment_randomized.exps[exp1].reports)\n",
    "print(experiment_randomized.exps[exp1].reports[0])\n",
    "print(experiment_randomized.exps[exp1].reports[0].header)"
   ]
  },
  {
   "cell_type": "markdown",
   "metadata": {},
   "source": [
    "- We can use `.export()` to get the result of this analysis.\n"
   ]
  },
  {
   "cell_type": "code",
   "execution_count": 18,
   "metadata": {},
   "outputs": [],
   "source": [
    "main, side_prodct = experiment_randomized.exps[exp1].reports[0].export()"
   ]
  },
  {
   "attachments": {},
   "cell_type": "markdown",
   "metadata": {},
   "source": [
    "- And there is it\n"
   ]
  },
  {
   "cell_type": "code",
   "execution_count": 19,
   "metadata": {},
   "outputs": [
    {
     "data": {
      "text/plain": [
       "{'purity': np.float64(0.8832622337341308),\n",
       " 'entropy': np.float64(0.17908626840479677),\n",
       " 'puritySD': np.float64(0.34193682311747414),\n",
       " 'entropySD': np.float64(0.5585097382952265),\n",
       " 'bitStringRange': [3, 4],\n",
       " 'allSystemSource': 'independent',\n",
       " 'purityAllSys': np.float64(1.1983592414855957),\n",
       " 'entropyAllSys': np.float64(-0.26106046089646756),\n",
       " 'puritySDAllSys': np.float64(1.28021687418337),\n",
       " 'entropySDAllSys': np.float64(1.5412427857251338),\n",
       " 'bitsStringRangeAllSys': [0, 8],\n",
       " 'errorRate': np.float64(-0.09505119554474291),\n",
       " 'mitigatedPurity': np.float64(0.8196150190546956),\n",
       " 'mitigatedEntropy': np.float64(0.2869816735967681),\n",
       " 'num_qubits': 8,\n",
       " 'measure': ['measure range:', [0, 8]],\n",
       " 'measureActually': [0, 8],\n",
       " 'measureActuallyAllSys': [0, 8],\n",
       " 'countsNum': 100,\n",
       " 'takingTime': 0.000706787,\n",
       " 'takingTimeAllSys': 0.006651443,\n",
       " 'counts_used': None,\n",
       " 'input': {'degree': [3, 4], 'shots': 1024, 'unitary_loc': [0, 8]},\n",
       " 'header': {'serial': 0,\n",
       "  'datetime': '2024-10-07 03:21:15',\n",
       "  'summoner': None,\n",
       "  'log': {}}}"
      ]
     },
     "execution_count": 19,
     "metadata": {},
     "output_type": "execute_result"
    }
   ],
   "source": [
    "main"
   ]
  },
  {
   "attachments": {},
   "cell_type": "markdown",
   "metadata": {},
   "source": [
    "- Also, `sideProdct` will record the data of each circuit, and you can use it to do more analysis.\n"
   ]
  },
  {
   "cell_type": "code",
   "execution_count": 20,
   "metadata": {},
   "outputs": [
    {
     "data": {
      "text/plain": [
       "{'purityCells': {54: 0.5394191741943359,\n",
       "  94: 1.1537094116210938,\n",
       "  43: 0.504486083984375,\n",
       "  71: 0.7131404876708984,\n",
       "  79: 0.5280380249023438,\n",
       "  56: 1.2049617767333984,\n",
       "  82: 0.8106441497802734,\n",
       "  97: 0.7131404876708984,\n",
       "  8: 1.130706787109375,\n",
       "  32: 0.5148830413818359,\n",
       "  25: 0.653900146484375,\n",
       "  26: 0.533050537109375,\n",
       "  44: 0.9518184661865234,\n",
       "  10: 1.392782211303711,\n",
       "  6: 0.5078334808349609,\n",
       "  83: 0.6937255859375,\n",
       "  91: 0.5443115234375,\n",
       "  95: 1.4063949584960938,\n",
       "  12: 1.7856063842773438,\n",
       "  13: 0.6752376556396484,\n",
       "  81: 1.1383285522460938,\n",
       "  46: 1.067770004272461,\n",
       "  87: 0.511077880859375,\n",
       "  68: 0.5642929077148438,\n",
       "  73: 1.2833480834960938,\n",
       "  51: 0.5908432006835938,\n",
       "  30: 0.82958984375,\n",
       "  86: 0.6374721527099609,\n",
       "  76: 0.5018539428710938,\n",
       "  57: 0.6287460327148438,\n",
       "  4: 0.685394287109375,\n",
       "  5: 0.5549545288085938,\n",
       "  67: 0.8214015960693359,\n",
       "  80: 1.8570919036865234,\n",
       "  53: 0.8026962280273438,\n",
       "  70: 0.738128662109375,\n",
       "  20: 1.3132686614990234,\n",
       "  1: 1.0896053314208984,\n",
       "  49: 0.5025234222412109,\n",
       "  3: 1.104391098022461,\n",
       "  52: 0.5051498413085938,\n",
       "  88: 1.3393611907958984,\n",
       "  40: 0.9779109954833984,\n",
       "  14: 1.429311752319336,\n",
       "  50: 1.046346664428711,\n",
       "  29: 0.5027694702148438,\n",
       "  34: 0.7794704437255859,\n",
       "  11: 0.7719345092773438,\n",
       "  38: 0.5692367553710938,\n",
       "  48: 0.7645015716552734,\n",
       "  0: 1.2665023803710938,\n",
       "  35: 1.157583236694336,\n",
       "  59: 0.6958370208740234,\n",
       "  21: 0.507415771484375,\n",
       "  69: 1.3792724609375,\n",
       "  22: 0.7744350433349609,\n",
       "  74: 0.5433101654052734,\n",
       "  28: 0.540374755859375,\n",
       "  37: 0.8547725677490234,\n",
       "  65: 1.7801876068115234,\n",
       "  85: 0.557220458984375,\n",
       "  89: 1.2833480834960938,\n",
       "  62: 0.685394287109375,\n",
       "  27: 0.5115871429443359,\n",
       "  90: 0.7620468139648438,\n",
       "  61: 1.0081405639648438,\n",
       "  23: 1.5580062866210938,\n",
       "  93: 0.8988037109375,\n",
       "  2: 1.1771240234375,\n",
       "  41: 1.075002670288086,\n",
       "  72: 1.262319564819336,\n",
       "  39: 0.599700927734375,\n",
       "  96: 1.225189208984375,\n",
       "  16: 1.0047359466552734,\n",
       "  84: 0.6428451538085938,\n",
       "  47: 1.3349838256835938,\n",
       "  66: 0.7694454193115234,\n",
       "  78: 0.7109375,\n",
       "  99: 0.5051498413085938,\n",
       "  36: 0.6916255950927734,\n",
       "  77: 0.502288818359375,\n",
       "  33: 1.100677490234375,\n",
       "  7: 1.0218734741210938,\n",
       "  60: 0.9945907592773438,\n",
       "  19: 1.27490234375,\n",
       "  17: 0.5012874603271484,\n",
       "  42: 0.515472412109375,\n",
       "  18: 1.1850204467773438,\n",
       "  92: 0.7845516204833984,\n",
       "  98: 0.515472412109375,\n",
       "  9: 0.5823974609375,\n",
       "  24: 0.7109375,\n",
       "  75: 1.2415771484375,\n",
       "  58: 0.6979598999023438,\n",
       "  55: 0.5096187591552734,\n",
       "  63: 1.6178817749023438,\n",
       "  45: 1.225189208984375,\n",
       "  64: 1.1118526458740234,\n",
       "  31: 0.7451839447021484,\n",
       "  15: 0.8576278686523438},\n",
       " 'purityCellsAllSys': {37: 0.5177516937255859,\n",
       "  63: 1.7778034210205078,\n",
       "  94: 1.2722091674804688,\n",
       "  11: 0.6207656860351562,\n",
       "  4: 4.1224517822265625,\n",
       "  35: 1.3409538269042969,\n",
       "  38: 2.1868667602539062,\n",
       "  95: 0.5460414886474609,\n",
       "  3: 0.3195457458496094,\n",
       "  87: 0.5580520629882812,\n",
       "  33: 0.9394378662109375,\n",
       "  46: 0.9679050445556641,\n",
       "  8: 1.0331249237060547,\n",
       "  53: 0.3677196502685547,\n",
       "  48: 0.44800567626953125,\n",
       "  52: 2.4784507751464844,\n",
       "  14: 0.3972911834716797,\n",
       "  50: 1.8981952667236328,\n",
       "  98: 0.8684329986572266,\n",
       "  5: 1.0460052490234375,\n",
       "  36: 0.48950767517089844,\n",
       "  78: 0.36954498291015625,\n",
       "  77: 0.3354759216308594,\n",
       "  41: 0.39272499084472656,\n",
       "  32: 0.2443408966064453,\n",
       "  93: 0.6013908386230469,\n",
       "  24: 0.4820060729980469,\n",
       "  84: 1.0384864807128906,\n",
       "  85: 0.3747749328613281,\n",
       "  99: 0.19969749450683594,\n",
       "  31: 0.6694202423095703,\n",
       "  58: 1.5247573852539062,\n",
       "  13: 0.2408905029296875,\n",
       "  65: 3.5624923706054688,\n",
       "  55: 0.9465274810791016,\n",
       "  80: 5.133846282958984,\n",
       "  75: 0.3580665588378906,\n",
       "  59: 0.36101341247558594,\n",
       "  67: 0.2232208251953125,\n",
       "  15: 0.4376258850097656,\n",
       "  0: 1.0583763122558594,\n",
       "  25: 0.5360794067382812,\n",
       "  27: 0.3909912109375,\n",
       "  29: 0.8565940856933594,\n",
       "  39: 0.49741554260253906,\n",
       "  73: 0.24542236328125,\n",
       "  89: 0.4024467468261719,\n",
       "  96: 2.029642105102539,\n",
       "  83: 4.011432647705078,\n",
       "  70: 0.2762184143066406,\n",
       "  10: 1.5190868377685547,\n",
       "  16: 3.0739212036132812,\n",
       "  30: 1.0506401062011719,\n",
       "  43: 0.2324047088623047,\n",
       "  69: 2.27972412109375,\n",
       "  74: 0.4480857849121094,\n",
       "  79: 1.0431041717529297,\n",
       "  17: 0.7486133575439453,\n",
       "  97: 0.4382667541503906,\n",
       "  1: 0.6762180328369141,\n",
       "  26: 0.38595008850097656,\n",
       "  71: 4.58802604675293,\n",
       "  62: 0.5424652099609375,\n",
       "  20: 1.524911880493164,\n",
       "  61: 0.7050056457519531,\n",
       "  66: 1.163747787475586,\n",
       "  42: 0.37609100341796875,\n",
       "  18: 0.6615352630615234,\n",
       "  57: 1.1312294006347656,\n",
       "  72: 0.37268638610839844,\n",
       "  86: 0.6776027679443359,\n",
       "  51: 6.798343658447266,\n",
       "  40: 0.42708587646484375,\n",
       "  45: 3.48291015625,\n",
       "  19: 1.7469158172607422,\n",
       "  7: 1.6956863403320312,\n",
       "  49: 0.4858570098876953,\n",
       "  34: 0.8098335266113281,\n",
       "  68: 0.28144264221191406,\n",
       "  76: 0.3374614715576172,\n",
       "  81: 0.31893348693847656,\n",
       "  54: 0.8854846954345703,\n",
       "  2: 1.0339546203613281,\n",
       "  60: 2.2205238342285156,\n",
       "  90: 0.5546188354492188,\n",
       "  28: 0.3681201934814453,\n",
       "  64: 0.9427108764648438,\n",
       "  91: 1.8169364929199219,\n",
       "  56: 2.4169673919677734,\n",
       "  9: 0.37718963623046875,\n",
       "  21: 0.4083061218261719,\n",
       "  44: 1.1626262664794922,\n",
       "  47: 2.9639663696289062,\n",
       "  82: 0.4452247619628906,\n",
       "  12: 0.4670257568359375,\n",
       "  23: 0.9065933227539062,\n",
       "  22: 6.671588897705078,\n",
       "  88: 1.1424617767333984,\n",
       "  6: 1.82818603515625,\n",
       "  92: 1.2022113800048828}}"
      ]
     },
     "execution_count": 20,
     "metadata": {},
     "output_type": "execute_result"
    }
   ],
   "source": [
    "side_prodct"
   ]
  },
  {
   "cell_type": "code",
   "execution_count": 21,
   "metadata": {},
   "outputs": [
    {
     "data": {
      "text/plain": [
       " # qurrentRandomized.Analysis with serial=0\n",
       " - header\n",
       "   - serial ----------------------- 0\n",
       "   - datetime --------------------- 2024-10-07 03:21:15\n",
       "   - summoner --------------------- None\n",
       "   - log -------------------------- {}\n",
       " - input\n",
       "   - degree ----------------------- (3, 4)\n",
       "   - shots ------------------------ 1024\n",
       "   - unitary_loc ------------------ (0, 8)\n",
       " - outfields -------------------- 0 ........  # Number of unused arguments.\n",
       " - content\n",
       "   - purity ----------------------- 0.8832622337341308\n",
       "   - entropy ---------------------- 0.17908626840479677\n",
       "   - puritySD --------------------- 0.34193682311747414\n",
       "   - entropySD -------------------- 0.5585097382952265\n",
       "   - purityCells ------------------ {54: 0.5394191741943359, 94: 1.1537094116210938, 43: 0.504486083984375, 71: 0.7131404876708984, 79: 0.5280380249023438, 56: 1.2049617767333984, 82: 0.8106441497802734, 97: 0.7131404876708984, 8: 1.130706787109375, 32: 0.5148830413818359, 25: 0.653900146484375, 26: 0.533050537109375, 44: 0.9518184661865234, 10: 1.392782211303711, 6: 0.5078334808349609, 83: 0.6937255859375, 91: 0.5443115234375, 95: 1.4063949584960938, 12: 1.7856063842773438, 13: 0.6752376556396484, 81: 1.1383285522460938, 46: 1.067770004272461, 87: 0.511077880859375, 68: 0.5642929077148438, 73: 1.2833480834960938, 51: 0.5908432006835938, 30: 0.82958984375, 86: 0.6374721527099609, 76: 0.5018539428710938, 57: 0.6287460327148438, 4: 0.685394287109375, 5: 0.5549545288085938, 67: 0.8214015960693359, 80: 1.8570919036865234, 53: 0.8026962280273438, 70: 0.738128662109375, 20: 1.3132686614990234, 1: 1.0896053314208984, 49: 0.5025234222412109, 3: 1.104391098022461, 52: 0.5051498413085938, 88: 1.3393611907958984, 40: 0.9779109954833984, 14: 1.429311752319336, 50: 1.046346664428711, 29: 0.5027694702148438, 34: 0.7794704437255859, 11: 0.7719345092773438, 38: 0.5692367553710938, 48: 0.7645015716552734, 0: 1.2665023803710938, 35: 1.157583236694336, 59: 0.6958370208740234, 21: 0.507415771484375, 69: 1.3792724609375, 22: 0.7744350433349609, 74: 0.5433101654052734, 28: 0.540374755859375, 37: 0.8547725677490234, 65: 1.7801876068115234, 85: 0.557220458984375, 89: 1.2833480834960938, 62: 0.685394287109375, 27: 0.5115871429443359, 90: 0.7620468139648438, 61: 1.0081405639648438, 23: 1.5580062866210938, 93: 0.8988037109375, 2: 1.1771240234375, 41: 1.075002670288086, 72: 1.262319564819336, 39: 0.599700927734375, 96: 1.225189208984375, 16: 1.0047359466552734, 84: 0.6428451538085938, 47: 1.3349838256835938, 66: 0.7694454193115234, 78: 0.7109375, 99: 0.5051498413085938, 36: 0.6916255950927734, 77: 0.502288818359375, 33: 1.100677490234375, 7: 1.0218734741210938, 60: 0.9945907592773438, 19: 1.27490234375, 17: 0.5012874603271484, 4...\n",
       "   - bitStringRange --------------- (3, 4)\n",
       "   - allSystemSource -------------- independent\n",
       "   - purityAllSys ----------------- 1.1983592414855957\n",
       "   - entropyAllSys ---------------- -0.26106046089646756\n",
       "   - puritySDAllSys --------------- 1.28021687418337\n",
       "   - entropySDAllSys -------------- 1.5412427857251338\n",
       "   - purityCellsAllSys ------------ {37: 0.5177516937255859, 63: 1.7778034210205078, 94: 1.2722091674804688, 11: 0.6207656860351562, 4: 4.1224517822265625, 35: 1.3409538269042969, 38: 2.1868667602539062, 95: 0.5460414886474609, 3: 0.3195457458496094, 87: 0.5580520629882812, 33: 0.9394378662109375, 46: 0.9679050445556641, 8: 1.0331249237060547, 53: 0.3677196502685547, 48: 0.44800567626953125, 52: 2.4784507751464844, 14: 0.3972911834716797, 50: 1.8981952667236328, 98: 0.8684329986572266, 5: 1.0460052490234375, 36: 0.48950767517089844, 78: 0.36954498291015625, 77: 0.3354759216308594, 41: 0.39272499084472656, 32: 0.2443408966064453, 93: 0.6013908386230469, 24: 0.4820060729980469, 84: 1.0384864807128906, 85: 0.3747749328613281, 99: 0.19969749450683594, 31: 0.6694202423095703, 58: 1.5247573852539062, 13: 0.2408905029296875, 65: 3.5624923706054688, 55: 0.9465274810791016, 80: 5.133846282958984, 75: 0.3580665588378906, 59: 0.36101341247558594, 67: 0.2232208251953125, 15: 0.4376258850097656, 0: 1.0583763122558594, 25: 0.5360794067382812, 27: 0.3909912109375, 29: 0.8565940856933594, 39: 0.49741554260253906, 73: 0.24542236328125, 89: 0.4024467468261719, 96: 2.029642105102539, 83: 4.011432647705078, 70: 0.2762184143066406, 10: 1.5190868377685547, 16: 3.0739212036132812, 30: 1.0506401062011719, 43: 0.2324047088623047, 69: 2.27972412109375, 74: 0.4480857849121094, 79: 1.0431041717529297, 17: 0.7486133575439453, 97: 0.4382667541503906, 1: 0.6762180328369141, 26: 0.38595008850097656, 71: 4.58802604675293, 62: 0.5424652099609375, 20: 1.524911880493164, 61: 0.7050056457519531, 66: 1.163747787475586, 42: 0.37609100341796875, 18: 0.6615352630615234, 57: 1.1312294006347656, 72: 0.37268638610839844, 86: 0.6776027679443359, 51: 6.798343658447266, 40: 0.42708587646484375, 45: 3.48291015625, 19: 1.7469158172607422, 7: 1.6956863403320312, 49: 0.4858570098876953, 34: 0.8098335266113281, 68: 0.28144264221191406, 76: 0.3374614715576172, 81: 0.31893348693847656, 54: 0.8854846954345703, 2: 1.0339546203613281, 60: 2.2205238342285156...\n",
       "   - bitsStringRangeAllSys -------- (0, 8)\n",
       "   - errorRate -------------------- -0.09505119554474291\n",
       "   - mitigatedPurity -------------- 0.8196150190546956\n",
       "   - mitigatedEntropy ------------- 0.2869816735967681\n",
       "   - num_qubits ------------------- 8\n",
       "   - measure ---------------------- ('measure range:', (0, 8))\n",
       "   - measureActually -------------- (0, 8)\n",
       "   - measureActuallyAllSys -------- (0, 8)\n",
       "   - countsNum -------------------- 100\n",
       "   - takingTime ------------------- 0.000706787\n",
       "   - takingTimeAllSys ------------- 0.006651443\n",
       "   - counts_used ------------------ None\n",
       "by <QurryAnalysisSheet>"
      ]
     },
     "execution_count": 21,
     "metadata": {},
     "output_type": "execute_result"
    }
   ],
   "source": [
    "experiment_randomized.exps[exp1].reports[0].statesheet()"
   ]
  },
  {
   "cell_type": "markdown",
   "metadata": {},
   "source": [
    "---\n",
    "\n",
    "## Post-Process Availablities and Version Info\n",
    "\n",
    "We currently do not support Qsikit 1.0 for we are working on it, and we will support it in the future.\n"
   ]
  },
  {
   "cell_type": "code",
   "execution_count": 22,
   "metadata": {},
   "outputs": [
    {
     "name": "stdout",
     "output_type": "stream",
     "text": [
      " | Qurry version: 0.9.1.dev1\n",
      "--------------------------------------------------------\n",
      " ### Qurry Post-Processing\n",
      "   - Backend Availability ......... Python Cython Rust  \n",
      " - randomized_measure\n",
      "   - entangled_core ............... True   True   True  \n",
      "   - purity_cell .................. True   True   True  \n",
      "   - wavefunction_overlap ......... True   True   True  \n",
      "   - echo_cell .................... True   True   True  \n",
      " - utils\n",
      "   - randomized ................... True   True   True  \n",
      "   - construct .................... True   None   True  \n",
      "   - dummy ........................ True   None   True  \n",
      " - hadamard_test\n",
      "   - purity_echo_core ............. True   None   True  \n",
      " - magnet_square\n",
      "   - magnsq_core .................. True   None   None  \n",
      "--------------------------------------------------------\n",
      "   + True ..... Working normally.\n",
      "   + False .... Exception occurred.\n",
      "   + None ..... Not supported.\n",
      "--------------------------------------------------------\n",
      "\n"
     ]
    }
   ],
   "source": [
    "from qurry.process import AVAIBILITY_STATESHEET\n",
    "\n",
    "print(AVAIBILITY_STATESHEET)"
   ]
  },
  {
   "cell_type": "code",
   "execution_count": 23,
   "metadata": {},
   "outputs": [
    {
     "name": "stdout",
     "output_type": "stream",
     "text": [
      " | Qurry version: 0.9.1.dev1\n",
      "--------------------------------------------\n",
      " ### Qiskit version\n",
      " - main\n",
      "   - qiskit-aer .............. 0.15.0\n",
      "   - qiskit-aer-gpu .......... 0.14.2\n",
      "   - qiskit-ibm-provider ..... 0.11.0\n",
      "   - qiskit-ibm-runtime ...... 0.30.0\n",
      " - deprecated\n",
      " - into-community\n",
      "--------------------------------------------\n",
      " + qiskit-aer-gpu should have the same version as qiskit-aer.\n",
      "--------------------------------------------\n",
      "\n"
     ]
    }
   ],
   "source": [
    "from qurry.tools.qiskit_version import QISKIT_VERSION_STATESHEET\n",
    "\n",
    "print(QISKIT_VERSION_STATESHEET)"
   ]
  }
 ],
 "metadata": {
  "kernelspec": {
   "display_name": "quantumsphere12",
   "language": "python",
   "name": "python3"
  },
  "language_info": {
   "codemirror_mode": {
    "name": "ipython",
    "version": 3
   },
   "file_extension": ".py",
   "mimetype": "text/x-python",
   "name": "python",
   "nbconvert_exporter": "python",
   "pygments_lexer": "ipython3",
   "version": "3.12.2"
  }
 },
 "nbformat": 4,
 "nbformat_minor": 4
}
