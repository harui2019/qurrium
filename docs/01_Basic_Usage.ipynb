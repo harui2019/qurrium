{
 "cells": [
  {
   "attachments": {},
   "cell_type": "markdown",
   "metadata": {},
   "source": [
    "# 01 - Basic Usage of Qurry\n",
    "\n",
    "In Qurry, we use the instance of `Qurry` to store Quantum Circuit, experiment, build experiment, and excute them by local simulator or pending to the real quantum machine on `IBM`. In this chapter (or we say this jupyter file), we will introduce how to use Qurry to build a simple quantum circuit and measure their Renyi Entropy by local simulator.\n"
   ]
  },
  {
   "cell_type": "markdown",
   "metadata": {},
   "source": [
    "If you are using Colab, you can run the following command in terminal to install Qurry.\n",
    "\n",
    "```bash\n",
    "pip install -i https://test.pypi.org/simple/ qurry==0.6.10.dev3\n",
    "```"
   ]
  },
  {
   "attachments": {},
   "cell_type": "markdown",
   "metadata": {},
   "source": [
    "## 1.1 Setup Environment and Creat experiment executor"
   ]
  },
  {
   "cell_type": "code",
   "execution_count": 1,
   "metadata": {},
   "outputs": [],
   "source": [
    "from qurry import EntropyMeasure, BackendWrapper\n",
    "from qiskit import QuantumCircuit"
   ]
  },
  {
   "attachments": {},
   "cell_type": "markdown",
   "metadata": {},
   "source": [
    "- Before we start, we need to import the package of Qurry and other packages we need. \n",
    "\n",
    "- In Qurry, we provider a simple way to import backend called `BackendWrapper`, it will help us to import the backend we need, if your environment includes the GPU acceleration, `qiskit-aer-gpu`, it will be check the availability to access, if does, the GPU backend will also be available.\n",
    "\n",
    "- The following chapter, we will told you how to use `BackendWrapper` to import the real backend from your IBM account by `IBMProvider` or `AccountProvider`, and the more powerful class `backendManager` to import the real backend more easily.\n",
    "\n",
    "- In this example, we will use normal `aer_simulator` as our backend\n"
   ]
  },
  {
   "cell_type": "code",
   "execution_count": 2,
   "metadata": {},
   "outputs": [
    {
     "data": {
      "text/plain": [
       "AerSimulator('aer_simulator_gpu')"
      ]
     },
     "execution_count": 2,
     "metadata": {},
     "output_type": "execute_result"
    }
   ],
   "source": [
    "backend = BackendWrapper()\n",
    "backend('aer')"
   ]
  },
  {
   "cell_type": "code",
   "execution_count": 3,
   "metadata": {},
   "outputs": [
    {
     "name": "stdout",
     "output_type": "stream",
     "text": [
      "| Does we have GPU backend to access: True\n",
      "aer_simulator_gpu\n"
     ]
    }
   ],
   "source": [
    "print(\"| Does we have GPU backend to access:\", backend.is_aer_gpu)\n",
    "try:\n",
    "    # If you have GPU, you can use this backend.\n",
    "    print(backend('aer_gpu'))\n",
    "except:\n",
    "    pass"
   ]
  },
  {
   "attachments": {},
   "cell_type": "markdown",
   "metadata": {},
   "source": [
    "- Now, initialize our `EntropyMeasure`, we have two methods, `randomized` for Randomized Measure as default, and `hadamard` for Hadamard Test, these are our methods for measurement.\n",
    "\n",
    "- In following tutorial, we will use `randomized` as our measurement method."
   ]
  },
  {
   "cell_type": "code",
   "execution_count": 4,
   "metadata": {},
   "outputs": [
    {
     "name": "stdout",
     "output_type": "stream",
     "text": [
      "| The first method is which is `Hadamard Test`\".\n",
      "| The default method is which is `Randomized Measure` we will use.\n"
     ]
    }
   ],
   "source": [
    "experiment_execution_01 = EntropyMeasure(method='hadamard')\n",
    "print(f'| The first method is which is `Hadamard Test`\".')\n",
    "experiment_execution_02 = EntropyMeasure()\n",
    "print(f'| The default method is which is `Randomized Measure` we will use.')"
   ]
  },
  {
   "attachments": {},
   "cell_type": "markdown",
   "metadata": {},
   "source": [
    "---\n",
    "\n",
    "## 1.2 Load quantum circuit\n",
    "\n",
    "- We use `TrivialParamagnet` as our target to measure, and add it to our `Qurry` object, and import from `qurry.case` which there are some simple cases."
   ]
  },
  {
   "cell_type": "code",
   "execution_count": 5,
   "metadata": {},
   "outputs": [],
   "source": [
    "from qurry.recipe import TrivialParamagnet, GHZ"
   ]
  },
  {
   "cell_type": "code",
   "execution_count": 6,
   "metadata": {},
   "outputs": [
    {
     "name": "stdout",
     "output_type": "stream",
     "text": [
      "| trivial paramagnet in 8 qubits:\n",
      "     ┌───┐\n",
      "q_0: ┤ H ├\n",
      "     ├───┤\n",
      "q_1: ┤ H ├\n",
      "     ├───┤\n",
      "q_2: ┤ H ├\n",
      "     ├───┤\n",
      "q_3: ┤ H ├\n",
      "     ├───┤\n",
      "q_4: ┤ H ├\n",
      "     ├───┤\n",
      "q_5: ┤ H ├\n",
      "     ├───┤\n",
      "q_6: ┤ H ├\n",
      "     ├───┤\n",
      "q_7: ┤ H ├\n",
      "     └───┘\n",
      "| GHZ in 8 qubits:\n",
      "     ┌───┐                                   \n",
      "q_0: ┤ H ├──■────────────────────────────────\n",
      "     └───┘┌─┴─┐                              \n",
      "q_1: ─────┤ X ├──■───────────────────────────\n",
      "          └───┘┌─┴─┐                         \n",
      "q_2: ──────────┤ X ├──■──────────────────────\n",
      "               └───┘┌─┴─┐                    \n",
      "q_3: ───────────────┤ X ├──■─────────────────\n",
      "                    └───┘┌─┴─┐               \n",
      "q_4: ────────────────────┤ X ├──■────────────\n",
      "                         └───┘┌─┴─┐          \n",
      "q_5: ─────────────────────────┤ X ├──■───────\n",
      "                              └───┘┌─┴─┐     \n",
      "q_6: ──────────────────────────────┤ X ├──■──\n",
      "                                   └───┘┌─┴─┐\n",
      "q_7: ───────────────────────────────────┤ X ├\n",
      "                                        └───┘\n",
      "| Custom circuit:\n",
      "     ┌───┐\n",
      "q_0: ┤ X ├\n",
      "     └───┘\n",
      "q_1: ─────\n",
      "     ┌───┐\n",
      "q_2: ┤ X ├\n",
      "     └───┘\n",
      "q_3: ─────\n",
      "     ┌───┐\n",
      "q_4: ┤ X ├\n",
      "     └───┘\n",
      "q_5: ─────\n",
      "     ┌───┐\n",
      "q_6: ┤ X ├\n",
      "     └───┘\n",
      "q_7: ─────\n",
      "          \n"
     ]
    }
   ],
   "source": [
    "sample01 = TrivialParamagnet(8)\n",
    "print(\"| trivial paramagnet in 8 qubits:\")\n",
    "print(sample01)\n",
    "sample02 = GHZ(8)\n",
    "print(\"| GHZ in 8 qubits:\")\n",
    "print(sample02)\n",
    "sample03 = QuantumCircuit(8)\n",
    "sample03.x(range(0,8,2))\n",
    "print(\"| Custom circuit:\")\n",
    "print(sample03)"
   ]
  },
  {
   "cell_type": "markdown",
   "metadata": {},
   "source": [
    "- After we prepare three quantum circuits, we can add them to our `Qurry` object.\n",
    "The attribute `.waves` of `Qurry` object is a customized `dict`, we can check it by print it."
   ]
  },
  {
   "cell_type": "code",
   "execution_count": 7,
   "metadata": {},
   "outputs": [
    {
     "name": "stdout",
     "output_type": "stream",
     "text": [
      "<WaveContainer={\n",
      "    TrivialParamagnet: ...\n",
      "    GHZ: ...\n",
      "    2: ...\n",
      "} with 3 waves load, a customized dictionary>\n"
     ]
    }
   ],
   "source": [
    "experiment_execution_02.add(\n",
    "    wave=sample01,              # The circuit object\n",
    "    key='TrivialParamagnet',    # The name of the circuit\n",
    "    replace=False               # True for if you want to replace the circuit with the same name.\n",
    ")                               # Default is False, so if you add the same name when False, \n",
    "                                # it will be added with serial number.\n",
    "experiment_execution_02.add(sample02, 'GHZ')\n",
    "experiment_execution_02.add(sample03)\n",
    "print(experiment_execution_02.waves)"
   ]
  },
  {
   "attachments": {},
   "cell_type": "markdown",
   "metadata": {},
   "source": [
    "If you do not give the name of circuit, it will be named by series number.\n",
    "\n",
    "Now, waves are loading, time to excute."
   ]
  },
  {
   "attachments": {},
   "cell_type": "markdown",
   "metadata": {},
   "source": [
    "## 1.3 Excute Circuits"
   ]
  },
  {
   "cell_type": "markdown",
   "metadata": {},
   "source": [
    "- We can use `.measure()` to excute the specific circuit in `EntropyMeasure` object, and it will return hash id of this experiment and save a `Experiment` object in `EntropyMeasure`.\n",
    "- For `EntropyMeasure`, it will require the following parameters:\n",
    "  - wave: the name of circuit in `Qurry.waves` object\n",
    "  - times: the number of random measurement\n",
    "  - shots: the number of shots for each measurement. Default is 1024"
   ]
  },
  {
   "cell_type": "code",
   "execution_count": 8,
   "metadata": {},
   "outputs": [
    {
     "data": {
      "text/plain": [
       "'4b8087d4-3e7f-484c-b57a-b7ff0bfc415d'"
      ]
     },
     "execution_count": 8,
     "metadata": {},
     "output_type": "execute_result"
    }
   ],
   "source": [
    "exp1 = experiment_execution_02.measure(\n",
    "    wave='TrivialParamagnet',\n",
    "    times=100,\n",
    "    shots=1024,\n",
    ")\n",
    "exp1 "
   ]
  },
  {
   "cell_type": "markdown",
   "metadata": {},
   "source": [
    "- And we can check the attribute `.exps` of `EntropyMeasure` object, it will return the hash id of all experiments."
   ]
  },
  {
   "cell_type": "code",
   "execution_count": 9,
   "metadata": {},
   "outputs": [
    {
     "name": "stdout",
     "output_type": "stream",
     "text": [
      "<ExperimentContainer={\n",
      "    4b8087d4-3e7f-484c-b57a-b7ff0bfc415d: ...\n",
      "} with 1 experiments load, a customized dictionary>\n"
     ]
    }
   ],
   "source": [
    "print(experiment_execution_02.exps)"
   ]
  },
  {
   "cell_type": "markdown",
   "metadata": {},
   "source": [
    "- The following is the other informatiom you can access."
   ]
  },
  {
   "cell_type": "code",
   "execution_count": 10,
   "metadata": {},
   "outputs": [
    {
     "data": {
      "text/plain": [
       "<qurrentRandomized.Experiment with exp_id=4b8087d4-3e7f-484c-b57a-b7ff0bfc415d, Arguments(exp_name='w=TrivialParamagnet.with100random.qurrent_haar', times=100, measure=(0, 8), unitary_loc=(0, 8), workers_num=16), Commonparams(exp_id='4b8087d4-3e7f-484c-b57a-b7ff0bfc415d', wave_key='TrivialParamagnet', shots=1024, backend=GeneralAerSimulator('aer_simulator'), run_args={}, transpile_args={}, tags=(), default_analysis=[], save_location=PosixPath('.'), filename='', files={}, serial=None, summoner_id=None, summoner_name=None, datetimes={'build': '2024-01-13 05:35:18', 'run': '2024-01-13 05:35:18'}), 0 unused arguments, 6 preparing dates, 2 experiment result datasets, and 0 analysis>"
      ]
     },
     "execution_count": 10,
     "metadata": {},
     "output_type": "execute_result"
    }
   ],
   "source": [
    "experiment_execution_02.exps[exp1]"
   ]
  },
  {
   "cell_type": "code",
   "execution_count": 11,
   "metadata": {},
   "outputs": [
    {
     "name": "stdout",
     "output_type": "stream",
     "text": [
      " # qurrentRandomized.Experiment with exp_id=4b8087d4-3e7f-484c-b57a-b7ff0bfc415d\n",
      " - arguments\n",
      "   - exp_name ---------------- w=TrivialParamagnet.with100random.qurrent_haar\n",
      "   - times ------------------- 100\n",
      "   - measure ----------------- (0, 8)\n",
      "   - unitary_loc ------------- (0, 8)\n",
      "   - workers_num ------------- 16\n",
      " - commonparams\n",
      "   - exp_id ------------------ 4b8087d4-3e7f-484c-b57a-b7ff0bfc415d   # This is ID is generated by Qurry which is different from 'job_id' for pending.\n",
      "   - wave_key ---------------- TrivialParamagnet\n",
      "   - shots ------------------- 1024\n",
      "   - backend ----------------- aer_simulator\n",
      "   - run_args ---------------- {}\n",
      "   - transpile_args ---------- {}\n",
      "   - tags -------------------- ()\n",
      "   - default_analysis -------- []\n",
      "   - save_location ----------- .\n",
      "   - filename ---------------- \n",
      "   - files ------------------- {}\n",
      "   - serial ------------------ None\n",
      "   - summoner_id ------------- None\n",
      "   - summoner_name ----------- None\n",
      "   - datetimes --------------- {'build': '2024-01-13 05:35:18', 'run': '2024-01-13 05:35:18'}\n",
      " - outfields --------------- 0 ........  # Number of unused arguments.\n",
      " - beforewards\n",
      "   - circuit ----------------- 100 ......  # Number of circuit\n",
      "   - circuit_qasm ------------ 100 ......  # Number of circuit_qasm\n",
      "   - fig_original ------------ 0 ........  # Number of fig_original\n",
      "   - job_id ------------------ 0a95724b-c0e4-406d-a991-293c50b3e135\n",
      "   - exp_name ---------------- w=TrivialParamagnet.with100random.qurrent_haar\n",
      "   - side_product ------------ 2 ........  # Number of side_product\n",
      " - afterwards\n",
      "   - result ------------------ 1 ........  # Number of result\n",
      "   - counts ------------------ 100 ......  # Number of counts\n",
      " - reports ----------------- 0 ........  # Number of analysis.\n",
      "\n"
     ]
    }
   ],
   "source": [
    "print(experiment_execution_02.exps[exp1].statesheet())"
   ]
  },
  {
   "attachments": {},
   "cell_type": "markdown",
   "metadata": {},
   "source": [
    "- Then, there is a experiment completed, and we can calculate the Renyi Entropy by `analyze`."
   ]
  },
  {
   "attachments": {},
   "cell_type": "markdown",
   "metadata": {},
   "source": [
    "---\n",
    "\n",
    "## 1.4 Result\n",
    "\n",
    "- We want to know the Renyi Entropy of half system. Then we can use `.analyze()` to calculate it and it will store a `Analysis` object in `Experiment`.\n",
    "- The following is the parameter `analyze` of `EntropyMeasure` required.\n",
    "  - degree: The size or range of subsystem, if it is a number, it will be the size of subsystem, if it is a tuple, it will be the range of subsystem."
   ]
  },
  {
   "cell_type": "code",
   "execution_count": 12,
   "metadata": {},
   "outputs": [
    {
     "data": {
      "application/vnd.jupyter.widget-view+json": {
       "model_id": "d3fc6e25e8b74cbfaca2c39148989e8e",
       "version_major": 2,
       "version_minor": 0
      },
      "text/plain": [
       "|  - 00:00 < ?"
      ]
     },
     "metadata": {},
     "output_type": "display_data"
    },
    {
     "data": {
      "application/vnd.jupyter.widget-view+json": {
       "model_id": "0f47a67a0fd7440f979ac7184a4262e3",
       "version_major": 2,
       "version_minor": 0
      },
      "text/plain": [
       "|  - 00:00 < ?"
      ]
     },
     "metadata": {},
     "output_type": "display_data"
    }
   ],
   "source": [
    "exp1_report1 = experiment_execution_02.exps[exp1].analyze(\n",
    "    degree=(0, 4)\n",
    ")\n",
    "exp1_report2 = experiment_execution_02.exps[exp1].analyze(\n",
    "    degree=4\n",
    ")"
   ]
  },
  {
   "cell_type": "markdown",
   "metadata": {},
   "source": [
    "- The `analyze` will return the result of this analysis."
   ]
  },
  {
   "cell_type": "code",
   "execution_count": 13,
   "metadata": {},
   "outputs": [
    {
     "name": "stdout",
     "output_type": "stream",
     "text": [
      "<qurrentRandomized.Analysis with serial=0, AnalysisInput(degree=(0, 4), shots=1024, unitary_loc=(0, 8)), AnalysisContent(purity=1.0444787216186524, entropy=-0.06278310176074925, and others), 0 unused arguments>\n",
      "AnalysisHeader(serial=0, datetime='2024-01-13 05:35:19', summoner=None, log={})\n"
     ]
    }
   ],
   "source": [
    "print(exp1_report1)\n",
    "print(exp1_report1.header)"
   ]
  },
  {
   "cell_type": "markdown",
   "metadata": {},
   "source": [
    "- It can also be found in the attribute `.reports` of `Experiment` object."
   ]
  },
  {
   "cell_type": "code",
   "execution_count": 14,
   "metadata": {},
   "outputs": [
    {
     "name": "stdout",
     "output_type": "stream",
     "text": [
      "<AnalysisContainer={\n",
      "    0: ...\n",
      "    1: ...\n",
      "} with 2 analysis load, a customized dictionary>\n",
      "<qurrentRandomized.Analysis with serial=0, AnalysisInput(degree=(0, 4), shots=1024, unitary_loc=(0, 8)), AnalysisContent(purity=1.0444787216186524, entropy=-0.06278310176074925, and others), 0 unused arguments>\n",
      "AnalysisHeader(serial=0, datetime='2024-01-13 05:35:19', summoner=None, log={})\n"
     ]
    }
   ],
   "source": [
    "print(experiment_execution_02.exps[exp1].reports)\n",
    "print(experiment_execution_02.exps[exp1].reports[0])\n",
    "print(experiment_execution_02.exps[exp1].reports[0].header)"
   ]
  },
  {
   "cell_type": "markdown",
   "metadata": {},
   "source": [
    "- We can use `.export()` to get the result of this analysis."
   ]
  },
  {
   "cell_type": "code",
   "execution_count": 15,
   "metadata": {},
   "outputs": [],
   "source": [
    "main, side_prodct = experiment_execution_02.exps[exp1].reports[0].export()"
   ]
  },
  {
   "attachments": {},
   "cell_type": "markdown",
   "metadata": {},
   "source": [
    "- And there is it"
   ]
  },
  {
   "cell_type": "code",
   "execution_count": 16,
   "metadata": {},
   "outputs": [
    {
     "data": {
      "text/plain": [
       "{'purity': 1.0444787216186524,\n",
       " 'entropy': -0.06278310176074925,\n",
       " 'puritySD': 0.9302319076038817,\n",
       " 'entropySD': 1.2848906657447356,\n",
       " 'bitStringRange': [0, 4],\n",
       " 'allSystemSource': 'independent',\n",
       " 'purityAllSys': 1.3166787910461426,\n",
       " 'entropyAllSys': -0.39690343740524925,\n",
       " 'puritySDAllSys': 1.6631627386840024,\n",
       " 'entropySDAllSys': 1.822340157377556,\n",
       " 'bitsStringRangeAllSys': [0, 8],\n",
       " 'errorRate': -0.14800725984555,\n",
       " 'mitigatedPurity': 0.8075969887425068,\n",
       " 'mitigatedEntropy': 0.3082925635324282,\n",
       " 'num_qubits': 8,\n",
       " 'measure': ['measure range:', [0, 8]],\n",
       " 'measureActually': [0, 8],\n",
       " 'measureActuallyAllSys': [0, 8],\n",
       " 'countsNum': 100,\n",
       " 'takingTime': 0.000742268,\n",
       " 'takingTimeAllSys': 0.003371726,\n",
       " 'input': {'degree': [0, 4], 'shots': 1024, 'unitary_loc': [0, 8]},\n",
       " 'header': {'serial': 0,\n",
       "  'datetime': '2024-01-13 05:35:19',\n",
       "  'summoner': None,\n",
       "  'log': {}}}"
      ]
     },
     "execution_count": 16,
     "metadata": {},
     "output_type": "execute_result"
    }
   ],
   "source": [
    "main"
   ]
  },
  {
   "attachments": {},
   "cell_type": "markdown",
   "metadata": {},
   "source": [
    "- Also, `sideProdct` will record the data of each circuit, and you can use it to do more analysis."
   ]
  },
  {
   "cell_type": "code",
   "execution_count": 17,
   "metadata": {},
   "outputs": [
    {
     "data": {
      "text/plain": [
       "{'purityCells': {89: 2.6989498138427734,\n",
       "  18: 0.5346031188964844,\n",
       "  86: 0.3613567352294922,\n",
       "  94: 2.488922119140625,\n",
       "  96: 0.3631706237792969,\n",
       "  8: 1.3395576477050781,\n",
       "  83: 0.37652587890625,\n",
       "  43: 0.5356273651123047,\n",
       "  68: 6.351995468139648,\n",
       "  80: 1.224081039428711,\n",
       "  36: 1.673971176147461,\n",
       "  59: 0.4213752746582031,\n",
       "  22: 0.7196540832519531,\n",
       "  95: 1.2671852111816406,\n",
       "  65: 0.9156684875488281,\n",
       "  25: 0.788330078125,\n",
       "  37: 0.4486865997314453,\n",
       "  39: 1.197519302368164,\n",
       "  88: 1.0248336791992188,\n",
       "  26: 1.0326385498046875,\n",
       "  69: 1.6838417053222656,\n",
       "  79: 2.258237838745117,\n",
       "  30: 0.5025596618652344,\n",
       "  44: 0.3161640167236328,\n",
       "  49: 0.5880584716796875,\n",
       "  87: 0.8497734069824219,\n",
       "  52: 1.576416015625,\n",
       "  67: 2.1063919067382812,\n",
       "  14: 0.8012104034423828,\n",
       "  92: 0.6277523040771484,\n",
       "  74: 2.039976119995117,\n",
       "  72: 0.2652149200439453,\n",
       "  24: 0.7666149139404297,\n",
       "  55: 0.1875782012939453,\n",
       "  61: 0.8987998962402344,\n",
       "  99: 0.42880821228027344,\n",
       "  4: 0.4293060302734375,\n",
       "  47: 2.9651050567626953,\n",
       "  81: 0.39891624450683594,\n",
       "  5: 1.423654556274414,\n",
       "  10: 2.6257247924804688,\n",
       "  90: 1.3111763000488281,\n",
       "  54: 0.4019031524658203,\n",
       "  97: 0.3348979949951172,\n",
       "  48: 0.8467063903808594,\n",
       "  82: 0.2470531463623047,\n",
       "  2: 0.2870159149169922,\n",
       "  42: 0.8612232208251953,\n",
       "  0: 0.2908897399902344,\n",
       "  15: 0.619049072265625,\n",
       "  29: 0.4518623352050781,\n",
       "  13: 0.6695804595947266,\n",
       "  9: 2.9164676666259766,\n",
       "  70: 0.69732666015625,\n",
       "  60: 0.8943080902099609,\n",
       "  16: 0.207244873046875,\n",
       "  31: 1.7014541625976562,\n",
       "  57: 0.7332038879394531,\n",
       "  41: 2.367746353149414,\n",
       "  53: 0.25728416442871094,\n",
       "  28: 0.14266014099121094,\n",
       "  62: 0.6399803161621094,\n",
       "  23: 1.6623783111572266,\n",
       "  19: 0.8929176330566406,\n",
       "  50: 0.4900684356689453,\n",
       "  66: 0.8957729339599609,\n",
       "  71: 0.9265174865722656,\n",
       "  84: 0.43485069274902344,\n",
       "  20: 1.7607688903808594,\n",
       "  27: 1.7628345489501953,\n",
       "  45: 1.9679756164550781,\n",
       "  75: 4.072795867919922,\n",
       "  91: 0.21182823181152344,\n",
       "  35: 0.7021102905273438,\n",
       "  32: 1.082162857055664,\n",
       "  46: 1.1626777648925781,\n",
       "  7: 0.6560592651367188,\n",
       "  34: 0.6186141967773438,\n",
       "  17: 0.4777488708496094,\n",
       "  58: 2.958353042602539,\n",
       "  21: 0.3748493194580078,\n",
       "  73: 0.5275306701660156,\n",
       "  64: 1.5509071350097656,\n",
       "  78: 0.7034664154052734,\n",
       "  33: 0.39388084411621094,\n",
       "  77: 0.80352783203125,\n",
       "  98: 1.0113582611083984,\n",
       "  56: 0.4078483581542969,\n",
       "  38: 0.2570953369140625,\n",
       "  93: 2.199850082397461,\n",
       "  1: 0.441436767578125,\n",
       "  40: 0.38509178161621094,\n",
       "  51: 0.9095859527587891,\n",
       "  6: 0.13440322875976562,\n",
       "  63: 0.1343402862548828,\n",
       "  85: 0.9645233154296875,\n",
       "  3: 0.8448925018310547,\n",
       "  76: 0.95184326171875,\n",
       "  11: 1.0047836303710938,\n",
       "  12: 1.3264312744140625},\n",
       " 'purityCellsAllSys': {17: 0.9359416961669922,\n",
       "  37: 0.4697093963623047,\n",
       "  43: 0.22114944458007812,\n",
       "  48: 0.5281143188476562,\n",
       "  85: 1.3239021301269531,\n",
       "  32: 0.7696590423583984,\n",
       "  72: 0.5128879547119141,\n",
       "  65: 0.6298923492431641,\n",
       "  15: 0.619415283203125,\n",
       "  3: 2.3758544921875,\n",
       "  52: 3.148845672607422,\n",
       "  23: 2.462360382080078,\n",
       "  27: 0.6072502136230469,\n",
       "  41: 7.699440002441406,\n",
       "  42: 1.342681884765625,\n",
       "  1: 0.4733257293701172,\n",
       "  80: 0.9223117828369141,\n",
       "  49: 0.7744483947753906,\n",
       "  0: 0.6694831848144531,\n",
       "  16: 0.2839488983154297,\n",
       "  58: 1.0522422790527344,\n",
       "  95: 8.20505142211914,\n",
       "  8: 1.7285594940185547,\n",
       "  96: 0.4705047607421875,\n",
       "  92: 0.9287376403808594,\n",
       "  39: 1.714385986328125,\n",
       "  11: 1.834554672241211,\n",
       "  82: 0.3598747253417969,\n",
       "  98: 0.4710826873779297,\n",
       "  24: 0.37801361083984375,\n",
       "  83: 0.5899467468261719,\n",
       "  99: 0.4072532653808594,\n",
       "  4: 0.4381122589111328,\n",
       "  91: 0.6911239624023438,\n",
       "  28: 0.34606170654296875,\n",
       "  5: 0.6391563415527344,\n",
       "  34: 0.3646125793457031,\n",
       "  10: 7.890922546386719,\n",
       "  81: 0.5218658447265625,\n",
       "  94: 1.2324409484863281,\n",
       "  44: 0.4152069091796875,\n",
       "  38: 0.3435840606689453,\n",
       "  53: 0.41588783264160156,\n",
       "  71: 0.5386829376220703,\n",
       "  64: 0.9765396118164062,\n",
       "  30: 0.9658451080322266,\n",
       "  40: 0.4593925476074219,\n",
       "  87: 1.6107940673828125,\n",
       "  57: 1.0096931457519531,\n",
       "  89: 2.849393844604492,\n",
       "  2: 0.36956787109375,\n",
       "  84: 0.39186668395996094,\n",
       "  33: 0.6078281402587891,\n",
       "  19: 0.6835651397705078,\n",
       "  55: 0.3664207458496094,\n",
       "  78: 1.0610885620117188,\n",
       "  6: 0.21018600463867188,\n",
       "  54: 0.9448795318603516,\n",
       "  29: 0.3815784454345703,\n",
       "  67: 1.3547897338867188,\n",
       "  13: 0.2939796447753906,\n",
       "  51: 2.181241989135742,\n",
       "  46: 0.285247802734375,\n",
       "  25: 0.4668312072753906,\n",
       "  86: 0.7579116821289062,\n",
       "  9: 2.182952880859375,\n",
       "  90: 1.0183448791503906,\n",
       "  26: 0.3209247589111328,\n",
       "  14: 0.785400390625,\n",
       "  73: 0.7368659973144531,\n",
       "  62: 1.1964664459228516,\n",
       "  75: 7.595939636230469,\n",
       "  36: 0.5233879089355469,\n",
       "  45: 1.107809066772461,\n",
       "  56: 0.7168617248535156,\n",
       "  66: 1.4732532501220703,\n",
       "  74: 0.5088710784912109,\n",
       "  79: 1.9209518432617188,\n",
       "  35: 1.942026138305664,\n",
       "  20: 2.3544483184814453,\n",
       "  59: 0.8139591217041016,\n",
       "  61: 0.9692497253417969,\n",
       "  69: 5.029533386230469,\n",
       "  12: 0.7851600646972656,\n",
       "  22: 0.6030960083007812,\n",
       "  60: 1.2026004791259766,\n",
       "  76: 2.337299346923828,\n",
       "  63: 0.21860313415527344,\n",
       "  93: 1.5563545227050781,\n",
       "  97: 1.0278778076171875,\n",
       "  7: 0.3469371795654297,\n",
       "  47: 1.1968040466308594,\n",
       "  31: 7.278984069824219,\n",
       "  70: 0.3782367706298828,\n",
       "  50: 0.3291301727294922,\n",
       "  18: 0.7053146362304688,\n",
       "  68: 3.001657485961914,\n",
       "  77: 0.4047870635986328,\n",
       "  88: 1.5108413696289062,\n",
       "  21: 0.6098194122314453}}"
      ]
     },
     "execution_count": 17,
     "metadata": {},
     "output_type": "execute_result"
    }
   ],
   "source": [
    "side_prodct"
   ]
  },
  {
   "cell_type": "code",
   "execution_count": 18,
   "metadata": {},
   "outputs": [
    {
     "data": {
      "text/plain": [
       " # qurrentRandomized.Analysis with serial=0\n",
       " - header\n",
       "   - serial ----------------------- 0\n",
       "   - datetime --------------------- 2024-01-13 05:35:19\n",
       "   - summoner --------------------- None\n",
       "   - log -------------------------- {}\n",
       " - input\n",
       "   - degree ----------------------- (0, 4)\n",
       "   - shots ------------------------ 1024\n",
       "   - unitary_loc ------------------ (0, 8)\n",
       " - outfields -------------------- 0 ........  # Number of unused arguments.\n",
       " - content\n",
       "   - purity ----------------------- 1.0444787216186524\n",
       "   - entropy ---------------------- -0.06278310176074925\n",
       "   - puritySD --------------------- 0.9302319076038817\n",
       "   - entropySD -------------------- 1.2848906657447356\n",
       "   - purityCells ------------------ {89: 2.6989498138427734, 18: 0.5346031188964844, 86: 0.3613567352294922, 94: 2.488922119140625, 96: 0.3631706237792969, 8: 1.3395576477050781, 83: 0.37652587890625, 43: 0.5356273651123047, 68: 6.351995468139648, 80: 1.224081039428711, 36: 1.673971176147461, 59: 0.4213752746582031, 22: 0.7196540832519531, 95: 1.2671852111816406, 65: 0.9156684875488281, 25: 0.788330078125, 37: 0.4486865997314453, 39: 1.197519302368164, 88: 1.0248336791992188, 26: 1.0326385498046875, 69: 1.6838417053222656, 79: 2.258237838745117, 30: 0.5025596618652344, 44: 0.3161640167236328, 49: 0.5880584716796875, 87: 0.8497734069824219, 52: 1.576416015625, 67: 2.1063919067382812, 14: 0.8012104034423828, 92: 0.6277523040771484, 74: 2.039976119995117, 72: 0.2652149200439453, 24: 0.7666149139404297, 55: 0.1875782012939453, 61: 0.8987998962402344, 99: 0.42880821228027344, 4: 0.4293060302734375, 47: 2.9651050567626953, 81: 0.39891624450683594, 5: 1.423654556274414, 10: 2.6257247924804688, 90: 1.3111763000488281, 54: 0.4019031524658203, 97: 0.3348979949951172, 48: 0.8467063903808594, 82: 0.2470531463623047, 2: 0.2870159149169922, 42: 0.8612232208251953, 0: 0.2908897399902344, 15: 0.619049072265625, 29: 0.4518623352050781, 13: 0.6695804595947266, 9: 2.9164676666259766, 70: 0.69732666015625, 60: 0.8943080902099609, 16: 0.207244873046875, 31: 1.7014541625976562, 57: 0.7332038879394531, 41: 2.367746353149414, 53: 0.25728416442871094, 28: 0.14266014099121094, 62: 0.6399803161621094, 23: 1.6623783111572266, 19: 0.8929176330566406, 50: 0.4900684356689453, 66: 0.8957729339599609, 71: 0.9265174865722656, 84: 0.43485069274902344, 20: 1.7607688903808594, 27: 1.7628345489501953, 45: 1.9679756164550781, 75: 4.072795867919922, 91: 0.21182823181152344, 35: 0.7021102905273438, 32: 1.082162857055664, 46: 1.1626777648925781, 7: 0.6560592651367188, 34: 0.6186141967773438, 17: 0.4777488708496094, 58: 2.958353042602539, 21: 0.3748493194580078, 73: 0.5275306701660156, 64: 1.5509071350097656, 78: 0.7034664154052734, 33: 0.3938...\n",
       "   - bitStringRange --------------- (0, 4)\n",
       "   - allSystemSource -------------- independent\n",
       "   - purityAllSys ----------------- 1.3166787910461426\n",
       "   - entropyAllSys ---------------- -0.39690343740524925\n",
       "   - puritySDAllSys --------------- 1.6631627386840024\n",
       "   - entropySDAllSys -------------- 1.822340157377556\n",
       "   - purityCellsAllSys ------------ {17: 0.9359416961669922, 37: 0.4697093963623047, 43: 0.22114944458007812, 48: 0.5281143188476562, 85: 1.3239021301269531, 32: 0.7696590423583984, 72: 0.5128879547119141, 65: 0.6298923492431641, 15: 0.619415283203125, 3: 2.3758544921875, 52: 3.148845672607422, 23: 2.462360382080078, 27: 0.6072502136230469, 41: 7.699440002441406, 42: 1.342681884765625, 1: 0.4733257293701172, 80: 0.9223117828369141, 49: 0.7744483947753906, 0: 0.6694831848144531, 16: 0.2839488983154297, 58: 1.0522422790527344, 95: 8.20505142211914, 8: 1.7285594940185547, 96: 0.4705047607421875, 92: 0.9287376403808594, 39: 1.714385986328125, 11: 1.834554672241211, 82: 0.3598747253417969, 98: 0.4710826873779297, 24: 0.37801361083984375, 83: 0.5899467468261719, 99: 0.4072532653808594, 4: 0.4381122589111328, 91: 0.6911239624023438, 28: 0.34606170654296875, 5: 0.6391563415527344, 34: 0.3646125793457031, 10: 7.890922546386719, 81: 0.5218658447265625, 94: 1.2324409484863281, 44: 0.4152069091796875, 38: 0.3435840606689453, 53: 0.41588783264160156, 71: 0.5386829376220703, 64: 0.9765396118164062, 30: 0.9658451080322266, 40: 0.4593925476074219, 87: 1.6107940673828125, 57: 1.0096931457519531, 89: 2.849393844604492, 2: 0.36956787109375, 84: 0.39186668395996094, 33: 0.6078281402587891, 19: 0.6835651397705078, 55: 0.3664207458496094, 78: 1.0610885620117188, 6: 0.21018600463867188, 54: 0.9448795318603516, 29: 0.3815784454345703, 67: 1.3547897338867188, 13: 0.2939796447753906, 51: 2.181241989135742, 46: 0.285247802734375, 25: 0.4668312072753906, 86: 0.7579116821289062, 9: 2.182952880859375, 90: 1.0183448791503906, 26: 0.3209247589111328, 14: 0.785400390625, 73: 0.7368659973144531, 62: 1.1964664459228516, 75: 7.595939636230469, 36: 0.5233879089355469, 45: 1.107809066772461, 56: 0.7168617248535156, 66: 1.4732532501220703, 74: 0.5088710784912109, 79: 1.9209518432617188, 35: 1.942026138305664, 20: 2.3544483184814453, 59: 0.8139591217041016, 61: 0.9692497253417969, 69: 5.029533386230469, 12: 0.7851600646972656, 22: 0.6030960...\n",
       "   - bitsStringRangeAllSys -------- (0, 8)\n",
       "   - errorRate -------------------- -0.14800725984555\n",
       "   - mitigatedPurity -------------- 0.8075969887425068\n",
       "   - mitigatedEntropy ------------- 0.3082925635324282\n",
       "   - num_qubits ------------------- 8\n",
       "   - measure ---------------------- ('measure range:', (0, 8))\n",
       "   - measureActually -------------- (0, 8)\n",
       "   - measureActuallyAllSys -------- (0, 8)\n",
       "   - countsNum -------------------- 100\n",
       "   - takingTime ------------------- 0.000742268\n",
       "   - takingTimeAllSys ------------- 0.003371726\n",
       "by <QurryAnalysisSheet>"
      ]
     },
     "execution_count": 18,
     "metadata": {},
     "output_type": "execute_result"
    }
   ],
   "source": [
    "experiment_execution_02.exps[exp1].reports[0].statesheet()"
   ]
  },
  {
   "cell_type": "markdown",
   "metadata": {},
   "source": [
    "---\n",
    "\n",
    "## Post-Process Availablities and Version Info"
   ]
  },
  {
   "cell_type": "code",
   "execution_count": 19,
   "metadata": {},
   "outputs": [
    {
     "name": "stdout",
     "output_type": "stream",
     "text": [
      "| Qurry version: (0, 6, 11, 'dev1')\n",
      "| - The availability of root\n",
      "|   - Python: True\n",
      "|   - Rust: True\n",
      "| - The availability of entangled\n",
      "|   - Cython: True\n",
      "|   - Rust: True\n",
      "|   - Python: True\n",
      "| - The availability of purity\n",
      "|   - Cython: True\n",
      "|   - Rust: True\n",
      "|   - Python: True\n",
      "| - The availability of overlap\n",
      "|   - Cython: True\n",
      "|   - Python: True\n",
      "| - The availability of echo\n",
      "|   - Cython: True\n",
      "|   - Python: True\n",
      "| - The availability of randomized\n",
      "|   - Cython: True\n",
      "|   - Rust: True\n",
      "|   - Python: True\n",
      "| - The availability of construct\n",
      "|   - Rust: True\n",
      "|   - Python: True\n"
     ]
    }
   ],
   "source": [
    "from qurry import BackendAvailabilities as root_availability, __version__\n",
    "from qurry.process.randomized_measure.entangled_entropy import (\n",
    "    BackendAvailabilities as entangled_availability,\n",
    ")\n",
    "from qurry.process.randomized_measure.purity_cell import (\n",
    "    BackendAvailabilities as purity_cell_availability,\n",
    ")\n",
    "from qurry.process.randomized_measure.wavefunction_overlap import (\n",
    "    BackendAvailabilities as overlap_availability,\n",
    ")\n",
    "from qurry.process.randomized_measure.echo_cell import (\n",
    "    BackendAvailabilities as echo_cell_availability,\n",
    ")\n",
    "from qurry.process.utils.randomized import (\n",
    "    BackendAvailabilities as randomized_availability,\n",
    ")\n",
    "from qurry.process.utils.construct import (\n",
    "    BackendAvailabilities as construct_availability,\n",
    ")\n",
    "\n",
    "availability_dict = [\n",
    "    (\"root\", root_availability),\n",
    "    (\"entangled\", entangled_availability),\n",
    "    (\"purity\", purity_cell_availability),\n",
    "    (\"overlap\", overlap_availability),\n",
    "    (\"echo\", echo_cell_availability),\n",
    "    (\"randomized\", randomized_availability),\n",
    "    (\"construct\", construct_availability),\n",
    "]\n",
    "\n",
    "print(\"| Qurry version:\", __version__)\n",
    "for name, availability in availability_dict:\n",
    "    print(f\"| - The availability of {name}\")\n",
    "    for key, value in availability.items():\n",
    "        print(f\"|   - {key}: {value}\")"
   ]
  },
  {
   "cell_type": "code",
   "execution_count": null,
   "metadata": {},
   "outputs": [],
   "source": []
  }
 ],
 "metadata": {
  "kernelspec": {
   "display_name": "quantumsphere11",
   "language": "python",
   "name": "python3"
  },
  "language_info": {
   "codemirror_mode": {
    "name": "ipython",
    "version": 3
   },
   "file_extension": ".py",
   "mimetype": "text/x-python",
   "name": "python",
   "nbconvert_exporter": "python",
   "pygments_lexer": "ipython3",
   "version": "3.11.3"
  },
  "orig_nbformat": 4
 },
 "nbformat": 4,
 "nbformat_minor": 2
}
