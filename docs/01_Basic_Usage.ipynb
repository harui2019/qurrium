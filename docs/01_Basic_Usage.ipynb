{
 "cells": [
  {
   "attachments": {},
   "cell_type": "markdown",
   "metadata": {},
   "source": [
    "# 01 - Basic Usage of Qurry\n",
    "\n",
    "In Qurry, we use the instance of `Qurry` to store Quantum Circuit, experiment, build experiment, and excute them by local simulator or pending to the real quantum machine on `IBM`. In this chapter (or we say this jupyter file), we will introduce how to use Qurry to build a simple quantum circuit and measure their Renyi Entropy by local simulator.\n"
   ]
  },
  {
   "cell_type": "markdown",
   "metadata": {},
   "source": [
    "If you are using Colab, you can run the following command in terminal to install Qurry.\n",
    "\n",
    "```bash\n",
    "pip install -i https://test.pypi.org/simple/ qurry==0.6.10.dev3\n",
    "```"
   ]
  },
  {
   "attachments": {},
   "cell_type": "markdown",
   "metadata": {},
   "source": [
    "## 1.1 Setup Environment and Creat experiment executor"
   ]
  },
  {
   "cell_type": "code",
   "execution_count": 1,
   "metadata": {},
   "outputs": [],
   "source": [
    "from qurry import EntropyMeasure, BackendWrapper\n",
    "from qiskit import QuantumCircuit"
   ]
  },
  {
   "attachments": {},
   "cell_type": "markdown",
   "metadata": {},
   "source": [
    "- Before we start, we need to import the package of Qurry and other packages we need. \n",
    "\n",
    "- In Qurry, we provider a simple way to import backend called `BackendWrapper`, it will help us to import the backend we need, if your environment includes the GPU acceleration, `qiskit-aer-gpu`, it will be check the availability to access, if does, the GPU backend will also be available.\n",
    "\n",
    "- The following chapter, we will told you how to use `BackendWrapper` to import the real backend from your IBM account by `IBMProvider` or `AccountProvider`, and the more powerful class `backendManager` to import the real backend more easily.\n",
    "\n",
    "- In this example, we will use normal `aer_simulator` as our backend\n"
   ]
  },
  {
   "cell_type": "code",
   "execution_count": 2,
   "metadata": {},
   "outputs": [
    {
     "data": {
      "text/plain": [
       "AerSimulator('aer_simulator_gpu')"
      ]
     },
     "execution_count": 2,
     "metadata": {},
     "output_type": "execute_result"
    }
   ],
   "source": [
    "backend = BackendWrapper()\n",
    "backend('aer')"
   ]
  },
  {
   "cell_type": "code",
   "execution_count": 3,
   "metadata": {},
   "outputs": [
    {
     "name": "stdout",
     "output_type": "stream",
     "text": [
      "| Does we have GPU backend to access: True\n",
      "aer_simulator_gpu\n"
     ]
    }
   ],
   "source": [
    "print(\"| Does we have GPU backend to access:\", backend.is_aer_gpu)\n",
    "try:\n",
    "    # If you have GPU, you can use this backend.\n",
    "    print(backend('aer_gpu'))\n",
    "except:\n",
    "    pass"
   ]
  },
  {
   "attachments": {},
   "cell_type": "markdown",
   "metadata": {},
   "source": [
    "- Now, initialize our `EntropyMeasure`, we have two methods, `randomized` for Randomized Measure as default, and `hadamard` for Hadamard Test, these are our methods for measurement.\n",
    "\n",
    "- In following tutorial, we will use `randomized` as our measurement method."
   ]
  },
  {
   "cell_type": "code",
   "execution_count": 14,
   "metadata": {},
   "outputs": [
    {
     "name": "stdout",
     "output_type": "stream",
     "text": [
      "| The first method is which is `Hadamard Test`\".\n",
      "| The default method is which is `Randomized Measure` we will use.\n"
     ]
    }
   ],
   "source": [
    "experiment_execution_01 = EntropyMeasure(method='hadamard')\n",
    "print(f'| The first method is which is `Hadamard Test`\".')\n",
    "experiment_execution_02 = EntropyMeasure()\n",
    "print(f'| The default method is which is `Randomized Measure` we will use.')"
   ]
  },
  {
   "attachments": {},
   "cell_type": "markdown",
   "metadata": {},
   "source": [
    "---\n",
    "\n",
    "## 1.2 Load quantum circuit\n",
    "\n",
    "- We use `TrivialParamagnet` as our target to measure, and add it to our `Qurry` object, and import from `qurry.case` which there are some simple cases."
   ]
  },
  {
   "cell_type": "code",
   "execution_count": 15,
   "metadata": {},
   "outputs": [],
   "source": [
    "from qurry.recipe import TrivialParamagnet, GHZ"
   ]
  },
  {
   "cell_type": "code",
   "execution_count": 16,
   "metadata": {},
   "outputs": [
    {
     "name": "stdout",
     "output_type": "stream",
     "text": [
      "| trivial paramagnet in 8 qubits:\n",
      "     ┌───┐\n",
      "q_0: ┤ H ├\n",
      "     ├───┤\n",
      "q_1: ┤ H ├\n",
      "     ├───┤\n",
      "q_2: ┤ H ├\n",
      "     ├───┤\n",
      "q_3: ┤ H ├\n",
      "     ├───┤\n",
      "q_4: ┤ H ├\n",
      "     ├───┤\n",
      "q_5: ┤ H ├\n",
      "     ├───┤\n",
      "q_6: ┤ H ├\n",
      "     ├───┤\n",
      "q_7: ┤ H ├\n",
      "     └───┘\n",
      "| GHZ in 8 qubits:\n",
      "     ┌───┐                                   \n",
      "q_0: ┤ H ├──■────────────────────────────────\n",
      "     └───┘┌─┴─┐                              \n",
      "q_1: ─────┤ X ├──■───────────────────────────\n",
      "          └───┘┌─┴─┐                         \n",
      "q_2: ──────────┤ X ├──■──────────────────────\n",
      "               └───┘┌─┴─┐                    \n",
      "q_3: ───────────────┤ X ├──■─────────────────\n",
      "                    └───┘┌─┴─┐               \n",
      "q_4: ────────────────────┤ X ├──■────────────\n",
      "                         └───┘┌─┴─┐          \n",
      "q_5: ─────────────────────────┤ X ├──■───────\n",
      "                              └───┘┌─┴─┐     \n",
      "q_6: ──────────────────────────────┤ X ├──■──\n",
      "                                   └───┘┌─┴─┐\n",
      "q_7: ───────────────────────────────────┤ X ├\n",
      "                                        └───┘\n",
      "| Custom circuit:\n",
      "     ┌───┐\n",
      "q_0: ┤ X ├\n",
      "     └───┘\n",
      "q_1: ─────\n",
      "     ┌───┐\n",
      "q_2: ┤ X ├\n",
      "     └───┘\n",
      "q_3: ─────\n",
      "     ┌───┐\n",
      "q_4: ┤ X ├\n",
      "     └───┘\n",
      "q_5: ─────\n",
      "     ┌───┐\n",
      "q_6: ┤ X ├\n",
      "     └───┘\n",
      "q_7: ─────\n",
      "          \n"
     ]
    }
   ],
   "source": [
    "sample01 = TrivialParamagnet(8)\n",
    "print(\"| trivial paramagnet in 8 qubits:\")\n",
    "print(sample01)\n",
    "sample02 = GHZ(8)\n",
    "print(\"| GHZ in 8 qubits:\")\n",
    "print(sample02)\n",
    "sample03 = QuantumCircuit(8)\n",
    "sample03.x(range(0,8,2))\n",
    "print(\"| Custom circuit:\")\n",
    "print(sample03)"
   ]
  },
  {
   "cell_type": "markdown",
   "metadata": {},
   "source": [
    "- After we prepare three quantum circuits, we can add them to our `Qurry` object.\n",
    "The attribute `.waves` of `Qurry` object is a customized `dict`, we can check it by print it."
   ]
  },
  {
   "cell_type": "code",
   "execution_count": 17,
   "metadata": {},
   "outputs": [
    {
     "name": "stdout",
     "output_type": "stream",
     "text": [
      "<WaveContainer={\n",
      "    TrivialParamagnet: ...\n",
      "    GHZ: ...\n",
      "    2: ...\n",
      "} with 3 waves load, a customized dictionary>\n"
     ]
    }
   ],
   "source": [
    "experiment_execution_02.add(\n",
    "    wave=sample01,              # The circuit object\n",
    "    key='TrivialParamagnet',    # The name of the circuit\n",
    "    replace=False               # True for if you want to replace the circuit with the same name.\n",
    ")                               # Default is False, so if you add the same name when False, \n",
    "                                # it will be added with serial number.\n",
    "experiment_execution_02.add(sample02, 'GHZ')\n",
    "experiment_execution_02.add(sample03)\n",
    "print(experiment_execution_02.waves)"
   ]
  },
  {
   "attachments": {},
   "cell_type": "markdown",
   "metadata": {},
   "source": [
    "If you do not give the name of circuit, it will be named by series number.\n",
    "\n",
    "Now, waves are loading, time to excute."
   ]
  },
  {
   "attachments": {},
   "cell_type": "markdown",
   "metadata": {},
   "source": [
    "## 1.3 Excute Circuits"
   ]
  },
  {
   "cell_type": "markdown",
   "metadata": {},
   "source": [
    "- We can use `.measure()` to excute the specific circuit in `EntropyMeasure` object, and it will return hash id of this experiment and save a `Experiment` object in `EntropyMeasure`.\n",
    "- For `EntropyMeasure`, it will require the following parameters:\n",
    "  - wave: the name of circuit in `Qurry.waves` object\n",
    "  - times: the number of random measurement\n",
    "  - shots: the number of shots for each measurement. Default is 1024"
   ]
  },
  {
   "cell_type": "code",
   "execution_count": 18,
   "metadata": {},
   "outputs": [
    {
     "data": {
      "text/plain": [
       "'7be5f60a-1f45-459b-a086-56ba9b16a343'"
      ]
     },
     "execution_count": 18,
     "metadata": {},
     "output_type": "execute_result"
    }
   ],
   "source": [
    "exp1 = experiment_execution_02.measure(\n",
    "    wave='TrivialParamagnet',\n",
    "    times=100,\n",
    "    shots=1024,\n",
    ")\n",
    "exp1 "
   ]
  },
  {
   "cell_type": "markdown",
   "metadata": {},
   "source": [
    "- And we can check the attribute `.exps` of `EntropyMeasure` object, it will return the hash id of all experiments."
   ]
  },
  {
   "cell_type": "code",
   "execution_count": 19,
   "metadata": {},
   "outputs": [
    {
     "name": "stdout",
     "output_type": "stream",
     "text": [
      "<ExperimentContainer={\n",
      "    7be5f60a-1f45-459b-a086-56ba9b16a343: ...\n",
      "} with 1 experiments load, a customized dictionary>\n"
     ]
    }
   ],
   "source": [
    "print(experiment_execution_02.exps)"
   ]
  },
  {
   "cell_type": "markdown",
   "metadata": {},
   "source": [
    "- The following is the other informatiom you can access."
   ]
  },
  {
   "cell_type": "code",
   "execution_count": 31,
   "metadata": {},
   "outputs": [
    {
     "data": {
      "text/plain": [
       "<qurrentRandomized.Experiment with exp_id=7be5f60a-1f45-459b-a086-56ba9b16a343, Arguments(exp_name='w=TrivialParamagnet.with100random.qurrent_haar', times=100, measure=(0, 8), unitary_loc=(0, 8), workers_num=16), Commonparams(exp_id='7be5f60a-1f45-459b-a086-56ba9b16a343', wave_key='TrivialParamagnet', shots=1024, backend=GeneralAerSimulator('aer_simulator'), run_args={}, transpile_args={}, tags=(), default_analysis=[], save_location=PosixPath('.'), filename='', files={}, serial=None, summoner_id=None, summoner_name=None, datetimes={'build': '2024-01-09 18:01:38', 'run': '2024-01-09 18:01:39'}), 0 unused arguments, 6 preparing dates, 2 experiment result datasets, and 2 analysis>"
      ]
     },
     "execution_count": 31,
     "metadata": {},
     "output_type": "execute_result"
    }
   ],
   "source": [
    "experiment_execution_02.exps[exp1]"
   ]
  },
  {
   "cell_type": "code",
   "execution_count": 25,
   "metadata": {},
   "outputs": [
    {
     "name": "stdout",
     "output_type": "stream",
     "text": [
      " # qurrentRandomized.Experiment with exp_id=7be5f60a-1f45-459b-a086-56ba9b16a343\n",
      " - arguments\n",
      "   - exp_name ---------------- w=TrivialParamagnet.with100random.qurrent_haar\n",
      "   - times ------------------- 100\n",
      "   - measure ----------------- (0, 8)\n",
      "   - unitary_loc ------------- (0, 8)\n",
      "   - workers_num ------------- 16\n",
      " - commonparams\n",
      "   - exp_id ------------------ 7be5f60a-1f45-459b-a086-56ba9b16a343   # This is ID is generated by Qurry which is different from 'job_id' for pending.\n",
      "   - wave_key ---------------- TrivialParamagnet\n",
      "   - shots ------------------- 1024\n",
      "   - backend ----------------- aer_simulator\n",
      "   - run_args ---------------- {}\n",
      "   - transpile_args ---------- {}\n",
      "   - tags -------------------- ()\n",
      "   - default_analysis -------- []\n",
      "   - save_location ----------- .\n",
      "   - filename ---------------- \n",
      "   - files ------------------- {}\n",
      "   - serial ------------------ None\n",
      "   - summoner_id ------------- None\n",
      "   - summoner_name ----------- None\n",
      "   - datetimes --------------- {'build': '2024-01-09 18:01:38', 'run': '2024-01-09 18:01:39'}\n",
      " - outfields --------------- 0 ........  # Number of unused arguments.\n",
      " - beforewards\n",
      "   - circuit ----------------- 100 ......  # Number of circuit\n",
      "   - circuit_qasm ------------ 100 ......  # Number of circuit_qasm\n",
      "   - fig_original ------------ 0 ........  # Number of fig_original\n",
      "   - job_id ------------------ 072f9aa3-a9cc-4392-b334-dc7e7e721307\n",
      "   - exp_name ---------------- w=TrivialParamagnet.with100random.qurrent_haar\n",
      "   - side_product ------------ 2 ........  # Number of side_product\n",
      " - afterwards\n",
      "   - result ------------------ 1 ........  # Number of result\n",
      "   - counts ------------------ 100 ......  # Number of counts\n",
      " - reports ----------------- 0 ........  # Number of analysis.\n",
      "\n"
     ]
    }
   ],
   "source": [
    "print(experiment_execution_02.exps[exp1].statesheet())"
   ]
  },
  {
   "attachments": {},
   "cell_type": "markdown",
   "metadata": {},
   "source": [
    "- Then, there is a experiment completed, and we can calculate the Renyi Entropy by `analyze`."
   ]
  },
  {
   "attachments": {},
   "cell_type": "markdown",
   "metadata": {},
   "source": [
    "---\n",
    "\n",
    "## 1.4 Result\n",
    "\n",
    "- We want to know the Renyi Entropy of half system. Then we can use `.analyze()` to calculate it and it will store a `Analysis` object in `Experiment`.\n",
    "- The following is the parameter `analyze` of `EntropyMeasure` required.\n",
    "  - degree: The size or range of subsystem, if it is a number, it will be the size of subsystem, if it is a tuple, it will be the range of subsystem."
   ]
  },
  {
   "cell_type": "code",
   "execution_count": 26,
   "metadata": {},
   "outputs": [
    {
     "data": {
      "application/vnd.jupyter.widget-view+json": {
       "model_id": "d97663f5f98844efac2f176135d7995f",
       "version_major": 2,
       "version_minor": 0
      },
      "text/plain": [
       "|  - 00:00 < ?"
      ]
     },
     "metadata": {},
     "output_type": "display_data"
    },
    {
     "data": {
      "application/vnd.jupyter.widget-view+json": {
       "model_id": "e7d929763aa24c5296826943de1ce1f0",
       "version_major": 2,
       "version_minor": 0
      },
      "text/plain": [
       "|  - 00:00 < ?"
      ]
     },
     "metadata": {},
     "output_type": "display_data"
    }
   ],
   "source": [
    "exp1_report1 = experiment_execution_02.exps[exp1].analyze(\n",
    "    degree=(0, 4)\n",
    ")\n",
    "exp1_report2 = experiment_execution_02.exps[exp1].analyze(\n",
    "    degree=4\n",
    ")"
   ]
  },
  {
   "cell_type": "markdown",
   "metadata": {},
   "source": [
    "- The `analyze` will return the result of this analysis."
   ]
  },
  {
   "cell_type": "code",
   "execution_count": 35,
   "metadata": {},
   "outputs": [
    {
     "name": "stdout",
     "output_type": "stream",
     "text": [
      "<qurrentRandomized.Analysis with serial=0, AnalysisInput(degree=(0, 4), shots=1024, unitary_loc=(0, 8)), AnalysisContent(purity=1.073450984954834, entropy=-0.10225631753389845, and others), 0 unused arguments>\n",
      "AnalysisHeader(serial=0, datetime='2024-01-09 18:09:10', summoner=None, log={})\n"
     ]
    }
   ],
   "source": [
    "print(exp1_report1)\n",
    "print(exp1_report1.header)"
   ]
  },
  {
   "cell_type": "markdown",
   "metadata": {},
   "source": [
    "- It can also be found in the attribute `.reports` of `Experiment` object."
   ]
  },
  {
   "cell_type": "code",
   "execution_count": 36,
   "metadata": {},
   "outputs": [
    {
     "name": "stdout",
     "output_type": "stream",
     "text": [
      "<AnalysisContainer={\n",
      "    0: ...\n",
      "    1: ...\n",
      "} with 2 analysis load, a customized dictionary>\n",
      "<qurrentRandomized.Analysis with serial=0, AnalysisInput(degree=(0, 4), shots=1024, unitary_loc=(0, 8)), AnalysisContent(purity=1.073450984954834, entropy=-0.10225631753389845, and others), 0 unused arguments>\n",
      "AnalysisHeader(serial=0, datetime='2024-01-09 18:09:10', summoner=None, log={})\n"
     ]
    }
   ],
   "source": [
    "print(experiment_execution_02.exps[exp1].reports)\n",
    "print(experiment_execution_02.exps[exp1].reports[0])\n",
    "print(experiment_execution_02.exps[exp1].reports[0].header)"
   ]
  },
  {
   "cell_type": "markdown",
   "metadata": {},
   "source": [
    "- We can use `.export()` to get the result of this analysis."
   ]
  },
  {
   "cell_type": "code",
   "execution_count": 37,
   "metadata": {},
   "outputs": [],
   "source": [
    "main, side_prodct = experiment_execution_02.exps[exp1].reports[0].export()"
   ]
  },
  {
   "attachments": {},
   "cell_type": "markdown",
   "metadata": {},
   "source": [
    "- And there is it"
   ]
  },
  {
   "cell_type": "code",
   "execution_count": 38,
   "metadata": {},
   "outputs": [
    {
     "data": {
      "text/plain": [
       "{'purity': 1.073450984954834,\n",
       " 'entropy': -0.10225631753389845,\n",
       " 'puritySD': 1.0767633054975685,\n",
       " 'entropySD': 1.447146728472108,\n",
       " 'bitStringRange': [0, 4],\n",
       " 'allSystemSource': 'independent',\n",
       " 'purityAllSys': 1.606309356689453,\n",
       " 'entropyAllSys': -0.683749766069518,\n",
       " 'puritySDAllSys': 3.3196231001043306,\n",
       " 'entropySDAllSys': 2.9814952917981783,\n",
       " 'bitsStringRangeAllSys': [0, 8],\n",
       " 'errorRate': -0.26834026997536287,\n",
       " 'mitigatedPurity': 0.6909323547963591,\n",
       " 'mitigatedEntropy': 0.5333836233143241,\n",
       " 'num_qubits': 8,\n",
       " 'measure': ['measure range:', [0, 8]],\n",
       " 'measureActually': [0, 8],\n",
       " 'measureActuallyAllSys': [0, 8],\n",
       " 'countsNum': 100,\n",
       " 'takingTime': 0.00121147,\n",
       " 'takingTimeAllSys': 0.003853926,\n",
       " 'input': {'degree': [0, 4], 'shots': 1024, 'unitary_loc': [0, 8]},\n",
       " 'header': {'serial': 0,\n",
       "  'datetime': '2024-01-09 18:09:10',\n",
       "  'summoner': None,\n",
       "  'log': {}}}"
      ]
     },
     "execution_count": 38,
     "metadata": {},
     "output_type": "execute_result"
    }
   ],
   "source": [
    "main"
   ]
  },
  {
   "attachments": {},
   "cell_type": "markdown",
   "metadata": {},
   "source": [
    "- Also, `sideProdct` will record the data of each circuit, and you can use it to do more analysis."
   ]
  },
  {
   "cell_type": "code",
   "execution_count": 39,
   "metadata": {},
   "outputs": [
    {
     "data": {
      "text/plain": [
       "{'purityCells': {95: 0.3610992431640625,\n",
       "  53: 1.8336105346679688,\n",
       "  14: 0.7106990814208984,\n",
       "  93: 0.4074535369873047,\n",
       "  23: 0.19743728637695312,\n",
       "  47: 0.3772010803222656,\n",
       "  82: 0.1747894287109375,\n",
       "  44: 0.4913616180419922,\n",
       "  72: 1.3725395202636719,\n",
       "  0: 0.42932891845703125,\n",
       "  45: 1.0551433563232422,\n",
       "  49: 1.5355892181396484,\n",
       "  62: 0.4603137969970703,\n",
       "  89: 0.47084808349609375,\n",
       "  96: 0.4470329284667969,\n",
       "  81: 0.9820442199707031,\n",
       "  27: 0.32871246337890625,\n",
       "  36: 0.8866519927978516,\n",
       "  56: 0.8186054229736328,\n",
       "  71: 4.074432373046875,\n",
       "  84: 1.2966079711914062,\n",
       "  98: 0.19599533081054688,\n",
       "  99: 0.3051261901855469,\n",
       "  15: 0.24875259399414062,\n",
       "  73: 0.44477272033691406,\n",
       "  34: 0.9805107116699219,\n",
       "  69: 0.2294921875,\n",
       "  80: 1.713510513305664,\n",
       "  75: 1.6331901550292969,\n",
       "  29: 0.11350631713867188,\n",
       "  13: 0.2873992919921875,\n",
       "  7: 0.5040359497070312,\n",
       "  55: 1.4826431274414062,\n",
       "  24: 0.5796699523925781,\n",
       "  85: 0.17279815673828125,\n",
       "  91: 1.3730430603027344,\n",
       "  11: 3.7516517639160156,\n",
       "  4: 0.4325847625732422,\n",
       "  54: 0.681488037109375,\n",
       "  48: 0.4826068878173828,\n",
       "  61: 0.3912544250488281,\n",
       "  67: 0.2524375915527344,\n",
       "  90: 0.27933692932128906,\n",
       "  97: 0.7470970153808594,\n",
       "  94: 2.426694869995117,\n",
       "  17: 0.6369533538818359,\n",
       "  26: 3.273225784301758,\n",
       "  20: 0.08618927001953125,\n",
       "  9: 0.14023399353027344,\n",
       "  79: 1.6492061614990234,\n",
       "  50: 0.8012905120849609,\n",
       "  57: 0.34500885009765625,\n",
       "  5: 0.28638648986816406,\n",
       "  8: 1.2141304016113281,\n",
       "  25: 0.9312953948974609,\n",
       "  59: 1.505411148071289,\n",
       "  10: 0.5676593780517578,\n",
       "  37: 3.39923095703125,\n",
       "  64: 1.0350933074951172,\n",
       "  18: 2.604066848754883,\n",
       "  39: 0.48714447021484375,\n",
       "  22: 0.46021080017089844,\n",
       "  16: 2.429624557495117,\n",
       "  32: 0.29862022399902344,\n",
       "  35: 0.9445419311523438,\n",
       "  40: 0.15784645080566406,\n",
       "  3: 2.392911911010742,\n",
       "  31: 0.17506980895996094,\n",
       "  12: 0.6267623901367188,\n",
       "  28: 1.7099800109863281,\n",
       "  43: 4.669530868530273,\n",
       "  1: 0.6552639007568359,\n",
       "  74: 0.2657470703125,\n",
       "  70: 0.29042625427246094,\n",
       "  41: 0.22259140014648438,\n",
       "  83: 0.7554340362548828,\n",
       "  88: 0.1947021484375,\n",
       "  2: 1.2743949890136719,\n",
       "  65: 1.4203071594238281,\n",
       "  52: 0.5199089050292969,\n",
       "  60: 0.3292503356933594,\n",
       "  19: 0.8136386871337891,\n",
       "  38: 0.6154556274414062,\n",
       "  21: 2.6866188049316406,\n",
       "  46: 1.984649658203125,\n",
       "  51: 2.365509033203125,\n",
       "  33: 0.4844837188720703,\n",
       "  63: 1.3393402099609375,\n",
       "  42: 0.80792236328125,\n",
       "  66: 0.6207942962646484,\n",
       "  76: 1.0306873321533203,\n",
       "  77: 0.4276752471923828,\n",
       "  6: 1.6683120727539062,\n",
       "  78: 1.008056640625,\n",
       "  87: 1.9319782257080078,\n",
       "  86: 2.3757572174072266,\n",
       "  30: 3.418325424194336,\n",
       "  58: 6.030817031860352,\n",
       "  68: 0.17172813415527344,\n",
       "  92: 0.3865966796875},\n",
       " 'purityCellsAllSys': {6: 1.0624618530273438,\n",
       "  24: 0.6582794189453125,\n",
       "  14: 0.369476318359375,\n",
       "  64: 0.42017364501953125,\n",
       "  95: 0.2953300476074219,\n",
       "  96: 0.34279441833496094,\n",
       "  97: 0.9687061309814453,\n",
       "  12: 0.7396926879882812,\n",
       "  51: 1.7795372009277344,\n",
       "  94: 2.2255020141601562,\n",
       "  25: 3.023876190185547,\n",
       "  20: 0.3153858184814453,\n",
       "  58: 2.2730751037597656,\n",
       "  65: 1.7997760772705078,\n",
       "  35: 0.9061813354492188,\n",
       "  69: 0.21411705017089844,\n",
       "  59: 0.7173423767089844,\n",
       "  61: 1.2766437530517578,\n",
       "  37: 2.487926483154297,\n",
       "  32: 0.32842063903808594,\n",
       "  44: 0.47006988525390625,\n",
       "  73: 0.5622005462646484,\n",
       "  56: 3.2728824615478516,\n",
       "  30: 29.269378662109375,\n",
       "  81: 0.8739089965820312,\n",
       "  60: 0.33191680908203125,\n",
       "  70: 0.35422706604003906,\n",
       "  16: 3.4530181884765625,\n",
       "  55: 1.6122016906738281,\n",
       "  17: 0.6617698669433594,\n",
       "  21: 1.1963348388671875,\n",
       "  75: 0.8858165740966797,\n",
       "  8: 0.5918636322021484,\n",
       "  29: 0.18717193603515625,\n",
       "  5: 0.22948074340820312,\n",
       "  34: 1.6171798706054688,\n",
       "  74: 0.4383983612060547,\n",
       "  85: 0.4432964324951172,\n",
       "  79: 4.008354187011719,\n",
       "  90: 0.4189891815185547,\n",
       "  3: 0.6835708618164062,\n",
       "  2: 1.436208724975586,\n",
       "  19: 0.5326633453369141,\n",
       "  1: 0.38877105712890625,\n",
       "  38: 0.23271942138671875,\n",
       "  48: 0.56219482421875,\n",
       "  67: 0.5785369873046875,\n",
       "  76: 0.8065261840820312,\n",
       "  72: 5.247062683105469,\n",
       "  87: 0.8549919128417969,\n",
       "  92: 0.6810302734375,\n",
       "  43: 1.5924549102783203,\n",
       "  88: 0.20155715942382812,\n",
       "  9: 0.28656959533691406,\n",
       "  40: 0.2193470001220703,\n",
       "  41: 0.4246997833251953,\n",
       "  54: 2.4919376373291016,\n",
       "  23: 0.3547992706298828,\n",
       "  84: 1.1872539520263672,\n",
       "  13: 0.28497886657714844,\n",
       "  31: 0.7328090667724609,\n",
       "  47: 0.6525173187255859,\n",
       "  50: 1.7410221099853516,\n",
       "  71: 12.085542678833008,\n",
       "  98: 0.23967742919921875,\n",
       "  0: 0.380828857421875,\n",
       "  10: 0.5254135131835938,\n",
       "  91: 6.232295989990234,\n",
       "  99: 0.3101215362548828,\n",
       "  66: 0.4272575378417969,\n",
       "  63: 3.6642017364501953,\n",
       "  80: 1.5035114288330078,\n",
       "  83: 0.39983177185058594,\n",
       "  18: 8.127025604248047,\n",
       "  89: 1.1853885650634766,\n",
       "  93: 0.3516807556152344,\n",
       "  39: 0.2131786346435547,\n",
       "  11: 6.21476936340332,\n",
       "  33: 0.8259296417236328,\n",
       "  53: 1.2404975891113281,\n",
       "  57: 0.4467296600341797,\n",
       "  7: 1.8258056640625,\n",
       "  62: 0.3311443328857422,\n",
       "  78: 1.7881603240966797,\n",
       "  42: 0.37652587890625,\n",
       "  36: 0.7283573150634766,\n",
       "  15: 0.3172168731689453,\n",
       "  26: 6.31390380859375,\n",
       "  4: 0.22966957092285156,\n",
       "  52: 0.49944114685058594,\n",
       "  46: 0.8670082092285156,\n",
       "  68: 0.35546875,\n",
       "  27: 0.2754631042480469,\n",
       "  28: 1.5052223205566406,\n",
       "  49: 0.8441429138183594,\n",
       "  77: 0.4995098114013672,\n",
       "  45: 1.1237106323242188,\n",
       "  22: 0.2473907470703125,\n",
       "  82: 0.9736099243164062,\n",
       "  86: 1.8979206085205078}}"
      ]
     },
     "execution_count": 39,
     "metadata": {},
     "output_type": "execute_result"
    }
   ],
   "source": [
    "side_prodct"
   ]
  },
  {
   "cell_type": "code",
   "execution_count": 40,
   "metadata": {},
   "outputs": [
    {
     "data": {
      "text/plain": [
       " # qurrentRandomized.Analysis with serial=0\n",
       " - header\n",
       "   - serial ----------------------- 0\n",
       "   - datetime --------------------- 2024-01-09 18:09:10\n",
       "   - summoner --------------------- None\n",
       "   - log -------------------------- {}\n",
       " - input\n",
       "   - degree ----------------------- (0, 4)\n",
       "   - shots ------------------------ 1024\n",
       "   - unitary_loc ------------------ (0, 8)\n",
       " - outfields -------------------- 0 ........  # Number of unused arguments.\n",
       " - content\n",
       "   - purity ----------------------- 1.073450984954834\n",
       "   - entropy ---------------------- -0.10225631753389845\n",
       "   - puritySD --------------------- 1.0767633054975685\n",
       "   - entropySD -------------------- 1.447146728472108\n",
       "   - purityCells ------------------ {95: 0.3610992431640625, 53: 1.8336105346679688, 14: 0.7106990814208984, 93: 0.4074535369873047, 23: 0.19743728637695312, 47: 0.3772010803222656, 82: 0.1747894287109375, 44: 0.4913616180419922, 72: 1.3725395202636719, 0: 0.42932891845703125, 45: 1.0551433563232422, 49: 1.5355892181396484, 62: 0.4603137969970703, 89: 0.47084808349609375, 96: 0.4470329284667969, 81: 0.9820442199707031, 27: 0.32871246337890625, 36: 0.8866519927978516, 56: 0.8186054229736328, 71: 4.074432373046875, 84: 1.2966079711914062, 98: 0.19599533081054688, 99: 0.3051261901855469, 15: 0.24875259399414062, 73: 0.44477272033691406, 34: 0.9805107116699219, 69: 0.2294921875, 80: 1.713510513305664, 75: 1.6331901550292969, 29: 0.11350631713867188, 13: 0.2873992919921875, 7: 0.5040359497070312, 55: 1.4826431274414062, 24: 0.5796699523925781, 85: 0.17279815673828125, 91: 1.3730430603027344, 11: 3.7516517639160156, 4: 0.4325847625732422, 54: 0.681488037109375, 48: 0.4826068878173828, 61: 0.3912544250488281, 67: 0.2524375915527344, 90: 0.27933692932128906, 97: 0.7470970153808594, 94: 2.426694869995117, 17: 0.6369533538818359, 26: 3.273225784301758, 20: 0.08618927001953125, 9: 0.14023399353027344, 79: 1.6492061614990234, 50: 0.8012905120849609, 57: 0.34500885009765625, 5: 0.28638648986816406, 8: 1.2141304016113281, 25: 0.9312953948974609, 59: 1.505411148071289, 10: 0.5676593780517578, 37: 3.39923095703125, 64: 1.0350933074951172, 18: 2.604066848754883, 39: 0.48714447021484375, 22: 0.46021080017089844, 16: 2.429624557495117, 32: 0.29862022399902344, 35: 0.9445419311523438, 40: 0.15784645080566406, 3: 2.392911911010742, 31: 0.17506980895996094, 12: 0.6267623901367188, 28: 1.7099800109863281, 43: 4.669530868530273, 1: 0.6552639007568359, 74: 0.2657470703125, 70: 0.29042625427246094, 41: 0.22259140014648438, 83: 0.7554340362548828, 88: 0.1947021484375, 2: 1.2743949890136719, 65: 1.4203071594238281, 52: 0.5199089050292969, 60: 0.3292503356933594, 19: 0.8136386871337891, 38: 0.6154556274414062, 21: 2.6866188049316...\n",
       "   - bitStringRange --------------- (0, 4)\n",
       "   - allSystemSource -------------- independent\n",
       "   - purityAllSys ----------------- 1.606309356689453\n",
       "   - entropyAllSys ---------------- -0.683749766069518\n",
       "   - puritySDAllSys --------------- 3.3196231001043306\n",
       "   - entropySDAllSys -------------- 2.9814952917981783\n",
       "   - purityCellsAllSys ------------ {6: 1.0624618530273438, 24: 0.6582794189453125, 14: 0.369476318359375, 64: 0.42017364501953125, 95: 0.2953300476074219, 96: 0.34279441833496094, 97: 0.9687061309814453, 12: 0.7396926879882812, 51: 1.7795372009277344, 94: 2.2255020141601562, 25: 3.023876190185547, 20: 0.3153858184814453, 58: 2.2730751037597656, 65: 1.7997760772705078, 35: 0.9061813354492188, 69: 0.21411705017089844, 59: 0.7173423767089844, 61: 1.2766437530517578, 37: 2.487926483154297, 32: 0.32842063903808594, 44: 0.47006988525390625, 73: 0.5622005462646484, 56: 3.2728824615478516, 30: 29.269378662109375, 81: 0.8739089965820312, 60: 0.33191680908203125, 70: 0.35422706604003906, 16: 3.4530181884765625, 55: 1.6122016906738281, 17: 0.6617698669433594, 21: 1.1963348388671875, 75: 0.8858165740966797, 8: 0.5918636322021484, 29: 0.18717193603515625, 5: 0.22948074340820312, 34: 1.6171798706054688, 74: 0.4383983612060547, 85: 0.4432964324951172, 79: 4.008354187011719, 90: 0.4189891815185547, 3: 0.6835708618164062, 2: 1.436208724975586, 19: 0.5326633453369141, 1: 0.38877105712890625, 38: 0.23271942138671875, 48: 0.56219482421875, 67: 0.5785369873046875, 76: 0.8065261840820312, 72: 5.247062683105469, 87: 0.8549919128417969, 92: 0.6810302734375, 43: 1.5924549102783203, 88: 0.20155715942382812, 9: 0.28656959533691406, 40: 0.2193470001220703, 41: 0.4246997833251953, 54: 2.4919376373291016, 23: 0.3547992706298828, 84: 1.1872539520263672, 13: 0.28497886657714844, 31: 0.7328090667724609, 47: 0.6525173187255859, 50: 1.7410221099853516, 71: 12.085542678833008, 98: 0.23967742919921875, 0: 0.380828857421875, 10: 0.5254135131835938, 91: 6.232295989990234, 99: 0.3101215362548828, 66: 0.4272575378417969, 63: 3.6642017364501953, 80: 1.5035114288330078, 83: 0.39983177185058594, 18: 8.127025604248047, 89: 1.1853885650634766, 93: 0.3516807556152344, 39: 0.2131786346435547, 11: 6.21476936340332, 33: 0.8259296417236328, 53: 1.2404975891113281, 57: 0.4467296600341797, 7: 1.8258056640625, 62: 0.3311443328857422, 78: 1.7881603240966...\n",
       "   - bitsStringRangeAllSys -------- (0, 8)\n",
       "   - errorRate -------------------- -0.26834026997536287\n",
       "   - mitigatedPurity -------------- 0.6909323547963591\n",
       "   - mitigatedEntropy ------------- 0.5333836233143241\n",
       "   - num_qubits ------------------- 8\n",
       "   - measure ---------------------- ('measure range:', (0, 8))\n",
       "   - measureActually -------------- (0, 8)\n",
       "   - measureActuallyAllSys -------- (0, 8)\n",
       "   - countsNum -------------------- 100\n",
       "   - takingTime ------------------- 0.00121147\n",
       "   - takingTimeAllSys ------------- 0.003853926\n",
       "by <QurryAnalysisSheet>"
      ]
     },
     "execution_count": 40,
     "metadata": {},
     "output_type": "execute_result"
    }
   ],
   "source": [
    "experiment_execution_02.exps[exp1].reports[0].statesheet()"
   ]
  },
  {
   "cell_type": "code",
   "execution_count": null,
   "metadata": {},
   "outputs": [],
   "source": []
  }
 ],
 "metadata": {
  "kernelspec": {
   "display_name": "quantumsphere11",
   "language": "python",
   "name": "python3"
  },
  "language_info": {
   "codemirror_mode": {
    "name": "ipython",
    "version": 3
   },
   "file_extension": ".py",
   "mimetype": "text/x-python",
   "name": "python",
   "nbconvert_exporter": "python",
   "pygments_lexer": "ipython3",
   "version": "3.11.3"
  },
  "orig_nbformat": 4
 },
 "nbformat": 4,
 "nbformat_minor": 2
}
