{
 "cells": [
  {
   "attachments": {},
   "cell_type": "markdown",
   "metadata": {},
   "source": [
    "# 01 - Basic Usage of Qurry\n",
    "\n",
    "In Qurry, we use the instance of `Qurry` to store Quantum Circuit, experiment, build experiment, and excute them by local simulator or pending to the real quantum machine on `IBM`. In this chapter (or we say this jupyter file), we will introduce how to use Qurry to build a simple quantum circuit and measure their Renyi Entropy by local simulator.\n"
   ]
  },
  {
   "attachments": {},
   "cell_type": "markdown",
   "metadata": {},
   "source": [
    "## 1.1 Environment Setup"
   ]
  },
  {
   "cell_type": "code",
   "execution_count": 1,
   "metadata": {},
   "outputs": [],
   "source": [
    "from qurry import EntropyMeasure, backendWrapper\n",
    "from qiskit import (\n",
    "    IBMQ, execute, transpile,\n",
    "    QuantumRegister, ClassicalRegister, QuantumCircuit,\n",
    ")"
   ]
  },
  {
   "attachments": {},
   "cell_type": "markdown",
   "metadata": {},
   "source": [
    "- Before we start, we need to import the package of Qurry and other packages we need. \n",
    "\n",
    "- In Qurry, we provider a simple way to import backend called `backendWrapper`, it will help us to import the backend we need, if your environment includes the GPU acceleration, `qiskit-aer-gpu`, it will be check the availability to access, if does, the GPU backend will also be available.\n",
    "\n",
    "- The following chapter, we will told you how to use `backendWrapper` to import the real backend from your IBM account by `IBMProvider` or `AccountProvider`, and the more powerful class `backendManager` to import the real backend more easily.\n",
    "\n",
    "- In this example, we will use normal `aer_simulator` as our backend\n"
   ]
  },
  {
   "cell_type": "code",
   "execution_count": 2,
   "metadata": {},
   "outputs": [
    {
     "data": {
      "text/plain": [
       "AerSimulator('aer_simulator_gpu')"
      ]
     },
     "execution_count": 2,
     "metadata": {},
     "output_type": "execute_result"
    }
   ],
   "source": [
    "backend = backendWrapper()\n",
    "backend('aer')"
   ]
  },
  {
   "cell_type": "code",
   "execution_count": 3,
   "metadata": {},
   "outputs": [
    {
     "name": "stdout",
     "output_type": "stream",
     "text": [
      "| Does we have GPU backend to access: True\n",
      "aer_simulator_gpu\n"
     ]
    }
   ],
   "source": [
    "print(\"| Does we have GPU backend to access:\", backend.isAerGPU)\n",
    "try:\n",
    "    # If you have GPU, you can use this backend.\n",
    "    print(backend('aer_gpu'))\n",
    "except:\n",
    "    pass"
   ]
  },
  {
   "attachments": {},
   "cell_type": "markdown",
   "metadata": {},
   "source": [
    "- Now, initialize our `EntropyMeasure`, we have two methods, `randomized` for Randomized Measure as default, and `hadamard` for Hadamard Test, these are our methods for measurement.\n",
    "\n",
    "- In following tutorial, we will use `randomized` as our measurement method."
   ]
  },
  {
   "cell_type": "code",
   "execution_count": 4,
   "metadata": {},
   "outputs": [
    {
     "name": "stdout",
     "output_type": "stream",
     "text": [
      "| The first method is \"qurrentHadamard which is `Hadamard Test`\".\n",
      "| The default method is \"qurrentRandomized\" which is `Randomized Measure` we will use.\n"
     ]
    }
   ],
   "source": [
    "expProgram01 = EntropyMeasure(method='hadamard')\n",
    "print(f'| The first method is \"{expProgram01.__name__} which is `Hadamard Test`\".')\n",
    "expProgram02 = EntropyMeasure()\n",
    "print(f'| The default method is \"{expProgram02.__name__}\" which is `Randomized Measure` we will use.')"
   ]
  },
  {
   "attachments": {},
   "cell_type": "markdown",
   "metadata": {},
   "source": [
    "---\n",
    "\n",
    "## 1.2 Add Circuits to Qurry Object\n",
    "\n",
    "- We use `trivialParamagnet` as our target to measure, and add it to our `Qurry` object, and import from `qurry.case` which there are some simple cases."
   ]
  },
  {
   "cell_type": "code",
   "execution_count": 5,
   "metadata": {},
   "outputs": [],
   "source": [
    "from qurry.case import trivialParamagnet, cat"
   ]
  },
  {
   "cell_type": "code",
   "execution_count": 6,
   "metadata": {},
   "outputs": [
    {
     "name": "stdout",
     "output_type": "stream",
     "text": [
      "| trivial paramagnet in 8 qubits:\n",
      "     ┌───┐\n",
      "q_0: ┤ H ├\n",
      "     ├───┤\n",
      "q_1: ┤ H ├\n",
      "     ├───┤\n",
      "q_2: ┤ H ├\n",
      "     ├───┤\n",
      "q_3: ┤ H ├\n",
      "     ├───┤\n",
      "q_4: ┤ H ├\n",
      "     ├───┤\n",
      "q_5: ┤ H ├\n",
      "     ├───┤\n",
      "q_6: ┤ H ├\n",
      "     ├───┤\n",
      "q_7: ┤ H ├\n",
      "     └───┘\n",
      "| cat in 8 qubits:\n",
      "     ┌───┐                                   \n",
      "q_0: ┤ H ├──■────────────────────────────────\n",
      "     └───┘┌─┴─┐                              \n",
      "q_1: ─────┤ X ├──■───────────────────────────\n",
      "          └───┘┌─┴─┐                         \n",
      "q_2: ──────────┤ X ├──■──────────────────────\n",
      "               └───┘┌─┴─┐                    \n",
      "q_3: ───────────────┤ X ├──■─────────────────\n",
      "                    └───┘┌─┴─┐               \n",
      "q_4: ────────────────────┤ X ├──■────────────\n",
      "                         └───┘┌─┴─┐          \n",
      "q_5: ─────────────────────────┤ X ├──■───────\n",
      "                              └───┘┌─┴─┐     \n",
      "q_6: ──────────────────────────────┤ X ├──■──\n",
      "                                   └───┘┌─┴─┐\n",
      "q_7: ───────────────────────────────────┤ X ├\n",
      "                                        └───┘\n"
     ]
    }
   ],
   "source": [
    "sample01 = trivialParamagnet(8)\n",
    "print(\"| trivial paramagnet in 8 qubits:\")\n",
    "print(sample01.circuit)\n",
    "sample02 = cat(8)\n",
    "print(\"| cat in 8 qubits:\")\n",
    "print(sample02.circuit)"
   ]
  },
  {
   "cell_type": "code",
   "execution_count": 8,
   "metadata": {},
   "outputs": [
    {
     "data": {
      "text/plain": [
       "<WaveContainer={\n",
       "    trivialParamagnet: ...\n",
       "    cat: ...\n",
       "    2: ...\n",
       "} with 3 waves load, a customized dictionary>"
      ]
     },
     "execution_count": 8,
     "metadata": {},
     "output_type": "execute_result"
    }
   ],
   "source": [
    "expProgram02.add(sample01.circuit, 'trivialParamagnet')\n",
    "expProgram02.add(sample02.circuit, 'cat')\n",
    "expProgram02.add(sample02.circuit)\n",
    "expProgram02.waves"
   ]
  },
  {
   "attachments": {},
   "cell_type": "markdown",
   "metadata": {},
   "source": [
    "If you do not give the name of circuit, it will be named by series number.\n",
    "\n",
    "Now, waves are loading, time to excute."
   ]
  },
  {
   "attachments": {},
   "cell_type": "markdown",
   "metadata": {},
   "source": [
    "## 1.3 Excute Circuits"
   ]
  },
  {
   "cell_type": "code",
   "execution_count": 13,
   "metadata": {},
   "outputs": [
    {
     "name": "stdout",
     "output_type": "stream",
     "text": [
      "| Build circuit: trivialParamagnet done.\r"
     ]
    },
    {
     "data": {
      "text/plain": [
       "'305ed968-1464-4819-9fc6-5de3410da416'"
      ]
     },
     "execution_count": 13,
     "metadata": {},
     "output_type": "execute_result"
    }
   ],
   "source": [
    "exp1 = expProgram02.measure(\n",
    "    wave='trivialParamagnet',\n",
    "    times=100,\n",
    "    shots=1024,\n",
    ")\n",
    "exp1 "
   ]
  },
  {
   "cell_type": "code",
   "execution_count": 14,
   "metadata": {},
   "outputs": [
    {
     "data": {
      "text/plain": [
       "<ExperimentContainer={\n",
       "    9d9d872e-bb46-4398-a2f4-3c4dca87bc0b: ...\n",
       "    d9e48611-b99b-4afd-9417-12f516077b40: ...\n",
       "    305ed968-1464-4819-9fc6-5de3410da416: ...\n",
       "} with 3 experiments load, a customized dictionary>"
      ]
     },
     "execution_count": 14,
     "metadata": {},
     "output_type": "execute_result"
    }
   ],
   "source": [
    "expProgram02.exps"
   ]
  },
  {
   "attachments": {},
   "cell_type": "markdown",
   "metadata": {},
   "source": [
    "- Then, there is a experiment completed, and we can calculate the Renyi Entropy by `analyze`."
   ]
  },
  {
   "attachments": {},
   "cell_type": "markdown",
   "metadata": {},
   "source": [
    "---\n",
    "\n",
    "## 1.4 Result\n",
    "\n",
    "And we want to know the Renyi Entropy of half system. Then"
   ]
  },
  {
   "cell_type": "code",
   "execution_count": 15,
   "metadata": {},
   "outputs": [
    {
     "name": "stderr",
     "output_type": "stream",
     "text": [
      "| Partition: (0, 4), Measure: (0, 8), 14 workers, 100 overlaps with mitigation. - 00:00 < 00:00\n"
     ]
    },
    {
     "data": {
      "text/plain": [
       "<qurrentRandomized.Analysis with serial=0, analysisInput(degree=(0, 4), shots=1024, unitary_loc=(0, 8)), analysisContent(purity=0.9785594940185547, entropy=0.031268529046730005, and others), 0 unused arguments>"
      ]
     },
     "execution_count": 15,
     "metadata": {},
     "output_type": "execute_result"
    }
   ],
   "source": [
    "expProgram02.exps[exp1].analyze(\n",
    "    (0, 4)\n",
    ")"
   ]
  },
  {
   "attachments": {},
   "cell_type": "markdown",
   "metadata": {},
   "source": [
    "- You will found a report in `reports`"
   ]
  },
  {
   "cell_type": "code",
   "execution_count": 16,
   "metadata": {},
   "outputs": [
    {
     "data": {
      "text/plain": [
       "{0: <qurrentRandomized.Analysis with serial=0, analysisInput(degree=(0, 4), shots=1024, unitary_loc=(0, 8)), analysisContent(purity=0.9785594940185547, entropy=0.031268529046730005, and others), 0 unused arguments>}"
      ]
     },
     "execution_count": 16,
     "metadata": {},
     "output_type": "execute_result"
    }
   ],
   "source": [
    "expProgram02.exps[exp1].reports"
   ]
  },
  {
   "cell_type": "code",
   "execution_count": 22,
   "metadata": {},
   "outputs": [],
   "source": [
    "main, sideProdct = expProgram02.exps[exp1].reports[0].export()"
   ]
  },
  {
   "attachments": {},
   "cell_type": "markdown",
   "metadata": {},
   "source": [
    "- And there is it"
   ]
  },
  {
   "cell_type": "code",
   "execution_count": 23,
   "metadata": {},
   "outputs": [
    {
     "data": {
      "text/plain": [
       "{'purity': 0.9785594940185547,\n",
       " 'entropy': 0.031268529046730005,\n",
       " 'puritySD': 0.9659665600988488,\n",
       " 'entropySD': 1.4241292169127489,\n",
       " 'bitStringRange': [0, 4],\n",
       " 'purityAllSys': 1.0142014884948731,\n",
       " 'entropyAllSys': -0.020344296893044643,\n",
       " 'puritySDAllSys': 1.0984090908248563,\n",
       " 'entropySDAllSys': 1.562479809167018,\n",
       " 'bitsStringRangeAllSys': [0, 8],\n",
       " 'errorRate': -0.007103361431495614,\n",
       " 'mitigatedPurity': 0.9656826557744141,\n",
       " 'mitigatedEntropy': 0.0503789287650794,\n",
       " 'num_qubits': 8,\n",
       " 'measure': 'measure range: (0, 8)',\n",
       " 'measureActually': [0, 8],\n",
       " 'measureActuallyAllSys': [0, 8],\n",
       " 'countsNum': 100,\n",
       " 'input': {'degree': [0, 4], 'shots': 1024, 'unitary_loc': [0, 8]},\n",
       " 'header': {'serial': 0,\n",
       "  'datetime': '2023-05-31 23:17:13',\n",
       "  'summoner': None,\n",
       "  'log': {}}}"
      ]
     },
     "execution_count": 23,
     "metadata": {},
     "output_type": "execute_result"
    }
   ],
   "source": [
    "main"
   ]
  },
  {
   "attachments": {},
   "cell_type": "markdown",
   "metadata": {},
   "source": [
    "- Also, `sideProdct` will record the data of each circuit, and you can use it to do more analysis."
   ]
  },
  {
   "cell_type": "code",
   "execution_count": 24,
   "metadata": {},
   "outputs": [
    {
     "data": {
      "text/plain": [
       "{'purityCells': {0: 0.27643585205078125,\n",
       "  1: 0.34393882751464844,\n",
       "  2: 0.2898597717285156,\n",
       "  3: 0.4466094970703125,\n",
       "  4: 0.3080272674560547,\n",
       "  5: 1.1817150115966797,\n",
       "  6: 0.16468429565429688,\n",
       "  7: 2.6594161987304688,\n",
       "  8: 1.2433929443359375,\n",
       "  9: 0.3359050750732422,\n",
       "  10: 0.5522270202636719,\n",
       "  11: 2.9485111236572266,\n",
       "  12: 4.244045257568359,\n",
       "  13: 0.11956024169921875,\n",
       "  14: 0.28717041015625,\n",
       "  15: 0.4899024963378906,\n",
       "  16: 2.734048843383789,\n",
       "  17: 3.8496475219726562,\n",
       "  18: 0.16120529174804688,\n",
       "  19: 0.6257266998291016,\n",
       "  20: 0.20424652099609375,\n",
       "  21: 0.16297340393066406,\n",
       "  22: 0.5293331146240234,\n",
       "  23: 0.5307464599609375,\n",
       "  24: 0.6971721649169922,\n",
       "  25: 2.411205291748047,\n",
       "  26: 0.9134654998779297,\n",
       "  27: 0.6405467987060547,\n",
       "  28: 0.6970062255859375,\n",
       "  29: 0.33347320556640625,\n",
       "  30: 0.5040874481201172,\n",
       "  31: 0.2035541534423828,\n",
       "  32: 0.8049354553222656,\n",
       "  33: 1.0982017517089844,\n",
       "  34: 1.1844558715820312,\n",
       "  35: 0.8387126922607422,\n",
       "  36: 1.1491279602050781,\n",
       "  37: 0.23339462280273438,\n",
       "  38: 2.0799388885498047,\n",
       "  39: 0.2306365966796875,\n",
       "  40: 3.7584495544433594,\n",
       "  41: 1.1322479248046875,\n",
       "  42: 0.5597858428955078,\n",
       "  43: 0.29151344299316406,\n",
       "  44: 0.6113300323486328,\n",
       "  45: 1.5032367706298828,\n",
       "  46: 0.17596817016601562,\n",
       "  47: 0.2234668731689453,\n",
       "  48: 0.8134384155273438,\n",
       "  49: 0.5440101623535156,\n",
       "  50: 0.6386699676513672,\n",
       "  51: 0.6776943206787109,\n",
       "  52: 0.8495388031005859,\n",
       "  53: 0.5965442657470703,\n",
       "  54: 0.2711200714111328,\n",
       "  55: 0.7540035247802734,\n",
       "  56: 0.29646873474121094,\n",
       "  57: 2.0756473541259766,\n",
       "  58: 2.409351348876953,\n",
       "  59: 0.9812374114990234,\n",
       "  60: 0.3829517364501953,\n",
       "  61: 1.6985015869140625,\n",
       "  62: 0.877044677734375,\n",
       "  63: 0.3801250457763672,\n",
       "  64: 1.6405143737792969,\n",
       "  65: 0.2109355926513672,\n",
       "  66: 1.1431598663330078,\n",
       "  67: 0.4445323944091797,\n",
       "  68: 0.31676483154296875,\n",
       "  69: 0.20576858520507812,\n",
       "  70: 0.1867198944091797,\n",
       "  71: 3.8923168182373047,\n",
       "  72: 0.4513530731201172,\n",
       "  73: 0.3961524963378906,\n",
       "  74: 0.4549980163574219,\n",
       "  75: 1.8670501708984375,\n",
       "  76: 0.5255680084228516,\n",
       "  77: 0.21221160888671875,\n",
       "  78: 1.2892723083496094,\n",
       "  79: 0.5435237884521484,\n",
       "  80: 0.20834922790527344,\n",
       "  81: 3.531902313232422,\n",
       "  82: 0.5587215423583984,\n",
       "  83: 0.7589473724365234,\n",
       "  84: 1.0316600799560547,\n",
       "  85: 0.49927520751953125,\n",
       "  86: 0.6314029693603516,\n",
       "  87: 3.2318668365478516,\n",
       "  88: 0.33542442321777344,\n",
       "  89: 0.13341903686523438,\n",
       "  90: 1.2547626495361328,\n",
       "  91: 1.4850120544433594,\n",
       "  92: 1.0064544677734375,\n",
       "  93: 3.1184158325195312,\n",
       "  94: 0.3627357482910156,\n",
       "  95: 1.3073711395263672,\n",
       "  96: 0.23244476318359375,\n",
       "  97: 0.6217269897460938,\n",
       "  98: 0.6979503631591797,\n",
       "  99: 1.8556747436523438},\n",
       " 'purityCellsAllSys': {0: 0.4427986145019531,\n",
       "  1: 0.5170249938964844,\n",
       "  2: 0.30669403076171875,\n",
       "  3: 0.8454246520996094,\n",
       "  4: 0.3674335479736328,\n",
       "  5: 1.248788833618164,\n",
       "  6: 0.6662845611572266,\n",
       "  7: 0.8169403076171875,\n",
       "  8: 0.4160480499267578,\n",
       "  9: 0.3874664306640625,\n",
       "  10: 0.7873916625976562,\n",
       "  11: 1.7105522155761719,\n",
       "  12: 0.8353137969970703,\n",
       "  13: 0.28932762145996094,\n",
       "  14: 1.2555809020996094,\n",
       "  15: 0.4264850616455078,\n",
       "  16: 3.8357200622558594,\n",
       "  17: 6.59442138671875,\n",
       "  18: 0.2662677764892578,\n",
       "  19: 0.58160400390625,\n",
       "  20: 0.5504875183105469,\n",
       "  21: 0.43541717529296875,\n",
       "  22: 0.3625926971435547,\n",
       "  23: 1.1142234802246094,\n",
       "  24: 0.44230079650878906,\n",
       "  25: 3.4839000701904297,\n",
       "  26: 2.9833526611328125,\n",
       "  27: 0.4101543426513672,\n",
       "  28: 0.8056278228759766,\n",
       "  29: 0.9428253173828125,\n",
       "  30: 0.645050048828125,\n",
       "  31: 0.32546234130859375,\n",
       "  32: 0.583343505859375,\n",
       "  33: 0.6012077331542969,\n",
       "  34: 6.059581756591797,\n",
       "  35: 1.9673805236816406,\n",
       "  36: 0.3991222381591797,\n",
       "  37: 0.4383525848388672,\n",
       "  38: 1.0408897399902344,\n",
       "  39: 0.5831718444824219,\n",
       "  40: 1.828592300415039,\n",
       "  41: 1.524271011352539,\n",
       "  42: 0.2907695770263672,\n",
       "  43: 0.25763893127441406,\n",
       "  44: 0.49224853515625,\n",
       "  45: 1.2367725372314453,\n",
       "  46: 0.27280235290527344,\n",
       "  47: 0.5508480072021484,\n",
       "  48: 0.8377342224121094,\n",
       "  49: 0.8087749481201172,\n",
       "  50: 0.4043235778808594,\n",
       "  51: 0.8199615478515625,\n",
       "  52: 0.5368576049804688,\n",
       "  53: 1.7531013488769531,\n",
       "  54: 0.4267311096191406,\n",
       "  55: 0.7623519897460938,\n",
       "  56: 0.5213737487792969,\n",
       "  57: 0.7969131469726562,\n",
       "  58: 0.35205841064453125,\n",
       "  59: 0.5092945098876953,\n",
       "  60: 0.6170463562011719,\n",
       "  61: 1.9885234832763672,\n",
       "  62: 0.8437480926513672,\n",
       "  63: 0.5078125,\n",
       "  64: 1.5350399017333984,\n",
       "  65: 0.6219043731689453,\n",
       "  66: 2.1917190551757812,\n",
       "  67: 0.41376495361328125,\n",
       "  68: 0.7405281066894531,\n",
       "  69: 0.4160881042480469,\n",
       "  70: 0.25391387939453125,\n",
       "  71: 3.427846908569336,\n",
       "  72: 0.5339908599853516,\n",
       "  73: 0.7152137756347656,\n",
       "  74: 0.36199188232421875,\n",
       "  75: 1.3172473907470703,\n",
       "  76: 0.3881244659423828,\n",
       "  77: 0.30552101135253906,\n",
       "  78: 0.4078941345214844,\n",
       "  79: 0.4578533172607422,\n",
       "  80: 0.2729167938232422,\n",
       "  81: 1.5158767700195312,\n",
       "  82: 0.4790935516357422,\n",
       "  83: 1.300516128540039,\n",
       "  84: 1.1632442474365234,\n",
       "  85: 0.42955780029296875,\n",
       "  86: 0.49513816833496094,\n",
       "  87: 3.334239959716797,\n",
       "  88: 0.25595664978027344,\n",
       "  89: 0.2870159149169922,\n",
       "  90: 0.901214599609375,\n",
       "  91: 0.45795631408691406,\n",
       "  92: 0.7925243377685547,\n",
       "  93: 2.8548355102539062,\n",
       "  94: 2.753131866455078,\n",
       "  95: 0.5886592864990234,\n",
       "  96: 0.5354499816894531,\n",
       "  97: 0.366455078125,\n",
       "  98: 0.3932971954345703,\n",
       "  99: 2.441864013671875}}"
      ]
     },
     "execution_count": 24,
     "metadata": {},
     "output_type": "execute_result"
    }
   ],
   "source": [
    "sideProdct"
   ]
  },
  {
   "cell_type": "code",
   "execution_count": null,
   "metadata": {},
   "outputs": [],
   "source": []
  }
 ],
 "metadata": {
  "kernelspec": {
   "display_name": "quantumsphere11",
   "language": "python",
   "name": "python3"
  },
  "language_info": {
   "codemirror_mode": {
    "name": "ipython",
    "version": 3
   },
   "file_extension": ".py",
   "mimetype": "text/x-python",
   "name": "python",
   "nbconvert_exporter": "python",
   "pygments_lexer": "ipython3",
   "version": "3.11.3"
  },
  "orig_nbformat": 4
 },
 "nbformat": 4,
 "nbformat_minor": 2
}
