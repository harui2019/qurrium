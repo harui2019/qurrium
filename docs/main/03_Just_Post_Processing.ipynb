{
 "cells": [
  {
   "cell_type": "markdown",
   "metadata": {},
   "source": [
    "# 03 - Just Post-Processing\n",
    "\n",
    "We have introduced the workflow from building circuits to executing post-processing to get the final result. However, for some users that already have measurement outcomes from their own calculations, they may want to skip the building circuits and job manager to use the post-processing part only.\n",
    "\n",
    "In this notebook, we will focus on the post-processing part. We will introduce how to access the fuctions that performs post-processing for <u>**those who are familiar with the post-processing procedure and more experienced with Python**</u>."
   ]
  },
  {
   "cell_type": "markdown",
   "metadata": {},
   "source": [
    "## Access the post-processing functions and Rust, Cython acceleration\n",
    "\n",
    "All the functions are located in the `qurry.process` module. You can access them by importing the module.\n",
    "\n",
    "We also prepared Rust and Cython acceleration for the post-processing because Python is notorious for its inefficiency. The post-processing is the most time-consuming part in the workflow, as a result of the exponential amount of quantum data. Thus, acceleration of the process is of extreme importance. \n",
    "\n",
    "For comparison, Rust is the fastest, Cython is the second, and Python is the slowest. You can check whether the acceleration module is available by checking `AVAIBILITY_STATESHEET` from `qurry.process.status`"
   ]
  },
  {
   "cell_type": "code",
   "execution_count": 1,
   "metadata": {},
   "outputs": [
    {
     "data": {
      "text/plain": [
       " | Qurry version: 0.7.6.dev1\n",
       "--------------------------------------------------------\n",
       " ### Qurry Post-Processing\n",
       "   - Backend Availability ......... Python Cython Rust  \n",
       " - randomized_measure\n",
       "   - entangled_core ............... True   True   True  \n",
       "   - purity_cell .................. True   True   True  \n",
       "   - wavefunction_overlap ......... True   True   True  \n",
       "   - echo_cell .................... True   True   True  \n",
       " - utils\n",
       "   - randomized ................... True   True   True  \n",
       "   - construct .................... True   None   True  \n",
       " - hadamard_test\n",
       "   - purity_echo_core ............. True   None   True  \n",
       " - magnet_square\n",
       "   - magnsq_core .................. True   None   None  \n",
       "--------------------------------------------------------\n",
       "   + True ..... Working normally.\n",
       "   + False .... Exception occurred.\n",
       "   + None ..... Not supported.\n",
       "--------------------------------------------------------\n",
       "by <Hoshi>"
      ]
     },
     "execution_count": 1,
     "metadata": {},
     "output_type": "execute_result"
    }
   ],
   "source": [
    "from qurry.process.status import AVAIBILITY_STATESHEET\n",
    "\n",
    "AVAIBILITY_STATESHEET"
   ]
  },
  {
   "cell_type": "markdown",
   "metadata": {},
   "source": [
    "## The Future of Acceleration\n",
    "\n",
    "The future version of Qurry will only maintain Rust acceleration. \n",
    "Cython acceleration that has been implemented will remain in the package, but not be updated anymore. For the computation efficiency of Cython is only slightly better than that of Python. Nonetheless, Cython and Python are hard to work parallelly due to not just **GIL (Global Interpreter Lock) in multi-thread**, but also **memory-wasted and inefficient for each children process in multi-process**. Therefore, we decided to focus on Rust acceleration. Python version will be remained for the compatibility and the convenience of debugging."
   ]
  },
  {
   "cell_type": "markdown",
   "metadata": {},
   "source": [
    "## Content\n",
    "\n",
    "- 3.1 EntropyMeasure\n",
    "  - 3.1.1 Entanglement Entropy - Randomized Measure\n",
    "    - a. [randomized_entangled_entropy](./0311a_EntropyRandomizedMeasure.ipynb)\n",
    "    - b. [randomized_entangled_entropy_mitigated](./0311b_EntropyRandomizedMeasure.ipynb)\n",
    "  - 3.1.2 [Entanglement Entropy - Hadamard Test](./0312_EntropyHadamardTest.ipynb)\n",
    "- 3.2 EchoListen\n",
    "  - This feature has been implemented, but documentation is not ready yet. Please wait for the next version.\n"
   ]
  },
  {
   "cell_type": "code",
   "execution_count": null,
   "metadata": {},
   "outputs": [],
   "source": []
  }
 ],
 "metadata": {
  "kernelspec": {
   "display_name": "Python 3 (ipykernel)",
   "language": "python",
   "name": "python3"
  },
  "language_info": {
   "codemirror_mode": {
    "name": "ipython",
    "version": 3
   },
   "file_extension": ".py",
   "mimetype": "text/x-python",
   "name": "python",
   "nbconvert_exporter": "python",
   "pygments_lexer": "ipython3",
   "version": "3.9.7"
  }
 },
 "nbformat": 4,
 "nbformat_minor": 4
}
