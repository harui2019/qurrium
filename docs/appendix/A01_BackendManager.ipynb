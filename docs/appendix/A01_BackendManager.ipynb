{
 "cells": [
  {
   "cell_type": "markdown",
   "metadata": {},
   "source": [
    "# Appendix 01 - Backend Wrapper and Backend Manager\n",
    "\n",
    "In Qiskit, there are several simulator source like `BasicAer` from `qiskit`, `Aer` from `qiskit-aer` or GPU-based `qiskit-aer` and IBM Provider from `qiskit-ibm-provider` or deprecated `qiskit-ibmq-provider`. To make it easier to use, we can create a wrapper for each simulator and real machine from IBM. This notebook will show how to create a wrapper for the simulators.\n"
   ]
  },
  {
   "cell_type": "code",
   "execution_count": 1,
   "metadata": {},
   "outputs": [],
   "source": [
    "from IPython.display import display"
   ]
  },
  {
   "cell_type": "markdown",
   "metadata": {},
   "source": [
    "---\n",
    "\n",
    "## A1.01 - All the methods in `qiskit` to get a simulator backend"
   ]
  },
  {
   "cell_type": "markdown",
   "metadata": {},
   "source": [
    "### 1. `BasicAer` from `qiskit <= 0.46.0`:\n",
    "   - Ref: https://docs.quantum.ibm.com/api/qiskit/0.19/providers_basicaer"
   ]
  },
  {
   "cell_type": "code",
   "execution_count": 2,
   "metadata": {},
   "outputs": [
    {
     "name": "stdout",
     "output_type": "stream",
     "text": [
      "| BasicAer, which can call by '.get_backend':\n",
      "| - qasm_simulator ....................... <QasmSimulatorPy('qasm_simulator')>\n",
      "| - statevector_simulator ................ <StatevectorSimulatorPy('statevector_simulator')>\n",
      "| - unitary_simulator .................... <UnitarySimulatorPy('unitary_simulator')>\n",
      "| QasmSimulatorPy, which is a direct call:\n",
      "| - qasm_simulator ....................... <QasmSimulatorPy('qasm_simulator')>\n"
     ]
    },
    {
     "data": {
      "text/plain": [
       "<QasmSimulatorPy('qasm_simulator')>"
      ]
     },
     "metadata": {},
     "output_type": "display_data"
    }
   ],
   "source": [
    "try:\n",
    "    from qiskit import BasicAer\n",
    "    from qiskit.providers.basicaer import QasmSimulatorPy\n",
    "\n",
    "    print(\"| BasicAer, which can call by '.get_backend':\")\n",
    "    for backend_wrapper in BasicAer.backends():\n",
    "        print(\"| - \" + (str(backend_wrapper) + \" \").ljust(38, \".\") + \" \" + repr(backend_wrapper))\n",
    "\n",
    "    print(\"| QasmSimulatorPy, which is a direct call:\")\n",
    "    qasm_simulator = QasmSimulatorPy()\n",
    "    print(\n",
    "        \"| - \" + (str(qasm_simulator) + \" \").ljust(38, \".\") + \" \" + repr(qasm_simulator)\n",
    "    )\n",
    "\n",
    "    display(qasm_simulator)\n",
    "except ImportError as e:\n",
    "    print(\"| - Your qiskit version does not support BasicAer.\")"
   ]
  },
  {
   "cell_type": "markdown",
   "metadata": {},
   "source": [
    "### 2. `Aer` from `qiskit-aer`:\n",
    "   - Ref: https://qiskit.github.io/qiskit-aer/getting_started.html"
   ]
  },
  {
   "cell_type": "code",
   "execution_count": 3,
   "metadata": {},
   "outputs": [
    {
     "name": "stdout",
     "output_type": "stream",
     "text": [
      "| Via AerProvider, which can call by '.get_backend':\n",
      "| - aer_simulator ........................ AerSimulator('aer_simulator')\n",
      "| - aer_simulator_statevector ............ AerSimulator('aer_simulator_statevector')\n",
      "| - aer_simulator_statevector_gpu ........ AerSimulator('aer_simulator_statevector_gpu')\n",
      "| - aer_simulator_density_matrix ......... AerSimulator('aer_simulator_density_matrix')\n",
      "| - aer_simulator_density_matrix_gpu ..... AerSimulator('aer_simulator_density_matrix_gpu')\n",
      "| - aer_simulator_stabilizer ............. AerSimulator('aer_simulator_stabilizer')\n",
      "| - aer_simulator_matrix_product_state ... AerSimulator('aer_simulator_matrix_product_state')\n",
      "| - aer_simulator_extended_stabilizer .... AerSimulator('aer_simulator_extended_stabilizer')\n",
      "| - aer_simulator_unitary ................ AerSimulator('aer_simulator_unitary')\n",
      "| - aer_simulator_unitary_gpu ............ AerSimulator('aer_simulator_unitary_gpu')\n",
      "| - aer_simulator_superop ................ AerSimulator('aer_simulator_superop')\n",
      "| - qasm_simulator ....................... QasmSimulator('qasm_simulator')\n",
      "| - statevector_simulator ................ StatevectorSimulator('statevector_simulator')\n",
      "| - unitary_simulator .................... UnitarySimulator('unitary_simulator')\n",
      "| - pulse_simulator ...................... PulseSimulator('pulse_simulator')\n",
      "| Via AerSimulator, which is a direct call:\n",
      "| - aer_simulator ........................ AerSimulator('aer_simulator')\n"
     ]
    },
    {
     "data": {
      "text/plain": [
       "AerSimulator('aer_simulator')"
      ]
     },
     "metadata": {},
     "output_type": "display_data"
    }
   ],
   "source": [
    "try:\n",
    "    from qiskit_aer import AerProvider, AerSimulator\n",
    "\n",
    "    print(\"| Via AerProvider, which can call by '.get_backend':\")\n",
    "    aer_provider = AerProvider()\n",
    "    for backend_wrapper in aer_provider.backends():\n",
    "        print(\"| - \" + (str(backend_wrapper) + \" \").ljust(38, \".\") + \" \" + repr(backend_wrapper))\n",
    "\n",
    "    print(\"| Via AerSimulator, which is a direct call:\")\n",
    "    aer_simulator = AerSimulator()\n",
    "    print(\n",
    "        \"| - \" + (str(aer_simulator) + \" \").ljust(38, \".\") + \" \" + repr(aer_simulator)\n",
    "    )\n",
    "\n",
    "    display(aer_simulator)\n",
    "except ImportError as e:\n",
    "    print(\n",
    "        \"| - You do not install qiskit_aer yet, install by using 'pip install qiskit-aer'.\"\n",
    "    )"
   ]
  },
  {
   "cell_type": "markdown",
   "metadata": {},
   "source": [
    "### 3. Access `qiskit-aer-gpu`:\n",
    "   - Ref: https://qiskit.github.io/qiskit-aer/getting_started.html"
   ]
  },
  {
   "cell_type": "code",
   "execution_count": 4,
   "metadata": {},
   "outputs": [
    {
     "name": "stdout",
     "output_type": "stream",
     "text": [
      "| - Check the available devices: ('CPU', 'GPU')\n",
      "| - Then set option as GPU\n",
      "| - And check again:\n",
      "| - aer_simulator_gpu .................... AerSimulator('aer_simulator_gpu')\n"
     ]
    },
    {
     "data": {
      "text/plain": [
       "AerSimulator('aer_simulator_gpu')"
      ]
     },
     "metadata": {},
     "output_type": "display_data"
    }
   ],
   "source": [
    "try:\n",
    "    aer_simulator_gpu = AerSimulator()\n",
    "\n",
    "    print(\"| - Check the available devices:\", aer_simulator_gpu.available_devices())\n",
    "\n",
    "    print(\"| - Then set option as GPU\")\n",
    "    aer_simulator_gpu.set_options(device=\"GPU\")\n",
    "\n",
    "    print(\"| - And check again:\")\n",
    "    print(\n",
    "        \"| - \"\n",
    "        + (str(aer_simulator_gpu) + \" \").ljust(38, \".\")\n",
    "        + \" \"\n",
    "        + repr(aer_simulator_gpu)\n",
    "    )\n",
    "\n",
    "    display(aer_simulator_gpu)\n",
    "except ImportError as e:\n",
    "    print(\n",
    "        \"| - You do not install qiskit_aer yet, install by using 'pip install qiskit-aer'.\"\n",
    "    )"
   ]
  },
  {
   "cell_type": "markdown",
   "metadata": {},
   "source": [
    "---\n",
    "\n",
    "## A1.02 - Backend Wrapper\n",
    "\n",
    "As previously mentioned, getting a simulator backend is complicated. So `Qurry` introduce a wrapper to make it easier to get a simulator backend."
   ]
  },
  {
   "cell_type": "code",
   "execution_count": 5,
   "metadata": {},
   "outputs": [
    {
     "data": {
      "text/plain": [
       "AerSimulator('aer_simulator_gpu')"
      ]
     },
     "execution_count": 5,
     "metadata": {},
     "output_type": "execute_result"
    }
   ],
   "source": [
    "from qurry import BackendWrapper\n",
    "\n",
    "backend_wrapper = BackendWrapper()\n",
    "backend_wrapper(\"aer\")"
   ]
  },
  {
   "cell_type": "markdown",
   "metadata": {},
   "source": [
    "- If your environment includes the GPU acceleration, `qiskit-aer-gpu`, it will be check the availability to access, if does, the GPU backend will also be available."
   ]
  },
  {
   "cell_type": "code",
   "execution_count": 6,
   "metadata": {},
   "outputs": [
    {
     "name": "stdout",
     "output_type": "stream",
     "text": [
      "| Does we have GPU backend to access: True\n"
     ]
    },
    {
     "data": {
      "text/plain": [
       "AerSimulator('aer_simulator_gpu')"
      ]
     },
     "metadata": {},
     "output_type": "display_data"
    }
   ],
   "source": [
    "print(\"| Does we have GPU backend to access:\", backend_wrapper.is_aer_gpu)\n",
    "try:\n",
    "    # If you have GPU, you can use this backend.\n",
    "    display(backend_wrapper(\"aer_gpu\"))\n",
    "except:\n",
    "    pass"
   ]
  },
  {
   "cell_type": "code",
   "execution_count": 7,
   "metadata": {},
   "outputs": [
    {
     "name": "stdout",
     "output_type": "stream",
     "text": [
      "------------------------------------------------------------\n",
      " ### BackendWrapper Statesheet\n",
      "------------------------------------------------------------\n",
      " #### Simulator\n",
      " - Aer GPU --------------------------- True\n",
      " - Simulator Provider by ------------- qiskit_aer\n",
      "   aer_gpu, aer, aer_statevector,\n",
      "   aer_statevector_gpu, aer_density_matrix, aer_density_matrix_gpu,\n",
      "   aer_stabilizer, aer_matrix_product_state, aer_extended_stabilizer,\n",
      "   aer_unitary, aer_unitary_gpu, aer_superop,\n",
      "   pulse\n",
      " - Available Simulator Backends Callsign\n",
      "   - state ----------------------------- statevector\n",
      "   - aer_state ------------------------- aer_statevector\n",
      "   - aer_density ----------------------- aer_density_matrix\n",
      "   - aer_state_gpu --------------------- aer_statevector_gpu\n",
      "   - aer_density_gpu ------------------- aer_density_matrix_gpu\n",
      "------------------------------------------------------------\n",
      " #### IBM\n",
      "   No Backends Available. Real backends need to be loaded by 'BackendManager' instead of 'BackendWrapper'.\n",
      "   No Callsign Added\n",
      "------------------------------------------------------------\n",
      " #### Fake\n",
      " - Available Fake Backends\n",
      "   No Backends Available. Choose fake version when initializing the backend wrapper.\n",
      "   No Callsign Added\n",
      "------------------------------------------------------------\n",
      " #### Extra\n",
      "   No Backends Available.\n",
      "   No Callsign Added\n",
      "\n"
     ]
    },
    {
     "data": {
      "text/plain": [
       "{'sim': {'aer_gpu': AerSimulator('aer_simulator_gpu'),\n",
       "  'aer': AerSimulator('aer_simulator_gpu'),\n",
       "  'aer_statevector': AerSimulator('aer_simulator_statevector'),\n",
       "  'aer_statevector_gpu': AerSimulator('aer_simulator_statevector_gpu'),\n",
       "  'aer_density_matrix': AerSimulator('aer_simulator_density_matrix'),\n",
       "  'aer_density_matrix_gpu': AerSimulator('aer_simulator_density_matrix_gpu'),\n",
       "  'aer_stabilizer': AerSimulator('aer_simulator_stabilizer'),\n",
       "  'aer_matrix_product_state': AerSimulator('aer_simulator_matrix_product_state'),\n",
       "  'aer_extended_stabilizer': AerSimulator('aer_simulator_extended_stabilizer'),\n",
       "  'aer_unitary': AerSimulator('aer_simulator_unitary'),\n",
       "  'aer_unitary_gpu': AerSimulator('aer_simulator_unitary_gpu'),\n",
       "  'aer_superop': AerSimulator('aer_simulator_superop'),\n",
       "  'pulse': PulseSimulator('pulse_simulator')},\n",
       " 'real': {},\n",
       " 'fake': {},\n",
       " 'extra': {}}"
      ]
     },
     "execution_count": 7,
     "metadata": {},
     "output_type": "execute_result"
    }
   ],
   "source": [
    "print(backend_wrapper.statesheet())\n",
    "backend_wrapper.available_backends"
   ]
  },
  {
   "cell_type": "markdown",
   "metadata": {},
   "source": [
    "- Also, the wrapper can import the fake backend, choosing the fake backend version than it will be imported."
   ]
  },
  {
   "cell_type": "code",
   "execution_count": 8,
   "metadata": {},
   "outputs": [],
   "source": [
    "backend_wrapper_with_fake = BackendWrapper(fake_version='v2')"
   ]
  },
  {
   "cell_type": "code",
   "execution_count": 9,
   "metadata": {},
   "outputs": [
    {
     "name": "stdout",
     "output_type": "stream",
     "text": [
      "------------------------------------------------------------\n",
      " ### BackendWrapper Statesheet\n",
      "------------------------------------------------------------\n",
      " #### Simulator\n",
      " - Aer GPU --------------------------- True\n",
      " - Simulator Provider by ------------- qiskit_aer\n",
      "   aer_gpu, aer, aer_statevector,\n",
      "   aer_statevector_gpu, aer_density_matrix, aer_density_matrix_gpu,\n",
      "   aer_stabilizer, aer_matrix_product_state, aer_extended_stabilizer,\n",
      "   aer_unitary, aer_unitary_gpu, aer_superop,\n",
      "   pulse\n",
      " - Available Simulator Backends Callsign\n",
      "   - state ----------------------------- statevector\n",
      "   - aer_state ------------------------- aer_statevector\n",
      "   - aer_density ----------------------- aer_density_matrix\n",
      "   - aer_state_gpu --------------------- aer_statevector_gpu\n",
      "   - aer_density_gpu ------------------- aer_density_matrix_gpu\n",
      "------------------------------------------------------------\n",
      " #### IBM\n",
      "   No Backends Available. Real backends need to be loaded by 'BackendManager' instead of 'BackendWrapper'.\n",
      "   No Callsign Added\n",
      "------------------------------------------------------------\n",
      " #### Fake\n",
      " - Fake Provider by ------------------ FackBackendV2\n",
      " - Available Fake Backends\n",
      "   fake_almaden, fake_armonk, fake_athens,\n",
      "   fake_auckland, fake_belem, fake_boeblingen,\n",
      "   fake_bogota, fake_brooklyn, fake_burlington,\n",
      "   fake_cairo, fake_cambridge, fake_casablanca,\n",
      "   fake_essex, fake_geneva, fake_guadalupe,\n",
      "   fake_hanoi, fake_jakarta, fake_johannesburg,\n",
      "   fake_kolkata, fake_lagos, fake_lima,\n",
      "   fake_london, fake_manhattan, fake_manila,\n",
      "   fake_melbourne, fake_montreal, fake_mumbai,\n",
      "   fake_nairobi, fake_oslo, fake_ourense,\n",
      "   fake_paris, fake_perth, fake_prague,\n",
      "   fake_poughkeepsie, fake_quito, fake_rochester,\n",
      "   fake_rome, fake_santiago, fake_sherbrooke,\n",
      "   fake_singapore, fake_sydney, fake_toronto,\n",
      "   fake_valencia, fake_vigo, fake_washington,\n",
      "   fake_yorktown\n",
      " - Available Fake Backends Callsign\n",
      "   - fake_almaden ---------------------- fake_almaden\n",
      "   - fake_armonk ----------------------- fake_armonk\n",
      "   - fake_athens ----------------------- fake_athens\n",
      "   - fake_auckland --------------------- fake_auckland\n",
      "   - fake_belem ------------------------ fake_belem\n",
      "   - fake_boeblingen ------------------- fake_boeblingen\n",
      "   - fake_bogota ----------------------- fake_bogota\n",
      "   - fake_brooklyn --------------------- fake_brooklyn\n",
      "   - fake_burlington ------------------- fake_burlington\n",
      "   - fake_cairo ------------------------ fake_cairo\n",
      "   - fake_cambridge -------------------- fake_cambridge\n",
      "   - fake_casablanca ------------------- fake_casablanca\n",
      "   - fake_essex ------------------------ fake_essex\n",
      "   - fake_geneva ----------------------- fake_geneva\n",
      "   - fake_guadalupe -------------------- fake_guadalupe\n",
      "   - fake_hanoi ------------------------ fake_hanoi\n",
      "   - fake_jakarta ---------------------- fake_jakarta\n",
      "   - fake_johannesburg ----------------- fake_johannesburg\n",
      "   - fake_kolkata ---------------------- fake_kolkata\n",
      "   - fake_lagos ------------------------ fake_lagos\n",
      "   - fake_lima ------------------------- fake_lima\n",
      "   - fake_london ----------------------- fake_london\n",
      "   - fake_manhattan -------------------- fake_manhattan\n",
      "   - fake_manila ----------------------- fake_manila\n",
      "   - fake_melbourne -------------------- fake_melbourne\n",
      "   - fake_montreal --------------------- fake_montreal\n",
      "   - fake_mumbai ----------------------- fake_mumbai\n",
      "   - fake_nairobi ---------------------- fake_nairobi\n",
      "   - fake_oslo ------------------------- fake_oslo\n",
      "   - fake_ourense ---------------------- fake_ourense\n",
      "   - fake_paris ------------------------ fake_paris\n",
      "   - fake_perth ------------------------ fake_perth\n",
      "   - fake_prague ----------------------- fake_prague\n",
      "   - fake_poughkeepsie ----------------- fake_poughkeepsie\n",
      "   - fake_quito ------------------------ fake_quito\n",
      "   - fake_rochester -------------------- fake_rochester\n",
      "   - fake_rome ------------------------- fake_rome\n",
      "   - fake_santiago --------------------- fake_santiago\n",
      "   - fake_sherbrooke ------------------- fake_sherbrooke\n",
      "   - fake_singapore -------------------- fake_singapore\n",
      "   - fake_sydney ----------------------- fake_sydney\n",
      "   - fake_toronto ---------------------- fake_toronto\n",
      "   - fake_valencia --------------------- fake_valencia\n",
      "   - fake_vigo ------------------------- fake_vigo\n",
      "   - fake_washington ------------------- fake_washington\n",
      "   - fake_yorktown --------------------- fake_yorktown\n",
      "   - fake_qasm ------------------------- fake_qasm_simulator\n",
      "------------------------------------------------------------\n",
      " #### Extra\n",
      "   No Backends Available.\n",
      "   No Callsign Added\n",
      "\n"
     ]
    },
    {
     "data": {
      "text/plain": [
       "{'sim': {'aer_gpu': AerSimulator('aer_simulator_gpu'),\n",
       "  'aer': AerSimulator('aer_simulator_gpu'),\n",
       "  'aer_statevector': AerSimulator('aer_simulator_statevector'),\n",
       "  'aer_statevector_gpu': AerSimulator('aer_simulator_statevector_gpu'),\n",
       "  'aer_density_matrix': AerSimulator('aer_simulator_density_matrix'),\n",
       "  'aer_density_matrix_gpu': AerSimulator('aer_simulator_density_matrix_gpu'),\n",
       "  'aer_stabilizer': AerSimulator('aer_simulator_stabilizer'),\n",
       "  'aer_matrix_product_state': AerSimulator('aer_simulator_matrix_product_state'),\n",
       "  'aer_extended_stabilizer': AerSimulator('aer_simulator_extended_stabilizer'),\n",
       "  'aer_unitary': AerSimulator('aer_simulator_unitary'),\n",
       "  'aer_unitary_gpu': AerSimulator('aer_simulator_unitary_gpu'),\n",
       "  'aer_superop': AerSimulator('aer_simulator_superop'),\n",
       "  'pulse': PulseSimulator('pulse_simulator')},\n",
       " 'real': {},\n",
       " 'fake': {'fake_almaden': <qiskit.providers.fake_provider.backends.almaden.fake_almaden.FakeAlmadenV2 at 0x728fffedc410>,\n",
       "  'fake_armonk': <qiskit.providers.fake_provider.backends.armonk.fake_armonk.FakeArmonkV2 at 0x728ffc45e650>,\n",
       "  'fake_athens': <qiskit.providers.fake_provider.backends.athens.fake_athens.FakeAthensV2 at 0x728f42c1e710>,\n",
       "  'fake_auckland': <qiskit.providers.fake_provider.backends.auckland.fake_auckland.FakeAuckland at 0x728f429a8c10>,\n",
       "  'fake_belem': <qiskit.providers.fake_provider.backends.belem.fake_belem.FakeBelemV2 at 0x728f429e5050>,\n",
       "  'fake_boeblingen': <qiskit.providers.fake_provider.backends.boeblingen.fake_boeblingen.FakeBoeblingenV2 at 0x728f429ef6d0>,\n",
       "  'fake_bogota': <qiskit.providers.fake_provider.backends.bogota.fake_bogota.FakeBogotaV2 at 0x728f42a14f50>,\n",
       "  'fake_brooklyn': <qiskit.providers.fake_provider.backends.brooklyn.fake_brooklyn.FakeBrooklynV2 at 0x728f42a1f710>,\n",
       "  'fake_burlington': <qiskit.providers.fake_provider.backends.burlington.fake_burlington.FakeBurlingtonV2 at 0x728f428a6e50>,\n",
       "  'fake_cairo': <qiskit.providers.fake_provider.backends.cairo.fake_cairo.FakeCairoV2 at 0x728f429ef690>,\n",
       "  'fake_cambridge': <qiskit.providers.fake_provider.backends.cambridge.fake_cambridge.FakeCambridgeV2 at 0x728f428e0750>,\n",
       "  'fake_casablanca': <qiskit.providers.fake_provider.backends.casablanca.fake_casablanca.FakeCasablancaV2 at 0x728f42bea790>,\n",
       "  'fake_essex': <qiskit.providers.fake_provider.backends.essex.fake_essex.FakeEssexV2 at 0x728f428f5f10>,\n",
       "  'fake_geneva': <qiskit.providers.fake_provider.backends.geneva.fake_geneva.FakeGeneva at 0x728f42c20590>,\n",
       "  'fake_guadalupe': <qiskit.providers.fake_provider.backends.guadalupe.fake_guadalupe.FakeGuadalupeV2 at 0x728f42c0cd90>,\n",
       "  'fake_hanoi': <qiskit.providers.fake_provider.backends.hanoi.fake_hanoi.FakeHanoiV2 at 0x728f4cd12550>,\n",
       "  'fake_jakarta': <qiskit.providers.fake_provider.backends.jakarta.fake_jakarta.FakeJakartaV2 at 0x728f4298c9d0>,\n",
       "  'fake_johannesburg': <qiskit.providers.fake_provider.backends.johannesburg.fake_johannesburg.FakeJohannesburgV2 at 0x728f429996d0>,\n",
       "  'fake_kolkata': <qiskit.providers.fake_provider.backends.kolkata.fake_kolkata.FakeKolkataV2 at 0x728f42c25350>,\n",
       "  'fake_lagos': <qiskit.providers.fake_provider.backends.lagos.fake_lagos.FakeLagosV2 at 0x728f51d2bed0>,\n",
       "  'fake_lima': <qiskit.providers.fake_provider.backends.lima.fake_lima.FakeLimaV2 at 0x728f427ee7d0>,\n",
       "  'fake_london': <qiskit.providers.fake_provider.backends.london.fake_london.FakeLondonV2 at 0x728f427fdbd0>,\n",
       "  'fake_manhattan': <qiskit.providers.fake_provider.backends.manhattan.fake_manhattan.FakeManhattanV2 at 0x728f42c1f510>,\n",
       "  'fake_manila': <qiskit.providers.fake_provider.backends.manila.fake_manila.FakeManilaV2 at 0x728f42c22610>,\n",
       "  'fake_melbourne': <qiskit.providers.fake_provider.backends.melbourne.fake_melbourne.FakeMelbourneV2 at 0x728f42c074d0>,\n",
       "  'fake_montreal': <qiskit.providers.fake_provider.backends.montreal.fake_montreal.FakeMontrealV2 at 0x728f4cd0a390>,\n",
       "  'fake_mumbai': <qiskit.providers.fake_provider.backends.mumbai.fake_mumbai.FakeMumbaiV2 at 0x728f426cb610>,\n",
       "  'fake_nairobi': <qiskit.providers.fake_provider.backends.nairobi.fake_nairobi.FakeNairobiV2 at 0x728f426fb850>,\n",
       "  'fake_oslo': <qiskit.providers.fake_provider.backends.oslo.fake_oslo.FakeOslo at 0x728f427107d0>,\n",
       "  'fake_ourense': <qiskit.providers.fake_provider.backends.ourense.fake_ourense.FakeOurenseV2 at 0x728f4271e2d0>,\n",
       "  'fake_paris': <qiskit.providers.fake_provider.backends.paris.fake_paris.FakeParisV2 at 0x728f42c06f90>,\n",
       "  'fake_perth': <qiskit.providers.fake_provider.backends.perth.fake_perth.FakePerth at 0x728f42c225d0>,\n",
       "  'fake_prague': <qiskit.providers.fake_provider.backends.prague.fake_prague.FakePrague at 0x728f42769d50>,\n",
       "  'fake_poughkeepsie': <qiskit.providers.fake_provider.backends.poughkeepsie.fake_poughkeepsie.FakePoughkeepsieV2 at 0x728f425a0110>,\n",
       "  'fake_quito': <qiskit.providers.fake_provider.backends.quito.fake_quito.FakeQuitoV2 at 0x728f42c22350>,\n",
       "  'fake_rochester': <qiskit.providers.fake_provider.backends.rochester.fake_rochester.FakeRochesterV2 at 0x728f425b7a90>,\n",
       "  'fake_rome': <qiskit.providers.fake_provider.backends.rome.fake_rome.FakeRomeV2 at 0x728f42bea450>,\n",
       "  'fake_santiago': <qiskit.providers.fake_provider.backends.santiago.fake_santiago.FakeSantiagoV2 at 0x728f425cafd0>,\n",
       "  'fake_sherbrooke': <qiskit.providers.fake_provider.backends.sherbrooke.fake_sherbrooke.FakeSherbrooke at 0x728f4cd12610>,\n",
       "  'fake_singapore': <qiskit.providers.fake_provider.backends.singapore.fake_singapore.FakeSingaporeV2 at 0x728f424a2410>,\n",
       "  'fake_sydney': <qiskit.providers.fake_provider.backends.sydney.fake_sydney.FakeSydneyV2 at 0x728f4cd13c50>,\n",
       "  'fake_toronto': <qiskit.providers.fake_provider.backends.toronto.fake_toronto.FakeTorontoV2 at 0x728f424f1350>,\n",
       "  'fake_valencia': <qiskit.providers.fake_provider.backends.valencia.fake_valencia.FakeValenciaV2 at 0x728f425294d0>,\n",
       "  'fake_vigo': <qiskit.providers.fake_provider.backends.vigo.fake_vigo.FakeVigoV2 at 0x728f42533a90>,\n",
       "  'fake_washington': <qiskit.providers.fake_provider.backends.washington.fake_washington.FakeWashingtonV2 at 0x728f42533ad0>,\n",
       "  'fake_yorktown': <qiskit.providers.fake_provider.backends.yorktown.fake_yorktown.FakeYorktownV2 at 0x728f42432090>},\n",
       " 'extra': {}}"
      ]
     },
     "execution_count": 9,
     "metadata": {},
     "output_type": "execute_result"
    }
   ],
   "source": [
    "print(backend_wrapper_with_fake.statesheet())\n",
    "backend_wrapper_with_fake.available_backends"
   ]
  },
  {
   "cell_type": "markdown",
   "metadata": {},
   "source": [
    "---\n",
    "\n",
    "## A1.03 - All the methods in `qiskit` to get a real machine backend\n",
    "\n",
    "In Qiskit, there are also several real machine source. The most common is IBM Provider from `qiskit-ibm-provider` and `qiskit-ibm-runtime` or deprecated `qiskit-ibmq-provider`. To make it easier to use, we also create a wrapper to import backend and save your accounts.\n",
    "\n",
    "But let's see how to save accounts and import the backend in normal way."
   ]
  },
  {
   "cell_type": "markdown",
   "metadata": {},
   "source": [
    "### 1. `IBMProvider` from `qiskit-ibm-provider`:\n",
    "   - Ref: https://docs.quantum.ibm.com/api/qiskit-ibm-provider/qiskit_ibm_provider.IBMProvider\n",
    "\n",
    "a. `IBMProvider.save_account()`"
   ]
  },
  {
   "cell_type": "code",
   "execution_count": 10,
   "metadata": {},
   "outputs": [],
   "source": [
    "from qiskit_ibm_provider import IBMProvider\n",
    "\n",
    "IBMProvider.save_account(\n",
    "    token=\"<INSERT_IBM_QUANTUM_TOKEN>\",\n",
    "    overwrite=False,  # If you want to overwrite the existing account, then set it as True\n",
    ")"
   ]
  },
  {
   "cell_type": "markdown",
   "metadata": {},
   "source": [
    "b. Get the provider and backends"
   ]
  },
  {
   "cell_type": "code",
   "execution_count": 11,
   "metadata": {},
   "outputs": [
    {
     "data": {
      "text/plain": [
       "<IBMProvider>"
      ]
     },
     "metadata": {},
     "output_type": "display_data"
    },
    {
     "data": {
      "text/plain": [
       "[<IBMBackend('ibm_nazca')>,\n",
       " <IBMBackend('ibmq_qasm_simulator')>,\n",
       " <IBMBackend('ibm_cairo')>,\n",
       " <IBMBackend('ibm_hanoi')>,\n",
       " <IBMBackend('ibm_algiers')>,\n",
       " <IBMBackend('ibm_osaka')>,\n",
       " <IBMBackend('ibm_torino')>,\n",
       " <IBMBackend('simulator_extended_stabilizer')>,\n",
       " <IBMBackend('simulator_mps')>,\n",
       " <IBMBackend('simulator_stabilizer')>,\n",
       " <IBMBackend('ibm_brisbane')>,\n",
       " <IBMBackend('simulator_statevector')>,\n",
       " <IBMBackend('ibm_sherbrooke')>,\n",
       " <IBMBackend('ibm_cusco')>,\n",
       " <IBMBackend('ibm_kyoto')>]"
      ]
     },
     "execution_count": 11,
     "metadata": {},
     "output_type": "execute_result"
    }
   ],
   "source": [
    "provider = IBMProvider()\n",
    "display(provider)\n",
    "provider.backends()"
   ]
  },
  {
   "cell_type": "markdown",
   "metadata": {},
   "source": [
    "### 2. `QiskitRuntimeService` from `qiskit-ibm-runtime`:\n",
    "   - Ref: https://docs.quantum.ibm.com/api/qiskit-ibm-runtime/runtime_service\n",
    "   - Ref: https://github.com/Qiskit/qiskit-ibm-runtime\n"
   ]
  },
  {
   "cell_type": "code",
   "execution_count": 12,
   "metadata": {},
   "outputs": [],
   "source": [
    "from qiskit_ibm_runtime import QiskitRuntimeService\n",
    "\n",
    "# Save an IBM Cloud account.\n",
    "QiskitRuntimeService.save_account(\n",
    "    channel=\"ibm_cloud\", token=\"MY_IBM_CLOUD_API_KEY\", instance=\"MY_IBM_CLOUD_CRN\"\n",
    ")\n",
    "\n",
    "# Save an IBM Quantum account.\n",
    "QiskitRuntimeService.save_account(channel=\"ibm_quantum\", token=\"MY_IBM_QUANTUM_TOKEN\")"
   ]
  },
  {
   "cell_type": "code",
   "execution_count": 13,
   "metadata": {},
   "outputs": [
    {
     "data": {
      "text/plain": [
       "[<IBMBackend('ibm_osaka')>,\n",
       " <IBMBackend('simulator_mps')>,\n",
       " <IBMBackend('simulator_stabilizer')>,\n",
       " <IBMBackend('ibm_sherbrooke')>,\n",
       " <IBMBackend('ibm_nazca')>,\n",
       " <IBMBackend('simulator_extended_stabilizer')>,\n",
       " <IBMBackend('simulator_statevector')>,\n",
       " <IBMBackend('ibm_brisbane')>,\n",
       " <IBMBackend('ibm_cairo')>,\n",
       " <IBMBackend('ibm_kyoto')>,\n",
       " <IBMBackend('ibm_torino')>,\n",
       " <IBMBackend('ibmq_qasm_simulator')>,\n",
       " <IBMBackend('ibm_hanoi')>,\n",
       " <IBMBackend('ibm_algiers')>,\n",
       " <IBMBackend('ibm_cusco')>]"
      ]
     },
     "execution_count": 13,
     "metadata": {},
     "output_type": "execute_result"
    }
   ],
   "source": [
    "service = QiskitRuntimeService()\n",
    "\n",
    "service.backends()"
   ]
  },
  {
   "cell_type": "markdown",
   "metadata": {},
   "source": [
    "### 3. Deprecated `IBMQProvider` from `qiskit-ibmq-provider`:\n",
    "This is the old way to get the backend from IBM. It has been deprecated in current version of Qiskit.\n",
    "But there are still some people using it, so we will also show how to use it.\n"
   ]
  },
  {
   "cell_type": "code",
   "execution_count": 14,
   "metadata": {},
   "outputs": [],
   "source": [
    "from qiskit import IBMQ\n",
    "\n",
    "IBMQ.save_account(\n",
    "    token=\"<INSERT_IBM_QUANTUM_TOKEN>\",\n",
    "    overwrite=False,  # If you want to overwrite the existing account, then set it as True\n",
    ")"
   ]
  },
  {
   "cell_type": "code",
   "execution_count": 15,
   "metadata": {},
   "outputs": [
    {
     "name": "stderr",
     "output_type": "stream",
     "text": [
      "/tmp/ipykernel_3810983/3525750903.py:1: DeprecationWarning: The qiskit.IBMQ entrypoint and the qiskit-ibmq-provider package (accessible from 'qiskit.providers.ibmq`) are deprecated and will be removed in a future release. Instead you should use the qiskit-ibm-provider package which is accessible from 'qiskit_ibm_provider'. You can install it with 'pip install qiskit_ibm_provider'. Just replace 'qiskit.IBMQ' with 'qiskit_ibm_provider.IBMProvider'\n",
      "  IBMQ.load_account()\n"
     ]
    }
   ],
   "source": [
    "IBMQ.load_account()\n",
    "old_provider = IBMQ.get_provider(\n",
    "    hub=\"ibm-q\", group=\"open\", project=\"main\"\n",
    ")  # You can change the hub, group, and project"
   ]
  },
  {
   "cell_type": "code",
   "execution_count": 16,
   "metadata": {},
   "outputs": [
    {
     "data": {
      "text/plain": [
       "[<IBMQSimulator('ibmq_qasm_simulator') from IBMQ(hub='ibm-q', group='open', project='main')>,\n",
       " <IBMQSimulator('simulator_statevector') from IBMQ(hub='ibm-q', group='open', project='main')>,\n",
       " <IBMQSimulator('simulator_mps') from IBMQ(hub='ibm-q', group='open', project='main')>,\n",
       " <IBMQSimulator('simulator_extended_stabilizer') from IBMQ(hub='ibm-q', group='open', project='main')>,\n",
       " <IBMQSimulator('simulator_stabilizer') from IBMQ(hub='ibm-q', group='open', project='main')>,\n",
       " <IBMQBackend('ibm_brisbane') from IBMQ(hub='ibm-q', group='open', project='main')>,\n",
       " <IBMQBackend('ibm_kyoto') from IBMQ(hub='ibm-q', group='open', project='main')>,\n",
       " <IBMQBackend('ibm_osaka') from IBMQ(hub='ibm-q', group='open', project='main')>]"
      ]
     },
     "execution_count": 16,
     "metadata": {},
     "output_type": "execute_result"
    }
   ],
   "source": [
    "old_provider.backends()"
   ]
  },
  {
   "cell_type": "markdown",
   "metadata": {},
   "source": [
    "---\n",
    "\n",
    "## A1.04 - Backend Manager\n",
    "\n",
    "- So far, we have shown you how to import the backend in the normal way. But it is still complicated to import the backend. So we introduce a more powerful class `backendManager` to import the backend more easily. It basically wraps the `backendWrapper` with `IBMProvider` from `qiskit-ibm-provider` and `IBMQProvider` from deprecated `qiskit-ibmq-provider` for old version user together.\n"
   ]
  },
  {
   "cell_type": "code",
   "execution_count": 17,
   "metadata": {},
   "outputs": [],
   "source": [
    "from qurry import BackendManager\n",
    "\n",
    "BackendManager.save_account(\n",
    "    token=\"<INSERT_IBM_QUANTUM_TOKEN>\",\n",
    "    overwrite=False,  # If you want to overwrite the existing account, then set it as True\n",
    ")"
   ]
  },
  {
   "cell_type": "code",
   "execution_count": 18,
   "metadata": {},
   "outputs": [
    {
     "name": "stdout",
     "output_type": "stream",
     "text": [
      "| Provider by 'qiskit_ibm_provider'.\n"
     ]
    }
   ],
   "source": [
    "backend_manager = BackendManager(\n",
    "    hub=\"ibm-q\", group=\"open\", project=\"main\",\n",
    "    real_provider_source=\"qiskit_ibm_provider\",  \n",
    "    # You can change the provider source between 'qiskit_ibmq_provider' and 'qiskit_ibm_provider'\n",
    "    # 'qiskit_ibm_provider' is the default provider source.\n",
    ")"
   ]
  },
  {
   "cell_type": "markdown",
   "metadata": {},
   "source": [
    "- By using `backendManager`, you can easily import the backend and save your account. It will also check the availability of the backend and the account. If the backend is not available, it will show you the error message."
   ]
  },
  {
   "cell_type": "code",
   "execution_count": 19,
   "metadata": {},
   "outputs": [
    {
     "name": "stdout",
     "output_type": "stream",
     "text": [
      "------------------------------------------------------------\n",
      " ### BackendWrapper Statesheet\n",
      "------------------------------------------------------------\n",
      " #### Simulator\n",
      " - Aer GPU --------------------------- True\n",
      " - Simulator Provider by ------------- qiskit_aer\n",
      "   aer_gpu, aer, aer_statevector,\n",
      "   aer_statevector_gpu, aer_density_matrix, aer_density_matrix_gpu,\n",
      "   aer_stabilizer, aer_matrix_product_state, aer_extended_stabilizer,\n",
      "   aer_unitary, aer_unitary_gpu, aer_superop,\n",
      "   pulse\n",
      " - Available Simulator Backends Callsign\n",
      "   - state ----------------------------- statevector\n",
      "   - aer_state ------------------------- aer_statevector\n",
      "   - aer_density ----------------------- aer_density_matrix\n",
      "   - aer_state_gpu --------------------- aer_statevector_gpu\n",
      "   - aer_density_gpu ------------------- aer_density_matrix_gpu\n",
      "------------------------------------------------------------\n",
      " #### IBM\n",
      " - IBM Real Provider by -------------- qiskit_ibm_provider\n",
      "   ibm_brisbane, ibm_kyoto, ibm_osaka,\n",
      "   ibmq_qasm_simulator, simulator_extended_stabilizer, simulator_mps,\n",
      "   simulator_statevector, simulator_stabilizer\n",
      " - Available IBM Backends Callsign\n",
      "   - brisbane -------------------------- ibm_brisbane\n",
      "   - kyoto ----------------------------- ibm_kyoto\n",
      "   - osaka ----------------------------- ibm_osaka\n",
      "   - ibmq_qasm_simulator --------------- ibmq_qasm_simulator\n",
      "   - ibmq_qasm ------------------------- ibmq_qasm_simulator\n",
      "------------------------------------------------------------\n",
      " #### Fake\n",
      " - Available Fake Backends\n",
      "   No Backends Available. Choose fake version when initializing the backend wrapper.\n",
      "   No Callsign Added\n",
      "------------------------------------------------------------\n",
      " #### Extra\n",
      "   No Backends Available.\n",
      "   No Callsign Added\n",
      "\n"
     ]
    },
    {
     "data": {
      "text/plain": [
       "{'sim': {'aer_gpu': AerSimulator('aer_simulator_gpu'),\n",
       "  'aer': AerSimulator('aer_simulator_gpu'),\n",
       "  'aer_statevector': AerSimulator('aer_simulator_statevector'),\n",
       "  'aer_statevector_gpu': AerSimulator('aer_simulator_statevector_gpu'),\n",
       "  'aer_density_matrix': AerSimulator('aer_simulator_density_matrix'),\n",
       "  'aer_density_matrix_gpu': AerSimulator('aer_simulator_density_matrix_gpu'),\n",
       "  'aer_stabilizer': AerSimulator('aer_simulator_stabilizer'),\n",
       "  'aer_matrix_product_state': AerSimulator('aer_simulator_matrix_product_state'),\n",
       "  'aer_extended_stabilizer': AerSimulator('aer_simulator_extended_stabilizer'),\n",
       "  'aer_unitary': AerSimulator('aer_simulator_unitary'),\n",
       "  'aer_unitary_gpu': AerSimulator('aer_simulator_unitary_gpu'),\n",
       "  'aer_superop': AerSimulator('aer_simulator_superop'),\n",
       "  'pulse': PulseSimulator('pulse_simulator')},\n",
       " 'real': {'ibm_brisbane': <IBMBackend('ibm_brisbane')>,\n",
       "  'ibm_kyoto': <IBMBackend('ibm_kyoto')>,\n",
       "  'ibm_osaka': <IBMBackend('ibm_osaka')>,\n",
       "  'ibmq_qasm_simulator': <IBMBackend('ibmq_qasm_simulator')>,\n",
       "  'simulator_extended_stabilizer': <IBMBackend('simulator_extended_stabilizer')>,\n",
       "  'simulator_mps': <IBMBackend('simulator_mps')>,\n",
       "  'simulator_statevector': <IBMBackend('simulator_statevector')>,\n",
       "  'simulator_stabilizer': <IBMBackend('simulator_stabilizer')>},\n",
       " 'fake': {},\n",
       " 'extra': {}}"
      ]
     },
     "execution_count": 19,
     "metadata": {},
     "output_type": "execute_result"
    }
   ],
   "source": [
    "print(backend_manager.statesheet())\n",
    "backend_manager.available_backends"
   ]
  },
  {
   "cell_type": "code",
   "execution_count": 20,
   "metadata": {},
   "outputs": [
    {
     "data": {
      "text/plain": [
       "AerSimulator('aer_simulator_gpu')"
      ]
     },
     "execution_count": 20,
     "metadata": {},
     "output_type": "execute_result"
    }
   ],
   "source": [
    "backend_manager('aer')"
   ]
  },
  {
   "cell_type": "code",
   "execution_count": 21,
   "metadata": {},
   "outputs": [
    {
     "ename": "ValueError",
     "evalue": "'ibmq_x2' unknown backend or backend callsign.",
     "output_type": "error",
     "traceback": [
      "\u001b[0;31m---------------------------------------------------------------------------\u001b[0m",
      "\u001b[0;31mValueError\u001b[0m                                Traceback (most recent call last)",
      "Cell \u001b[0;32mIn[21], line 1\u001b[0m\n\u001b[0;32m----> 1\u001b[0m \u001b[43mbackend_manager\u001b[49m\u001b[43m(\u001b[49m\u001b[38;5;124;43m'\u001b[39;49m\u001b[38;5;124;43mibmq_x2\u001b[39;49m\u001b[38;5;124;43m'\u001b[39;49m\u001b[43m)\u001b[49m \u001b[38;5;66;03m# ibmq_x2 is a retired real quantum device\u001b[39;00m\n",
      "File \u001b[0;32m~/anaconda3/envs/quantumsphere11/lib/python3.11/site-packages/qurry/tools/backend/backend_manager.py:449\u001b[0m, in \u001b[0;36mBackendWrapper.__call__\u001b[0;34m(self, backend_name)\u001b[0m\n\u001b[1;32m    444\u001b[0m     \u001b[38;5;28;01mif\u001b[39;00m backend_name \u001b[38;5;129;01min\u001b[39;00m \u001b[38;5;28mself\u001b[39m\u001b[38;5;241m.\u001b[39mbackend_callsign_dict[avaiable_type]:\n\u001b[1;32m    445\u001b[0m         \u001b[38;5;28;01mreturn\u001b[39;00m \u001b[38;5;28mself\u001b[39m\u001b[38;5;241m.\u001b[39mbackend_dict[avaiable_type][\n\u001b[1;32m    446\u001b[0m             \u001b[38;5;28mself\u001b[39m\u001b[38;5;241m.\u001b[39mbackend_callsign_dict[avaiable_type][backend_name]\n\u001b[1;32m    447\u001b[0m         ]\n\u001b[0;32m--> 449\u001b[0m \u001b[38;5;28;01mraise\u001b[39;00m \u001b[38;5;167;01mValueError\u001b[39;00m(\u001b[38;5;124mf\u001b[39m\u001b[38;5;124m\"\u001b[39m\u001b[38;5;124m'\u001b[39m\u001b[38;5;132;01m{\u001b[39;00mbackend_name\u001b[38;5;132;01m}\u001b[39;00m\u001b[38;5;124m'\u001b[39m\u001b[38;5;124m unknown backend or backend callsign.\u001b[39m\u001b[38;5;124m\"\u001b[39m)\n",
      "\u001b[0;31mValueError\u001b[0m: 'ibmq_x2' unknown backend or backend callsign."
     ]
    }
   ],
   "source": [
    "backend_manager('ibmq_x2') # ibmq_x2 is a retired real quantum device"
   ]
  },
  {
   "cell_type": "markdown",
   "metadata": {},
   "source": [
    "- Of course, you can also import fake backend by choosing the fake backend version."
   ]
  },
  {
   "cell_type": "code",
   "execution_count": 22,
   "metadata": {},
   "outputs": [
    {
     "name": "stdout",
     "output_type": "stream",
     "text": [
      "| Provider by 'qiskit_ibm_provider'.\n"
     ]
    }
   ],
   "source": [
    "backend_manager_with_fake = BackendManager(\n",
    "    fake_version='v2',\n",
    "    hub=\"ibm-q\", group=\"open\", project=\"main\",\n",
    ")"
   ]
  },
  {
   "cell_type": "code",
   "execution_count": 23,
   "metadata": {},
   "outputs": [
    {
     "name": "stdout",
     "output_type": "stream",
     "text": [
      "------------------------------------------------------------\n",
      " ### BackendWrapper Statesheet\n",
      "------------------------------------------------------------\n",
      " #### Simulator\n",
      " - Aer GPU --------------------------- True\n",
      " - Simulator Provider by ------------- qiskit_aer\n",
      "   aer_gpu, aer, aer_statevector,\n",
      "   aer_statevector_gpu, aer_density_matrix, aer_density_matrix_gpu,\n",
      "   aer_stabilizer, aer_matrix_product_state, aer_extended_stabilizer,\n",
      "   aer_unitary, aer_unitary_gpu, aer_superop,\n",
      "   pulse\n",
      " - Available Simulator Backends Callsign\n",
      "   - state ----------------------------- statevector\n",
      "   - aer_state ------------------------- aer_statevector\n",
      "   - aer_density ----------------------- aer_density_matrix\n",
      "   - aer_state_gpu --------------------- aer_statevector_gpu\n",
      "   - aer_density_gpu ------------------- aer_density_matrix_gpu\n",
      "------------------------------------------------------------\n",
      " #### IBM\n",
      " - IBM Real Provider by -------------- qiskit_ibm_provider\n",
      "   ibm_osaka, ibmq_qasm_simulator, simulator_extended_stabilizer,\n",
      "   simulator_mps, simulator_statevector, simulator_stabilizer,\n",
      "   ibm_brisbane, ibm_kyoto\n",
      " - Available IBM Backends Callsign\n",
      "   - osaka ----------------------------- ibm_osaka\n",
      "   - ibmq_qasm_simulator --------------- ibmq_qasm_simulator\n",
      "   - brisbane -------------------------- ibm_brisbane\n",
      "   - kyoto ----------------------------- ibm_kyoto\n",
      "   - ibmq_qasm ------------------------- ibmq_qasm_simulator\n",
      "------------------------------------------------------------\n",
      " #### Fake\n",
      " - Fake Provider by ------------------ FackBackendV2\n",
      " - Available Fake Backends\n",
      "   fake_almaden, fake_armonk, fake_athens,\n",
      "   fake_auckland, fake_belem, fake_boeblingen,\n",
      "   fake_bogota, fake_brooklyn, fake_burlington,\n",
      "   fake_cairo, fake_cambridge, fake_casablanca,\n",
      "   fake_essex, fake_geneva, fake_guadalupe,\n",
      "   fake_hanoi, fake_jakarta, fake_johannesburg,\n",
      "   fake_kolkata, fake_lagos, fake_lima,\n",
      "   fake_london, fake_manhattan, fake_manila,\n",
      "   fake_melbourne, fake_montreal, fake_mumbai,\n",
      "   fake_nairobi, fake_oslo, fake_ourense,\n",
      "   fake_paris, fake_perth, fake_prague,\n",
      "   fake_poughkeepsie, fake_quito, fake_rochester,\n",
      "   fake_rome, fake_santiago, fake_sherbrooke,\n",
      "   fake_singapore, fake_sydney, fake_toronto,\n",
      "   fake_valencia, fake_vigo, fake_washington,\n",
      "   fake_yorktown\n",
      " - Available Fake Backends Callsign\n",
      "   - fake_almaden ---------------------- fake_almaden\n",
      "   - fake_armonk ----------------------- fake_armonk\n",
      "   - fake_athens ----------------------- fake_athens\n",
      "   - fake_auckland --------------------- fake_auckland\n",
      "   - fake_belem ------------------------ fake_belem\n",
      "   - fake_boeblingen ------------------- fake_boeblingen\n",
      "   - fake_bogota ----------------------- fake_bogota\n",
      "   - fake_brooklyn --------------------- fake_brooklyn\n",
      "   - fake_burlington ------------------- fake_burlington\n",
      "   - fake_cairo ------------------------ fake_cairo\n",
      "   - fake_cambridge -------------------- fake_cambridge\n",
      "   - fake_casablanca ------------------- fake_casablanca\n",
      "   - fake_essex ------------------------ fake_essex\n",
      "   - fake_geneva ----------------------- fake_geneva\n",
      "   - fake_guadalupe -------------------- fake_guadalupe\n",
      "   - fake_hanoi ------------------------ fake_hanoi\n",
      "   - fake_jakarta ---------------------- fake_jakarta\n",
      "   - fake_johannesburg ----------------- fake_johannesburg\n",
      "   - fake_kolkata ---------------------- fake_kolkata\n",
      "   - fake_lagos ------------------------ fake_lagos\n",
      "   - fake_lima ------------------------- fake_lima\n",
      "   - fake_london ----------------------- fake_london\n",
      "   - fake_manhattan -------------------- fake_manhattan\n",
      "   - fake_manila ----------------------- fake_manila\n",
      "   - fake_melbourne -------------------- fake_melbourne\n",
      "   - fake_montreal --------------------- fake_montreal\n",
      "   - fake_mumbai ----------------------- fake_mumbai\n",
      "   - fake_nairobi ---------------------- fake_nairobi\n",
      "   - fake_oslo ------------------------- fake_oslo\n",
      "   - fake_ourense ---------------------- fake_ourense\n",
      "   - fake_paris ------------------------ fake_paris\n",
      "   - fake_perth ------------------------ fake_perth\n",
      "   - fake_prague ----------------------- fake_prague\n",
      "   - fake_poughkeepsie ----------------- fake_poughkeepsie\n",
      "   - fake_quito ------------------------ fake_quito\n",
      "   - fake_rochester -------------------- fake_rochester\n",
      "   - fake_rome ------------------------- fake_rome\n",
      "   - fake_santiago --------------------- fake_santiago\n",
      "   - fake_sherbrooke ------------------- fake_sherbrooke\n",
      "   - fake_singapore -------------------- fake_singapore\n",
      "   - fake_sydney ----------------------- fake_sydney\n",
      "   - fake_toronto ---------------------- fake_toronto\n",
      "   - fake_valencia --------------------- fake_valencia\n",
      "   - fake_vigo ------------------------- fake_vigo\n",
      "   - fake_washington ------------------- fake_washington\n",
      "   - fake_yorktown --------------------- fake_yorktown\n",
      "   - fake_qasm ------------------------- fake_qasm_simulator\n",
      "------------------------------------------------------------\n",
      " #### Extra\n",
      "   No Backends Available.\n",
      "   No Callsign Added\n",
      "\n"
     ]
    },
    {
     "data": {
      "text/plain": [
       "{'sim': {'aer_gpu': AerSimulator('aer_simulator_gpu'),\n",
       "  'aer': AerSimulator('aer_simulator_gpu'),\n",
       "  'aer_statevector': AerSimulator('aer_simulator_statevector'),\n",
       "  'aer_statevector_gpu': AerSimulator('aer_simulator_statevector_gpu'),\n",
       "  'aer_density_matrix': AerSimulator('aer_simulator_density_matrix'),\n",
       "  'aer_density_matrix_gpu': AerSimulator('aer_simulator_density_matrix_gpu'),\n",
       "  'aer_stabilizer': AerSimulator('aer_simulator_stabilizer'),\n",
       "  'aer_matrix_product_state': AerSimulator('aer_simulator_matrix_product_state'),\n",
       "  'aer_extended_stabilizer': AerSimulator('aer_simulator_extended_stabilizer'),\n",
       "  'aer_unitary': AerSimulator('aer_simulator_unitary'),\n",
       "  'aer_unitary_gpu': AerSimulator('aer_simulator_unitary_gpu'),\n",
       "  'aer_superop': AerSimulator('aer_simulator_superop'),\n",
       "  'pulse': PulseSimulator('pulse_simulator')},\n",
       " 'real': {'ibm_osaka': <IBMBackend('ibm_osaka')>,\n",
       "  'ibmq_qasm_simulator': <IBMBackend('ibmq_qasm_simulator')>,\n",
       "  'simulator_extended_stabilizer': <IBMBackend('simulator_extended_stabilizer')>,\n",
       "  'simulator_mps': <IBMBackend('simulator_mps')>,\n",
       "  'simulator_statevector': <IBMBackend('simulator_statevector')>,\n",
       "  'simulator_stabilizer': <IBMBackend('simulator_stabilizer')>,\n",
       "  'ibm_brisbane': <IBMBackend('ibm_brisbane')>,\n",
       "  'ibm_kyoto': <IBMBackend('ibm_kyoto')>},\n",
       " 'fake': {'fake_almaden': <qiskit.providers.fake_provider.backends.almaden.fake_almaden.FakeAlmadenV2 at 0x728f19860950>,\n",
       "  'fake_armonk': <qiskit.providers.fake_provider.backends.armonk.fake_armonk.FakeArmonkV2 at 0x728f19c9f810>,\n",
       "  'fake_athens': <qiskit.providers.fake_provider.backends.athens.fake_athens.FakeAthensV2 at 0x728f198aaed0>,\n",
       "  'fake_auckland': <qiskit.providers.fake_provider.backends.auckland.fake_auckland.FakeAuckland at 0x728f198bb8d0>,\n",
       "  'fake_belem': <qiskit.providers.fake_provider.backends.belem.fake_belem.FakeBelemV2 at 0x728f198ebc90>,\n",
       "  'fake_boeblingen': <qiskit.providers.fake_provider.backends.boeblingen.fake_boeblingen.FakeBoeblingenV2 at 0x728f198f23d0>,\n",
       "  'fake_bogota': <qiskit.providers.fake_provider.backends.bogota.fake_bogota.FakeBogotaV2 at 0x728f1971fb90>,\n",
       "  'fake_brooklyn': <qiskit.providers.fake_provider.backends.brooklyn.fake_brooklyn.FakeBrooklynV2 at 0x728f1972e350>,\n",
       "  'fake_burlington': <qiskit.providers.fake_provider.backends.burlington.fake_burlington.FakeBurlingtonV2 at 0x728f197ad550>,\n",
       "  'fake_cairo': <qiskit.providers.fake_provider.backends.cairo.fake_cairo.FakeCairoV2 at 0x728f198f2390>,\n",
       "  'fake_cambridge': <qiskit.providers.fake_provider.backends.cambridge.fake_cambridge.FakeCambridgeV2 at 0x728f197e2210>,\n",
       "  'fake_casablanca': <qiskit.providers.fake_provider.backends.casablanca.fake_casablanca.FakeCasablancaV2 at 0x728f197e2250>,\n",
       "  'fake_essex': <qiskit.providers.fake_provider.backends.essex.fake_essex.FakeEssexV2 at 0x728f197f7790>,\n",
       "  'fake_geneva': <qiskit.providers.fake_provider.backends.geneva.fake_geneva.FakeGeneva at 0x728f40a49390>,\n",
       "  'fake_guadalupe': <qiskit.providers.fake_provider.backends.guadalupe.fake_guadalupe.FakeGuadalupeV2 at 0x728f1962d590>,\n",
       "  'fake_hanoi': <qiskit.providers.fake_provider.backends.hanoi.fake_hanoi.FakeHanoiV2 at 0x728f1964c2d0>,\n",
       "  'fake_jakarta': <qiskit.providers.fake_provider.backends.jakarta.fake_jakarta.FakeJakartaV2 at 0x728f1967ff90>,\n",
       "  'fake_johannesburg': <qiskit.providers.fake_provider.backends.johannesburg.fake_johannesburg.FakeJohannesburgV2 at 0x728f19690a90>,\n",
       "  'fake_kolkata': <qiskit.providers.fake_provider.backends.kolkata.fake_kolkata.FakeKolkataV2 at 0x728f416a6210>,\n",
       "  'fake_lagos': <qiskit.providers.fake_provider.backends.lagos.fake_lagos.FakeLagosV2 at 0x728f196dbfd0>,\n",
       "  'fake_lima': <qiskit.providers.fake_provider.backends.lima.fake_lima.FakeLimaV2 at 0x728f196f0b50>,\n",
       "  'fake_london': <qiskit.providers.fake_provider.backends.london.fake_london.FakeLondonV2 at 0x728f196f7d10>,\n",
       "  'fake_manhattan': <qiskit.providers.fake_provider.backends.manhattan.fake_manhattan.FakeManhattanV2 at 0x728f196f7d50>,\n",
       "  'fake_manila': <qiskit.providers.fake_provider.backends.manila.fake_manila.FakeManilaV2 at 0x728f19ca40d0>,\n",
       "  'fake_melbourne': <qiskit.providers.fake_provider.backends.melbourne.fake_melbourne.FakeMelbourneV2 at 0x728f406974d0>,\n",
       "  'fake_montreal': <qiskit.providers.fake_provider.backends.montreal.fake_montreal.FakeMontrealV2 at 0x728f19ca5550>,\n",
       "  'fake_mumbai': <qiskit.providers.fake_provider.backends.mumbai.fake_mumbai.FakeMumbaiV2 at 0x728f195c23d0>,\n",
       "  'fake_nairobi': <qiskit.providers.fake_provider.backends.nairobi.fake_nairobi.FakeNairobiV2 at 0x728f195f5890>,\n",
       "  'fake_oslo': <qiskit.providers.fake_provider.backends.oslo.fake_oslo.FakeOslo at 0x728f19402510>,\n",
       "  'fake_ourense': <qiskit.providers.fake_provider.backends.ourense.fake_ourense.FakeOurenseV2 at 0x728f19413d50>,\n",
       "  'fake_paris': <qiskit.providers.fake_provider.backends.paris.fake_paris.FakeParisV2 at 0x728f19413dd0>,\n",
       "  'fake_perth': <qiskit.providers.fake_provider.backends.perth.fake_perth.FakePerth at 0x728f19ca4110>,\n",
       "  'fake_prague': <qiskit.providers.fake_provider.backends.prague.fake_prague.FakePrague at 0x728f19452710>,\n",
       "  'fake_poughkeepsie': <qiskit.providers.fake_provider.backends.poughkeepsie.fake_poughkeepsie.FakePoughkeepsieV2 at 0x728f1948c2d0>,\n",
       "  'fake_quito': <qiskit.providers.fake_provider.backends.quito.fake_quito.FakeQuitoV2 at 0x728f1948c350>,\n",
       "  'fake_rochester': <qiskit.providers.fake_provider.backends.rochester.fake_rochester.FakeRochesterV2 at 0x728f194a3b50>,\n",
       "  'fake_rome': <qiskit.providers.fake_provider.backends.rome.fake_rome.FakeRomeV2 at 0x728f194a3b90>,\n",
       "  'fake_santiago': <qiskit.providers.fake_provider.backends.santiago.fake_santiago.FakeSantiagoV2 at 0x728f194baf50>,\n",
       "  'fake_sherbrooke': <qiskit.providers.fake_provider.backends.sherbrooke.fake_sherbrooke.FakeSherbrooke at 0x728f194ca250>,\n",
       "  'fake_singapore': <qiskit.providers.fake_provider.backends.singapore.fake_singapore.FakeSingaporeV2 at 0x728f1938bdd0>,\n",
       "  'fake_sydney': <qiskit.providers.fake_provider.backends.sydney.fake_sydney.FakeSydneyV2 at 0x728f4243f410>,\n",
       "  'fake_toronto': <qiskit.providers.fake_provider.backends.toronto.fake_toronto.FakeTorontoV2 at 0x728f193cdfd0>,\n",
       "  'fake_valencia': <qiskit.providers.fake_provider.backends.valencia.fake_valencia.FakeValenciaV2 at 0x728f19209410>,\n",
       "  'fake_vigo': <qiskit.providers.fake_provider.backends.vigo.fake_vigo.FakeVigoV2 at 0x728f1920f810>,\n",
       "  'fake_washington': <qiskit.providers.fake_provider.backends.washington.fake_washington.FakeWashingtonV2 at 0x728f19b93950>,\n",
       "  'fake_yorktown': <qiskit.providers.fake_provider.backends.yorktown.fake_yorktown.FakeYorktownV2 at 0x728f19116ed0>},\n",
       " 'extra': {}}"
      ]
     },
     "execution_count": 23,
     "metadata": {},
     "output_type": "execute_result"
    }
   ],
   "source": [
    "print(backend_manager_with_fake.statesheet())\n",
    "backend_manager_with_fake.available_backends"
   ]
  },
  {
   "cell_type": "markdown",
   "metadata": {},
   "source": [
    "---\n",
    "\n",
    "## Post-Process Availablities and Version Info\n",
    "\n",
    "We currently do not support Qsikit 1.0 for we are working on it, and we will support it in the future."
   ]
  },
  {
   "cell_type": "code",
   "execution_count": 24,
   "metadata": {},
   "outputs": [
    {
     "name": "stdout",
     "output_type": "stream",
     "text": [
      " | Qurry version: 0.7.1.dev6\n",
      "--------------------------------------------------------\n",
      " ### Qurry Post-Processing\n",
      "   - Backend Availability           Python Cython Rust  \n",
      " - randomized_measure\n",
      "   - entangled_core ............... True   True   True  \n",
      "   - purity_cell .................. True   True   True  \n",
      "   - wavefunction_overlap ......... True   True   None  \n",
      "   - echo_cell .................... True   True   None  \n",
      " - utils\n",
      "   - randomized ................... True   True   True  \n",
      "   - construct .................... True   None   True  \n",
      "--------------------------------------------------------\n",
      "   + True ..... Working normally.\n",
      "   + False .... Exception occurred.\n",
      "   + None ..... Not supported yet.\n",
      "--------------------------------------------------------\n",
      "\n",
      " | Qurry version: 0.7.1.dev6\n",
      "--------------------------------------------\n",
      " ### Qiskit version\n",
      " - main\n",
      "   - qiskit-aer                     0.11.2\n",
      "   - qiskit-aer-gpu                 0.11.2\n",
      "   - qiskit-ibm-provider            0.7.3\n",
      "   - qiskit-ibm-runtime             0.17.0\n",
      " - deprecated\n",
      "   - qiskit-ibmq-provider           0.20.2\n",
      "   - qiskit-terra                   0.23.2\n",
      " - into-community\n",
      "   - qiskit-machine-learning        0.6.1\n",
      "--------------------------------------------\n",
      " + qiskit-aer-gpu should have the same version as qiskit-aer.\n",
      "--------------------------------------------\n",
      "\n"
     ]
    }
   ],
   "source": [
    "from qurry.process import AVAIBILITY_STATESHEET\n",
    "from qurry.tools.qiskit_version import QISKIT_VERSION_STATESHEET\n",
    "print(AVAIBILITY_STATESHEET)\n",
    "print(QISKIT_VERSION_STATESHEET)"
   ]
  },
  {
   "cell_type": "code",
   "execution_count": null,
   "metadata": {},
   "outputs": [],
   "source": []
  }
 ],
 "metadata": {
  "kernelspec": {
   "display_name": "quantumsphere11",
   "language": "python",
   "name": "python3"
  },
  "language_info": {
   "codemirror_mode": {
    "name": "ipython",
    "version": 3
   },
   "file_extension": ".py",
   "mimetype": "text/x-python",
   "name": "python",
   "nbconvert_exporter": "python",
   "pygments_lexer": "ipython3",
   "version": "3.11.3"
  }
 },
 "nbformat": 4,
 "nbformat_minor": 2
}
