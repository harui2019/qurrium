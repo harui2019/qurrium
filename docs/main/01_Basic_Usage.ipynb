{
 "cells": [
  {
   "attachments": {},
   "cell_type": "markdown",
   "metadata": {},
   "source": [
    "# 01 - Basic Usage of Qurry\n",
    "\n",
    "In Qurry, we use the instance of `Qurry` to store Quantum Circuit, experiment, build experiment, and excute them by local simulator or pending to the real quantum machine on `IBM`. In this chapter (or we say this jupyter file), we will introduce how to use Qurry to build a simple quantum circuit and measure their Renyi Entropy by local simulator.\n"
   ]
  },
  {
   "cell_type": "markdown",
   "metadata": {},
   "source": [
    "If you are using Colab, you can run the following command in terminal to install Qurry.\n",
    "\n",
    "```bash\n",
    "pip install -i https://test.pypi.org/simple/ qurry\n",
    "```"
   ]
  },
  {
   "cell_type": "code",
   "execution_count": 1,
   "metadata": {},
   "outputs": [
    {
     "data": {
      "text/plain": [
       "'0.7.2.dev1'"
      ]
     },
     "execution_count": 1,
     "metadata": {},
     "output_type": "execute_result"
    }
   ],
   "source": [
    "from IPython.display import display\n",
    "from qurry import __version__\n",
    "\n",
    "__version__"
   ]
  },
  {
   "attachments": {},
   "cell_type": "markdown",
   "metadata": {},
   "source": [
    "## 1.1 Setup Environment and Creat experiment executor"
   ]
  },
  {
   "cell_type": "code",
   "execution_count": 2,
   "metadata": {},
   "outputs": [],
   "source": [
    "from qurry import EntropyMeasure\n",
    "from qiskit import QuantumCircuit\n"
   ]
  },
  {
   "cell_type": "markdown",
   "metadata": {},
   "source": [
    "- Import simulator"
   ]
  },
  {
   "cell_type": "code",
   "execution_count": 3,
   "metadata": {},
   "outputs": [
    {
     "name": "stderr",
     "output_type": "stream",
     "text": [
      "/tmp/ipykernel_1312891/1158637932.py:1: DeprecationWarning: BasicAer is deprecated since Qiskit 0.46 and will be removed in Qiskit 1.0. The BasicAer (qiskit.providers.basicaer) module has been superseded by  qiskit.providers.basic_provider, and all its classes have been renamed to follow a new naming convention. More information and migration guidelines can be found in the 0.46 API docs for BasicAer.\n",
      "  from qiskit import BasicAer\n"
     ]
    }
   ],
   "source": [
    "from qiskit import BasicAer\n",
    "\n",
    "backend_qasm = BasicAer.get_backend('qasm_simulator')"
   ]
  },
  {
   "attachments": {},
   "cell_type": "markdown",
   "metadata": {},
   "source": [
    "- Now, initialize our `EntropyMeasure`, we have two methods, `randomized` for Randomized Measure as default, and `hadamard` for Hadamard Test, these are our methods for measurement.\n",
    "\n",
    "- In following tutorial, we will use `randomized` as our measurement method."
   ]
  },
  {
   "cell_type": "code",
   "execution_count": 4,
   "metadata": {},
   "outputs": [
    {
     "name": "stdout",
     "output_type": "stream",
     "text": [
      "| The first method is which is `Hadamard Test`\".\n",
      "| The default method is which is `Randomized Measure` we will use.\n"
     ]
    }
   ],
   "source": [
    "experiment_execution_01 = EntropyMeasure(method='hadamard')\n",
    "print(f'| The first method is which is `Hadamard Test`\".')\n",
    "experiment_execution_02 = EntropyMeasure()\n",
    "print(f'| The default method is which is `Randomized Measure` we will use.')"
   ]
  },
  {
   "attachments": {},
   "cell_type": "markdown",
   "metadata": {},
   "source": [
    "---\n",
    "\n",
    "## 1.2 Load quantum circuit\n",
    "\n",
    "- We use `TrivialParamagnet` as our target to measure, and add it to our `Qurry` object, and import from `qurry.case` which there are some simple cases."
   ]
  },
  {
   "cell_type": "code",
   "execution_count": 5,
   "metadata": {},
   "outputs": [],
   "source": [
    "from qurry.recipe import TrivialParamagnet, GHZ"
   ]
  },
  {
   "cell_type": "code",
   "execution_count": 6,
   "metadata": {},
   "outputs": [
    {
     "name": "stdout",
     "output_type": "stream",
     "text": [
      "| trivial paramagnet in 8 qubits:\n",
      "     ┌───┐\n",
      "q_0: ┤ H ├\n",
      "     ├───┤\n",
      "q_1: ┤ H ├\n",
      "     ├───┤\n",
      "q_2: ┤ H ├\n",
      "     ├───┤\n",
      "q_3: ┤ H ├\n",
      "     ├───┤\n",
      "q_4: ┤ H ├\n",
      "     ├───┤\n",
      "q_5: ┤ H ├\n",
      "     ├───┤\n",
      "q_6: ┤ H ├\n",
      "     ├───┤\n",
      "q_7: ┤ H ├\n",
      "     └───┘\n",
      "| GHZ in 8 qubits:\n",
      "     ┌───┐                                   \n",
      "q_0: ┤ H ├──■────────────────────────────────\n",
      "     └───┘┌─┴─┐                              \n",
      "q_1: ─────┤ X ├──■───────────────────────────\n",
      "          └───┘┌─┴─┐                         \n",
      "q_2: ──────────┤ X ├──■──────────────────────\n",
      "               └───┘┌─┴─┐                    \n",
      "q_3: ───────────────┤ X ├──■─────────────────\n",
      "                    └───┘┌─┴─┐               \n",
      "q_4: ────────────────────┤ X ├──■────────────\n",
      "                         └───┘┌─┴─┐          \n",
      "q_5: ─────────────────────────┤ X ├──■───────\n",
      "                              └───┘┌─┴─┐     \n",
      "q_6: ──────────────────────────────┤ X ├──■──\n",
      "                                   └───┘┌─┴─┐\n",
      "q_7: ───────────────────────────────────┤ X ├\n",
      "                                        └───┘\n",
      "| Custom circuit:\n",
      "     ┌───┐\n",
      "q_0: ┤ X ├\n",
      "     └───┘\n",
      "q_1: ─────\n",
      "     ┌───┐\n",
      "q_2: ┤ X ├\n",
      "     └───┘\n",
      "q_3: ─────\n",
      "     ┌───┐\n",
      "q_4: ┤ X ├\n",
      "     └───┘\n",
      "q_5: ─────\n",
      "     ┌───┐\n",
      "q_6: ┤ X ├\n",
      "     └───┘\n",
      "q_7: ─────\n",
      "          \n"
     ]
    }
   ],
   "source": [
    "sample01 = TrivialParamagnet(8)\n",
    "print(\"| trivial paramagnet in 8 qubits:\")\n",
    "print(sample01)\n",
    "sample02 = GHZ(8)\n",
    "print(\"| GHZ in 8 qubits:\")\n",
    "print(sample02)\n",
    "sample03 = QuantumCircuit(8)\n",
    "sample03.x(range(0,8,2))\n",
    "print(\"| Custom circuit:\")\n",
    "print(sample03)"
   ]
  },
  {
   "cell_type": "markdown",
   "metadata": {},
   "source": [
    "- After we prepare three quantum circuits, we can add them to our `Qurry` object.\n",
    "The attribute `.waves` of `Qurry` object is a customized `dict`, we can check it by print it."
   ]
  },
  {
   "cell_type": "code",
   "execution_count": 7,
   "metadata": {},
   "outputs": [
    {
     "name": "stdout",
     "output_type": "stream",
     "text": [
      "<WaveContainer={\n",
      "    TrivialParamagnet: ...\n",
      "    GHZ: ...\n",
      "    2: ...\n",
      "} with 3 waves load, a customized dictionary>\n"
     ]
    }
   ],
   "source": [
    "experiment_execution_02.add(\n",
    "    wave=sample01,              # The circuit object\n",
    "    key='TrivialParamagnet',    # The name of the circuit\n",
    "    replace=False               # True for if you want to replace the circuit with the same name.\n",
    ")                               # Default is False, so if you add the same name when False, \n",
    "                                # it will be added with serial number.\n",
    "experiment_execution_02.add(sample02, 'GHZ')\n",
    "experiment_execution_02.add(sample03)\n",
    "print(experiment_execution_02.waves)"
   ]
  },
  {
   "attachments": {},
   "cell_type": "markdown",
   "metadata": {},
   "source": [
    "If you do not give the name of circuit, it will be named by series number.\n",
    "\n",
    "Now, waves are loading, time to excute."
   ]
  },
  {
   "attachments": {},
   "cell_type": "markdown",
   "metadata": {},
   "source": [
    "## 1.3 Excute Circuits"
   ]
  },
  {
   "cell_type": "markdown",
   "metadata": {},
   "source": [
    "- We can use `.measure()` to excute the specific circuit in `EntropyMeasure` object, and it will return hash id of this experiment and save a `Experiment` object in `EntropyMeasure`.\n",
    "- For `EntropyMeasure`, it will require the following parameters:\n",
    "  - wave: the name of circuit in `Qurry.waves` object\n",
    "  - times: the number of random measurement\n",
    "  - shots: the number of shots for each measurement. Default is 1024"
   ]
  },
  {
   "cell_type": "code",
   "execution_count": 8,
   "metadata": {},
   "outputs": [
    {
     "data": {
      "text/plain": [
       "'972e7f90-7e75-4e51-b698-6d83454e543e'"
      ]
     },
     "execution_count": 8,
     "metadata": {},
     "output_type": "execute_result"
    }
   ],
   "source": [
    "exp1 = experiment_execution_02.measure(\n",
    "    wave='TrivialParamagnet',\n",
    "    times=100,\n",
    "    shots=1024,\n",
    "    backend=backend_qasm\n",
    ")\n",
    "exp1 "
   ]
  },
  {
   "cell_type": "markdown",
   "metadata": {},
   "source": [
    "- You can specify the backend by add a parameter `backend` in `measure` method, if you do not specify, it will use simulator as the default backend. Moreover, qiskit has multiple simulators, they are `QasmSimulatorPy` from `qiskit`, `AerSimulator` from `qiskit-aer`, and `AerSimulator` from `qiskit-aer-gpu`. Qurry will check the availability of these simulators and use the first available one as the default backend in following order:\n",
    "  1. `AerSimulator` from `qiskit-aer-gpu`\n",
    "  2. `AerSimulator` from `qiskit-aer`\n",
    "  3. `QasmSimulatorPy` from `qiskit`"
   ]
  },
  {
   "cell_type": "code",
   "execution_count": 9,
   "metadata": {},
   "outputs": [
    {
     "data": {
      "text/plain": [
       "'25c287a6-738b-4ef0-9903-7090c31bd19c'"
      ]
     },
     "execution_count": 9,
     "metadata": {},
     "output_type": "execute_result"
    }
   ],
   "source": [
    "exp2 = experiment_execution_02.measure(\n",
    "    wave='TrivialParamagnet',\n",
    "    times=100,\n",
    "    shots=1024,\n",
    ")\n",
    "exp2"
   ]
  },
  {
   "cell_type": "markdown",
   "metadata": {},
   "source": [
    "- And we can check the attribute `.exps` of `EntropyMeasure` object, it will return the hash id of all experiments."
   ]
  },
  {
   "cell_type": "code",
   "execution_count": 10,
   "metadata": {},
   "outputs": [
    {
     "name": "stdout",
     "output_type": "stream",
     "text": [
      "<ExperimentContainer={\n",
      "    972e7f90-7e75-4e51-b698-6d83454e543e: ...\n",
      "    25c287a6-738b-4ef0-9903-7090c31bd19c: ...\n",
      "} with 2 experiments load, a customized dictionary>\n"
     ]
    }
   ],
   "source": [
    "print(experiment_execution_02.exps)"
   ]
  },
  {
   "cell_type": "markdown",
   "metadata": {},
   "source": [
    "- The following is the other informatiom you can access."
   ]
  },
  {
   "cell_type": "code",
   "execution_count": 11,
   "metadata": {},
   "outputs": [
    {
     "data": {
      "text/plain": [
       "<qurrentRandomized.Experiment with exp_id=972e7f90-7e75-4e51-b698-6d83454e543e, EntropyRandomizedArguments(exp_name='w=TrivialParamagnet.with100random.qurrent_haar', times=100, measure=(0, 8), unitary_loc=(0, 8), workers_num=16), Commonparams(exp_id='972e7f90-7e75-4e51-b698-6d83454e543e', wave_key='TrivialParamagnet', shots=1024, backend=<QasmSimulatorPy('qasm_simulator')>, run_args={}, transpile_args={}, tags=(), default_analysis=[], save_location=PosixPath('.'), filename='', files={}, serial=None, summoner_id=None, summoner_name=None, datetimes={'build': '2024-04-08 01:23:09', 'run': '2024-04-08 01:23:10'}), 0 unused arguments, 6 preparing dates, 2 experiment result datasets, and 0 analysis>"
      ]
     },
     "execution_count": 11,
     "metadata": {},
     "output_type": "execute_result"
    }
   ],
   "source": [
    "experiment_execution_02.exps[exp1]"
   ]
  },
  {
   "cell_type": "code",
   "execution_count": 12,
   "metadata": {},
   "outputs": [
    {
     "name": "stdout",
     "output_type": "stream",
     "text": [
      " # qurrentRandomized.Experiment with exp_id=972e7f90-7e75-4e51-b698-6d83454e543e\n",
      " - arguments\n",
      "   - exp_name ---------------- w=TrivialParamagnet.with100random.qurrent_haar\n",
      "   - times ------------------- 100\n",
      "   - measure ----------------- (0, 8)\n",
      "   - unitary_loc ------------- (0, 8)\n",
      "   - workers_num ------------- 16\n",
      " - commonparams\n",
      "   - exp_id ------------------ 972e7f90-7e75-4e51-b698-6d83454e543e   # This is ID is generated by Qurry which is different from 'job_id' for pending.\n",
      "   - wave_key ---------------- TrivialParamagnet\n",
      "   - shots ------------------- 1024\n",
      "   - backend ----------------- qasm_simulator\n",
      "   - run_args ---------------- {}\n",
      "   - transpile_args ---------- {}\n",
      "   - tags -------------------- ()\n",
      "   - default_analysis -------- []\n",
      "   - save_location ----------- .\n",
      "   - filename ---------------- \n",
      "   - files ------------------- {}\n",
      "   - serial ------------------ None\n",
      "   - summoner_id ------------- None\n",
      "   - summoner_name ----------- None\n",
      "   - datetimes --------------- {'build': '2024-04-08 01:23:09', 'run': '2024-04-08 01:23:10'}\n",
      " - outfields --------------- 0 ........  # Number of unused arguments.\n",
      " - beforewards\n",
      "   - circuit ----------------- 100 ......  # Number of circuit\n",
      "   - circuit_qasm ------------ 100 ......  # Number of circuit_qasm\n",
      "   - fig_original ------------ 0 ........  # Number of fig_original\n",
      "   - job_id ------------------ 89e79cf5-d326-41cf-89e1-2622eefdc7ae\n",
      "   - exp_name ---------------- w=TrivialParamagnet.with100random.qurrent_haar\n",
      "   - side_product ------------ 2 ........  # Number of side_product\n",
      " - afterwards\n",
      "   - result ------------------ 1 ........  # Number of result\n",
      "   - counts ------------------ 100 ......  # Number of counts\n",
      " - reports ----------------- 0 ........  # Number of analysis.\n",
      "\n"
     ]
    }
   ],
   "source": [
    "print(experiment_execution_02.exps[exp1].statesheet())"
   ]
  },
  {
   "attachments": {},
   "cell_type": "markdown",
   "metadata": {},
   "source": [
    "- Then, there is a experiment completed, and we can calculate the Renyi Entropy by `analyze`."
   ]
  },
  {
   "attachments": {},
   "cell_type": "markdown",
   "metadata": {},
   "source": [
    "---\n",
    "\n",
    "## 1.4 Result\n",
    "\n",
    "- We want to know the Renyi Entropy of half system. Then we can use `.analyze()` to calculate it and it will store a `Analysis` object in `Experiment`.\n",
    "- The following is the parameter `analyze` of `EntropyMeasure` required.\n",
    "  - degree: The size or range of subsystem, if it is a number, it will be the size of subsystem, if it is a tuple, it will be the range of subsystem."
   ]
  },
  {
   "cell_type": "markdown",
   "metadata": {},
   "source": [
    "### Bit select hint\n",
    "\n",
    "A bit string mapping to the index of qubit is `'76543210'` for 8 qubits example here.\n",
    "\n",
    "| the input | bitStringRange | String Slice | Actual Qubit Included |\n",
    "| --- | --- | --- | --- |\n",
    "| `2` | `(6, 8)` | `'10'` | 01 |\n",
    "| `4` | `(4, 8)` | `'3210'` | 0123 |\n",
    "| `6` | `(2, 8)` | `'543210'` | 012345 |\n",
    "| `(2, 4)` | `(2, 4)` | `'54'` | 45 |\n",
    "| `(4, 6)` | `(4, 6)` | `'32'` | 23 |\n",
    "| `(2, 6)` | `(2, 6)` | `'5432'` | 2345 |\n",
    "| `(-2, 2)` | `(-2, 2)` | `'1076'` | 6701 |\n",
    "| `(-4, 2)` | `(-4, 2)` | `'321076'` | 670123 |\n",
    "| `(-2, 4)` | `(-2, 4)` | `'107654'` | 456701 |\n",
    "| `3` | `(5, 8)` | `'210'` | 012 |\n",
    "| `(5, 7)` | `(5, 7)` | `'21'` | 12 |\n",
    "| `(4, 7)` | `(4, 7)` | `'321'` | 123 |\n"
   ]
  },
  {
   "cell_type": "code",
   "execution_count": 13,
   "metadata": {},
   "outputs": [
    {
     "data": {
      "application/vnd.jupyter.widget-view+json": {
       "model_id": "0f5ae0f93a034f769eaf256b3c2d82a1",
       "version_major": 2,
       "version_minor": 0
      },
      "text/plain": [
       "|  - 00:00 < ?"
      ]
     },
     "metadata": {},
     "output_type": "display_data"
    },
    {
     "data": {
      "application/vnd.jupyter.widget-view+json": {
       "model_id": "6d54f209b08449a883b7a1c482758cac",
       "version_major": 2,
       "version_minor": 0
      },
      "text/plain": [
       "|  - 00:00 < ?"
      ]
     },
     "metadata": {},
     "output_type": "display_data"
    }
   ],
   "source": [
    "exp1_report1 = experiment_execution_02.exps[exp1].analyze(\n",
    "    degree=(3, 4)\n",
    ")\n",
    "exp1_report2 = experiment_execution_02.exps[exp1].analyze(\n",
    "    degree=1\n",
    ")"
   ]
  },
  {
   "cell_type": "markdown",
   "metadata": {},
   "source": [
    "- The `analyze` will return the result of this analysis."
   ]
  },
  {
   "cell_type": "code",
   "execution_count": 14,
   "metadata": {},
   "outputs": [
    {
     "name": "stdout",
     "output_type": "stream",
     "text": [
      "<qurrentRandomized.Analysis with serial=0, AnalysisInput(degree=(3, 4), shots=1024, unitary_loc=(0, 8)), AnalysisContent(purity=0.9235139083862305, entropy=0.11479440611197787, and others), 0 unused arguments>\n",
      "AnalysisHeader(serial=0, datetime='2024-04-08 01:23:11', summoner=None, log={})\n"
     ]
    }
   ],
   "source": [
    "print(exp1_report1)\n",
    "print(exp1_report1.header)"
   ]
  },
  {
   "cell_type": "markdown",
   "metadata": {},
   "source": [
    "- It can also be found in the attribute `.reports` of `Experiment` object."
   ]
  },
  {
   "cell_type": "code",
   "execution_count": 15,
   "metadata": {},
   "outputs": [
    {
     "name": "stdout",
     "output_type": "stream",
     "text": [
      "<AnalysisContainer={\n",
      "    0: ...\n",
      "    1: ...\n",
      "} with 2 analysis load, a customized dictionary>\n",
      "<qurrentRandomized.Analysis with serial=0, AnalysisInput(degree=(3, 4), shots=1024, unitary_loc=(0, 8)), AnalysisContent(purity=0.9235139083862305, entropy=0.11479440611197787, and others), 0 unused arguments>\n",
      "AnalysisHeader(serial=0, datetime='2024-04-08 01:23:11', summoner=None, log={})\n"
     ]
    }
   ],
   "source": [
    "print(experiment_execution_02.exps[exp1].reports)\n",
    "print(experiment_execution_02.exps[exp1].reports[0])\n",
    "print(experiment_execution_02.exps[exp1].reports[0].header)"
   ]
  },
  {
   "cell_type": "markdown",
   "metadata": {},
   "source": [
    "- We can use `.export()` to get the result of this analysis."
   ]
  },
  {
   "cell_type": "code",
   "execution_count": 16,
   "metadata": {},
   "outputs": [],
   "source": [
    "main, side_prodct = experiment_execution_02.exps[exp1].reports[0].export()"
   ]
  },
  {
   "attachments": {},
   "cell_type": "markdown",
   "metadata": {},
   "source": [
    "- And there is it"
   ]
  },
  {
   "cell_type": "code",
   "execution_count": 17,
   "metadata": {},
   "outputs": [
    {
     "data": {
      "text/plain": [
       "{'purity': 0.9235139083862305,\n",
       " 'entropy': 0.11479440611197787,\n",
       " 'puritySD': 0.4376245218163771,\n",
       " 'entropySD': 0.6836483150526039,\n",
       " 'bitStringRange': [3, 4],\n",
       " 'allSystemSource': 'independent',\n",
       " 'purityAllSys': 1.1075023651123046,\n",
       " 'entropyAllSys': -0.14730977971225714,\n",
       " 'puritySDAllSys': 1.38595359780548,\n",
       " 'entropySDAllSys': 1.8054213204803637,\n",
       " 'bitsStringRangeAllSys': [0, 8],\n",
       " 'errorRate': -0.05257966112532599,\n",
       " 'mitigatedPurity': 0.8822590088935455,\n",
       " 'mitigatedEntropy': 0.18072583820802568,\n",
       " 'num_qubits': 8,\n",
       " 'measure': ['measure range:', [0, 8]],\n",
       " 'measureActually': [0, 8],\n",
       " 'measureActuallyAllSys': [0, 8],\n",
       " 'countsNum': 100,\n",
       " 'takingTime': 0.000714141,\n",
       " 'takingTimeAllSys': 0.003762497,\n",
       " 'input': {'degree': [3, 4], 'shots': 1024, 'unitary_loc': [0, 8]},\n",
       " 'header': {'serial': 0,\n",
       "  'datetime': '2024-04-08 01:23:11',\n",
       "  'summoner': None,\n",
       "  'log': {}}}"
      ]
     },
     "execution_count": 17,
     "metadata": {},
     "output_type": "execute_result"
    }
   ],
   "source": [
    "main"
   ]
  },
  {
   "attachments": {},
   "cell_type": "markdown",
   "metadata": {},
   "source": [
    "- Also, `sideProdct` will record the data of each circuit, and you can use it to do more analysis."
   ]
  },
  {
   "cell_type": "code",
   "execution_count": 18,
   "metadata": {},
   "outputs": [
    {
     "data": {
      "text/plain": [
       "{'purityCells': {97: 1.192962646484375,\n",
       "  41: 1.018423080444336,\n",
       "  34: 1.9534912109375,\n",
       "  42: 1.2170639038085938,\n",
       "  89: 1.4431991577148438,\n",
       "  48: 1.543294906616211,\n",
       "  21: 1.753265380859375,\n",
       "  22: 0.6287460327148438,\n",
       "  72: 0.5837764739990234,\n",
       "  31: 0.7620468139648438,\n",
       "  49: 0.5000057220458984,\n",
       "  33: 1.067770004272461,\n",
       "  18: 1.633108139038086,\n",
       "  68: 1.258148193359375,\n",
       "  75: 0.702239990234375,\n",
       "  98: 0.9945907592773438,\n",
       "  78: 0.797454833984375,\n",
       "  45: 1.161468505859375,\n",
       "  56: 0.6446590423583984,\n",
       "  5: 0.5837764739990234,\n",
       "  30: 1.6128292083740234,\n",
       "  39: 1.791036605834961,\n",
       "  28: 1.046346664428711,\n",
       "  53: 0.5166854858398438,\n",
       "  60: 0.6732406616210938,\n",
       "  64: 0.612152099609375,\n",
       "  67: 1.361419677734375,\n",
       "  88: 0.6042842864990234,\n",
       "  91: 0.9845485687255859,\n",
       "  62: 0.5505599975585938,\n",
       "  4: 0.5473842620849609,\n",
       "  54: 1.5777816772460938,\n",
       "  80: 0.5087032318115234,\n",
       "  90: 1.225189208984375,\n",
       "  96: 0.5030269622802734,\n",
       "  84: 0.511077880859375,\n",
       "  99: 0.6673183441162109,\n",
       "  44: 0.8838405609130859,\n",
       "  74: 1.9650497436523438,\n",
       "  20: 1.930511474609375,\n",
       "  14: 1.1421566009521484,\n",
       "  77: 0.5038681030273438,\n",
       "  70: 0.7175807952880859,\n",
       "  19: 1.126913070678711,\n",
       "  51: 0.8000698089599609,\n",
       "  23: 0.6322021484375,\n",
       "  2: 0.5012874603271484,\n",
       "  38: 0.5234375,\n",
       "  83: 0.7820053100585938,\n",
       "  71: 0.5463485717773438,\n",
       "  79: 0.8026962280273438,\n",
       "  59: 0.5012874603271484,\n",
       "  26: 0.7719345092773438,\n",
       "  37: 1.6587142944335938,\n",
       "  1: 1.9534912109375,\n",
       "  16: 0.5256862640380859,\n",
       "  7: 1.6027584075927734,\n",
       "  50: 0.6446590423583984,\n",
       "  25: 0.6712551116943359,\n",
       "  47: 0.5288448333740234,\n",
       "  55: 1.633108139038086,\n",
       "  24: 1.3132686614990234,\n",
       "  32: 1.208984375,\n",
       "  65: 0.5348129272460938,\n",
       "  36: 0.9582729339599609,\n",
       "  76: 0.6712551116943359,\n",
       "  8: 1.253988265991211,\n",
       "  57: 0.5922908782958984,\n",
       "  58: 0.8323421478271484,\n",
       "  63: 1.27490234375,\n",
       "  82: 0.507415771484375,\n",
       "  13: 0.6979598999023438,\n",
       "  85: 0.6634273529052734,\n",
       "  6: 0.8351058959960938,\n",
       "  9: 1.885101318359375,\n",
       "  15: 0.5894069671630859,\n",
       "  11: 0.5865688323974609,\n",
       "  92: 0.5607051849365234,\n",
       "  69: 1.6484375,\n",
       "  0: 0.526458740234375,\n",
       "  12: 0.5115871429443359,\n",
       "  40: 0.5433101654052734,\n",
       "  66: 0.6089706420898438,\n",
       "  35: 0.5394191741943359,\n",
       "  93: 0.5655117034912109,\n",
       "  86: 0.8462753295898438,\n",
       "  52: 0.5032958984375,\n",
       "  27: 1.1771240234375,\n",
       "  94: 0.7451839447021484,\n",
       "  81: 1.41552734375,\n",
       "  3: 0.5705013275146484,\n",
       "  73: 0.9295883178710938,\n",
       "  43: 0.5463485717773438,\n",
       "  46: 0.67724609375,\n",
       "  29: 0.5070095062255859,\n",
       "  61: 1.4478511810302734,\n",
       "  87: 0.5016536712646484,\n",
       "  95: 1.3882675170898438,\n",
       "  10: 0.5618896484375,\n",
       "  17: 0.5413417816162109},\n",
       " 'purityCellsAllSys': {93: 0.4706764221191406,\n",
       "  2: 0.34598731994628906,\n",
       "  24: 0.2811393737792969,\n",
       "  11: 0.3888511657714844,\n",
       "  27: 0.4590263366699219,\n",
       "  15: 0.3025798797607422,\n",
       "  8: 2.6278934478759766,\n",
       "  28: 5.220552444458008,\n",
       "  50: 0.406280517578125,\n",
       "  56: 1.3466529846191406,\n",
       "  13: 0.5411548614501953,\n",
       "  32: 0.5102500915527344,\n",
       "  78: 1.2579097747802734,\n",
       "  0: 0.42859649658203125,\n",
       "  46: 0.5197200775146484,\n",
       "  51: 0.9370574951171875,\n",
       "  84: 1.1980628967285156,\n",
       "  20: 4.840522766113281,\n",
       "  74: 0.32798004150390625,\n",
       "  77: 0.5662574768066406,\n",
       "  80: 0.7616138458251953,\n",
       "  86: 0.5365772247314453,\n",
       "  95: 0.5831489562988281,\n",
       "  98: 2.3866519927978516,\n",
       "  99: 0.9711837768554688,\n",
       "  34: 1.8363800048828125,\n",
       "  36: 0.5163154602050781,\n",
       "  64: 0.5210762023925781,\n",
       "  69: 1.4505596160888672,\n",
       "  42: 0.5023651123046875,\n",
       "  53: 3.3579177856445312,\n",
       "  92: 0.7325801849365234,\n",
       "  52: 0.6008758544921875,\n",
       "  19: 1.8582897186279297,\n",
       "  94: 0.25618553161621094,\n",
       "  61: 7.327587127685547,\n",
       "  18: 0.3970909118652344,\n",
       "  7: 0.7127246856689453,\n",
       "  82: 0.9251499176025391,\n",
       "  12: 0.6978530883789062,\n",
       "  10: 1.1234474182128906,\n",
       "  23: 0.3966789245605469,\n",
       "  29: 0.5100154876708984,\n",
       "  40: 0.5067882537841797,\n",
       "  65: 0.303466796875,\n",
       "  48: 6.76910400390625,\n",
       "  31: 0.7767086029052734,\n",
       "  81: 0.7271900177001953,\n",
       "  54: 1.4090805053710938,\n",
       "  49: 0.28746795654296875,\n",
       "  4: 0.4833049774169922,\n",
       "  76: 0.25672340393066406,\n",
       "  83: 0.3980293273925781,\n",
       "  87: 0.4885234832763672,\n",
       "  96: 0.4114532470703125,\n",
       "  47: 0.306488037109375,\n",
       "  45: 7.522548675537109,\n",
       "  44: 0.5661602020263672,\n",
       "  17: 0.30933189392089844,\n",
       "  66: 0.499114990234375,\n",
       "  1: 0.6522083282470703,\n",
       "  25: 0.3549537658691406,\n",
       "  58: 1.4637374877929688,\n",
       "  39: 0.42440223693847656,\n",
       "  75: 1.5132560729980469,\n",
       "  62: 0.45627403259277344,\n",
       "  85: 3.7997512817382812,\n",
       "  73: 2.3494415283203125,\n",
       "  35: 0.6517848968505859,\n",
       "  26: 0.3432178497314453,\n",
       "  55: 1.0673141479492188,\n",
       "  59: 0.5140438079833984,\n",
       "  67: 1.2767295837402344,\n",
       "  16: 0.8139305114746094,\n",
       "  43: 0.2532958984375,\n",
       "  90: 0.5875663757324219,\n",
       "  63: 1.2007408142089844,\n",
       "  38: 0.40740203857421875,\n",
       "  79: 0.8474159240722656,\n",
       "  6: 1.189107894897461,\n",
       "  71: 0.7341938018798828,\n",
       "  97: 0.5214424133300781,\n",
       "  3: 0.48111915588378906,\n",
       "  22: 1.2866458892822266,\n",
       "  57: 0.9974308013916016,\n",
       "  30: 0.7101554870605469,\n",
       "  70: 0.3031005859375,\n",
       "  14: 0.3763771057128906,\n",
       "  41: 0.6490211486816406,\n",
       "  91: 0.3880500793457031,\n",
       "  72: 0.9113197326660156,\n",
       "  33: 0.8199272155761719,\n",
       "  37: 0.3221149444580078,\n",
       "  5: 0.6579418182373047,\n",
       "  21: 2.4540233612060547,\n",
       "  68: 0.5500869750976562,\n",
       "  88: 2.3551807403564453,\n",
       "  9: 0.7742252349853516,\n",
       "  60: 0.46375274658203125,\n",
       "  89: 0.8666477203369141}}"
      ]
     },
     "execution_count": 18,
     "metadata": {},
     "output_type": "execute_result"
    }
   ],
   "source": [
    "side_prodct"
   ]
  },
  {
   "cell_type": "code",
   "execution_count": 19,
   "metadata": {},
   "outputs": [
    {
     "data": {
      "text/plain": [
       " # qurrentRandomized.Analysis with serial=0\n",
       " - header\n",
       "   - serial ----------------------- 0\n",
       "   - datetime --------------------- 2024-04-08 01:23:11\n",
       "   - summoner --------------------- None\n",
       "   - log -------------------------- {}\n",
       " - input\n",
       "   - degree ----------------------- (3, 4)\n",
       "   - shots ------------------------ 1024\n",
       "   - unitary_loc ------------------ (0, 8)\n",
       " - outfields -------------------- 0 ........  # Number of unused arguments.\n",
       " - content\n",
       "   - purity ----------------------- 0.9235139083862305\n",
       "   - entropy ---------------------- 0.11479440611197787\n",
       "   - puritySD --------------------- 0.4376245218163771\n",
       "   - entropySD -------------------- 0.6836483150526039\n",
       "   - purityCells ------------------ {97: 1.192962646484375, 41: 1.018423080444336, 34: 1.9534912109375, 42: 1.2170639038085938, 89: 1.4431991577148438, 48: 1.543294906616211, 21: 1.753265380859375, 22: 0.6287460327148438, 72: 0.5837764739990234, 31: 0.7620468139648438, 49: 0.5000057220458984, 33: 1.067770004272461, 18: 1.633108139038086, 68: 1.258148193359375, 75: 0.702239990234375, 98: 0.9945907592773438, 78: 0.797454833984375, 45: 1.161468505859375, 56: 0.6446590423583984, 5: 0.5837764739990234, 30: 1.6128292083740234, 39: 1.791036605834961, 28: 1.046346664428711, 53: 0.5166854858398438, 60: 0.6732406616210938, 64: 0.612152099609375, 67: 1.361419677734375, 88: 0.6042842864990234, 91: 0.9845485687255859, 62: 0.5505599975585938, 4: 0.5473842620849609, 54: 1.5777816772460938, 80: 0.5087032318115234, 90: 1.225189208984375, 96: 0.5030269622802734, 84: 0.511077880859375, 99: 0.6673183441162109, 44: 0.8838405609130859, 74: 1.9650497436523438, 20: 1.930511474609375, 14: 1.1421566009521484, 77: 0.5038681030273438, 70: 0.7175807952880859, 19: 1.126913070678711, 51: 0.8000698089599609, 23: 0.6322021484375, 2: 0.5012874603271484, 38: 0.5234375, 83: 0.7820053100585938, 71: 0.5463485717773438, 79: 0.8026962280273438, 59: 0.5012874603271484, 26: 0.7719345092773438, 37: 1.6587142944335938, 1: 1.9534912109375, 16: 0.5256862640380859, 7: 1.6027584075927734, 50: 0.6446590423583984, 25: 0.6712551116943359, 47: 0.5288448333740234, 55: 1.633108139038086, 24: 1.3132686614990234, 32: 1.208984375, 65: 0.5348129272460938, 36: 0.9582729339599609, 76: 0.6712551116943359, 8: 1.253988265991211, 57: 0.5922908782958984, 58: 0.8323421478271484, 63: 1.27490234375, 82: 0.507415771484375, 13: 0.6979598999023438, 85: 0.6634273529052734, 6: 0.8351058959960938, 9: 1.885101318359375, 15: 0.5894069671630859, 11: 0.5865688323974609, 92: 0.5607051849365234, 69: 1.6484375, 0: 0.526458740234375, 12: 0.5115871429443359, 40: 0.5433101654052734, 66: 0.6089706420898438, 35: 0.5394191741943359, 93: 0.5655117034912109, 86: 0.8462753295898438, 52: 0....\n",
       "   - bitStringRange --------------- (3, 4)\n",
       "   - allSystemSource -------------- independent\n",
       "   - purityAllSys ----------------- 1.1075023651123046\n",
       "   - entropyAllSys ---------------- -0.14730977971225714\n",
       "   - puritySDAllSys --------------- 1.38595359780548\n",
       "   - entropySDAllSys -------------- 1.8054213204803637\n",
       "   - purityCellsAllSys ------------ {93: 0.4706764221191406, 2: 0.34598731994628906, 24: 0.2811393737792969, 11: 0.3888511657714844, 27: 0.4590263366699219, 15: 0.3025798797607422, 8: 2.6278934478759766, 28: 5.220552444458008, 50: 0.406280517578125, 56: 1.3466529846191406, 13: 0.5411548614501953, 32: 0.5102500915527344, 78: 1.2579097747802734, 0: 0.42859649658203125, 46: 0.5197200775146484, 51: 0.9370574951171875, 84: 1.1980628967285156, 20: 4.840522766113281, 74: 0.32798004150390625, 77: 0.5662574768066406, 80: 0.7616138458251953, 86: 0.5365772247314453, 95: 0.5831489562988281, 98: 2.3866519927978516, 99: 0.9711837768554688, 34: 1.8363800048828125, 36: 0.5163154602050781, 64: 0.5210762023925781, 69: 1.4505596160888672, 42: 0.5023651123046875, 53: 3.3579177856445312, 92: 0.7325801849365234, 52: 0.6008758544921875, 19: 1.8582897186279297, 94: 0.25618553161621094, 61: 7.327587127685547, 18: 0.3970909118652344, 7: 0.7127246856689453, 82: 0.9251499176025391, 12: 0.6978530883789062, 10: 1.1234474182128906, 23: 0.3966789245605469, 29: 0.5100154876708984, 40: 0.5067882537841797, 65: 0.303466796875, 48: 6.76910400390625, 31: 0.7767086029052734, 81: 0.7271900177001953, 54: 1.4090805053710938, 49: 0.28746795654296875, 4: 0.4833049774169922, 76: 0.25672340393066406, 83: 0.3980293273925781, 87: 0.4885234832763672, 96: 0.4114532470703125, 47: 0.306488037109375, 45: 7.522548675537109, 44: 0.5661602020263672, 17: 0.30933189392089844, 66: 0.499114990234375, 1: 0.6522083282470703, 25: 0.3549537658691406, 58: 1.4637374877929688, 39: 0.42440223693847656, 75: 1.5132560729980469, 62: 0.45627403259277344, 85: 3.7997512817382812, 73: 2.3494415283203125, 35: 0.6517848968505859, 26: 0.3432178497314453, 55: 1.0673141479492188, 59: 0.5140438079833984, 67: 1.2767295837402344, 16: 0.8139305114746094, 43: 0.2532958984375, 90: 0.5875663757324219, 63: 1.2007408142089844, 38: 0.40740203857421875, 79: 0.8474159240722656, 6: 1.189107894897461, 71: 0.7341938018798828, 97: 0.5214424133300781, 3: 0.48111915588378906, 22: 1.286645889282226...\n",
       "   - bitsStringRangeAllSys -------- (0, 8)\n",
       "   - errorRate -------------------- -0.05257966112532599\n",
       "   - mitigatedPurity -------------- 0.8822590088935455\n",
       "   - mitigatedEntropy ------------- 0.18072583820802568\n",
       "   - num_qubits ------------------- 8\n",
       "   - measure ---------------------- ('measure range:', (0, 8))\n",
       "   - measureActually -------------- (0, 8)\n",
       "   - measureActuallyAllSys -------- (0, 8)\n",
       "   - countsNum -------------------- 100\n",
       "   - takingTime ------------------- 0.000714141\n",
       "   - takingTimeAllSys ------------- 0.003762497\n",
       "by <QurryAnalysisSheet>"
      ]
     },
     "execution_count": 19,
     "metadata": {},
     "output_type": "execute_result"
    }
   ],
   "source": [
    "experiment_execution_02.exps[exp1].reports[0].statesheet()"
   ]
  },
  {
   "cell_type": "markdown",
   "metadata": {},
   "source": [
    "---\n",
    "\n",
    "## Post-Process Availablities and Version Info\n",
    "\n",
    "We currently do not support Qsikit 1.0 for we are working on it, and we will support it in the future."
   ]
  },
  {
   "cell_type": "code",
   "execution_count": 20,
   "metadata": {},
   "outputs": [
    {
     "name": "stdout",
     "output_type": "stream",
     "text": [
      " | Qurry version: 0.7.2.dev1\n",
      "--------------------------------------------------------\n",
      " ### Qurry Post-Processing\n",
      "   - Backend Availability ......... Python Cython Rust  \n",
      " - randomized_measure\n",
      "   - entangled_core ............... True   True   True  \n",
      "   - purity_cell .................. True   True   True  \n",
      "   - wavefunction_overlap ......... True   True   None  \n",
      "   - echo_cell .................... True   True   None  \n",
      " - utils\n",
      "   - randomized ................... True   True   True  \n",
      "   - construct .................... True   None   True  \n",
      "--------------------------------------------------------\n",
      "   + True ..... Working normally.\n",
      "   + False .... Exception occurred.\n",
      "   + None ..... Not supported yet.\n",
      "--------------------------------------------------------\n",
      "\n",
      " | Qurry version: 0.7.2.dev1\n",
      "--------------------------------------------\n",
      " ### Qiskit version\n",
      " - main\n",
      "   - qiskit-aer ................... 0.11.2\n",
      "   - qiskit-aer-gpu ............... 0.11.2\n",
      "   - qiskit-ibm-provider .......... 0.7.3\n",
      "   - qiskit-ibm-runtime ........... 0.17.0\n",
      " - deprecated\n",
      "   - qiskit-ibmq-provider ......... 0.20.2\n",
      "   - qiskit-terra ................. 0.23.2\n",
      " - into-community\n",
      "   - qiskit-machine-learning ...... 0.6.1\n",
      "--------------------------------------------\n",
      " + qiskit-aer-gpu should have the same version as qiskit-aer.\n",
      "--------------------------------------------\n",
      "\n"
     ]
    }
   ],
   "source": [
    "from qurry.process import AVAIBILITY_STATESHEET\n",
    "from qurry.tools.qiskit_version import QISKIT_VERSION_STATESHEET\n",
    "\n",
    "print(AVAIBILITY_STATESHEET)\n",
    "print(QISKIT_VERSION_STATESHEET)"
   ]
  },
  {
   "cell_type": "code",
   "execution_count": null,
   "metadata": {},
   "outputs": [],
   "source": []
  }
 ],
 "metadata": {
  "kernelspec": {
   "display_name": "quantumsphere11",
   "language": "python",
   "name": "python3"
  },
  "language_info": {
   "codemirror_mode": {
    "name": "ipython",
    "version": 3
   },
   "file_extension": ".py",
   "mimetype": "text/x-python",
   "name": "python",
   "nbconvert_exporter": "python",
   "pygments_lexer": "ipython3",
   "version": "3.11.3"
  },
  "orig_nbformat": 4
 },
 "nbformat": 4,
 "nbformat_minor": 2
}
