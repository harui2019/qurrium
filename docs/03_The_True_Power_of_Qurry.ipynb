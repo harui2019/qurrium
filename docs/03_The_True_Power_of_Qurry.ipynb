{
 "cells": [
  {
   "attachments": {},
   "cell_type": "markdown",
   "metadata": {},
   "source": [
    "## 03 - The True Power of Qurry\n",
    "\n",
    "In previous section, we have learned how to use Qurry in basic way, it's kind of boring and not attractive for anyone, even you may ask why should I use this tool. In this section, we will learn how to use Qurry in advanced way, where the true power of Qurry lies.\n",
    "\n"
   ]
  },
  {
   "cell_type": "code",
   "execution_count": 1,
   "metadata": {},
   "outputs": [],
   "source": [
    "from qurry import EntropyMeasure, BackendManager\n",
    "from qiskit import (\n",
    "    IBMQ, execute, transpile,\n",
    "    QuantumRegister, ClassicalRegister, QuantumCircuit,\n",
    ")\n",
    "from pathlib import Path\n",
    "\n",
    "experiment_executor_02 = EntropyMeasure()"
   ]
  },
  {
   "attachments": {},
   "cell_type": "markdown",
   "metadata": {},
   "source": [
    "## 3.1 - `BackendManager`, the advanced version `backendWrapper`\n",
    "\n",
    "In previous chapter, we used `backendWrapper` to import our backend, and put provider input it to load IBM Backend from our IBM Account. \n",
    "Now, `BackendManager` will load accout automatically, and you can use `BackendManager` to load backend directly.\n",
    "\n",
    "```python\n",
    "BackendManager.save_account('your_token')\n",
    "```\n",
    "To save your account, if you have already saved, you can ignore this step.\n",
    "\n",
    "```python\n",
    "backend = BackendManager(\n",
    "    instance='ibm-q/open/main'\n",
    ")\n",
    "```\n",
    "or \n",
    "```python\n",
    "backend = BackendManager(\n",
    "    hub='ibm-q', group='open', project='main'\n",
    ")\n",
    "```\n"
   ]
  },
  {
   "cell_type": "code",
   "execution_count": 2,
   "metadata": {},
   "outputs": [
    {
     "name": "stdout",
     "output_type": "stream",
     "text": [
      "| Provider by 'qiskit_ibm_provider'.\n"
     ]
    }
   ],
   "source": [
    "backend = BackendManager(\n",
    "    hub='ibm-q', group='open', project='main'\n",
    ")"
   ]
  },
  {
   "attachments": {},
   "cell_type": "markdown",
   "metadata": {},
   "source": [
    "You can just type the name of backend without the prefix of `'ibmq_'` or `'ibm_'`.\n"
   ]
  },
  {
   "cell_type": "code",
   "execution_count": 3,
   "metadata": {},
   "outputs": [
    {
     "data": {
      "text/plain": [
       "(<IBMBackend('ibm_osaka')>, <IBMBackend('ibm_osaka')>)"
      ]
     },
     "execution_count": 3,
     "metadata": {},
     "output_type": "execute_result"
    }
   ],
   "source": [
    "backend('ibm_osaka'), backend('osaka')"
   ]
  },
  {
   "attachments": {},
   "cell_type": "markdown",
   "metadata": {},
   "source": [
    "## 3.2 - Launching a multiJob\n",
    "\n",
    "Consider a scenario where you have multiple circuit want to run on a backend, and you want to run them at the same time. In this case, you can use `multiOutput` to launch a multiJob.\n",
    "\n",
    "For our example, we will show how to measure 100 circuits with 100 times randomized measure, 4096 shots, and mesure their entropy with multiple subsystem divisions at the same time."
   ]
  },
  {
   "attachments": {},
   "cell_type": "markdown",
   "metadata": {},
   "source": [
    "### 1. Loading 100 circuits\n",
    "\n",
    "(Topological Paramagnetic State is already the most complicated case in Qurry, so we will use it as our example, ususally I prefer some more complicated circuits like sshxx model with 20+ trotter steps, but it's not necessary for this example.)\n",
    "\n",
    "```python"
   ]
  },
  {
   "cell_type": "code",
   "execution_count": 4,
   "metadata": {},
   "outputs": [
    {
     "name": "stdout",
     "output_type": "stream",
     "text": [
      "     ┌───┐         \n",
      "q_0: ┤ H ├─■─────■─\n",
      "     ├───┤ │     │ \n",
      "q_1: ┤ H ├─■──■──┼─\n",
      "     ├───┤    │  │ \n",
      "q_2: ┤ H ├─■──■──┼─\n",
      "     ├───┤ │     │ \n",
      "q_3: ┤ H ├─■──■──┼─\n",
      "     ├───┤    │  │ \n",
      "q_4: ┤ H ├─■──■──┼─\n",
      "     ├───┤ │     │ \n",
      "q_5: ┤ H ├─■──■──┼─\n",
      "     ├───┤    │  │ \n",
      "q_6: ┤ H ├─■──■──┼─\n",
      "     ├───┤ │     │ \n",
      "q_7: ┤ H ├─■─────■─\n",
      "     └───┘         \n"
     ]
    }
   ],
   "source": [
    "from qurry.recipe import TopologicalParamagnet\n",
    "sample = TopologicalParamagnet(8, 'period')\n",
    "print(sample)"
   ]
  },
  {
   "cell_type": "markdown",
   "metadata": {},
   "source": [
    "Loading circuits to `Qurry`"
   ]
  },
  {
   "cell_type": "code",
   "execution_count": 5,
   "metadata": {},
   "outputs": [],
   "source": [
    "for i in range(100):\n",
    "    experiment_executor_02.add(sample)\n"
   ]
  },
  {
   "cell_type": "markdown",
   "metadata": {},
   "source": [
    "Check the name or serial number of the circuit in `Qurry` by `experiment_executor_02.waves.keys()`\n"
   ]
  },
  {
   "cell_type": "code",
   "execution_count": 6,
   "metadata": {},
   "outputs": [
    {
     "name": "stdout",
     "output_type": "stream",
     "text": [
      "dict_keys([0, 1, 2, 3, 4, 5, 6, 7, 8, 9, 10, 11, 12, 13, 14, 15, 16, 17, 18, 19, 20, 21, 22, 23, 24, 25, 26, 27, 28, 29, 30, 31, 32, 33, 34, 35, 36, 37, 38, 39, 40, 41, 42, 43, 44, 45, 46, 47, 48, 49, 50, 51, 52, 53, 54, 55, 56, 57, 58, 59, 60, 61, 62, 63, 64, 65, 66, 67, 68, 69, 70, 71, 72, 73, 74, 75, 76, 77, 78, 79, 80, 81, 82, 83, 84, 85, 86, 87, 88, 89, 90, 91, 92, 93, 94, 95, 96, 97, 98, 99])\n"
     ]
    }
   ],
   "source": [
    "print(experiment_executor_02.waves.keys())"
   ]
  },
  {
   "attachments": {},
   "cell_type": "markdown",
   "metadata": {},
   "source": [
    "### 2. Preparing configurations\n",
    "\n",
    "For launch 100 experiment, it requires 100 configurations for each experiment, since they are similar, we can just make a list.\n",
    "\n",
    "For randomized measure, each configuration is in this form of dictionary:\n",
    "\n",
    "```python\n",
    "{\n",
    "    'waves': 'the circuit to measure',\n",
    "    'tags': 'tags for this job',\n",
    "    'times': 100,\n",
    "}\n",
    "```"
   ]
  },
  {
   "cell_type": "code",
   "execution_count": 7,
   "metadata": {},
   "outputs": [],
   "source": [
    "from typing import TypedDict, Hashable, Iterable, Union, Optional\n",
    "\n",
    "class randomizedConfig(TypedDict):\n",
    "    wave: Hashable\n",
    "    \"\"\"The name or serial number of circuit in Qurry.\"\"\"\n",
    "    tags: Hashable\n",
    "    \"\"\"You can metion tags to filter experiment.\"\"\"\n",
    "    times: int\n",
    "    \"\"\"Default: 100 in :cls:`RandomizedMeasure`\"\"\"\n",
    "    "
   ]
  },
  {
   "cell_type": "code",
   "execution_count": 8,
   "metadata": {},
   "outputs": [],
   "source": [
    "config_list = [{\n",
    "    'wave': i,\n",
    "    'tags': ('topParamagnet', int(i/10)),\n",
    "    'times': 100,\n",
    "} for i in range(100)]"
   ]
  },
  {
   "attachments": {},
   "cell_type": "markdown",
   "metadata": {},
   "source": [
    "### 3. Launching multiJob\n",
    "\n",
    "Attenetion, this example may make your computer go brrrr."
   ]
  },
  {
   "cell_type": "code",
   "execution_count": 9,
   "metadata": {},
   "outputs": [
    {
     "name": "stdout",
     "output_type": "stream",
     "text": [
      "| MultiOutput running...\n",
      "| MultiManager building...\n",
      "| example.multiOutput.qurry.001 is repeat location.\n",
      "| Write \"example.multiOutput.qurry.002\", at location \"example.multiOutput.qurry.002\"\n"
     ]
    },
    {
     "data": {
      "application/vnd.jupyter.widget-view+json": {
       "model_id": "e8d9be37cbd74725a9f8133dbc725dc8",
       "version_major": 2,
       "version_minor": 0
      },
      "text/plain": [
       "| 0/100   0%|          | -  - 00:00 < ?"
      ]
     },
     "metadata": {},
     "output_type": "display_data"
    },
    {
     "name": "stdout",
     "output_type": "stream",
     "text": [
      "| Export multimanager...\n"
     ]
    },
    {
     "data": {
      "application/vnd.jupyter.widget-view+json": {
       "model_id": "dd4cd1bb7cbe4f64ac238f0482d1a0c8",
       "version_major": 2,
       "version_minor": 0
      },
      "text/plain": [
       "| 0/9 - exporting - 00:00 < ?"
      ]
     },
     "metadata": {},
     "output_type": "display_data"
    },
    {
     "name": "stdout",
     "output_type": "stream",
     "text": [
      "| No quantity to export.\n",
      "| Export multi.config.json for d10186c6-debb-4685-9621-061b8d2a0577\n"
     ]
    },
    {
     "data": {
      "application/vnd.jupyter.widget-view+json": {
       "model_id": "a6dac092f5734d4cbf50e3a8a300424f",
       "version_major": 2,
       "version_minor": 0
      },
      "text/plain": [
       "| 0/100 - Exporting and writring... - 00:00 < ?"
      ]
     },
     "metadata": {},
     "output_type": "display_data"
    },
    {
     "data": {
      "application/vnd.jupyter.widget-view+json": {
       "model_id": "360e1b2171bd458d8f22c0a10260ec12",
       "version_major": 2,
       "version_minor": 0
      },
      "text/plain": [
       "| 0/100   0%|          | -  - 00:00 < ?"
      ]
     },
     "metadata": {},
     "output_type": "display_data"
    },
    {
     "name": "stdout",
     "output_type": "stream",
     "text": [
      "| Export multimanager...\n"
     ]
    },
    {
     "data": {
      "application/vnd.jupyter.widget-view+json": {
       "model_id": "8822b38cda024a43ad3b4c1aafe692fd",
       "version_major": 2,
       "version_minor": 0
      },
      "text/plain": [
       "| 0/9 - exporting - 00:00 < ?"
      ]
     },
     "metadata": {},
     "output_type": "display_data"
    },
    {
     "name": "stdout",
     "output_type": "stream",
     "text": [
      "| No quantity to export.\n",
      "| Export multi.config.json for d10186c6-debb-4685-9621-061b8d2a0577\n"
     ]
    },
    {
     "data": {
      "application/vnd.jupyter.widget-view+json": {
       "model_id": "e0db88c3b77a44b7a3511defeeec28c4",
       "version_major": 2,
       "version_minor": 0
      },
      "text/plain": [
       "| 0/100 - Exporting and writring... - 00:00 < ?"
      ]
     },
     "metadata": {},
     "output_type": "display_data"
    }
   ],
   "source": [
    "# please decoment this cell to run it.\n",
    "\n",
    "# hashID = experiment_executor_02.multiOutput(\n",
    "#     config_list=config_list,\n",
    "#     backend=backend('aer'),\n",
    "#     save_location=Path('./'),\n",
    "#     summoner_name='example.multiOutput',\n",
    "#     shots=4096,\n",
    "# )\n",
    "\n",
    "# It takes 10m 41.2s to run this cell on my computer."
   ]
  },
  {
   "cell_type": "markdown",
   "metadata": {},
   "source": [
    "The `multiOutput` will return a ID of this multiJob, \n",
    "\n",
    "you can use it to check the status of this multiJob in `experiment_executor_02.multimanagers[(the ID returned)]`."
   ]
  },
  {
   "cell_type": "code",
   "execution_count": 10,
   "metadata": {},
   "outputs": [
    {
     "data": {
      "text/plain": [
       "'d10186c6-debb-4685-9621-061b8d2a0577'"
      ]
     },
     "execution_count": 10,
     "metadata": {},
     "output_type": "execute_result"
    }
   ],
   "source": [
    "hashID # The hashID of this multiOutput"
   ]
  },
  {
   "cell_type": "code",
   "execution_count": 11,
   "metadata": {},
   "outputs": [
    {
     "data": {
      "text/plain": [
       "{'d10186c6-debb-4685-9621-061b8d2a0577': <qurry.qurrium.multimanager.multimanager.MultiManager at 0x76afa00d3e90>}"
      ]
     },
     "execution_count": 11,
     "metadata": {},
     "output_type": "execute_result"
    }
   ],
   "source": [
    "experiment_executor_02.multimanagers"
   ]
  },
  {
   "cell_type": "markdown",
   "metadata": {},
   "source": [
    "### 4. The automatic export of multiJob\n",
    "\n",
    "After the multiJob is finished, you may notice that there are some new files in your folder, they are the results of your multiJob.\n",
    "\n",
    "Qurry will automatically export the results of multiJob to your folder, and you can use `multiRead` to load them. And we will show how to use `multiRead` in later section."
   ]
  },
  {
   "attachments": {},
   "cell_type": "markdown",
   "metadata": {},
   "source": [
    "### 5. Make multiple analysis with multiple subsystem divisions\n",
    "\n",
    "Attenetion, this example may make your computer go brrrr too.\n",
    "And in randomized measure, this calculation already boosts by multiprocess and cython and makes it can be finished in one hour. In early version, such calculation can take all day, even few days to finish."
   ]
  },
  {
   "cell_type": "code",
   "execution_count": 12,
   "metadata": {},
   "outputs": [],
   "source": [
    "subsytems = [\n",
    "    2, 4, 6, (2, 4), (4, 6), (2, 6), \n",
    "    (-2, 2), (-4, 2), (-2, 4), 3, (5, 7), (4, 7)]\n",
    "# this is a list of subsystems that we want to measure"
   ]
  },
  {
   "cell_type": "code",
   "execution_count": 14,
   "metadata": {},
   "outputs": [
    {
     "name": "stdout",
     "output_type": "stream",
     "text": [
      "| Name: N_A=2\n"
     ]
    },
    {
     "data": {
      "application/vnd.jupyter.widget-view+json": {
       "model_id": "ce18a329aec5461a9690c76c982818bb",
       "version_major": 2,
       "version_minor": 0
      },
      "text/plain": [
       "| 0/100 - Analysis:  - 00:00 < ?"
      ]
     },
     "metadata": {},
     "output_type": "display_data"
    },
    {
     "name": "stdout",
     "output_type": "stream",
     "text": [
      "| \"N_A=2\" has been completed.\n",
      "| Export multimanager...\n"
     ]
    },
    {
     "data": {
      "application/vnd.jupyter.widget-view+json": {
       "model_id": "4947a6ead4ad415babcaacb5cdbf2be7",
       "version_major": 2,
       "version_minor": 0
      },
      "text/plain": [
       "| 0/9 - exporting - 00:00 < ?"
      ]
     },
     "metadata": {},
     "output_type": "display_data"
    },
    {
     "data": {
      "application/vnd.jupyter.widget-view+json": {
       "model_id": "4c917c7321994e51a2cd9855203d008f",
       "version_major": 2,
       "version_minor": 0
      },
      "text/plain": [
       "| 0/2 - exporting quantity - 00:00 < ?"
      ]
     },
     "metadata": {},
     "output_type": "display_data"
    },
    {
     "name": "stdout",
     "output_type": "stream",
     "text": [
      "| Export multi.config.json for d10186c6-debb-4685-9621-061b8d2a0577\n"
     ]
    },
    {
     "data": {
      "application/vnd.jupyter.widget-view+json": {
       "model_id": "112ab371046b42eb9f4c3239b656ace4",
       "version_major": 2,
       "version_minor": 0
      },
      "text/plain": [
       "| 0/100 - Exporting and writring... - 00:00 < ?"
      ]
     },
     "metadata": {},
     "output_type": "display_data"
    },
    {
     "name": "stdout",
     "output_type": "stream",
     "text": [
      "| Name: N_A=4\n"
     ]
    },
    {
     "data": {
      "application/vnd.jupyter.widget-view+json": {
       "model_id": "d28ca3cff79e45fd9c00f1ac9f2e8828",
       "version_major": 2,
       "version_minor": 0
      },
      "text/plain": [
       "| 0/100 - Analysis:  - 00:00 < ?"
      ]
     },
     "metadata": {},
     "output_type": "display_data"
    },
    {
     "name": "stdout",
     "output_type": "stream",
     "text": [
      "| \"N_A=4\" has been completed.\n",
      "| Export multimanager...\n"
     ]
    },
    {
     "data": {
      "application/vnd.jupyter.widget-view+json": {
       "model_id": "6751d660b0a94a1fad1901576269c4a6",
       "version_major": 2,
       "version_minor": 0
      },
      "text/plain": [
       "| 0/9 - exporting - 00:00 < ?"
      ]
     },
     "metadata": {},
     "output_type": "display_data"
    },
    {
     "data": {
      "application/vnd.jupyter.widget-view+json": {
       "model_id": "9ce5a2394ed14aaaa3727f588c85f45b",
       "version_major": 2,
       "version_minor": 0
      },
      "text/plain": [
       "| 0/3 - exporting quantity - 00:00 < ?"
      ]
     },
     "metadata": {},
     "output_type": "display_data"
    },
    {
     "name": "stdout",
     "output_type": "stream",
     "text": [
      "| Export multi.config.json for d10186c6-debb-4685-9621-061b8d2a0577\n"
     ]
    },
    {
     "data": {
      "application/vnd.jupyter.widget-view+json": {
       "model_id": "da37342f643041b3a9733f2feed48747",
       "version_major": 2,
       "version_minor": 0
      },
      "text/plain": [
       "| 0/100 - Exporting and writring... - 00:00 < ?"
      ]
     },
     "metadata": {},
     "output_type": "display_data"
    },
    {
     "name": "stdout",
     "output_type": "stream",
     "text": [
      "| Name: N_A=6\n"
     ]
    },
    {
     "data": {
      "application/vnd.jupyter.widget-view+json": {
       "model_id": "6a6dae9a6e564b9db9863e0fb0a02cdc",
       "version_major": 2,
       "version_minor": 0
      },
      "text/plain": [
       "| 0/100 - Analysis:  - 00:00 < ?"
      ]
     },
     "metadata": {},
     "output_type": "display_data"
    },
    {
     "name": "stdout",
     "output_type": "stream",
     "text": [
      "| \"N_A=6\" has been completed.\n",
      "| Export multimanager...\n"
     ]
    },
    {
     "data": {
      "application/vnd.jupyter.widget-view+json": {
       "model_id": "f474c4ffebf04d358027bb03b73a4dc2",
       "version_major": 2,
       "version_minor": 0
      },
      "text/plain": [
       "| 0/9 - exporting - 00:00 < ?"
      ]
     },
     "metadata": {},
     "output_type": "display_data"
    },
    {
     "data": {
      "application/vnd.jupyter.widget-view+json": {
       "model_id": "7b08eb28ad2d464a8b39644bad28e0c1",
       "version_major": 2,
       "version_minor": 0
      },
      "text/plain": [
       "| 0/4 - exporting quantity - 00:00 < ?"
      ]
     },
     "metadata": {},
     "output_type": "display_data"
    },
    {
     "name": "stdout",
     "output_type": "stream",
     "text": [
      "| Export multi.config.json for d10186c6-debb-4685-9621-061b8d2a0577\n"
     ]
    },
    {
     "data": {
      "application/vnd.jupyter.widget-view+json": {
       "model_id": "1f2324047723424fb7e2fcf1a2669b71",
       "version_major": 2,
       "version_minor": 0
      },
      "text/plain": [
       "| 0/100 - Exporting and writring... - 00:00 < ?"
      ]
     },
     "metadata": {},
     "output_type": "display_data"
    },
    {
     "name": "stdout",
     "output_type": "stream",
     "text": [
      "| Name: N_A=2to4\n"
     ]
    },
    {
     "data": {
      "application/vnd.jupyter.widget-view+json": {
       "model_id": "41e1d65be3ca4484b433ac3b2fd6f583",
       "version_major": 2,
       "version_minor": 0
      },
      "text/plain": [
       "| 0/100 - Analysis:  - 00:00 < ?"
      ]
     },
     "metadata": {},
     "output_type": "display_data"
    },
    {
     "name": "stdout",
     "output_type": "stream",
     "text": [
      "| \"N_A=2to4\" has been completed.\n",
      "| Export multimanager...\n"
     ]
    },
    {
     "data": {
      "application/vnd.jupyter.widget-view+json": {
       "model_id": "9655c1f36c674c5491552afe44ebacd8",
       "version_major": 2,
       "version_minor": 0
      },
      "text/plain": [
       "| 0/9 - exporting - 00:00 < ?"
      ]
     },
     "metadata": {},
     "output_type": "display_data"
    },
    {
     "data": {
      "application/vnd.jupyter.widget-view+json": {
       "model_id": "1c7877046db746cebe91f3fc7dfaa41b",
       "version_major": 2,
       "version_minor": 0
      },
      "text/plain": [
       "| 0/5 - exporting quantity - 00:00 < ?"
      ]
     },
     "metadata": {},
     "output_type": "display_data"
    },
    {
     "name": "stdout",
     "output_type": "stream",
     "text": [
      "| Export multi.config.json for d10186c6-debb-4685-9621-061b8d2a0577\n"
     ]
    },
    {
     "data": {
      "application/vnd.jupyter.widget-view+json": {
       "model_id": "48723314fd934f3e930a28360e9db1cb",
       "version_major": 2,
       "version_minor": 0
      },
      "text/plain": [
       "| 0/100 - Exporting and writring... - 00:00 < ?"
      ]
     },
     "metadata": {},
     "output_type": "display_data"
    },
    {
     "name": "stdout",
     "output_type": "stream",
     "text": [
      "| Name: N_A=4to6\n"
     ]
    },
    {
     "data": {
      "application/vnd.jupyter.widget-view+json": {
       "model_id": "d6264a5ce3244088936f972b8eb465d3",
       "version_major": 2,
       "version_minor": 0
      },
      "text/plain": [
       "| 0/100 - Analysis:  - 00:00 < ?"
      ]
     },
     "metadata": {},
     "output_type": "display_data"
    },
    {
     "name": "stdout",
     "output_type": "stream",
     "text": [
      "| \"N_A=4to6\" has been completed.\n",
      "| Export multimanager...\n"
     ]
    },
    {
     "data": {
      "application/vnd.jupyter.widget-view+json": {
       "model_id": "bc9ba8644103450fa9cf542b64a8bc50",
       "version_major": 2,
       "version_minor": 0
      },
      "text/plain": [
       "| 0/9 - exporting - 00:00 < ?"
      ]
     },
     "metadata": {},
     "output_type": "display_data"
    },
    {
     "data": {
      "application/vnd.jupyter.widget-view+json": {
       "model_id": "c227e5f7512d4b76b8504d04841ef004",
       "version_major": 2,
       "version_minor": 0
      },
      "text/plain": [
       "| 0/6 - exporting quantity - 00:00 < ?"
      ]
     },
     "metadata": {},
     "output_type": "display_data"
    },
    {
     "name": "stdout",
     "output_type": "stream",
     "text": [
      "| Export multi.config.json for d10186c6-debb-4685-9621-061b8d2a0577\n"
     ]
    },
    {
     "data": {
      "application/vnd.jupyter.widget-view+json": {
       "model_id": "6fab96edefbe4836b9aa29f76f248d85",
       "version_major": 2,
       "version_minor": 0
      },
      "text/plain": [
       "| 0/100 - Exporting and writring... - 00:00 < ?"
      ]
     },
     "metadata": {},
     "output_type": "display_data"
    },
    {
     "name": "stdout",
     "output_type": "stream",
     "text": [
      "| Name: N_A=2to6\n"
     ]
    },
    {
     "data": {
      "application/vnd.jupyter.widget-view+json": {
       "model_id": "88f941fffd9b4ccb8cb9a1203fb93641",
       "version_major": 2,
       "version_minor": 0
      },
      "text/plain": [
       "| 0/100 - Analysis:  - 00:00 < ?"
      ]
     },
     "metadata": {},
     "output_type": "display_data"
    },
    {
     "name": "stdout",
     "output_type": "stream",
     "text": [
      "| \"N_A=2to6\" has been completed.\n",
      "| Export multimanager...\n"
     ]
    },
    {
     "data": {
      "application/vnd.jupyter.widget-view+json": {
       "model_id": "f57470ff81b045a7a48c22484dd271b8",
       "version_major": 2,
       "version_minor": 0
      },
      "text/plain": [
       "| 0/9 - exporting - 00:00 < ?"
      ]
     },
     "metadata": {},
     "output_type": "display_data"
    },
    {
     "data": {
      "application/vnd.jupyter.widget-view+json": {
       "model_id": "0e1eca18f05d40759fd49f90679b6f4c",
       "version_major": 2,
       "version_minor": 0
      },
      "text/plain": [
       "| 0/7 - exporting quantity - 00:00 < ?"
      ]
     },
     "metadata": {},
     "output_type": "display_data"
    },
    {
     "name": "stdout",
     "output_type": "stream",
     "text": [
      "| Export multi.config.json for d10186c6-debb-4685-9621-061b8d2a0577\n"
     ]
    },
    {
     "data": {
      "application/vnd.jupyter.widget-view+json": {
       "model_id": "3fbeed042d5d4a13b69e3eda8940f941",
       "version_major": 2,
       "version_minor": 0
      },
      "text/plain": [
       "| 0/100 - Exporting and writring... - 00:00 < ?"
      ]
     },
     "metadata": {},
     "output_type": "display_data"
    },
    {
     "name": "stdout",
     "output_type": "stream",
     "text": [
      "| Name: N_A=-2to2\n"
     ]
    },
    {
     "data": {
      "application/vnd.jupyter.widget-view+json": {
       "model_id": "cf8d0d2211674b0aa597e6e6c1c54168",
       "version_major": 2,
       "version_minor": 0
      },
      "text/plain": [
       "| 0/100 - Analysis:  - 00:00 < ?"
      ]
     },
     "metadata": {},
     "output_type": "display_data"
    },
    {
     "name": "stdout",
     "output_type": "stream",
     "text": [
      "| \"N_A=-2to2\" has been completed.\n",
      "| Export multimanager...\n"
     ]
    },
    {
     "data": {
      "application/vnd.jupyter.widget-view+json": {
       "model_id": "1987f4e4af0b45e7be7b2bb00db8073f",
       "version_major": 2,
       "version_minor": 0
      },
      "text/plain": [
       "| 0/9 - exporting - 00:00 < ?"
      ]
     },
     "metadata": {},
     "output_type": "display_data"
    },
    {
     "data": {
      "application/vnd.jupyter.widget-view+json": {
       "model_id": "db08ce9157be4f83b0bc227b4c48f035",
       "version_major": 2,
       "version_minor": 0
      },
      "text/plain": [
       "| 0/8 - exporting quantity - 00:00 < ?"
      ]
     },
     "metadata": {},
     "output_type": "display_data"
    },
    {
     "name": "stdout",
     "output_type": "stream",
     "text": [
      "| Export multi.config.json for d10186c6-debb-4685-9621-061b8d2a0577\n"
     ]
    },
    {
     "data": {
      "application/vnd.jupyter.widget-view+json": {
       "model_id": "31b20533f8154ca3a9b5e2a08c06e4d0",
       "version_major": 2,
       "version_minor": 0
      },
      "text/plain": [
       "| 0/100 - Exporting and writring... - 00:00 < ?"
      ]
     },
     "metadata": {},
     "output_type": "display_data"
    },
    {
     "name": "stdout",
     "output_type": "stream",
     "text": [
      "| Name: N_A=-4to2\n"
     ]
    },
    {
     "data": {
      "application/vnd.jupyter.widget-view+json": {
       "model_id": "d3c75518475e4e7fbc1b45228ddfb8d1",
       "version_major": 2,
       "version_minor": 0
      },
      "text/plain": [
       "| 0/100 - Analysis:  - 00:00 < ?"
      ]
     },
     "metadata": {},
     "output_type": "display_data"
    },
    {
     "name": "stdout",
     "output_type": "stream",
     "text": [
      "| \"N_A=-4to2\" has been completed.\n",
      "| Export multimanager...\n"
     ]
    },
    {
     "data": {
      "application/vnd.jupyter.widget-view+json": {
       "model_id": "d7128a6df6d34355b0797a115b493902",
       "version_major": 2,
       "version_minor": 0
      },
      "text/plain": [
       "| 0/9 - exporting - 00:00 < ?"
      ]
     },
     "metadata": {},
     "output_type": "display_data"
    },
    {
     "data": {
      "application/vnd.jupyter.widget-view+json": {
       "model_id": "eaf5b67945a34688a2815b01cd5aa4c8",
       "version_major": 2,
       "version_minor": 0
      },
      "text/plain": [
       "| 0/9 - exporting quantity - 00:00 < ?"
      ]
     },
     "metadata": {},
     "output_type": "display_data"
    },
    {
     "name": "stdout",
     "output_type": "stream",
     "text": [
      "| Export multi.config.json for d10186c6-debb-4685-9621-061b8d2a0577\n"
     ]
    },
    {
     "data": {
      "application/vnd.jupyter.widget-view+json": {
       "model_id": "cc9d49df28e54e768cc6ec99e09f4f14",
       "version_major": 2,
       "version_minor": 0
      },
      "text/plain": [
       "| 0/100 - Exporting and writring... - 00:00 < ?"
      ]
     },
     "metadata": {},
     "output_type": "display_data"
    },
    {
     "name": "stdout",
     "output_type": "stream",
     "text": [
      "| Name: N_A=-2to4\n"
     ]
    },
    {
     "data": {
      "application/vnd.jupyter.widget-view+json": {
       "model_id": "32a5bf52bbc94aa38ad9baa6c217b9da",
       "version_major": 2,
       "version_minor": 0
      },
      "text/plain": [
       "| 0/100 - Analysis:  - 00:00 < ?"
      ]
     },
     "metadata": {},
     "output_type": "display_data"
    },
    {
     "name": "stdout",
     "output_type": "stream",
     "text": [
      "| \"N_A=-2to4\" has been completed.\n",
      "| Export multimanager...\n"
     ]
    },
    {
     "data": {
      "application/vnd.jupyter.widget-view+json": {
       "model_id": "dfea68c531194b07bfe464782dc9c416",
       "version_major": 2,
       "version_minor": 0
      },
      "text/plain": [
       "| 0/9 - exporting - 00:00 < ?"
      ]
     },
     "metadata": {},
     "output_type": "display_data"
    },
    {
     "data": {
      "application/vnd.jupyter.widget-view+json": {
       "model_id": "fcdb962c58a443419b6fdb6d22b21164",
       "version_major": 2,
       "version_minor": 0
      },
      "text/plain": [
       "| 0/10 - exporting quantity - 00:00 < ?"
      ]
     },
     "metadata": {},
     "output_type": "display_data"
    },
    {
     "name": "stdout",
     "output_type": "stream",
     "text": [
      "| Export multi.config.json for d10186c6-debb-4685-9621-061b8d2a0577\n"
     ]
    },
    {
     "data": {
      "application/vnd.jupyter.widget-view+json": {
       "model_id": "90024b7d75544901a02fdef03f223dac",
       "version_major": 2,
       "version_minor": 0
      },
      "text/plain": [
       "| 0/100 - Exporting and writring... - 00:00 < ?"
      ]
     },
     "metadata": {},
     "output_type": "display_data"
    },
    {
     "name": "stdout",
     "output_type": "stream",
     "text": [
      "| Name: N_A=3\n"
     ]
    },
    {
     "data": {
      "application/vnd.jupyter.widget-view+json": {
       "model_id": "413e5fe5f01b44bebad6f6c771e93c6d",
       "version_major": 2,
       "version_minor": 0
      },
      "text/plain": [
       "| 0/100 - Analysis:  - 00:00 < ?"
      ]
     },
     "metadata": {},
     "output_type": "display_data"
    },
    {
     "name": "stdout",
     "output_type": "stream",
     "text": [
      "| \"N_A=3\" has been completed.\n",
      "| Export multimanager...\n"
     ]
    },
    {
     "data": {
      "application/vnd.jupyter.widget-view+json": {
       "model_id": "143045f52677438d95729de4c0174234",
       "version_major": 2,
       "version_minor": 0
      },
      "text/plain": [
       "| 0/9 - exporting - 00:00 < ?"
      ]
     },
     "metadata": {},
     "output_type": "display_data"
    },
    {
     "data": {
      "application/vnd.jupyter.widget-view+json": {
       "model_id": "bf6421467b43483fa776c6025704574e",
       "version_major": 2,
       "version_minor": 0
      },
      "text/plain": [
       "| 0/11 - exporting quantity - 00:00 < ?"
      ]
     },
     "metadata": {},
     "output_type": "display_data"
    },
    {
     "name": "stdout",
     "output_type": "stream",
     "text": [
      "| Export multi.config.json for d10186c6-debb-4685-9621-061b8d2a0577\n"
     ]
    },
    {
     "data": {
      "application/vnd.jupyter.widget-view+json": {
       "model_id": "2ebf51b816f9472292dd679016345951",
       "version_major": 2,
       "version_minor": 0
      },
      "text/plain": [
       "| 0/100 - Exporting and writring... - 00:00 < ?"
      ]
     },
     "metadata": {},
     "output_type": "display_data"
    },
    {
     "name": "stdout",
     "output_type": "stream",
     "text": [
      "| Name: N_A=5to7\n"
     ]
    },
    {
     "data": {
      "application/vnd.jupyter.widget-view+json": {
       "model_id": "8f37193a829a434e9a40528a85058406",
       "version_major": 2,
       "version_minor": 0
      },
      "text/plain": [
       "| 0/100 - Analysis:  - 00:00 < ?"
      ]
     },
     "metadata": {},
     "output_type": "display_data"
    },
    {
     "name": "stdout",
     "output_type": "stream",
     "text": [
      "| \"N_A=5to7\" has been completed.\n",
      "| Export multimanager...\n"
     ]
    },
    {
     "data": {
      "application/vnd.jupyter.widget-view+json": {
       "model_id": "9b0bf9debe59409c9f70a470c22d0a00",
       "version_major": 2,
       "version_minor": 0
      },
      "text/plain": [
       "| 0/9 - exporting - 00:00 < ?"
      ]
     },
     "metadata": {},
     "output_type": "display_data"
    },
    {
     "data": {
      "application/vnd.jupyter.widget-view+json": {
       "model_id": "8fed128a287149249538fa2b347fbe70",
       "version_major": 2,
       "version_minor": 0
      },
      "text/plain": [
       "| 0/12 - exporting quantity - 00:00 < ?"
      ]
     },
     "metadata": {},
     "output_type": "display_data"
    },
    {
     "name": "stdout",
     "output_type": "stream",
     "text": [
      "| Export multi.config.json for d10186c6-debb-4685-9621-061b8d2a0577\n"
     ]
    },
    {
     "data": {
      "application/vnd.jupyter.widget-view+json": {
       "model_id": "7718d6e47bde4ec0bde6cc94fc241ec8",
       "version_major": 2,
       "version_minor": 0
      },
      "text/plain": [
       "| 0/100 - Exporting and writring... - 00:00 < ?"
      ]
     },
     "metadata": {},
     "output_type": "display_data"
    },
    {
     "name": "stdout",
     "output_type": "stream",
     "text": [
      "| Name: N_A=4to7\n"
     ]
    },
    {
     "data": {
      "application/vnd.jupyter.widget-view+json": {
       "model_id": "f29579a671aa4e7fb6cfae1b208a239a",
       "version_major": 2,
       "version_minor": 0
      },
      "text/plain": [
       "| 0/100 - Analysis:  - 00:00 < ?"
      ]
     },
     "metadata": {},
     "output_type": "display_data"
    },
    {
     "name": "stdout",
     "output_type": "stream",
     "text": [
      "| \"N_A=4to7\" has been completed.\n",
      "| Export multimanager...\n"
     ]
    },
    {
     "data": {
      "application/vnd.jupyter.widget-view+json": {
       "model_id": "86d10ae61ec44aa8bc7cdaf97fec0b47",
       "version_major": 2,
       "version_minor": 0
      },
      "text/plain": [
       "| 0/9 - exporting - 00:00 < ?"
      ]
     },
     "metadata": {},
     "output_type": "display_data"
    },
    {
     "data": {
      "application/vnd.jupyter.widget-view+json": {
       "model_id": "b6294e2d7083420184d0ec83a98415d8",
       "version_major": 2,
       "version_minor": 0
      },
      "text/plain": [
       "| 0/13 - exporting quantity - 00:00 < ?"
      ]
     },
     "metadata": {},
     "output_type": "display_data"
    },
    {
     "name": "stdout",
     "output_type": "stream",
     "text": [
      "| Export multi.config.json for d10186c6-debb-4685-9621-061b8d2a0577\n"
     ]
    },
    {
     "data": {
      "application/vnd.jupyter.widget-view+json": {
       "model_id": "8d5fad44ee0b46149725d11eda25984e",
       "version_major": 2,
       "version_minor": 0
      },
      "text/plain": [
       "| 0/100 - Exporting and writring... - 00:00 < ?"
      ]
     },
     "metadata": {},
     "output_type": "display_data"
    }
   ],
   "source": [
    "for d in subsytems:\n",
    "    name = (\n",
    "        f'N_A={\"to\".join([str(dd) for dd in d])}' if isinstance(d, tuple) \n",
    "        else f'N_A={d}')\n",
    "    print(\"| Name:\", name)\n",
    "    \n",
    "    # please decoment this cell to run it.\n",
    "    \n",
    "    # experiment_executor_02.multiAnalysis(\n",
    "    #     summoner_id=hashID,\n",
    "    #     degree=d,\n",
    "    #     analysis_name=name,\n",
    "    #     no_serialize=True,\n",
    "    # )\n",
    "    \n",
    "# 38m 15.1s to run this cell on my computer."
   ]
  },
  {
   "attachments": {},
   "cell_type": "markdown",
   "metadata": {},
   "source": [
    "## 3.3 Reading and Writing Data\n",
    "\n",
    "In this section, we will show how to use `multiRead` to load the results of multiJob, and how to use `multiWrite` to save the results of multiJob."
   ]
  },
  {
   "cell_type": "code",
   "execution_count": 20,
   "metadata": {},
   "outputs": [
    {
     "name": "stdout",
     "output_type": "stream",
     "text": [
      "| MultiRead running...\n",
      "| Retrieve example.multiOutput.qurry.002...\n",
      "| at: example.multiOutput.qurry.002\n",
      "| Found the tarfile 'example.multiOutput.qurry.002.qurry.tar.xz' in '.', decompressing is available.\n",
      "| No multi.config file found, decompressing all files in the tarfile 'example.multiOutput.qurry.002.qurry.tar.xz'.\n"
     ]
    },
    {
     "name": "stdout",
     "output_type": "stream",
     "text": [
      "The following files '['example.multiOutput.qurry.002/N_A=2to6.quantity.json']' are fitting giving 'taglist_name' and 'name', choosing the 'example.multiOutput.qurry.002/N_A=2to6.quantity.json'.\n",
      "The following files '['example.multiOutput.qurry.002/N_A=4to7.quantity.json']' are fitting giving 'taglist_name' and 'name', choosing the 'example.multiOutput.qurry.002/N_A=4to7.quantity.json'.\n"
     ]
    },
    {
     "data": {
      "application/vnd.jupyter.widget-view+json": {
       "model_id": "49defd263486490b8a0c220ec9338e2f",
       "version_major": 2,
       "version_minor": 0
      },
      "text/plain": [
       "| 0/100   0%|          | - 100 experiments found, loading by 16 workers. - 00:00 < ?"
      ]
     },
     "metadata": {},
     "output_type": "display_data"
    }
   ],
   "source": [
    "hashID = experiment_executor_02.multiRead(\n",
    "    save_location=Path('./'),\n",
    "    summoner_name='example.multiOutput.qurry.002',\n",
    ")"
   ]
  },
  {
   "attachments": {},
   "cell_type": "markdown",
   "metadata": {},
   "source": [
    "## 3.4 Export and Compress\n",
    "\n",
    "In this section, we will show how to use `multiWrite` to export the results of multiJob to a folder or export as a tar.xz file when `compress=True`."
   ]
  },
  {
   "cell_type": "code",
   "execution_count": 17,
   "metadata": {},
   "outputs": [
    {
     "name": "stdout",
     "output_type": "stream",
     "text": [
      "| Export multimanager...\n"
     ]
    },
    {
     "data": {
      "application/vnd.jupyter.widget-view+json": {
       "model_id": "32a62c097dd24eb4b95188e93b0983ab",
       "version_major": 2,
       "version_minor": 0
      },
      "text/plain": [
       "| 0/9 - exporting - 00:00 < ?"
      ]
     },
     "metadata": {},
     "output_type": "display_data"
    },
    {
     "data": {
      "application/vnd.jupyter.widget-view+json": {
       "model_id": "808eea72e444400aae8c1d165f279091",
       "version_major": 2,
       "version_minor": 0
      },
      "text/plain": [
       "| 0/13 - exporting quantity - 00:00 < ?"
      ]
     },
     "metadata": {},
     "output_type": "display_data"
    },
    {
     "name": "stdout",
     "output_type": "stream",
     "text": [
      "| Export multi.config.json for d10186c6-debb-4685-9621-061b8d2a0577\n"
     ]
    },
    {
     "data": {
      "application/vnd.jupyter.widget-view+json": {
       "model_id": "7eab48f18767474ba4444f28702f75a6",
       "version_major": 2,
       "version_minor": 0
      },
      "text/plain": [
       "| 0/100 - Exporting and writring... - 00:00 < ?"
      ]
     },
     "metadata": {},
     "output_type": "display_data"
    },
    {
     "name": "stdout",
     "output_type": "stream",
     "text": [
      "| Compress multimanager of 'example.multiOutput.qurry.002'...done\n"
     ]
    },
    {
     "data": {
      "text/plain": [
       "'d10186c6-debb-4685-9621-061b8d2a0577'"
      ]
     },
     "execution_count": 17,
     "metadata": {},
     "output_type": "execute_result"
    }
   ],
   "source": [
    "experiment_executor_02.multiWrite(\n",
    "    save_location=Path('./'),\n",
    "    summoner_id=hashID,\n",
    "    compress=True,\n",
    ")"
   ]
  },
  {
   "cell_type": "markdown",
   "metadata": {},
   "source": [
    "---\n",
    "\n",
    "## Post-Process Availablities and Version Info\n",
    "\n",
    "We currently do not support Qsikit 1.0 for we are working on it, and we will support it in the future."
   ]
  },
  {
   "cell_type": "code",
   "execution_count": 18,
   "metadata": {},
   "outputs": [
    {
     "name": "stdout",
     "output_type": "stream",
     "text": [
      "| Qurry version: 0.7.1.dev3\n",
      "--------------------------------------------------------\n",
      " ### Qurry Post-Processing\n",
      "   - Backend Availability           Python Cython Rust  \n",
      " - randomized_measure\n",
      "   - entangled_core ............... True   True   True  \n",
      "   - purity_cell .................. True   True   True  \n",
      "   - wavefunction_overlap ......... True   True   None  \n",
      "   - echo_cell .................... True   True   None  \n",
      " - utils\n",
      "   - construct .................... True   True   True  \n",
      "   - construct .................... True   None   True  \n",
      "--------------------------------------------------------\n",
      "   + True ..... Working normally.\n",
      "   + False .... Exception occurred.\n",
      "   + None ..... Not supported yet.\n",
      "--------------------------------------------------------\n",
      "\n"
     ]
    }
   ],
   "source": [
    "from qurry import __version__\n",
    "from qurry.process import AVAIBILITY_STATESHEET\n",
    "print(\"| Qurry version:\", __version__)\n",
    "print(AVAIBILITY_STATESHEET)"
   ]
  },
  {
   "cell_type": "code",
   "execution_count": null,
   "metadata": {},
   "outputs": [],
   "source": []
  }
 ],
 "metadata": {
  "kernelspec": {
   "display_name": "quantumsphere11",
   "language": "python",
   "name": "python3"
  },
  "language_info": {
   "codemirror_mode": {
    "name": "ipython",
    "version": 3
   },
   "file_extension": ".py",
   "mimetype": "text/x-python",
   "name": "python",
   "nbconvert_exporter": "python",
   "pygments_lexer": "ipython3",
   "version": "3.11.3"
  },
  "orig_nbformat": 4
 },
 "nbformat": 4,
 "nbformat_minor": 2
}
