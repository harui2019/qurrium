{
 "cells": [
  {
   "attachments": {},
   "cell_type": "markdown",
   "metadata": {},
   "source": [
    "## 03 - The True Power of Qurry\n",
    "\n",
    "In previous section, we have learned how to use Qurry in basic way, it's kind of boring and not attractive for anyone, even you may ask why should I use this tool. In this section, we will learn how to use Qurry in advanced way, where the true power of Qurry lies.\n",
    "\n"
   ]
  },
  {
   "cell_type": "code",
   "execution_count": 1,
   "metadata": {},
   "outputs": [],
   "source": [
    "from qurry import EntropyMeasure, backendWrapper, backendManager\n",
    "from qiskit import (\n",
    "    IBMQ, execute, transpile,\n",
    "    QuantumRegister, ClassicalRegister, QuantumCircuit,\n",
    ")\n",
    "\n",
    "expProgram02 = EntropyMeasure()"
   ]
  },
  {
   "attachments": {},
   "cell_type": "markdown",
   "metadata": {},
   "source": [
    "## 3.1 - `backendManager` the advanced version `backendWrapper`\n",
    "\n",
    "In previous chapter, we used `backendWrapper` to import our backend, and put provider input it to load IBM Backend from our IBM Account. \n",
    "Now, `backendManager` will load accout automatically, and you can use `backendManager` to load backend directly.\n",
    "\n",
    "```python\n",
    "backendManager.save_account('your_token')\n",
    "```\n",
    "To save your account, if you have already saved, you can ignore this step.\n",
    "\n",
    "```python\n",
    "backend = backendManager(\n",
    "    instance='ibm-q/open/main'\n",
    ")\n",
    "```\n",
    "or \n",
    "```python\n",
    "backend = backendManager(\n",
    "    hub='ibm-q', group='open', project='main'\n",
    ")\n",
    "```\n"
   ]
  },
  {
   "cell_type": "code",
   "execution_count": 2,
   "metadata": {},
   "outputs": [
    {
     "name": "stdout",
     "output_type": "stream",
     "text": [
      "| Provider by 'qiskit_ibm_provider'.\n"
     ]
    }
   ],
   "source": [
    "backend = backendManager(\n",
    "    hub='ibm-q', group='open', project='main'\n",
    ")"
   ]
  },
  {
   "attachments": {},
   "cell_type": "markdown",
   "metadata": {},
   "source": [
    "You can just type the name of backend wiithout the prefix of `'ibmq_'` or `'ibm_'`.\n"
   ]
  },
  {
   "cell_type": "code",
   "execution_count": 3,
   "metadata": {},
   "outputs": [
    {
     "data": {
      "text/plain": [
       "(<IBMBackend('ibmq_belem')>, <IBMBackend('ibmq_belem')>)"
      ]
     },
     "execution_count": 3,
     "metadata": {},
     "output_type": "execute_result"
    }
   ],
   "source": [
    "backend('ibmq_belem'), backend('belem')"
   ]
  },
  {
   "attachments": {},
   "cell_type": "markdown",
   "metadata": {},
   "source": [
    "## 3.2 - Launching a multiJob\n",
    "\n",
    "Consider a scenario where you have multiple circuit want to run on a backend, and you want to run them at the same time. In this case, you can use `multiOutput` to launch a multiJob.\n",
    "\n",
    "For our example, we will show how to measure 100 circuits with 100 times randomized measure, 4096 shots, and mesure their entropy with multiple subsystem divisions at the same time."
   ]
  },
  {
   "attachments": {},
   "cell_type": "markdown",
   "metadata": {},
   "source": [
    "### 1. Loading 100 circuits\n",
    "\n",
    "(Topological Paramagnetic State is already the most complicated case in Qurry, so we will use it as our example, ususally I prefer some more complicated circuits like sshxx model with 20+ trotter steps, but it's not necessary for this example.)\n",
    "\n",
    "```python"
   ]
  },
  {
   "cell_type": "code",
   "execution_count": 5,
   "metadata": {},
   "outputs": [],
   "source": [
    "from qurry.case import topParamagnet\n",
    "\n",
    "sample = topParamagnet(8, 'period')\n",
    "sample.circuit\n",
    "for i in range(100):\n",
    "    expProgram02.add(sample.circuit)\n"
   ]
  },
  {
   "cell_type": "code",
   "execution_count": 7,
   "metadata": {},
   "outputs": [
    {
     "data": {
      "text/plain": [
       "dict_keys([0, 1, 2, 3, 4, 5, 6, 7, 8, 9, 10, 11, 12, 13, 14, 15, 16, 17, 18, 19, 20, 21, 22, 23, 24, 25, 26, 27, 28, 29, 30, 31, 32, 33, 34, 35, 36, 37, 38, 39, 40, 41, 42, 43, 44, 45, 46, 47, 48, 49, 50, 51, 52, 53, 54, 55, 56, 57, 58, 59, 60, 61, 62, 63, 64, 65, 66, 67, 68, 69, 70, 71, 72, 73, 74, 75, 76, 77, 78, 79, 80, 81, 82, 83, 84, 85, 86, 87, 88, 89, 90, 91, 92, 93, 94, 95, 96, 97, 98, 99])"
      ]
     },
     "execution_count": 7,
     "metadata": {},
     "output_type": "execute_result"
    }
   ],
   "source": [
    "expProgram02.waves.keys()"
   ]
  },
  {
   "attachments": {},
   "cell_type": "markdown",
   "metadata": {},
   "source": [
    "### 2. Preparing configurations\n",
    "\n",
    "For launch 100 experiment, it requires 100 configurations for each experiment, since they are similar, we can just make a list.\n",
    "\n",
    "For randomized measure, each configuration is in this form of dictionary:\n",
    "\n",
    "```python\n",
    "{\n",
    "    'waves': 'the circuit to measure',\n",
    "    'tags': 'tags for this job',\n",
    "    'shots': '...',\n",
    "    'times': 100,\n",
    "}\n",
    "```"
   ]
  },
  {
   "cell_type": "code",
   "execution_count": 11,
   "metadata": {},
   "outputs": [],
   "source": [
    "from typing import TypedDict, Hashable, Iterable, Union, Optional\n",
    "\n",
    "class randomizedConfig(TypedDict):\n",
    "    waves: Hashable\n",
    "    tags: Union[Iterable[Hashable], Hashable]\n",
    "    times: Optional[int]\n",
    "    \"\"\"Default: 100 in :cls:`RandomizedMeasure`\"\"\"\n",
    "    "
   ]
  },
  {
   "cell_type": "code",
   "execution_count": 10,
   "metadata": {},
   "outputs": [],
   "source": [
    "configList: list[randomizedConfig] = [{\n",
    "    'wave': i,\n",
    "    'tags': ('topParamagnet', int(i/10)),\n",
    "    'times': 100,\n",
    "} for i in range(100)]"
   ]
  },
  {
   "attachments": {},
   "cell_type": "markdown",
   "metadata": {},
   "source": [
    "### 3. Launching multiJob\n",
    "\n",
    "Attenetion, this example may make your computer go brrrr."
   ]
  },
  {
   "cell_type": "code",
   "execution_count": 12,
   "metadata": {},
   "outputs": [
    {
     "name": "stdout",
     "output_type": "stream",
     "text": [
      "| MultiManager building...\n"
     ]
    },
    {
     "name": "stderr",
     "output_type": "stream",
     "text": [
      "| Write \"example.multiOutput.qurry.001\", at location \"example.multiOutput.qurry.001\": \n",
      "| 100/100 100%|██████████| - Experiments build - 03:39 < 00:00\n"
     ]
    },
    {
     "name": "stdout",
     "output_type": "stream",
     "text": [
      "| Export multimanager...\n"
     ]
    },
    {
     "name": "stderr",
     "output_type": "stream",
     "text": [
      "| 10/10 - exporting done:  - 00:00 < 00:00                      \n",
      "| 0/0 - exporting quantity - 00:00 < ?\n"
     ]
    },
    {
     "name": "stdout",
     "output_type": "stream",
     "text": [
      "| Export multi.config.json for a2556f65-ef80-4410-9b65-4b1c9409f498\n"
     ]
    },
    {
     "name": "stderr",
     "output_type": "stream",
     "text": [
      "| 0/100   0%|          | - Experiments running - 00:00 < ?"
     ]
    },
    {
     "name": "stdout",
     "output_type": "stream",
     "text": [
      "| MultiOutput running...\n"
     ]
    },
    {
     "name": "stderr",
     "output_type": "stream",
     "text": [
      "| 100/100 100%|██████████| - Experiments running - 04:30 < 00:00\n"
     ]
    },
    {
     "name": "stdout",
     "output_type": "stream",
     "text": [
      "| Export multimanager...\n"
     ]
    },
    {
     "name": "stderr",
     "output_type": "stream",
     "text": [
      "| 10/10 - exporting done:  - 00:04 < 00:00                      \n",
      "| 0/0 - exporting quantity - 00:00 < ?\n"
     ]
    },
    {
     "name": "stdout",
     "output_type": "stream",
     "text": [
      "| Export multi.config.json for a2556f65-ef80-4410-9b65-4b1c9409f498\n"
     ]
    },
    {
     "name": "stderr",
     "output_type": "stream",
     "text": [
      "| 100/100 - Multimanger experiment write in a2556f65-ef80-4410-9b65-4b1c9409f498...done:  - 00:55 < 00:00                               \n"
     ]
    },
    {
     "name": "stdout",
     "output_type": "stream",
     "text": [
      "'example.multiOutput.qurry.001/multi.config.json' exported successfully.\n",
      "| Compress multimanager of 'example.multiOutput.qurry.001'.../r'example.multiOutput.qurry.001/multi.config.json' exported successfully.\n",
      "| Compress multimanager of 'example.multiOutput.qurry.001'...done\n"
     ]
    }
   ],
   "source": [
    "from pathlib import Path\n",
    "\n",
    "hashID = expProgram02.multiOutput(\n",
    "    configList=configList,\n",
    "    backend=backend('aer'),\n",
    "    saveLocation=Path('./'),\n",
    "    summonerName='example.multiOutput',\n",
    "    shots=4096,\n",
    ")\n",
    "\n",
    "# It takes 10m 41.2s to run this cell on my computer."
   ]
  },
  {
   "cell_type": "code",
   "execution_count": 13,
   "metadata": {},
   "outputs": [
    {
     "data": {
      "text/plain": [
       "'a2556f65-ef80-4410-9b65-4b1c9409f498'"
      ]
     },
     "execution_count": 13,
     "metadata": {},
     "output_type": "execute_result"
    }
   ],
   "source": [
    "hashID # The hashID of this multiOutput"
   ]
  },
  {
   "cell_type": "code",
   "execution_count": 14,
   "metadata": {},
   "outputs": [
    {
     "data": {
      "text/plain": [
       "{'a2556f65-ef80-4410-9b65-4b1c9409f498': <qurry.qurrium.multimanager.multimanager.MultiManager at 0x7f4a725ac190>}"
      ]
     },
     "execution_count": 14,
     "metadata": {},
     "output_type": "execute_result"
    }
   ],
   "source": [
    "expProgram02.multimanagers"
   ]
  },
  {
   "attachments": {},
   "cell_type": "markdown",
   "metadata": {},
   "source": [
    "### 4. Make multiple analysis with multiple subsystem divisions\n"
   ]
  },
  {
   "cell_type": "code",
   "execution_count": 17,
   "metadata": {},
   "outputs": [],
   "source": [
    "subsytems = [\n",
    "    2, 4, 6, (2, 4), (4, 6), (2, 6), \n",
    "    (-2, 2), (-4, 2), (-2, 4), 3, (5, 7), (4, 7)]\n",
    "# this is a list of subsystems that we want to measure"
   ]
  },
  {
   "cell_type": "code",
   "execution_count": null,
   "metadata": {},
   "outputs": [],
   "source": [
    "for d in subsytems:\n",
    "    expProgram02.multiAnalysis(\n",
    "        summonerID=hashID,\n",
    "        degree=d,\n",
    "        analysisName=(\n",
    "            f'N_A={\"to\".join([str(dd) for dd in d])}' if isinstance(d, tuple) \n",
    "            else f'N_A={d}'),\n",
    "        noSerialize=True,\n",
    "    )"
   ]
  },
  {
   "attachments": {},
   "cell_type": "markdown",
   "metadata": {},
   "source": [
    "## 3.3 Reading and Writing Data"
   ]
  },
  {
   "cell_type": "code",
   "execution_count": null,
   "metadata": {},
   "outputs": [],
   "source": [
    "hashID = expProgram02.multiRead(\n",
    "    saveLocation=Path('./'),\n",
    "    summonerName='exmaple.multiOutput.qurry.001',\n",
    ")"
   ]
  }
 ],
 "metadata": {
  "kernelspec": {
   "display_name": "quantumsphere11",
   "language": "python",
   "name": "python3"
  },
  "language_info": {
   "codemirror_mode": {
    "name": "ipython",
    "version": 3
   },
   "file_extension": ".py",
   "mimetype": "text/x-python",
   "name": "python",
   "nbconvert_exporter": "python",
   "pygments_lexer": "ipython3",
   "version": "3.11.3"
  },
  "orig_nbformat": 4
 },
 "nbformat": 4,
 "nbformat_minor": 2
}
