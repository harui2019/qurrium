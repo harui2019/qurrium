{
 "cells": [
  {
   "attachments": {},
   "cell_type": "markdown",
   "metadata": {},
   "source": [
    "# 01 - Basic Usage of Qurry\n",
    "\n",
    "In Qurry, we use the instance of `Qurry` to store Quantum Circuit, experiment, build experiment, and excute them by local simulator or pending to the real quantum machine on `IBM`. In this chapter (or we say this jupyter file), we will introduce how to use Qurry to build a simple quantum circuit and measure their Renyi Entropy by local simulator.\n"
   ]
  },
  {
   "cell_type": "markdown",
   "metadata": {},
   "source": [
    "If you are using Colab, you can run the following command in terminal to install Qurry.\n",
    "\n",
    "```bash\n",
    "pip install -i https://test.pypi.org/simple/ qurry\n",
    "```"
   ]
  },
  {
   "attachments": {},
   "cell_type": "markdown",
   "metadata": {},
   "source": [
    "## 1.1 Setup Environment and Creat experiment executor"
   ]
  },
  {
   "cell_type": "code",
   "execution_count": 1,
   "metadata": {},
   "outputs": [],
   "source": [
    "from qurry import EntropyMeasure\n",
    "from qiskit import QuantumCircuit\n"
   ]
  },
  {
   "cell_type": "markdown",
   "metadata": {},
   "source": [
    "- Import simulator"
   ]
  },
  {
   "cell_type": "code",
   "execution_count": 2,
   "metadata": {},
   "outputs": [],
   "source": [
    "from qiskit import BasicAer\n",
    "\n",
    "backend_qasm = BasicAer.get_backend('qasm_simulator')"
   ]
  },
  {
   "attachments": {},
   "cell_type": "markdown",
   "metadata": {},
   "source": [
    "- Now, initialize our `EntropyMeasure`, we have two methods, `randomized` for Randomized Measure as default, and `hadamard` for Hadamard Test, these are our methods for measurement.\n",
    "\n",
    "- In following tutorial, we will use `randomized` as our measurement method."
   ]
  },
  {
   "cell_type": "code",
   "execution_count": 4,
   "metadata": {},
   "outputs": [
    {
     "name": "stdout",
     "output_type": "stream",
     "text": [
      "| The first method is which is `Hadamard Test`\".\n",
      "| The default method is which is `Randomized Measure` we will use.\n"
     ]
    }
   ],
   "source": [
    "experiment_execution_01 = EntropyMeasure(method='hadamard')\n",
    "print(f'| The first method is which is `Hadamard Test`\".')\n",
    "experiment_execution_02 = EntropyMeasure()\n",
    "print(f'| The default method is which is `Randomized Measure` we will use.')"
   ]
  },
  {
   "attachments": {},
   "cell_type": "markdown",
   "metadata": {},
   "source": [
    "---\n",
    "\n",
    "## 1.2 Load quantum circuit\n",
    "\n",
    "- We use `TrivialParamagnet` as our target to measure, and add it to our `Qurry` object, and import from `qurry.case` which there are some simple cases."
   ]
  },
  {
   "cell_type": "code",
   "execution_count": 8,
   "metadata": {},
   "outputs": [],
   "source": [
    "from qurry.recipe import TrivialParamagnet, GHZ"
   ]
  },
  {
   "cell_type": "code",
   "execution_count": 9,
   "metadata": {},
   "outputs": [
    {
     "name": "stdout",
     "output_type": "stream",
     "text": [
      "| trivial paramagnet in 8 qubits:\n",
      "     ┌───┐\n",
      "q_0: ┤ H ├\n",
      "     ├───┤\n",
      "q_1: ┤ H ├\n",
      "     ├───┤\n",
      "q_2: ┤ H ├\n",
      "     ├───┤\n",
      "q_3: ┤ H ├\n",
      "     ├───┤\n",
      "q_4: ┤ H ├\n",
      "     ├───┤\n",
      "q_5: ┤ H ├\n",
      "     ├───┤\n",
      "q_6: ┤ H ├\n",
      "     ├───┤\n",
      "q_7: ┤ H ├\n",
      "     └───┘\n",
      "| GHZ in 8 qubits:\n",
      "     ┌───┐                                   \n",
      "q_0: ┤ H ├──■────────────────────────────────\n",
      "     └───┘┌─┴─┐                              \n",
      "q_1: ─────┤ X ├──■───────────────────────────\n",
      "          └───┘┌─┴─┐                         \n",
      "q_2: ──────────┤ X ├──■──────────────────────\n",
      "               └───┘┌─┴─┐                    \n",
      "q_3: ───────────────┤ X ├──■─────────────────\n",
      "                    └───┘┌─┴─┐               \n",
      "q_4: ────────────────────┤ X ├──■────────────\n",
      "                         └───┘┌─┴─┐          \n",
      "q_5: ─────────────────────────┤ X ├──■───────\n",
      "                              └───┘┌─┴─┐     \n",
      "q_6: ──────────────────────────────┤ X ├──■──\n",
      "                                   └───┘┌─┴─┐\n",
      "q_7: ───────────────────────────────────┤ X ├\n",
      "                                        └───┘\n",
      "| Custom circuit:\n",
      "     ┌───┐\n",
      "q_0: ┤ X ├\n",
      "     └───┘\n",
      "q_1: ─────\n",
      "     ┌───┐\n",
      "q_2: ┤ X ├\n",
      "     └───┘\n",
      "q_3: ─────\n",
      "     ┌───┐\n",
      "q_4: ┤ X ├\n",
      "     └───┘\n",
      "q_5: ─────\n",
      "     ┌───┐\n",
      "q_6: ┤ X ├\n",
      "     └───┘\n",
      "q_7: ─────\n",
      "          \n"
     ]
    }
   ],
   "source": [
    "sample01 = TrivialParamagnet(8)\n",
    "print(\"| trivial paramagnet in 8 qubits:\")\n",
    "print(sample01)\n",
    "sample02 = GHZ(8)\n",
    "print(\"| GHZ in 8 qubits:\")\n",
    "print(sample02)\n",
    "sample03 = QuantumCircuit(8)\n",
    "sample03.x(range(0,8,2))\n",
    "print(\"| Custom circuit:\")\n",
    "print(sample03)"
   ]
  },
  {
   "cell_type": "markdown",
   "metadata": {},
   "source": [
    "- After we prepare three quantum circuits, we can add them to our `Qurry` object.\n",
    "The attribute `.waves` of `Qurry` object is a customized `dict`, we can check it by print it."
   ]
  },
  {
   "cell_type": "code",
   "execution_count": 10,
   "metadata": {},
   "outputs": [
    {
     "name": "stdout",
     "output_type": "stream",
     "text": [
      "<WaveContainer={\n",
      "    TrivialParamagnet: ...\n",
      "    GHZ: ...\n",
      "    2: ...\n",
      "    3: ...\n",
      "    4: ...\n",
      "    5: ...\n",
      "} with 6 waves load, a customized dictionary>\n"
     ]
    }
   ],
   "source": [
    "experiment_execution_02.add(\n",
    "    wave=sample01,              # The circuit object\n",
    "    key='TrivialParamagnet',    # The name of the circuit\n",
    "    replace=False               # True for if you want to replace the circuit with the same name.\n",
    ")                               # Default is False, so if you add the same name when False, \n",
    "                                # it will be added with serial number.\n",
    "experiment_execution_02.add(sample02, 'GHZ')\n",
    "experiment_execution_02.add(sample03)\n",
    "print(experiment_execution_02.waves)"
   ]
  },
  {
   "attachments": {},
   "cell_type": "markdown",
   "metadata": {},
   "source": [
    "If you do not give the name of circuit, it will be named by series number.\n",
    "\n",
    "Now, waves are loading, time to excute."
   ]
  },
  {
   "attachments": {},
   "cell_type": "markdown",
   "metadata": {},
   "source": [
    "## 1.3 Excute Circuits"
   ]
  },
  {
   "cell_type": "markdown",
   "metadata": {},
   "source": [
    "- We can use `.measure()` to excute the specific circuit in `EntropyMeasure` object, and it will return hash id of this experiment and save a `Experiment` object in `EntropyMeasure`.\n",
    "- For `EntropyMeasure`, it will require the following parameters:\n",
    "  - wave: the name of circuit in `Qurry.waves` object\n",
    "  - times: the number of random measurement\n",
    "  - shots: the number of shots for each measurement. Default is 1024"
   ]
  },
  {
   "cell_type": "code",
   "execution_count": 11,
   "metadata": {},
   "outputs": [
    {
     "data": {
      "text/plain": [
       "'a266d8bc-60be-4652-92b8-f27edf9e6c85'"
      ]
     },
     "execution_count": 11,
     "metadata": {},
     "output_type": "execute_result"
    }
   ],
   "source": [
    "exp1 = experiment_execution_02.measure(\n",
    "    wave='TrivialParamagnet',\n",
    "    times=100,\n",
    "    shots=1024,\n",
    "    backend=backend_qasm\n",
    ")\n",
    "exp1 "
   ]
  },
  {
   "cell_type": "markdown",
   "metadata": {},
   "source": [
    "- You can specify the backend by add a parameter `backend` in `measure` method, if you do not specify, it will use simulator as the default backend. Moreover, qiskit has multiple simulators, they are `QasmSimulatorPy` from `qiskit`, `AerSimulator` from `qiskit-aer`, and `AerSimulator` from `qiskit-aer-gpu`. Qurry will check the availability of these simulators and use the first available one as the default backend in following order:\n",
    "  1. `AerSimulator` from `qiskit-aer-gpu`\n",
    "  2. `AerSimulator` from `qiskit-aer`\n",
    "  3. `QasmSimulatorPy` from `qiskit`"
   ]
  },
  {
   "cell_type": "code",
   "execution_count": 12,
   "metadata": {},
   "outputs": [
    {
     "data": {
      "text/plain": [
       "'cf312754-153e-49b9-8caa-48d21d7990b8'"
      ]
     },
     "execution_count": 12,
     "metadata": {},
     "output_type": "execute_result"
    }
   ],
   "source": [
    "exp2 = experiment_execution_02.measure(\n",
    "    wave='TrivialParamagnet',\n",
    "    times=100,\n",
    "    shots=1024,\n",
    ")\n",
    "exp2"
   ]
  },
  {
   "cell_type": "markdown",
   "metadata": {},
   "source": [
    "- And we can check the attribute `.exps` of `EntropyMeasure` object, it will return the hash id of all experiments."
   ]
  },
  {
   "cell_type": "code",
   "execution_count": 13,
   "metadata": {},
   "outputs": [
    {
     "name": "stdout",
     "output_type": "stream",
     "text": [
      "<ExperimentContainer={\n",
      "    a266d8bc-60be-4652-92b8-f27edf9e6c85: ...\n",
      "    cf312754-153e-49b9-8caa-48d21d7990b8: ...\n",
      "} with 2 experiments load, a customized dictionary>\n"
     ]
    }
   ],
   "source": [
    "print(experiment_execution_02.exps)"
   ]
  },
  {
   "cell_type": "markdown",
   "metadata": {},
   "source": [
    "- The following is the other informatiom you can access."
   ]
  },
  {
   "cell_type": "code",
   "execution_count": 14,
   "metadata": {},
   "outputs": [
    {
     "data": {
      "text/plain": [
       "<qurrentRandomized.Experiment with exp_id=a266d8bc-60be-4652-92b8-f27edf9e6c85, EntropyRandomizedArguments(exp_name='w=TrivialParamagnet.with100random.qurrent_haar', times=100, measure=(0, 8), unitary_loc=(0, 8), workers_num=16), Commonparams(exp_id='a266d8bc-60be-4652-92b8-f27edf9e6c85', wave_key='TrivialParamagnet', shots=1024, backend=<QasmSimulatorPy('qasm_simulator')>, run_args={}, transpile_args={}, tags=(), default_analysis=[], save_location=PosixPath('.'), filename='', files={}, serial=None, summoner_id=None, summoner_name=None, datetimes={'build': '2024-03-28 15:42:04', 'run': '2024-03-28 15:42:05'}), 0 unused arguments, 6 preparing dates, 2 experiment result datasets, and 0 analysis>"
      ]
     },
     "execution_count": 14,
     "metadata": {},
     "output_type": "execute_result"
    }
   ],
   "source": [
    "experiment_execution_02.exps[exp1]"
   ]
  },
  {
   "cell_type": "code",
   "execution_count": 15,
   "metadata": {},
   "outputs": [
    {
     "name": "stdout",
     "output_type": "stream",
     "text": [
      " # qurrentRandomized.Experiment with exp_id=a266d8bc-60be-4652-92b8-f27edf9e6c85\n",
      " - arguments\n",
      "   - exp_name ---------------- w=TrivialParamagnet.with100random.qurrent_haar\n",
      "   - times ------------------- 100\n",
      "   - measure ----------------- (0, 8)\n",
      "   - unitary_loc ------------- (0, 8)\n",
      "   - workers_num ------------- 16\n",
      " - commonparams\n",
      "   - exp_id ------------------ a266d8bc-60be-4652-92b8-f27edf9e6c85   # This is ID is generated by Qurry which is different from 'job_id' for pending.\n",
      "   - wave_key ---------------- TrivialParamagnet\n",
      "   - shots ------------------- 1024\n",
      "   - backend ----------------- qasm_simulator\n",
      "   - run_args ---------------- {}\n",
      "   - transpile_args ---------- {}\n",
      "   - tags -------------------- ()\n",
      "   - default_analysis -------- []\n",
      "   - save_location ----------- .\n",
      "   - filename ---------------- \n",
      "   - files ------------------- {}\n",
      "   - serial ------------------ None\n",
      "   - summoner_id ------------- None\n",
      "   - summoner_name ----------- None\n",
      "   - datetimes --------------- {'build': '2024-03-28 15:42:04', 'run': '2024-03-28 15:42:05'}\n",
      " - outfields --------------- 0 ........  # Number of unused arguments.\n",
      " - beforewards\n",
      "   - circuit ----------------- 100 ......  # Number of circuit\n",
      "   - circuit_qasm ------------ 100 ......  # Number of circuit_qasm\n",
      "   - fig_original ------------ 0 ........  # Number of fig_original\n",
      "   - job_id ------------------ b63e84fc-6b6c-47da-87bc-79695f6b277b\n",
      "   - exp_name ---------------- w=TrivialParamagnet.with100random.qurrent_haar\n",
      "   - side_product ------------ 2 ........  # Number of side_product\n",
      " - afterwards\n",
      "   - result ------------------ 1 ........  # Number of result\n",
      "   - counts ------------------ 100 ......  # Number of counts\n",
      " - reports ----------------- 0 ........  # Number of analysis.\n",
      "\n"
     ]
    }
   ],
   "source": [
    "print(experiment_execution_02.exps[exp1].statesheet())"
   ]
  },
  {
   "attachments": {},
   "cell_type": "markdown",
   "metadata": {},
   "source": [
    "- Then, there is a experiment completed, and we can calculate the Renyi Entropy by `analyze`."
   ]
  },
  {
   "attachments": {},
   "cell_type": "markdown",
   "metadata": {},
   "source": [
    "---\n",
    "\n",
    "## 1.4 Result\n",
    "\n",
    "- We want to know the Renyi Entropy of half system. Then we can use `.analyze()` to calculate it and it will store a `Analysis` object in `Experiment`.\n",
    "- The following is the parameter `analyze` of `EntropyMeasure` required.\n",
    "  - degree: The size or range of subsystem, if it is a number, it will be the size of subsystem, if it is a tuple, it will be the range of subsystem."
   ]
  },
  {
   "cell_type": "markdown",
   "metadata": {},
   "source": [
    "### Bit select hint\n",
    "\n",
    "A bit string mapping to the index of qubit is `'76543210'` for 8 qubits example here.\n",
    "\n",
    "| the input | bitStringRange | String Slice | Actual Qubit Included |\n",
    "| --- | --- | --- | --- |\n",
    "| `2` | `(6, 8)` | `'10'` | 01 |\n",
    "| `4` | `(4, 8)` | `'3210'` | 0123 |\n",
    "| `6` | `(2, 8)` | `'543210'` | 012345 |\n",
    "| `(2, 4)` | `(2, 4)` | `'54'` | 45 |\n",
    "| `(4, 6)` | `(4, 6)` | `'32'` | 23 |\n",
    "| `(2, 6)` | `(2, 6)` | `'5432'` | 2345 |\n",
    "| `(-2, 2)` | `(-2, 2)` | `'1076'` | 6701 |\n",
    "| `(-4, 2)` | `(-4, 2)` | `'321076'` | 670123 |\n",
    "| `(-2, 4)` | `(-2, 4)` | `'107654'` | 456701 |\n",
    "| `3` | `(5, 8)` | `'210'` | 012 |\n",
    "| `(5, 7)` | `(5, 7)` | `'21'` | 12 |\n",
    "| `(4, 7)` | `(4, 7)` | `'321'` | 123 |\n"
   ]
  },
  {
   "cell_type": "code",
   "execution_count": 22,
   "metadata": {},
   "outputs": [
    {
     "data": {
      "application/vnd.jupyter.widget-view+json": {
       "model_id": "1fcef85d54114bf78a0a9e0653c8d9f7",
       "version_major": 2,
       "version_minor": 0
      },
      "text/plain": [
       "|  - 00:00 < ?"
      ]
     },
     "metadata": {},
     "output_type": "display_data"
    },
    {
     "data": {
      "application/vnd.jupyter.widget-view+json": {
       "model_id": "1df98267dc024f7892feee2fffb1c5e0",
       "version_major": 2,
       "version_minor": 0
      },
      "text/plain": [
       "|  - 00:00 < ?"
      ]
     },
     "metadata": {},
     "output_type": "display_data"
    }
   ],
   "source": [
    "exp1_report1 = experiment_execution_02.exps[exp1].analyze(\n",
    "    degree=(3, 4)\n",
    ")\n",
    "exp1_report2 = experiment_execution_02.exps[exp1].analyze(\n",
    "    degree=1\n",
    ")"
   ]
  },
  {
   "cell_type": "markdown",
   "metadata": {},
   "source": [
    "- The `analyze` will return the result of this analysis."
   ]
  },
  {
   "cell_type": "code",
   "execution_count": 17,
   "metadata": {},
   "outputs": [
    {
     "name": "stdout",
     "output_type": "stream",
     "text": [
      "<qurrentRandomized.Analysis with serial=0, AnalysisInput(degree=(0, 4), shots=1024, unitary_loc=(0, 8)), AnalysisContent(purity=0.9992536735534668, entropy=0.0010771234561738688, and others), 0 unused arguments>\n",
      "AnalysisHeader(serial=0, datetime='2024-03-28 15:43:32', summoner=None, log={})\n"
     ]
    }
   ],
   "source": [
    "print(exp1_report1)\n",
    "print(exp1_report1.header)"
   ]
  },
  {
   "cell_type": "markdown",
   "metadata": {},
   "source": [
    "- It can also be found in the attribute `.reports` of `Experiment` object."
   ]
  },
  {
   "cell_type": "code",
   "execution_count": 18,
   "metadata": {},
   "outputs": [
    {
     "name": "stdout",
     "output_type": "stream",
     "text": [
      "<AnalysisContainer={\n",
      "    0: ...\n",
      "    1: ...\n",
      "} with 2 analysis load, a customized dictionary>\n",
      "<qurrentRandomized.Analysis with serial=0, AnalysisInput(degree=(0, 4), shots=1024, unitary_loc=(0, 8)), AnalysisContent(purity=0.9992536735534668, entropy=0.0010771234561738688, and others), 0 unused arguments>\n",
      "AnalysisHeader(serial=0, datetime='2024-03-28 15:43:32', summoner=None, log={})\n"
     ]
    }
   ],
   "source": [
    "print(experiment_execution_02.exps[exp1].reports)\n",
    "print(experiment_execution_02.exps[exp1].reports[0])\n",
    "print(experiment_execution_02.exps[exp1].reports[0].header)"
   ]
  },
  {
   "cell_type": "markdown",
   "metadata": {},
   "source": [
    "- We can use `.export()` to get the result of this analysis."
   ]
  },
  {
   "cell_type": "code",
   "execution_count": 19,
   "metadata": {},
   "outputs": [],
   "source": [
    "main, side_prodct = experiment_execution_02.exps[exp1].reports[0].export()"
   ]
  },
  {
   "attachments": {},
   "cell_type": "markdown",
   "metadata": {},
   "source": [
    "- And there is it"
   ]
  },
  {
   "cell_type": "code",
   "execution_count": 20,
   "metadata": {},
   "outputs": [
    {
     "data": {
      "text/plain": [
       "{'purity': 0.9992536735534668,\n",
       " 'entropy': 0.0010771234561738688,\n",
       " 'puritySD': 0.8902214609811956,\n",
       " 'entropySD': 1.2852773235081623,\n",
       " 'bitStringRange': [0, 4],\n",
       " 'allSystemSource': 'independent',\n",
       " 'purityAllSys': 1.1773760414123535,\n",
       " 'entropyAllSys': -0.23557517546139203,\n",
       " 'puritySDAllSys': 1.356173409325207,\n",
       " 'entropySDAllSys': 1.6617839869341386,\n",
       " 'bitsStringRangeAllSys': [0, 8],\n",
       " 'errorRate': -0.08539008367112783,\n",
       " 'mitigatedPurity': 0.8576585003250091,\n",
       " 'mitigatedEntropy': 0.22152478045088284,\n",
       " 'num_qubits': 8,\n",
       " 'measure': ['measure range:', [0, 8]],\n",
       " 'measureActually': [0, 8],\n",
       " 'measureActuallyAllSys': [0, 8],\n",
       " 'countsNum': 100,\n",
       " 'takingTime': 0.00083155,\n",
       " 'takingTimeAllSys': 0.003305909,\n",
       " 'input': {'degree': [0, 4], 'shots': 1024, 'unitary_loc': [0, 8]},\n",
       " 'header': {'serial': 0,\n",
       "  'datetime': '2024-03-28 15:43:32',\n",
       "  'summoner': None,\n",
       "  'log': {}}}"
      ]
     },
     "execution_count": 20,
     "metadata": {},
     "output_type": "execute_result"
    }
   ],
   "source": [
    "main"
   ]
  },
  {
   "attachments": {},
   "cell_type": "markdown",
   "metadata": {},
   "source": [
    "- Also, `sideProdct` will record the data of each circuit, and you can use it to do more analysis."
   ]
  },
  {
   "cell_type": "code",
   "execution_count": 21,
   "metadata": {},
   "outputs": [
    {
     "data": {
      "text/plain": [
       "{'purityCells': {37: 0.4309425354003906,\n",
       "  69: 0.26760101318359375,\n",
       "  75: 1.4965877532958984,\n",
       "  80: 1.8793811798095703,\n",
       "  77: 0.17938995361328125,\n",
       "  27: 2.089414596557617,\n",
       "  30: 0.22678565979003906,\n",
       "  34: 0.3164329528808594,\n",
       "  72: 2.457324981689453,\n",
       "  40: 0.11249351501464844,\n",
       "  92: 0.17421722412109375,\n",
       "  10: 0.3518810272216797,\n",
       "  8: 0.8922939300537109,\n",
       "  29: 0.4043235778808594,\n",
       "  36: 0.2643165588378906,\n",
       "  12: 0.9281597137451172,\n",
       "  25: 0.2592754364013672,\n",
       "  61: 2.97021484375,\n",
       "  73: 1.7795886993408203,\n",
       "  81: 0.7441387176513672,\n",
       "  90: 0.9074287414550781,\n",
       "  84: 0.8696174621582031,\n",
       "  91: 1.2699203491210938,\n",
       "  98: 0.12272453308105469,\n",
       "  6: 0.6167259216308594,\n",
       "  41: 1.560943603515625,\n",
       "  44: 4.94427490234375,\n",
       "  68: 0.2623481750488281,\n",
       "  54: 0.7764453887939453,\n",
       "  70: 1.1307144165039062,\n",
       "  79: 1.106790542602539,\n",
       "  89: 0.6030216217041016,\n",
       "  28: 3.3140697479248047,\n",
       "  96: 0.8483428955078125,\n",
       "  97: 0.7578659057617188,\n",
       "  43: 0.9579372406005859,\n",
       "  16: 1.2248191833496094,\n",
       "  22: 0.18966102600097656,\n",
       "  64: 1.433553695678711,\n",
       "  71: 0.2195301055908203,\n",
       "  88: 1.8940410614013672,\n",
       "  2: 0.7572021484375,\n",
       "  46: 0.6475334167480469,\n",
       "  39: 0.5043907165527344,\n",
       "  53: 0.4493217468261719,\n",
       "  86: 0.6795768737792969,\n",
       "  15: 0.45305824279785156,\n",
       "  4: 0.4060173034667969,\n",
       "  49: 0.6215553283691406,\n",
       "  0: 1.6532573699951172,\n",
       "  57: 0.3279457092285156,\n",
       "  48: 0.9097633361816406,\n",
       "  18: 0.638458251953125,\n",
       "  74: 0.6263275146484375,\n",
       "  50: 4.384275436401367,\n",
       "  87: 0.3310871124267578,\n",
       "  21: 2.756925582885742,\n",
       "  63: 0.609710693359375,\n",
       "  1: 0.5496921539306641,\n",
       "  85: 1.437387466430664,\n",
       "  7: 0.3468513488769531,\n",
       "  13: 0.30658531188964844,\n",
       "  65: 2.0931053161621094,\n",
       "  26: 2.708099365234375,\n",
       "  9: 1.3862895965576172,\n",
       "  76: 1.0203990936279297,\n",
       "  45: 1.9861888885498047,\n",
       "  95: 1.043527603149414,\n",
       "  58: 0.365081787109375,\n",
       "  62: 1.2279548645019531,\n",
       "  82: 0.5289840698242188,\n",
       "  35: 0.4268169403076172,\n",
       "  23: 0.35043907165527344,\n",
       "  78: 0.1439189910888672,\n",
       "  67: 0.9254875183105469,\n",
       "  14: 0.6978359222412109,\n",
       "  11: 2.127655029296875,\n",
       "  55: 0.41223716735839844,\n",
       "  52: 0.44803428649902344,\n",
       "  94: 1.5342559814453125,\n",
       "  93: 0.7594795227050781,\n",
       "  33: 2.568246841430664,\n",
       "  38: 1.2692737579345703,\n",
       "  83: 2.780649185180664,\n",
       "  47: 0.5181007385253906,\n",
       "  99: 0.6021747589111328,\n",
       "  3: 0.37291526794433594,\n",
       "  31: 0.5219345092773438,\n",
       "  24: 0.18762969970703125,\n",
       "  17: 0.1412181854248047,\n",
       "  51: 0.9156398773193359,\n",
       "  19: 0.43483924865722656,\n",
       "  20: 0.865234375,\n",
       "  5: 1.7122974395751953,\n",
       "  32: 1.0473213195800781,\n",
       "  42: 0.74530029296875,\n",
       "  60: 0.13632583618164062,\n",
       "  59: 0.9060153961181641,\n",
       "  66: 0.834014892578125,\n",
       "  56: 0.5479812622070312},\n",
       " 'purityCellsAllSys': {92: 0.30852508544921875,\n",
       "  7: 0.6104831695556641,\n",
       "  30: 0.16648101806640625,\n",
       "  39: 0.38584136962890625,\n",
       "  42: 1.1672439575195312,\n",
       "  88: 7.714237213134766,\n",
       "  16: 0.5241603851318359,\n",
       "  46: 0.7023735046386719,\n",
       "  51: 1.3150386810302734,\n",
       "  36: 0.3107166290283203,\n",
       "  44: 7.7489013671875,\n",
       "  78: 0.20697021484375,\n",
       "  56: 0.43067359924316406,\n",
       "  23: 0.280029296875,\n",
       "  64: 3.2762184143066406,\n",
       "  67: 0.3247528076171875,\n",
       "  85: 0.8947830200195312,\n",
       "  90: 2.4142379760742188,\n",
       "  97: 0.2587146759033203,\n",
       "  99: 0.5028057098388672,\n",
       "  25: 0.706756591796875,\n",
       "  11: 1.0673484802246094,\n",
       "  59: 0.4330482482910156,\n",
       "  77: 0.7088966369628906,\n",
       "  72: 2.4232845306396484,\n",
       "  58: 0.36284446716308594,\n",
       "  47: 0.6015224456787109,\n",
       "  57: 0.3840904235839844,\n",
       "  73: 2.224506378173828,\n",
       "  12: 1.0447807312011719,\n",
       "  20: 2.3659095764160156,\n",
       "  82: 0.7753639221191406,\n",
       "  68: 0.4033222198486328,\n",
       "  75: 0.8831443786621094,\n",
       "  83: 0.8192119598388672,\n",
       "  40: 0.5060157775878906,\n",
       "  89: 0.3012237548828125,\n",
       "  2: 0.7819042205810547,\n",
       "  37: 0.61968994140625,\n",
       "  6: 0.4281501770019531,\n",
       "  38: 1.350790023803711,\n",
       "  45: 2.5725555419921875,\n",
       "  24: 0.4995269775390625,\n",
       "  71: 0.28177452087402344,\n",
       "  84: 0.5401592254638672,\n",
       "  0: 3.642406463623047,\n",
       "  74: 0.5108966827392578,\n",
       "  18: 0.3355445861816406,\n",
       "  10: 0.40723609924316406,\n",
       "  95: 2.342947006225586,\n",
       "  94: 0.3727092742919922,\n",
       "  93: 0.5579891204833984,\n",
       "  54: 0.3133831024169922,\n",
       "  79: 6.296966552734375,\n",
       "  69: 0.7428684234619141,\n",
       "  21: 2.880573272705078,\n",
       "  28: 0.9576168060302734,\n",
       "  9: 0.32912445068359375,\n",
       "  4: 0.3317108154296875,\n",
       "  8: 1.7688941955566406,\n",
       "  32: 2.3500022888183594,\n",
       "  98: 0.21033477783203125,\n",
       "  5: 1.192026138305664,\n",
       "  19: 0.8909263610839844,\n",
       "  13: 0.44084739685058594,\n",
       "  66: 1.832763671875,\n",
       "  26: 1.5812339782714844,\n",
       "  50: 0.6508522033691406,\n",
       "  61: 1.829925537109375,\n",
       "  55: 0.3326435089111328,\n",
       "  48: 1.5961284637451172,\n",
       "  17: 0.3084392547607422,\n",
       "  70: 0.9848709106445312,\n",
       "  29: 0.9671840667724609,\n",
       "  34: 0.87603759765625,\n",
       "  41: 1.2224845886230469,\n",
       "  22: 0.4010734558105469,\n",
       "  3: 0.9318733215332031,\n",
       "  43: 0.8353538513183594,\n",
       "  49: 0.5414180755615234,\n",
       "  52: 0.30292320251464844,\n",
       "  33: 1.6714191436767578,\n",
       "  81: 0.362152099609375,\n",
       "  86: 1.5298271179199219,\n",
       "  35: 0.46977806091308594,\n",
       "  65: 2.187192916870117,\n",
       "  91: 2.1960678100585938,\n",
       "  76: 1.3719558715820312,\n",
       "  60: 0.5282115936279297,\n",
       "  14: 0.4412651062011719,\n",
       "  53: 0.4531383514404297,\n",
       "  63: 0.6577301025390625,\n",
       "  1: 0.367919921875,\n",
       "  27: 1.1252613067626953,\n",
       "  31: 0.9768943786621094,\n",
       "  15: 0.32331085205078125,\n",
       "  87: 0.6387615203857422,\n",
       "  62: 2.0326805114746094,\n",
       "  80: 1.0637092590332031,\n",
       "  96: 4.641109466552734}}"
      ]
     },
     "execution_count": 21,
     "metadata": {},
     "output_type": "execute_result"
    }
   ],
   "source": [
    "side_prodct"
   ]
  },
  {
   "cell_type": "code",
   "execution_count": 19,
   "metadata": {},
   "outputs": [
    {
     "data": {
      "text/plain": [
       " # qurrentRandomized.Analysis with serial=0\n",
       " - header\n",
       "   - serial ----------------------- 0\n",
       "   - datetime --------------------- 2024-03-19 19:05:47\n",
       "   - summoner --------------------- None\n",
       "   - log -------------------------- {}\n",
       " - input\n",
       "   - degree ----------------------- (0, 4)\n",
       "   - shots ------------------------ 1024\n",
       "   - unitary_loc ------------------ (0, 8)\n",
       " - outfields -------------------- 0 ........  # Number of unused arguments.\n",
       " - content\n",
       "   - purity ----------------------- 1.1818041610717773\n",
       "   - entropy ---------------------- -0.2409909836888523\n",
       "   - puritySD --------------------- 1.1137335938579271\n",
       "   - entropySD -------------------- 1.3595974575627563\n",
       "   - purityCells ------------------ {61: 1.3342533111572266, 25: 4.869670867919922, 29: 1.5328655242919922, 65: 3.6087779998779297, 70: 0.8376827239990234, 35: 0.7242488861083984, 72: 1.8999004364013672, 16: 0.35748291015625, 56: 0.1423511505126953, 85: 2.0770034790039062, 20: 0.9743423461914062, 98: 0.5528850555419922, 93: 3.852611541748047, 50: 0.8923282623291016, 45: 0.7859325408935547, 28: 0.2659645080566406, 62: 0.2904834747314453, 74: 1.1436920166015625, 81: 0.9935340881347656, 87: 0.31452178955078125, 94: 0.8372821807861328, 38: 0.64312744140625, 59: 1.2306499481201172, 64: 0.19817543029785156, 9: 0.1980152130126953, 76: 0.5458011627197266, 77: 4.975500106811523, 97: 0.6272773742675781, 4: 1.0198554992675781, 54: 1.0745353698730469, 84: 0.8149662017822266, 11: 5.82179069519043, 1: 0.5531768798828125, 24: 2.1800804138183594, 40: 2.3923168182373047, 37: 0.2369251251220703, 86: 0.4221477508544922, 32: 1.0298175811767578, 91: 0.6367759704589844, 96: 0.35193824768066406, 90: 0.43090248107910156, 31: 1.8324832916259766, 12: 0.521728515625, 15: 0.4929180145263672, 82: 0.9898834228515625, 99: 1.1649894714355469, 8: 0.15003013610839844, 67: 0.5471858978271484, 68: 0.6238498687744141, 55: 1.1525840759277344, 73: 2.893648147583008, 2: 0.44817161560058594, 89: 1.4280948638916016, 88: 1.0520877838134766, 13: 0.20871543884277344, 22: 0.33438873291015625, 34: 0.6480083465576172, 5: 0.4474334716796875, 41: 1.6794300079345703, 51: 1.1520748138427734, 52: 1.2237377166748047, 53: 2.389455795288086, 57: 0.4807472229003906, 71: 0.2808647155761719, 42: 0.6372909545898438, 80: 2.226560592651367, 36: 2.838716506958008, 49: 0.5090255737304688, 92: 0.723602294921875, 95: 0.7163410186767578, 7: 3.6933326721191406, 17: 0.4022178649902344, 3: 0.3055438995361328, 27: 1.5428962707519531, 23: 1.5404300689697266, 47: 1.577005386352539, 18: 0.2084522247314453, 79: 0.9021530151367188, 58: 1.6452865600585938, 0: 0.8670139312744141, 6: 2.1872329711914062, 10: 0.5425853729248047, 14: 3.2206344604492188, 33: 0.216766357421875, 39: 0...\n",
       "   - bitStringRange --------------- (0, 4)\n",
       "   - allSystemSource -------------- independent\n",
       "   - purityAllSys ----------------- 1.4394626808166504\n",
       "   - entropyAllSys ---------------- -0.5255303864014051\n",
       "   - puritySDAllSys --------------- 1.7930460028623025\n",
       "   - entropySDAllSys -------------- 1.7970723457364257\n",
       "   - purityCellsAllSys ------------ {81: 1.3432197570800781, 4: 2.465015411376953, 87: 0.5712184906005859, 34: 0.4110584259033203, 53: 0.5008602142333984, 99: 2.978940963745117, 92: 0.5287895202636719, 79: 0.3931770324707031, 14: 1.2922706604003906, 82: 0.5762081146240234, 35: 0.4225597381591797, 71: 0.3395729064941406, 51: 1.7232551574707031, 37: 0.5700855255126953, 64: 0.2359294891357422, 84: 5.195152282714844, 97: 0.8357887268066406, 90: 0.26576995849609375, 30: 0.2258586883544922, 98: 0.849578857421875, 15: 1.0529060363769531, 3: 0.6021060943603516, 38: 0.59625244140625, 41: 3.2459144592285156, 60: 0.6498508453369141, 13: 0.8838596343994141, 21: 3.883207321166992, 11: 8.85995101928711, 26: 0.44028663635253906, 28: 0.3041191101074219, 5: 0.3294849395751953, 17: 0.5676765441894531, 57: 0.4634380340576172, 33: 0.2391796112060547, 32: 0.7662258148193359, 45: 0.2037200927734375, 67: 0.42160987854003906, 74: 2.1932010650634766, 58: 1.1548328399658203, 77: 3.68560791015625, 94: 0.6534099578857422, 66: 0.8047924041748047, 46: 0.3126220703125, 47: 4.106258392333984, 68: 1.5069217681884766, 40: 1.1307830810546875, 69: 0.5900211334228516, 96: 0.292022705078125, 95: 2.012401580810547, 50: 0.8143138885498047, 39: 1.0351333618164062, 1: 0.5708179473876953, 22: 0.7283744812011719, 12: 0.5655765533447266, 24: 8.943893432617188, 73: 3.0172901153564453, 16: 0.3214282989501953, 56: 0.22271728515625, 29: 1.2923564910888672, 9: 0.3261375427246094, 7: 7.424495697021484, 59: 0.6776371002197266, 23: 0.85992431640625, 2: 0.5418529510498047, 27: 2.1243019104003906, 89: 1.0890522003173828, 88: 0.6196956634521484, 19: 0.3749408721923828, 8: 0.3596172332763672, 20: 0.7478866577148438, 48: 0.7784309387207031, 86: 0.7242717742919922, 52: 1.227731704711914, 78: 0.33809661865234375, 65: 1.4878673553466797, 72: 1.848379135131836, 18: 0.32225799560546875, 44: 2.260223388671875, 61: 0.9596138000488281, 0: 1.0388469696044922, 63: 0.17404556274414062, 31: 1.9622764587402344, 10: 0.7569789886474609, 25: 3.6454620361328125, 75: 1.521781...\n",
       "   - bitsStringRangeAllSys -------- (0, 8)\n",
       "   - errorRate -------------------- -0.2004940915634181\n",
       "   - mitigatedPurity -------------- 0.8391548602748656\n",
       "   - mitigatedEntropy ------------- 0.2529910201765524\n",
       "   - num_qubits ------------------- 8\n",
       "   - measure ---------------------- ('measure range:', (0, 8))\n",
       "   - measureActually -------------- (0, 8)\n",
       "   - measureActuallyAllSys -------- (0, 8)\n",
       "   - countsNum -------------------- 100\n",
       "   - takingTime ------------------- 0.000714156\n",
       "   - takingTimeAllSys ------------- 0.003152348\n",
       "by <QurryAnalysisSheet>"
      ]
     },
     "execution_count": 19,
     "metadata": {},
     "output_type": "execute_result"
    }
   ],
   "source": [
    "experiment_execution_02.exps[exp1].reports[0].statesheet()"
   ]
  },
  {
   "cell_type": "markdown",
   "metadata": {},
   "source": [
    "---\n",
    "\n",
    "## Post-Process Availablities and Version Info\n",
    "\n",
    "We currently do not support Qsikit 1.0 for we are working on it, and we will support it in the future."
   ]
  },
  {
   "cell_type": "code",
   "execution_count": 20,
   "metadata": {},
   "outputs": [
    {
     "name": "stdout",
     "output_type": "stream",
     "text": [
      " | Qurry version: 0.7.1.dev5\n",
      "--------------------------------------------------------\n",
      " ### Qurry Post-Processing\n",
      "   - Backend Availability           Python Cython Rust  \n",
      " - randomized_measure\n",
      "   - entangled_core ............... True   True   True  \n",
      "   - purity_cell .................. True   True   True  \n",
      "   - wavefunction_overlap ......... True   True   None  \n",
      "   - echo_cell .................... True   True   None  \n",
      " - utils\n",
      "   - randomized ................... True   True   True  \n",
      "   - construct .................... True   None   True  \n",
      "--------------------------------------------------------\n",
      "   + True ..... Working normally.\n",
      "   + False .... Exception occurred.\n",
      "   + None ..... Not supported yet.\n",
      "--------------------------------------------------------\n",
      "\n"
     ]
    }
   ],
   "source": [
    "from qurry.process import AVAIBILITY_STATESHEET\n",
    "print(AVAIBILITY_STATESHEET)"
   ]
  },
  {
   "cell_type": "code",
   "execution_count": null,
   "metadata": {},
   "outputs": [],
   "source": []
  }
 ],
 "metadata": {
  "kernelspec": {
   "display_name": "quantumsphere11",
   "language": "python",
   "name": "python3"
  },
  "language_info": {
   "codemirror_mode": {
    "name": "ipython",
    "version": 3
   },
   "file_extension": ".py",
   "mimetype": "text/x-python",
   "name": "python",
   "nbconvert_exporter": "python",
   "pygments_lexer": "ipython3",
   "version": "3.11.3"
  },
  "orig_nbformat": 4
 },
 "nbformat": 4,
 "nbformat_minor": 2
}
