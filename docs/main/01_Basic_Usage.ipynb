{
 "cells": [
  {
   "attachments": {},
   "cell_type": "markdown",
   "metadata": {},
   "source": [
    "# 01 - Basic Usage of Qurry\n",
    "\n",
    "In Qurry, we use the instance of `Qurry` to store quantum circuits, experiments, build experiment, and excute them on local simulator or pending to the real quantum machine on `IBM`. In this chapter (or we say this jupyter file), we will introduce how to use Qurry to build a simple quantum circuit and measure their Renyi Entropy on local simulator.\n"
   ]
  },
  {
   "cell_type": "markdown",
   "metadata": {},
   "source": [
    "If you are using Colab, you can run the following command in terminal to install Qurry.\n",
    "\n",
    "```bash\n",
    "pip install qurrium\n",
    "```\n"
   ]
  },
  {
   "cell_type": "code",
   "execution_count": 1,
   "metadata": {},
   "outputs": [
    {
     "name": "stdout",
     "output_type": "stream",
     "text": [
      "| Current Version: 0.9.2.dev1\n"
     ]
    }
   ],
   "source": [
    "from IPython.display import display\n",
    "from qurry import __version__\n",
    "\n",
    "print(f\"| Current Version: {__version__}\")"
   ]
  },
  {
   "attachments": {},
   "cell_type": "markdown",
   "metadata": {},
   "source": [
    "## 1.1 Setup Environment and Creat experiment executor\n"
   ]
  },
  {
   "cell_type": "code",
   "execution_count": 2,
   "metadata": {},
   "outputs": [],
   "source": [
    "from qurry import EntropyMeasure\n",
    "from qiskit import QuantumCircuit"
   ]
  },
  {
   "cell_type": "markdown",
   "metadata": {},
   "source": [
    "- Import simulator\n"
   ]
  },
  {
   "cell_type": "code",
   "execution_count": 3,
   "metadata": {},
   "outputs": [],
   "source": [
    "from qiskit.providers.basic_provider import BasicProvider\n",
    "\n",
    "basic_provider = BasicProvider()\n",
    "backend_sim = basic_provider.get_backend(\"basic_simulator\")"
   ]
  },
  {
   "attachments": {},
   "cell_type": "markdown",
   "metadata": {},
   "source": [
    "- Next, we will initialize our `EntropyMeasure` instance. There are two methods implemented based on two theories. The defaul method is `randomized` based on Randomized Measure. The other method is `hadamard` based on Hadamard Test. \n",
    "\n",
    "- In the following tutorial, we will use `randomized` as our measurement method.\n"
   ]
  },
  {
   "cell_type": "code",
   "execution_count": 4,
   "metadata": {},
   "outputs": [
    {
     "name": "stdout",
     "output_type": "stream",
     "text": [
      "| The first method is which is `Hadamard Test`\".\n",
      "| The default method is which is `Randomized Measure` we will use.\n"
     ]
    }
   ],
   "source": [
    "experiment_hadamard = EntropyMeasure(method=\"hadamard\")\n",
    "print('| The first method is which is `Hadamard Test`\".')\n",
    "experiment_randomized = EntropyMeasure()\n",
    "print(\"| The default method is which is `Randomized Measure` we will use.\")"
   ]
  },
  {
   "attachments": {},
   "cell_type": "markdown",
   "metadata": {},
   "source": [
    "---\n",
    "\n",
    "## 1.2 Load quantum circuits\n",
    "\n",
    "- In `Qurry`, there are built-in quantum circuits that construct certain wave functions, or equivalently, quantum states. They can be imported from `qurry.recipe`.\n",
    "- The user can define customized circuits following Qiskit workflow.\n",
    "\n"
   ]
  },
  {
   "cell_type": "code",
   "execution_count": 5,
   "metadata": {},
   "outputs": [],
   "source": [
    "from qurry.recipe import TrivialParamagnet, GHZ"
   ]
  },
  {
   "cell_type": "code",
   "execution_count": 6,
   "metadata": {},
   "outputs": [
    {
     "name": "stdout",
     "output_type": "stream",
     "text": [
      "| trivial paramagnet in 8 qubits:\n",
      "     ┌───┐\n",
      "q_0: ┤ H ├\n",
      "     ├───┤\n",
      "q_1: ┤ H ├\n",
      "     ├───┤\n",
      "q_2: ┤ H ├\n",
      "     ├───┤\n",
      "q_3: ┤ H ├\n",
      "     ├───┤\n",
      "q_4: ┤ H ├\n",
      "     ├───┤\n",
      "q_5: ┤ H ├\n",
      "     ├───┤\n",
      "q_6: ┤ H ├\n",
      "     ├───┤\n",
      "q_7: ┤ H ├\n",
      "     └───┘\n"
     ]
    }
   ],
   "source": [
    "sample01 = TrivialParamagnet(8)\n",
    "print(\"| trivial paramagnet in 8 qubits:\")\n",
    "print(sample01)"
   ]
  },
  {
   "cell_type": "code",
   "execution_count": 7,
   "metadata": {},
   "outputs": [
    {
     "name": "stdout",
     "output_type": "stream",
     "text": [
      "| GHZ in 8 qubits:\n",
      "     ┌───┐                                   \n",
      "q_0: ┤ H ├──■────────────────────────────────\n",
      "     └───┘┌─┴─┐                              \n",
      "q_1: ─────┤ X ├──■───────────────────────────\n",
      "          └───┘┌─┴─┐                         \n",
      "q_2: ──────────┤ X ├──■──────────────────────\n",
      "               └───┘┌─┴─┐                    \n",
      "q_3: ───────────────┤ X ├──■─────────────────\n",
      "                    └───┘┌─┴─┐               \n",
      "q_4: ────────────────────┤ X ├──■────────────\n",
      "                         └───┘┌─┴─┐          \n",
      "q_5: ─────────────────────────┤ X ├──■───────\n",
      "                              └───┘┌─┴─┐     \n",
      "q_6: ──────────────────────────────┤ X ├──■──\n",
      "                                   └───┘┌─┴─┐\n",
      "q_7: ───────────────────────────────────┤ X ├\n",
      "                                        └───┘\n"
     ]
    }
   ],
   "source": [
    "sample02 = GHZ(8)\n",
    "print(\"| GHZ in 8 qubits:\")\n",
    "print(sample02)"
   ]
  },
  {
   "cell_type": "code",
   "execution_count": 8,
   "metadata": {},
   "outputs": [
    {
     "name": "stdout",
     "output_type": "stream",
     "text": [
      "| Custom circuit:\n",
      "     ┌───┐\n",
      "q_0: ┤ X ├\n",
      "     └───┘\n",
      "q_1: ─────\n",
      "     ┌───┐\n",
      "q_2: ┤ X ├\n",
      "     └───┘\n",
      "q_3: ─────\n",
      "     ┌───┐\n",
      "q_4: ┤ X ├\n",
      "     └───┘\n",
      "q_5: ─────\n",
      "     ┌───┐\n",
      "q_6: ┤ X ├\n",
      "     └───┘\n",
      "q_7: ─────\n",
      "          \n"
     ]
    }
   ],
   "source": [
    "sample03 = QuantumCircuit(8)\n",
    "sample03.x(range(0, 8, 2))\n",
    "print(\"| Custom circuit:\")\n",
    "print(sample03)"
   ]
  },
  {
   "cell_type": "markdown",
   "metadata": {},
   "source": [
    "- After we prepare three quantum circuits, we append them to the `EntropyMeasure` object by the `.add()` method.\n",
    "- The attribute `.waves` of `Qurry` object is a customized `dict`. we can check the stored circuits by printing the dictionary."
   ]
  },
  {
   "cell_type": "code",
   "execution_count": 9,
   "metadata": {},
   "outputs": [
    {
     "name": "stdout",
     "output_type": "stream",
     "text": [
      "{'TrivialParamagnet': <qurry.recipe.simple.paramagnet.TrivialParamagnet object at 0x78d22b5c1880>, 'GHZ': <qurry.recipe.simple.cat.GHZ object at 0x78d228b36060>, 2: <qiskit.circuit.quantumcircuit.QuantumCircuit object at 0x78d231fda630>}\n"
     ]
    }
   ],
   "source": [
    "experiment_randomized.add(\n",
    "    wave=sample01,  # The circuit object\n",
    "    key=\"TrivialParamagnet\",  # The name of the circuit\n",
    "    replace=False,  # True for if you want to replace the circuit with the same name.\n",
    ")  # Default is False, so if you add the same name when False,\n",
    "# it will be added with serial number.\n",
    "experiment_randomized.add(sample02, \"GHZ\")\n",
    "experiment_randomized.add(sample03)\n",
    "print(experiment_randomized.waves)"
   ]
  },
  {
   "attachments": {},
   "cell_type": "markdown",
   "metadata": {},
   "source": [
    "If you do not give the name of circuit, it will be named by series number.\n",
    "\n",
    "Now, waves are loading, time to excute.\n"
   ]
  },
  {
   "attachments": {},
   "cell_type": "markdown",
   "metadata": {},
   "source": [
    "## 1.3 Excute Circuits\n"
   ]
  },
  {
   "cell_type": "markdown",
   "metadata": {},
   "source": [
    "- We can use `.measure()` method to excute the specific circuit in the `EntropyMeasure` object. The `.measure()` method  returns a hash id of this experiment and save a `Experiment` object in `EntropyMeasure`.\n",
    "- `EntropyMeasure.measure()` requires the following input parameters:\n",
    "  - wave: the name of circuit in `Qurry.waves` object\n",
    "  - times: the number of random measurements\n",
    "  - shots: the number of shots for each measurement. The default is 1024.\n"
   ]
  },
  {
   "cell_type": "code",
   "execution_count": 10,
   "metadata": {},
   "outputs": [
    {
     "data": {
      "text/plain": [
       "'617d627d-9cb5-473f-9198-3b3b61cf1fa7'"
      ]
     },
     "execution_count": 10,
     "metadata": {},
     "output_type": "execute_result"
    }
   ],
   "source": [
    "exp1 = experiment_randomized.measure(\n",
    "    wave=\"TrivialParamagnet\", times=100, shots=1024, backend=backend_sim\n",
    ")\n",
    "exp1"
   ]
  },
  {
   "cell_type": "markdown",
   "metadata": {},
   "source": [
    "- You can specify the backend by add a parameter `backend` in `measure` method, if you do not specify, it will use simulator as the default backend. Moreover, qiskit has multiple simulators, they are `QasmSimulatorPy` from `qiskit`, `AerSimulator` from `qiskit-aer`, and `AerSimulator` from `qiskit-aer-gpu`. Qurry will check the availability of these simulators and use the first available one as the default backend in following order:\n",
    "  1. `AerSimulator` from `qiskit-aer-gpu`\n",
    "  2. `AerSimulator` from `qiskit-aer`\n",
    "  3. `QasmSimulatorPy` from `qiskit`\n"
   ]
  },
  {
   "cell_type": "code",
   "execution_count": 11,
   "metadata": {},
   "outputs": [
    {
     "data": {
      "text/plain": [
       "'ea7980d4-7cf5-4250-93c1-34ec870cf26f'"
      ]
     },
     "execution_count": 11,
     "metadata": {},
     "output_type": "execute_result"
    }
   ],
   "source": [
    "exp2 = experiment_randomized.measure(\n",
    "    wave=\"TrivialParamagnet\",\n",
    "    times=100,\n",
    "    shots=1024,\n",
    ")\n",
    "exp2"
   ]
  },
  {
   "cell_type": "markdown",
   "metadata": {},
   "source": [
    "- And we can check the attribute `.exps` of `EntropyMeasure` object, it will return the hash id of all experiments.\n"
   ]
  },
  {
   "cell_type": "code",
   "execution_count": 12,
   "metadata": {},
   "outputs": [
    {
     "name": "stdout",
     "output_type": "stream",
     "text": [
      "{'617d627d-9cb5-473f-9198-3b3b61cf1fa7': <EntropyMeasureRandomizedExperiment(exp_id=617d627d-9cb5-473f-9198-3b3b61cf1fa7, EntropyMeasureRandomizedArguments(exp_name='experiment.N_U_100.qurrent_randomized', times=100, qubits_measured=[0, 1, 2, 3, 4, 5, 6, 7], registers_mapping={0: 0, 1: 1, 2: 2, 3: 3, 4: 4, 5: 5, 6: 6, 7: 7}, actual_num_qubits=8, unitary_located=[0, 1, 2, 3, 4, 5, 6, 7], random_unitary_seeds=None, workers_num=16), Commonparams(exp_id='617d627d-9cb5-473f-9198-3b3b61cf1fa7', target_keys=['TrivialParamagnet'], shots=1024, backend=<qiskit.providers.basic_provider.basic_simulator.BasicSimulator object at 0x78d23c1fe060>, run_args={}, transpile_args={}, tags=(), default_analysis=[], save_location=PosixPath('.'), filename='', files={}, serial=None, summoner_id=None, summoner_name=None, datetimes=DatetimeDict({'build': '2024-11-04 06:53:10', 'run.001': '2024-11-04 06:53:10'})), unused_args_num=0, analysis_num=0)>, 'ea7980d4-7cf5-4250-93c1-34ec870cf26f': <EntropyMeasureRandomizedExperiment(exp_id=ea7980d4-7cf5-4250-93c1-34ec870cf26f, EntropyMeasureRandomizedArguments(exp_name='experiment.N_U_100.qurrent_randomized', times=100, qubits_measured=[0, 1, 2, 3, 4, 5, 6, 7], registers_mapping={0: 0, 1: 1, 2: 2, 3: 3, 4: 4, 5: 5, 6: 6, 7: 7}, actual_num_qubits=8, unitary_located=[0, 1, 2, 3, 4, 5, 6, 7], random_unitary_seeds=None, workers_num=16), Commonparams(exp_id='ea7980d4-7cf5-4250-93c1-34ec870cf26f', target_keys=['TrivialParamagnet'], shots=1024, backend=<UnknownSimulator('aer_simulator')>, run_args={}, transpile_args={}, tags=(), default_analysis=[], save_location=PosixPath('.'), filename='', files={}, serial=None, summoner_id=None, summoner_name=None, datetimes=DatetimeDict({'build': '2024-11-04 06:53:12', 'run.001': '2024-11-04 06:53:12'})), unused_args_num=0, analysis_num=0)>}\n"
     ]
    }
   ],
   "source": [
    "print(experiment_randomized.exps)"
   ]
  },
  {
   "cell_type": "markdown",
   "metadata": {},
   "source": [
    "- The following is the other informatiom you can access.\n"
   ]
  },
  {
   "cell_type": "code",
   "execution_count": 13,
   "metadata": {},
   "outputs": [
    {
     "data": {
      "text/plain": [
       "WaveContainer({\n",
       "  'TrivialParamagnet': <qurry.recipe.simple.paramagnet.TrivialParamagnet object at 0x78d22b5c1880>,\n",
       "  'GHZ': <qurry.recipe.simple.cat.GHZ object at 0x78d228b36060>,\n",
       "  2: <qiskit.circuit.quantumcircuit.QuantumCircuit object at 0x78d231fda630>})"
      ]
     },
     "execution_count": 13,
     "metadata": {},
     "output_type": "execute_result"
    }
   ],
   "source": [
    "experiment_randomized.waves"
   ]
  },
  {
   "cell_type": "code",
   "execution_count": 14,
   "metadata": {},
   "outputs": [
    {
     "data": {
      "text/plain": [
       "<EntropyMeasureRandomizedExperiment(exp_id=617d627d-9cb5-473f-9198-3b3b61cf1fa7, \n",
       "  EntropyMeasureRandomizedArguments(exp_name='experiment.N_U_100.qurrent_randomized', times=100, qubits_measured=[0, 1, 2, 3, 4, 5, 6, 7], registers_mapping={0: 0, 1: 1, 2: 2, 3: 3, 4: 4, 5: 5, 6: 6, 7: 7}, actual_num_qubits=8, unitary_located=[0, 1, 2, 3, 4, 5, 6, 7], random_unitary_seeds=None, workers_num=16),\n",
       "  Commonparams(exp_id='617d627d-9cb5-473f-9198-3b3b61cf1fa7', target_keys=['TrivialParamagnet'], shots=1024, backend=<qiskit.providers.basic_provider.basic_simulator.BasicSimulator object at 0x78d23c1fe060>, run_args={}, transpile_args={}, tags=(), default_analysis=[], save_location=PosixPath('.'), filename='', files={}, serial=None, summoner_id=None, summoner_name=None, datetimes=DatetimeDict({'build': '2024-11-04 06:53:10', 'run.001': '2024-11-04 06:53:10'})),\n",
       "  unused_args_num=0,\n",
       "  analysis_num=0))>"
      ]
     },
     "execution_count": 14,
     "metadata": {},
     "output_type": "execute_result"
    }
   ],
   "source": [
    "experiment_randomized.exps[exp1]"
   ]
  },
  {
   "cell_type": "code",
   "execution_count": 15,
   "metadata": {},
   "outputs": [
    {
     "name": "stdout",
     "output_type": "stream",
     "text": [
      " # EntropyMeasureRandomizedExperiment with exp_id=617d627d-9cb5-473f-9198-3b3b61cf1fa7\n",
      " - arguments\n",
      "   - exp_name --------------------- experiment.N_U_100.qurrent_randomized\n",
      "   - times ------------------------ 100\n",
      "   - qubits_measured -------------- [0, 1, 2, 3, 4, 5, 6, 7]\n",
      "   - registers_mapping ------------ {0: 0, 1: 1, 2: 2, 3: 3, 4: 4, 5: 5, 6: 6, 7: 7}\n",
      "   - actual_num_qubits ------------ 8\n",
      "   - unitary_located -------------- [0, 1, 2, 3, 4, 5, 6, 7]\n",
      "   - random_unitary_seeds --------- None\n",
      "   - workers_num ------------------ 16\n",
      " - commonparams\n",
      "   - exp_id ----------------------- 617d627d-9cb5-473f-9198-3b3b61cf1fa7   # This is ID is generated by Qurry which is different from 'job_id' for pending.\n",
      "   - target_keys ------------------ ['TrivialParamagnet']\n",
      "   - shots ------------------------ 1024\n",
      "   - backend ---------------------- <qiskit.providers.basic_provider.basic_simulator.BasicSimulator object at 0x78d23c1fe060>\n",
      "   - run_args --------------------- {}\n",
      "   - transpile_args --------------- {}\n",
      "   - tags ------------------------- ()\n",
      "   - default_analysis ------------- []\n",
      "   - save_location ---------------- .\n",
      "   - filename --------------------- \n",
      "   - files ------------------------ {}\n",
      "   - serial ----------------------- None\n",
      "   - summoner_id ------------------ None\n",
      "   - summoner_name ---------------- None\n",
      "   - datetimes -------------------- {'build': '2024-11-04 06:53:10', 'run.001': '2024-11-04 06:53:10'}\n",
      " - outfields -------------------- 0 ........  # Number of unused arguments.\n",
      " - beforewards\n",
      "   - target ----------------------- 1 ........  # Number of target\n",
      "   - target_qasm ------------------ 1 ........  # Number of target_qasm\n",
      "   - circuit ---------------------- 100 ......  # Number of circuit\n",
      "   - circuit_qasm ----------------- 100 ......  # Number of circuit_qasm\n",
      "   - fig_original ----------------- 0 ........  # Number of fig_original\n",
      "   - job_id ----------------------- 72f38a4a-c421-4cbc-b8de-14c37c4b73a5\n",
      "   - exp_name --------------------- experiment.N_U_100.qurrent_randomized\n",
      "   - side_product ----------------- 2 ........  # Number of side_product\n",
      " - afterwards\n",
      "   - result ----------------------- 1 ........  # Number of result\n",
      "   - counts ----------------------- 100 ......  # Number of counts\n",
      " - reports ---------------------- 0 ........  # Number of analysis.\n",
      "\n"
     ]
    }
   ],
   "source": [
    "print(experiment_randomized.exps[exp1].statesheet())"
   ]
  },
  {
   "attachments": {},
   "cell_type": "markdown",
   "metadata": {},
   "source": [
    "- Then, there is a experiment completed, and we can calculate the Renyi Entropy by `analyze`.\n"
   ]
  },
  {
   "attachments": {},
   "cell_type": "markdown",
   "metadata": {},
   "source": [
    "---\n",
    "\n",
    "## 1.4 Post-Processing\n",
    "\n",
    "- To obtain the Renyi Entropy of the whole system and the subsystems. We use `exps[].analyze()` method to calculate and store a `Analysis` object in `Experiment`.\n",
    "- The `analyze` method requires the following input parameters:\n",
    "  - degree: The size or selected qubits of the subsystem. Please refer to the following chart for the selection.\n"
   ]
  },
  {
   "cell_type": "markdown",
   "metadata": {},
   "source": [
    "### Qubit Selction Hint\n",
    "\n",
    "For example, consider a system with 12 qubits indexed as `[0, 1, ... 11]`.\n",
    "\n",
    "Entering an index and running `.analyze` will select the bitstring corresponding to the chosen qubit."
   ]
  },
  {
   "cell_type": "code",
   "execution_count": 16,
   "metadata": {},
   "outputs": [
    {
     "data": {
      "application/vnd.jupyter.widget-view+json": {
       "model_id": "1e9aedede3c04c119e3a2df5927e1297",
       "version_major": 2,
       "version_minor": 0
      },
      "text/plain": [
       "|  - 00:00 < ?"
      ]
     },
     "metadata": {},
     "output_type": "display_data"
    },
    {
     "data": {
      "application/vnd.jupyter.widget-view+json": {
       "model_id": "0d2eeae99d274084847fcc16f747ba1e",
       "version_major": 2,
       "version_minor": 0
      },
      "text/plain": [
       "|  - 00:00 < ?"
      ]
     },
     "metadata": {},
     "output_type": "display_data"
    }
   ],
   "source": [
    "exp1_report1 = experiment_randomized.exps[exp1].analyze(selected_qubits=[3, 4])\n",
    "# The subsystem of qubits 3 and 4 is selected for the analysis.\n",
    "exp1_report2 = experiment_randomized.exps[exp1].analyze(selected_qubits=[0])\n",
    "# The subsystem of qubit 0 is selected for the analysis."
   ]
  },
  {
   "cell_type": "markdown",
   "metadata": {},
   "source": [
    "- The `analyze` will return the result of this analysis.\n"
   ]
  },
  {
   "cell_type": "code",
   "execution_count": 17,
   "metadata": {},
   "outputs": [
    {
     "data": {
      "text/plain": [
       "({'purity': 1.0357794189453124,\n",
       "  'entropy': -0.050716797351889734,\n",
       "  'puritySD': 0.4280723538099501,\n",
       "  'entropySD': 0.5962445774527289,\n",
       "  'num_classical_registers': 8,\n",
       "  'classical_registers': [0],\n",
       "  'classical_registers_actually': [0],\n",
       "  'all_system_source': \"AnalysisHeader(serial=0, datetime='2024-11-04 06:53:12', summoner=None, log={})\",\n",
       "  'purityAllSys': 1.0216295623779297,\n",
       "  'entropyAllSys': -0.030872177294001345,\n",
       "  'puritySDAllSys': 0.8338110453178725,\n",
       "  'entropySDAllSys': 1.1774669649521534,\n",
       "  'num_classical_registers_all_sys': 8,\n",
       "  'classical_registers_all_sys': None,\n",
       "  'classical_registers_actually_all_sys': [0, 1, 2, 3, 4, 5, 6, 7],\n",
       "  'errorRate': -0.010798884146186752,\n",
       "  'mitigatedPurity': 1.0243925574850874,\n",
       "  'mitigatedEntropy': -0.03476867647991984,\n",
       "  'counts_num': 100,\n",
       "  'taking_time': 0.000274821,\n",
       "  'taking_time_all_sys': 0.004912981,\n",
       "  'counts_used': None,\n",
       "  'input': {'num_qubits': 8,\n",
       "   'selected_qubits': [0],\n",
       "   'registers_mapping': {0: 0, 1: 1, 2: 2, 3: 3, 4: 4, 5: 5, 6: 6, 7: 7},\n",
       "   'shots': 1024,\n",
       "   'unitary_located': [0, 1, 2, 3, 4, 5, 6, 7]},\n",
       "  'header': {'serial': 1,\n",
       "   'datetime': '2024-11-04 06:53:12',\n",
       "   'summoner': None,\n",
       "   'log': {}}},\n",
       " {'purityCells': {68: 0.7523422241210938,\n",
       "   85: 1.628021240234375,\n",
       "   13: 0.7153549194335938,\n",
       "   61: 0.5394191741943359,\n",
       "   9: 0.9390468597412109,\n",
       "   57: 0.5463485717773438,\n",
       "   72: 1.1731929779052734,\n",
       "   37: 0.719818115234375,\n",
       "   38: 1.134511947631836,\n",
       "   52: 0.5001430511474609,\n",
       "   78: 0.5227108001708984,\n",
       "   79: 1.514181137084961,\n",
       "   88: 1.553091049194336,\n",
       "   6: 1.0534420013427734,\n",
       "   39: 0.5642929077148438,\n",
       "   40: 0.9713191986083984,\n",
       "   91: 1.3481502532958984,\n",
       "   98: 0.5272426605224609,\n",
       "   3: 0.5219955444335938,\n",
       "   84: 1.4807357788085938,\n",
       "   41: 0.8988037109375,\n",
       "   42: 1.4807357788085938,\n",
       "   58: 0.8897914886474609,\n",
       "   89: 0.5348129272460938,\n",
       "   65: 1.326263427734375,\n",
       "   33: 1.4854793548583984,\n",
       "   54: 0.5087032318115234,\n",
       "   17: 1.067770004272461,\n",
       "   63: 1.1537094116210938,\n",
       "   83: 0.520599365234375,\n",
       "   20: 0.6304683685302734,\n",
       "   25: 1.067770004272461,\n",
       "   26: 0.5185909271240234,\n",
       "   97: 1.4109554290771484,\n",
       "   47: 0.6446590423583984,\n",
       "   67: 1.1731929779052734,\n",
       "   62: 1.4525146484375,\n",
       "   77: 0.6374721527099609,\n",
       "   24: 1.9650497436523438,\n",
       "   27: 0.5618896484375,\n",
       "   8: 0.6270351409912109,\n",
       "   14: 0.8519287109375,\n",
       "   48: 1.8128719329833984,\n",
       "   18: 0.9454097747802734,\n",
       "   71: 0.7645015716552734,\n",
       "   81: 1.221120834350586,\n",
       "   55: 1.0047359466552734,\n",
       "   12: 1.3837642669677734,\n",
       "   7: 0.8604946136474609,\n",
       "   69: 1.4109554290771484,\n",
       "   73: 0.5012874603271484,\n",
       "   75: 0.6833400726318359,\n",
       "   76: 1.3525619506835938,\n",
       "   16: 0.92333984375,\n",
       "   32: 0.5595321655273438,\n",
       "   60: 1.3837642669677734,\n",
       "   87: 1.6950435638427734,\n",
       "   93: 1.970846176147461,\n",
       "   11: 1.071380615234375,\n",
       "   99: 1.130706787109375,\n",
       "   4: 0.5054988861083984,\n",
       "   43: 0.5304927825927734,\n",
       "   22: 1.6484375,\n",
       "   29: 1.075002670288086,\n",
       "   28: 0.8079833984375,\n",
       "   45: 1.0498886108398438,\n",
       "   53: 1.0534420013427734,\n",
       "   34: 0.5137386322021484,\n",
       "   50: 1.1421566009521484,\n",
       "   0: 1.104391098022461,\n",
       "   36: 1.6027584075927734,\n",
       "   70: 2.0,\n",
       "   74: 0.776947021484375,\n",
       "   82: 1.0786361694335938,\n",
       "   94: 0.5823974609375,\n",
       "   15: 1.5728206634521484,\n",
       "   95: 1.9650497436523438,\n",
       "   46: 0.9582729339599609,\n",
       "   86: 0.9779109954833984,\n",
       "   49: 0.9327297210693359,\n",
       "   59: 1.801931381225586,\n",
       "   64: 0.7596035003662109,\n",
       "   1: 1.4525146484375,\n",
       "   56: 1.73193359375,\n",
       "   66: 1.438558578491211,\n",
       "   35: 0.5000514984130859,\n",
       "   80: 0.520599365234375,\n",
       "   19: 0.5000228881835938,\n",
       "   92: 0.685394287109375,\n",
       "   2: 0.7000942230224609,\n",
       "   10: 0.6357040405273438,\n",
       "   44: 0.6712551116943359,\n",
       "   31: 1.0932846069335938,\n",
       "   30: 1.705526351928711,\n",
       "   96: 1.705526351928711,\n",
       "   51: 0.5453243255615234,\n",
       "   5: 1.1850204467773438,\n",
       "   90: 1.392782211303711,\n",
       "   23: 1.1156005859375,\n",
       "   21: 0.7694454193115234},\n",
       "  'purityCellsAllSys': {82: 1.7676239013671875,\n",
       "   12: 0.8765411376953125,\n",
       "   62: 2.4529991149902344,\n",
       "   65: 1.2234573364257812,\n",
       "   76: 2.0646610260009766,\n",
       "   86: 0.2726936340332031,\n",
       "   78: 0.7539176940917969,\n",
       "   33: 0.7520809173583984,\n",
       "   80: 0.4633636474609375,\n",
       "   50: 0.6527519226074219,\n",
       "   73: 0.9045562744140625,\n",
       "   30: 0.3733043670654297,\n",
       "   6: 1.6059303283691406,\n",
       "   55: 2.573476791381836,\n",
       "   66: 0.4228057861328125,\n",
       "   92: 0.37249183654785156,\n",
       "   93: 0.27126312255859375,\n",
       "   43: 0.30053138732910156,\n",
       "   91: 0.4955558776855469,\n",
       "   11: 0.3037300109863281,\n",
       "   75: 0.44129371643066406,\n",
       "   23: 2.4191761016845703,\n",
       "   31: 1.0977611541748047,\n",
       "   57: 0.8414192199707031,\n",
       "   20: 1.3599052429199219,\n",
       "   10: 3.9696044921875,\n",
       "   38: 0.7305889129638672,\n",
       "   17: 0.36507606506347656,\n",
       "   37: 0.3394813537597656,\n",
       "   39: 0.7249641418457031,\n",
       "   40: 0.2644996643066406,\n",
       "   46: 3.564626693725586,\n",
       "   15: 0.825408935546875,\n",
       "   70: 2.1471214294433594,\n",
       "   49: 0.4408760070800781,\n",
       "   2: 1.7162399291992188,\n",
       "   16: 0.40818023681640625,\n",
       "   61: 0.38080596923828125,\n",
       "   63: 0.524658203125,\n",
       "   69: 0.3774528503417969,\n",
       "   71: 0.5665435791015625,\n",
       "   44: 1.1841697692871094,\n",
       "   84: 0.9966297149658203,\n",
       "   85: 0.4393196105957031,\n",
       "   56: 2.336933135986328,\n",
       "   99: 2.574695587158203,\n",
       "   0: 0.3621978759765625,\n",
       "   41: 0.7656650543212891,\n",
       "   25: 1.1026535034179688,\n",
       "   5: 2.716716766357422,\n",
       "   26: 0.49408531188964844,\n",
       "   47: 0.579681396484375,\n",
       "   67: 0.3683948516845703,\n",
       "   79: 0.5585269927978516,\n",
       "   81: 1.1894512176513672,\n",
       "   94: 1.0028724670410156,\n",
       "   27: 0.8802604675292969,\n",
       "   88: 0.5667552947998047,\n",
       "   52: 0.36956787109375,\n",
       "   1: 0.4970893859863281,\n",
       "   68: 0.7526874542236328,\n",
       "   90: 1.0601158142089844,\n",
       "   13: 1.6974143981933594,\n",
       "   97: 3.945119857788086,\n",
       "   98: 2.531402587890625,\n",
       "   4: 0.3395500183105469,\n",
       "   14: 0.5569076538085938,\n",
       "   58: 0.903778076171875,\n",
       "   51: 0.3428802490234375,\n",
       "   21: 1.516998291015625,\n",
       "   64: 0.3187732696533203,\n",
       "   8: 0.9062557220458984,\n",
       "   29: 0.3658599853515625,\n",
       "   74: 0.5466423034667969,\n",
       "   96: 0.6112327575683594,\n",
       "   83: 0.8173236846923828,\n",
       "   9: 0.6327247619628906,\n",
       "   22: 1.4212398529052734,\n",
       "   24: 1.7667999267578125,\n",
       "   42: 0.6820716857910156,\n",
       "   89: 1.1418266296386719,\n",
       "   95: 1.3953704833984375,\n",
       "   34: 0.6564655303955078,\n",
       "   60: 0.46569252014160156,\n",
       "   35: 0.4553813934326172,\n",
       "   36: 0.5069084167480469,\n",
       "   28: 0.7922897338867188,\n",
       "   72: 1.5362529754638672,\n",
       "   59: 0.5751552581787109,\n",
       "   18: 0.64349365234375,\n",
       "   45: 1.2665157318115234,\n",
       "   48: 2.1300411224365234,\n",
       "   87: 1.4356365203857422,\n",
       "   54: 0.3914318084716797,\n",
       "   3: 0.23451614379882812,\n",
       "   19: 0.5687980651855469,\n",
       "   53: 3.3293075561523438,\n",
       "   32: 0.5295162200927734,\n",
       "   77: 0.3496208190917969,\n",
       "   7: 0.6478710174560547}})"
      ]
     },
     "execution_count": 17,
     "metadata": {},
     "output_type": "execute_result"
    }
   ],
   "source": [
    "exp1_report2.export()"
   ]
  },
  {
   "cell_type": "code",
   "execution_count": 18,
   "metadata": {},
   "outputs": [
    {
     "name": "stdout",
     "output_type": "stream",
     "text": [
      "qurrentRandomized.Analysis with serial=0, AnalysisInput(num_qubits=8, selected_qubits=[3, 4], registers_mapping={0: 0, 1: 1, 2: 2, 3: 3, 4: 4, 5: 5, 6: 6, 7: 7}, shots=1024, unitary_located=[0, 1, 2, 3, 4, 5, 6, 7]), AnalysisContent(purity=0.8980053901672364, entropy=0.1552039902948788, and others), 0 unused arguments\n",
      "AnalysisHeader(serial=0, datetime='2024-11-04 06:53:12', summoner=None, log={})\n"
     ]
    }
   ],
   "source": [
    "print(exp1_report1)\n",
    "print(exp1_report1.header)"
   ]
  },
  {
   "cell_type": "markdown",
   "metadata": {},
   "source": [
    "- It can also be found in the attribute `.reports` of `Experiment` object.\n"
   ]
  },
  {
   "cell_type": "code",
   "execution_count": 19,
   "metadata": {},
   "outputs": [
    {
     "name": "stdout",
     "output_type": "stream",
     "text": [
      "AnalysisContainer(length=2, {0{...}, 1{...}})\n",
      "qurrentRandomized.Analysis with serial=0, AnalysisInput(num_qubits=8, selected_qubits=[3, 4], registers_mapping={0: 0, 1: 1, 2: 2, 3: 3, 4: 4, 5: 5, 6: 6, 7: 7}, shots=1024, unitary_located=[0, 1, 2, 3, 4, 5, 6, 7]), AnalysisContent(purity=0.8980053901672364, entropy=0.1552039902948788, and others), 0 unused arguments\n",
      "AnalysisHeader(serial=0, datetime='2024-11-04 06:53:12', summoner=None, log={})\n"
     ]
    }
   ],
   "source": [
    "print(experiment_randomized.exps[exp1].reports)\n",
    "print(experiment_randomized.exps[exp1].reports[0])\n",
    "print(experiment_randomized.exps[exp1].reports[0].header)"
   ]
  },
  {
   "cell_type": "markdown",
   "metadata": {},
   "source": [
    "- We can use `.export()` to get the result of this analysis.\n"
   ]
  },
  {
   "cell_type": "code",
   "execution_count": 20,
   "metadata": {},
   "outputs": [],
   "source": [
    "main, side_prodct = experiment_randomized.exps[exp1].reports[0].export()"
   ]
  },
  {
   "attachments": {},
   "cell_type": "markdown",
   "metadata": {},
   "source": [
    "- And there is it\n"
   ]
  },
  {
   "cell_type": "code",
   "execution_count": 21,
   "metadata": {},
   "outputs": [
    {
     "data": {
      "text/plain": [
       "{'purity': 0.8980053901672364,\n",
       " 'entropy': 0.1552039902948788,\n",
       " 'puritySD': 0.527134871683887,\n",
       " 'entropySD': 0.8468711586646002,\n",
       " 'num_classical_registers': 8,\n",
       " 'classical_registers': [3, 4],\n",
       " 'classical_registers_actually': [3, 4],\n",
       " 'all_system_source': 'independent',\n",
       " 'purityAllSys': 1.0216295623779297,\n",
       " 'entropyAllSys': -0.030872177294001345,\n",
       " 'puritySDAllSys': 0.8338110453178725,\n",
       " 'entropySDAllSys': 1.1774669649521534,\n",
       " 'num_classical_registers_all_sys': 8,\n",
       " 'classical_registers_all_sys': None,\n",
       " 'classical_registers_actually_all_sys': [0, 1, 2, 3, 4, 5, 6, 7],\n",
       " 'errorRate': -0.010798884146186752,\n",
       " 'mitigatedPurity': 0.8842334024006319,\n",
       " 'mitigatedEntropy': 0.17750086097138182,\n",
       " 'counts_num': 100,\n",
       " 'taking_time': 0.000601532,\n",
       " 'taking_time_all_sys': 0.004912981,\n",
       " 'counts_used': None,\n",
       " 'input': {'num_qubits': 8,\n",
       "  'selected_qubits': [3, 4],\n",
       "  'registers_mapping': {0: 0, 1: 1, 2: 2, 3: 3, 4: 4, 5: 5, 6: 6, 7: 7},\n",
       "  'shots': 1024,\n",
       "  'unitary_located': [0, 1, 2, 3, 4, 5, 6, 7]},\n",
       " 'header': {'serial': 0,\n",
       "  'datetime': '2024-11-04 06:53:12',\n",
       "  'summoner': None,\n",
       "  'log': {}}}"
      ]
     },
     "execution_count": 21,
     "metadata": {},
     "output_type": "execute_result"
    }
   ],
   "source": [
    "main"
   ]
  },
  {
   "attachments": {},
   "cell_type": "markdown",
   "metadata": {},
   "source": [
    "- Also, `sideProdct` will record the data of each circuit, and you can use it to do more analysis.\n"
   ]
  },
  {
   "cell_type": "code",
   "execution_count": 22,
   "metadata": {},
   "outputs": [
    {
     "data": {
      "text/plain": [
       "{'purityCells': {88: 0.7537631988525391,\n",
       "  23: 0.8546485900878906,\n",
       "  61: 0.5635795593261719,\n",
       "  45: 0.5866680145263672,\n",
       "  78: 0.9752464294433594,\n",
       "  37: 0.4576873779296875,\n",
       "  80: 1.5215873718261719,\n",
       "  86: 0.42473411560058594,\n",
       "  48: 0.8972320556640625,\n",
       "  90: 1.5043869018554688,\n",
       "  26: 0.7555198669433594,\n",
       "  49: 0.7371978759765625,\n",
       "  9: 1.925821304321289,\n",
       "  11: 0.3872661590576172,\n",
       "  54: 0.30536651611328125,\n",
       "  81: 1.4056129455566406,\n",
       "  77: 0.3289756774902344,\n",
       "  40: 0.2655467987060547,\n",
       "  84: 0.292938232421875,\n",
       "  29: 0.8840713500976562,\n",
       "  55: 1.6578865051269531,\n",
       "  50: 1.4195060729980469,\n",
       "  73: 1.5754203796386719,\n",
       "  16: 0.4380607604980469,\n",
       "  10: 2.2353553771972656,\n",
       "  30: 0.26279449462890625,\n",
       "  7: 1.7535362243652344,\n",
       "  47: 0.8102226257324219,\n",
       "  53: 0.8633518218994141,\n",
       "  70: 1.4246673583984375,\n",
       "  63: 1.0527515411376953,\n",
       "  74: 0.8632659912109375,\n",
       "  20: 1.8426628112792969,\n",
       "  43: 0.5590476989746094,\n",
       "  46: 1.595367431640625,\n",
       "  56: 2.3237838745117188,\n",
       "  42: 0.9213962554931641,\n",
       "  19: 1.7795829772949219,\n",
       "  58: 0.7420215606689453,\n",
       "  89: 1.1980056762695312,\n",
       "  97: 0.9168643951416016,\n",
       "  99: 1.195413589477539,\n",
       "  32: 0.9819011688232422,\n",
       "  34: 0.297698974609375,\n",
       "  51: 0.9784679412841797,\n",
       "  14: 2.3446006774902344,\n",
       "  93: 0.3374042510986328,\n",
       "  72: 0.5676708221435547,\n",
       "  13: 0.7741909027099609,\n",
       "  0: 1.0535926818847656,\n",
       "  38: 1.1910018920898438,\n",
       "  8: 0.9918117523193359,\n",
       "  60: 0.2895965576171875,\n",
       "  69: 1.026224136352539,\n",
       "  71: 1.0448379516601562,\n",
       "  95: 0.2569465637207031,\n",
       "  66: 0.6152725219726562,\n",
       "  91: 0.26177024841308594,\n",
       "  67: 0.29987335205078125,\n",
       "  17: 0.31876182556152344,\n",
       "  62: 0.9947700500488281,\n",
       "  85: 0.5237541198730469,\n",
       "  22: 0.9824504852294922,\n",
       "  44: 1.0357170104980469,\n",
       "  98: 2.129852294921875,\n",
       "  4: 0.4045753479003906,\n",
       "  33: 0.5026626586914062,\n",
       "  2: 0.8289165496826172,\n",
       "  24: 0.8695201873779297,\n",
       "  28: 0.7691841125488281,\n",
       "  15: 1.175140380859375,\n",
       "  64: 0.3669471740722656,\n",
       "  76: 0.8175010681152344,\n",
       "  75: 1.424896240234375,\n",
       "  68: 0.8951663970947266,\n",
       "  82: 1.1534767150878906,\n",
       "  27: 0.9289665222167969,\n",
       "  41: 2.414386749267578,\n",
       "  12: 0.3847084045410156,\n",
       "  31: 0.9945354461669922,\n",
       "  3: 0.535552978515625,\n",
       "  6: 0.72186279296875,\n",
       "  21: 1.5311031341552734,\n",
       "  36: 0.5710468292236328,\n",
       "  35: 0.4040031433105469,\n",
       "  57: 0.26007080078125,\n",
       "  59: 0.5012035369873047,\n",
       "  39: 0.4015655517578125,\n",
       "  79: 0.5720596313476562,\n",
       "  25: 0.6876049041748047,\n",
       "  83: 1.6272506713867188,\n",
       "  1: 0.9629497528076172,\n",
       "  94: 0.5445480346679688,\n",
       "  87: 0.9450454711914062,\n",
       "  18: 0.4967689514160156,\n",
       "  52: 0.2662620544433594,\n",
       "  5: 0.7800674438476562,\n",
       "  65: 0.6696891784667969,\n",
       "  92: 0.3640632629394531,\n",
       "  96: 0.47025299072265625},\n",
       " 'purityCellsAllSys': {82: 1.7676239013671875,\n",
       "  12: 0.8765411376953125,\n",
       "  62: 2.4529991149902344,\n",
       "  65: 1.2234573364257812,\n",
       "  76: 2.0646610260009766,\n",
       "  86: 0.2726936340332031,\n",
       "  78: 0.7539176940917969,\n",
       "  33: 0.7520809173583984,\n",
       "  80: 0.4633636474609375,\n",
       "  50: 0.6527519226074219,\n",
       "  73: 0.9045562744140625,\n",
       "  30: 0.3733043670654297,\n",
       "  6: 1.6059303283691406,\n",
       "  55: 2.573476791381836,\n",
       "  66: 0.4228057861328125,\n",
       "  92: 0.37249183654785156,\n",
       "  93: 0.27126312255859375,\n",
       "  43: 0.30053138732910156,\n",
       "  91: 0.4955558776855469,\n",
       "  11: 0.3037300109863281,\n",
       "  75: 0.44129371643066406,\n",
       "  23: 2.4191761016845703,\n",
       "  31: 1.0977611541748047,\n",
       "  57: 0.8414192199707031,\n",
       "  20: 1.3599052429199219,\n",
       "  10: 3.9696044921875,\n",
       "  38: 0.7305889129638672,\n",
       "  17: 0.36507606506347656,\n",
       "  37: 0.3394813537597656,\n",
       "  39: 0.7249641418457031,\n",
       "  40: 0.2644996643066406,\n",
       "  46: 3.564626693725586,\n",
       "  15: 0.825408935546875,\n",
       "  70: 2.1471214294433594,\n",
       "  49: 0.4408760070800781,\n",
       "  2: 1.7162399291992188,\n",
       "  16: 0.40818023681640625,\n",
       "  61: 0.38080596923828125,\n",
       "  63: 0.524658203125,\n",
       "  69: 0.3774528503417969,\n",
       "  71: 0.5665435791015625,\n",
       "  44: 1.1841697692871094,\n",
       "  84: 0.9966297149658203,\n",
       "  85: 0.4393196105957031,\n",
       "  56: 2.336933135986328,\n",
       "  99: 2.574695587158203,\n",
       "  0: 0.3621978759765625,\n",
       "  41: 0.7656650543212891,\n",
       "  25: 1.1026535034179688,\n",
       "  5: 2.716716766357422,\n",
       "  26: 0.49408531188964844,\n",
       "  47: 0.579681396484375,\n",
       "  67: 0.3683948516845703,\n",
       "  79: 0.5585269927978516,\n",
       "  81: 1.1894512176513672,\n",
       "  94: 1.0028724670410156,\n",
       "  27: 0.8802604675292969,\n",
       "  88: 0.5667552947998047,\n",
       "  52: 0.36956787109375,\n",
       "  1: 0.4970893859863281,\n",
       "  68: 0.7526874542236328,\n",
       "  90: 1.0601158142089844,\n",
       "  13: 1.6974143981933594,\n",
       "  97: 3.945119857788086,\n",
       "  98: 2.531402587890625,\n",
       "  4: 0.3395500183105469,\n",
       "  14: 0.5569076538085938,\n",
       "  58: 0.903778076171875,\n",
       "  51: 0.3428802490234375,\n",
       "  21: 1.516998291015625,\n",
       "  64: 0.3187732696533203,\n",
       "  8: 0.9062557220458984,\n",
       "  29: 0.3658599853515625,\n",
       "  74: 0.5466423034667969,\n",
       "  96: 0.6112327575683594,\n",
       "  83: 0.8173236846923828,\n",
       "  9: 0.6327247619628906,\n",
       "  22: 1.4212398529052734,\n",
       "  24: 1.7667999267578125,\n",
       "  42: 0.6820716857910156,\n",
       "  89: 1.1418266296386719,\n",
       "  95: 1.3953704833984375,\n",
       "  34: 0.6564655303955078,\n",
       "  60: 0.46569252014160156,\n",
       "  35: 0.4553813934326172,\n",
       "  36: 0.5069084167480469,\n",
       "  28: 0.7922897338867188,\n",
       "  72: 1.5362529754638672,\n",
       "  59: 0.5751552581787109,\n",
       "  18: 0.64349365234375,\n",
       "  45: 1.2665157318115234,\n",
       "  48: 2.1300411224365234,\n",
       "  87: 1.4356365203857422,\n",
       "  54: 0.3914318084716797,\n",
       "  3: 0.23451614379882812,\n",
       "  19: 0.5687980651855469,\n",
       "  53: 3.3293075561523438,\n",
       "  32: 0.5295162200927734,\n",
       "  77: 0.3496208190917969,\n",
       "  7: 0.6478710174560547}}"
      ]
     },
     "execution_count": 22,
     "metadata": {},
     "output_type": "execute_result"
    }
   ],
   "source": [
    "side_prodct"
   ]
  },
  {
   "cell_type": "code",
   "execution_count": 23,
   "metadata": {},
   "outputs": [
    {
     "data": {
      "text/plain": [
       " # qurrentRandomized.Analysis with serial=0\n",
       " - header\n",
       "   - serial -------------------------------------- 0\n",
       "   - datetime ------------------------------------ 2024-11-04 06:53:12\n",
       "   - summoner ------------------------------------ None\n",
       "   - log ----------------------------------------- {}\n",
       " - input\n",
       "   - num_qubits ---------------------------------- 8\n",
       "   - selected_qubits ----------------------------- [3, 4]\n",
       "   - registers_mapping --------------------------- {0: 0, 1: 1, 2: 2, 3: 3, 4: 4, 5: 5, 6: 6, 7: 7}\n",
       "   - shots --------------------------------------- 1024\n",
       "   - unitary_located ----------------------------- [0, 1, 2, 3, 4, 5, 6, 7]\n",
       " - outfields ----------------------------------- 0 ........  # Number of unused arguments.\n",
       " - content\n",
       "   - purity -------------------------------------- 0.8980053901672364\n",
       "   - entropy ------------------------------------- 0.1552039902948788\n",
       "   - puritySD ------------------------------------ 0.527134871683887\n",
       "   - entropySD ----------------------------------- 0.8468711586646002\n",
       "   - purityCells --------------------------------- {88: 0.7537631988525391, 23: 0.8546485900878906, 61: 0.5635795593261719, 45: 0.5866680145263672, 78: 0.9752464294433594, 37: 0.4576873779296875, 80: 1.5215873718261719, 86: 0.42473411560058594, 48: 0.8972320556640625, 90: 1.5043869018554688, 26: 0.7555198669433594, 49: 0.7371978759765625, 9: 1.925821304321289, 11: 0.3872661590576172, 54: 0.30536651611328125, 81: 1.4056129455566406, 77: 0.3289756774902344, 40: 0.2655467987060547, 84: 0.292938232421875, 29: 0.8840713500976562, 55: 1.6578865051269531, 50: 1.4195060729980469, 73: 1.5754203796386719, 16: 0.4380607604980469, 10: 2.2353553771972656, 30: 0.26279449462890625, 7: 1.7535362243652344, 47: 0.8102226257324219, 53: 0.8633518218994141, 70: 1.4246673583984375, 63: 1.0527515411376953, 74: 0.8632659912109375, 20: 1.8426628112792969, 43: 0.5590476989746094, 46: 1.595367431640625, 56: 2.3237838745117188, 42: 0.9213962554931641, 19: 1.7795829772949219, 58: 0.7420215606689453, 89: 1.1980056762695312, 97: 0.9168643951416016, 99: 1.195413589477539, 32: 0.9819011688232422, 34: 0.297698974609375, 51: 0.9784679412841797, 14: 2.3446006774902344, 93: 0.3374042510986328, 72: 0.5676708221435547, 13: 0.7741909027099609, 0: 1.0535926818847656, 38: 1.1910018920898438, 8: 0.9918117523193359, 60: 0.2895965576171875, 69: 1.026224136352539, 71: 1.0448379516601562, 95: 0.2569465637207031, 66: 0.6152725219726562, 91: 0.26177024841308594, 67: 0.29987335205078125, 17: 0.31876182556152344, 62: 0.9947700500488281, 85: 0.5237541198730469, 22: 0.9824504852294922, 44: 1.0357170104980469, 98: 2.129852294921875, 4: 0.4045753479003906, 33: 0.5026626586914062, 2: 0.8289165496826172, 24: 0.8695201873779297, 28: 0.7691841125488281, 15: 1.175140380859375, 64: 0.3669471740722656, 76: 0.8175010681152344, 75: 1.424896240234375, 68: 0.8951663970947266, 82: 1.1534767150878906, 27: 0.9289665222167969, 41: 2.414386749267578, 12: 0.3847084045410156, 31: 0.9945354461669922, 3: 0.535552978515625, 6: 0.72186279296875, 21: 1.5311031341552734, 36: 0.5710468292236328...\n",
       "   - num_classical_registers --------------------- 8\n",
       "   - classical_registers ------------------------- [3, 4]\n",
       "   - classical_registers_actually ---------------- [3, 4]\n",
       "   - all_system_source --------------------------- independent\n",
       "   - purityAllSys -------------------------------- 1.0216295623779297\n",
       "   - entropyAllSys ------------------------------- -0.030872177294001345\n",
       "   - puritySDAllSys ------------------------------ 0.8338110453178725\n",
       "   - entropySDAllSys ----------------------------- 1.1774669649521534\n",
       "   - purityCellsAllSys --------------------------- {82: 1.7676239013671875, 12: 0.8765411376953125, 62: 2.4529991149902344, 65: 1.2234573364257812, 76: 2.0646610260009766, 86: 0.2726936340332031, 78: 0.7539176940917969, 33: 0.7520809173583984, 80: 0.4633636474609375, 50: 0.6527519226074219, 73: 0.9045562744140625, 30: 0.3733043670654297, 6: 1.6059303283691406, 55: 2.573476791381836, 66: 0.4228057861328125, 92: 0.37249183654785156, 93: 0.27126312255859375, 43: 0.30053138732910156, 91: 0.4955558776855469, 11: 0.3037300109863281, 75: 0.44129371643066406, 23: 2.4191761016845703, 31: 1.0977611541748047, 57: 0.8414192199707031, 20: 1.3599052429199219, 10: 3.9696044921875, 38: 0.7305889129638672, 17: 0.36507606506347656, 37: 0.3394813537597656, 39: 0.7249641418457031, 40: 0.2644996643066406, 46: 3.564626693725586, 15: 0.825408935546875, 70: 2.1471214294433594, 49: 0.4408760070800781, 2: 1.7162399291992188, 16: 0.40818023681640625, 61: 0.38080596923828125, 63: 0.524658203125, 69: 0.3774528503417969, 71: 0.5665435791015625, 44: 1.1841697692871094, 84: 0.9966297149658203, 85: 0.4393196105957031, 56: 2.336933135986328, 99: 2.574695587158203, 0: 0.3621978759765625, 41: 0.7656650543212891, 25: 1.1026535034179688, 5: 2.716716766357422, 26: 0.49408531188964844, 47: 0.579681396484375, 67: 0.3683948516845703, 79: 0.5585269927978516, 81: 1.1894512176513672, 94: 1.0028724670410156, 27: 0.8802604675292969, 88: 0.5667552947998047, 52: 0.36956787109375, 1: 0.4970893859863281, 68: 0.7526874542236328, 90: 1.0601158142089844, 13: 1.6974143981933594, 97: 3.945119857788086, 98: 2.531402587890625, 4: 0.3395500183105469, 14: 0.5569076538085938, 58: 0.903778076171875, 51: 0.3428802490234375, 21: 1.516998291015625, 64: 0.3187732696533203, 8: 0.9062557220458984, 29: 0.3658599853515625, 74: 0.5466423034667969, 96: 0.6112327575683594, 83: 0.8173236846923828, 9: 0.6327247619628906, 22: 1.4212398529052734, 24: 1.7667999267578125, 42: 0.6820716857910156, 89: 1.1418266296386719, 95: 1.3953704833984375, 34: 0.6564655303955078, 60: 0.46569252014160156, 35...\n",
       "   - num_classical_registers_all_sys ------------- 8\n",
       "   - classical_registers_all_sys ----------------- None\n",
       "   - classical_registers_actually_all_sys -------- [0, 1, 2, 3, 4, 5, 6, 7]\n",
       "   - errorRate ----------------------------------- -0.010798884146186752\n",
       "   - mitigatedPurity ----------------------------- 0.8842334024006319\n",
       "   - mitigatedEntropy ---------------------------- 0.17750086097138182\n",
       "   - counts_num ---------------------------------- 100\n",
       "   - taking_time --------------------------------- 0.000601532\n",
       "   - taking_time_all_sys ------------------------- 0.004912981\n",
       "   - counts_used --------------------------------- None\n",
       "by <QurryAnalysisSheet>"
      ]
     },
     "execution_count": 23,
     "metadata": {},
     "output_type": "execute_result"
    }
   ],
   "source": [
    "experiment_randomized.exps[exp1].reports[0].statesheet()"
   ]
  },
  {
   "cell_type": "markdown",
   "metadata": {},
   "source": [
    "---\n",
    "\n",
    "## Post-Process Availablities and Version Info\n",
    "\n",
    "We currently do not support Qsikit 1.0 for we are working on it, and we will support it in the future.\n"
   ]
  },
  {
   "cell_type": "code",
   "execution_count": 24,
   "metadata": {},
   "outputs": [
    {
     "name": "stdout",
     "output_type": "stream",
     "text": [
      " | Qurry version: 0.9.2.dev1\n",
      "--------------------------------------------------------\n",
      " ### Qurry Post-Processing\n",
      "   - Backend Availability ................... Python Cython Rust  \n",
      " - randomized_measure\n",
      "   - entangled_entropy.entropy_core_2 ....... Yes    Depr.  Yes   \n",
      "   - entangle_entropy.purity_cell_2 ......... Yes    Depr.  Yes   \n",
      "   - wavefunction_overlap ................... Yes    Depr.  Yes   \n",
      "   - echo_cell .............................. Yes    Depr.  Error \n",
      " - utils\n",
      "   - randomized ............................. Yes    Depr.  Yes   \n",
      "   - construct .............................. Yes    No     Yes   \n",
      "   - dummy .................................. Yes    No     Yes   \n",
      " - hadamard_test\n",
      "   - purity_echo_core ....................... Yes    No     Yes   \n",
      " - magnet_square\n",
      "   - magnsq_core ............................ Yes    No     No    \n",
      "--------------------------------------------------------\n",
      "   + Yes ...... Working normally.\n",
      "   + Error .... Exception occurred.\n",
      "   + No ....... Not supported.\n",
      "   + Depr. .... Deprecated.\n",
      "--------------------------------------------------------\n",
      "\n"
     ]
    }
   ],
   "source": [
    "from qurry.process import AVAIBILITY_STATESHEET\n",
    "\n",
    "print(AVAIBILITY_STATESHEET)"
   ]
  },
  {
   "cell_type": "code",
   "execution_count": 25,
   "metadata": {},
   "outputs": [
    {
     "name": "stdout",
     "output_type": "stream",
     "text": [
      " | Qurry version: 0.9.2.dev1\n",
      "--------------------------------------------\n",
      " ### Qiskit version\n",
      " - main\n",
      "   - qiskit-aer .............. 0.15.0\n",
      "   - qiskit-aer-gpu .......... 0.14.2\n",
      "   - qiskit-ibm-runtime ...... 0.30.0\n",
      " - deprecated\n",
      " - into-community\n",
      "--------------------------------------------\n",
      " + qiskit-aer-gpu should have the same version as qiskit-aer.\n",
      "--------------------------------------------\n",
      "\n"
     ]
    }
   ],
   "source": [
    "from qurry.tools.qiskit_version import QISKIT_VERSION_STATESHEET\n",
    "\n",
    "print(QISKIT_VERSION_STATESHEET)"
   ]
  }
 ],
 "metadata": {
  "kernelspec": {
   "display_name": "quantumsphere12",
   "language": "python",
   "name": "python3"
  },
  "language_info": {
   "codemirror_mode": {
    "name": "ipython",
    "version": 3
   },
   "file_extension": ".py",
   "mimetype": "text/x-python",
   "name": "python",
   "nbconvert_exporter": "python",
   "pygments_lexer": "ipython3",
   "version": "3.12.2"
  }
 },
 "nbformat": 4,
 "nbformat_minor": 4
}
