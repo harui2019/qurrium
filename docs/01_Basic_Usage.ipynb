{
 "cells": [
  {
   "attachments": {},
   "cell_type": "markdown",
   "metadata": {},
   "source": [
    "# 01 - Basic Usage of Qurry\n",
    "\n",
    "In Qurry, we use the instance of `Qurry` to store Quantum Circuit, experiment, build experiment, and excute them by local simulator or pending to the real quantum machine on `IBM`. In this chapter (or we say this jupyter file), we will introduce how to use Qurry to build a simple quantum circuit and measure their Renyi Entropy by local simulator.\n"
   ]
  },
  {
   "cell_type": "markdown",
   "metadata": {},
   "source": [
    "If you are using Colab, you can run the following command in terminal to install Qurry.\n",
    "\n",
    "```bash\n",
    "pip install -i https://test.pypi.org/simple/ qurry\n",
    "```"
   ]
  },
  {
   "attachments": {},
   "cell_type": "markdown",
   "metadata": {},
   "source": [
    "## 1.1 Setup Environment and Creat experiment executor"
   ]
  },
  {
   "cell_type": "code",
   "execution_count": 1,
   "metadata": {},
   "outputs": [],
   "source": [
    "from qurry import EntropyMeasure, BackendWrapper\n",
    "from qiskit import QuantumCircuit"
   ]
  },
  {
   "attachments": {},
   "cell_type": "markdown",
   "metadata": {},
   "source": [
    "- Before we start, we need to import the package of Qurry and other packages we need. \n",
    "\n",
    "- In Qurry, we provider a simple way to import backend called `BackendWrapper`, it will help us to import the backend we need, if your environment includes the GPU acceleration, `qiskit-aer-gpu`, it will be check the availability to access, if does, the GPU backend will also be available.\n",
    "\n",
    "- The following chapter, we will told you how to use `BackendWrapper` to import the real backend from your IBM account by `IBMProvider` or `AccountProvider`, and the more powerful class `backendManager` to import the real backend more easily.\n",
    "\n",
    "- In this example, we will use normal `aer_simulator` as our backend\n"
   ]
  },
  {
   "cell_type": "code",
   "execution_count": 2,
   "metadata": {},
   "outputs": [
    {
     "data": {
      "text/plain": [
       "AerSimulator('aer_simulator_gpu')"
      ]
     },
     "execution_count": 2,
     "metadata": {},
     "output_type": "execute_result"
    }
   ],
   "source": [
    "backend = BackendWrapper()\n",
    "backend('aer')"
   ]
  },
  {
   "cell_type": "code",
   "execution_count": 3,
   "metadata": {},
   "outputs": [
    {
     "name": "stdout",
     "output_type": "stream",
     "text": [
      "| Does we have GPU backend to access: True\n",
      "aer_simulator_gpu\n"
     ]
    }
   ],
   "source": [
    "print(\"| Does we have GPU backend to access:\", backend.is_aer_gpu)\n",
    "try:\n",
    "    # If you have GPU, you can use this backend.\n",
    "    print(backend('aer_gpu'))\n",
    "except:\n",
    "    pass"
   ]
  },
  {
   "attachments": {},
   "cell_type": "markdown",
   "metadata": {},
   "source": [
    "- Now, initialize our `EntropyMeasure`, we have two methods, `randomized` for Randomized Measure as default, and `hadamard` for Hadamard Test, these are our methods for measurement.\n",
    "\n",
    "- In following tutorial, we will use `randomized` as our measurement method."
   ]
  },
  {
   "cell_type": "code",
   "execution_count": 4,
   "metadata": {},
   "outputs": [
    {
     "name": "stdout",
     "output_type": "stream",
     "text": [
      "| The first method is which is `Hadamard Test`\".\n",
      "| The default method is which is `Randomized Measure` we will use.\n"
     ]
    }
   ],
   "source": [
    "experiment_execution_01 = EntropyMeasure(method='hadamard')\n",
    "print(f'| The first method is which is `Hadamard Test`\".')\n",
    "experiment_execution_02 = EntropyMeasure()\n",
    "print(f'| The default method is which is `Randomized Measure` we will use.')"
   ]
  },
  {
   "attachments": {},
   "cell_type": "markdown",
   "metadata": {},
   "source": [
    "---\n",
    "\n",
    "## 1.2 Load quantum circuit\n",
    "\n",
    "- We use `TrivialParamagnet` as our target to measure, and add it to our `Qurry` object, and import from `qurry.case` which there are some simple cases."
   ]
  },
  {
   "cell_type": "code",
   "execution_count": 5,
   "metadata": {},
   "outputs": [],
   "source": [
    "from qurry.recipe import TrivialParamagnet, GHZ"
   ]
  },
  {
   "cell_type": "code",
   "execution_count": 6,
   "metadata": {},
   "outputs": [
    {
     "name": "stdout",
     "output_type": "stream",
     "text": [
      "| trivial paramagnet in 8 qubits:\n",
      "     ┌───┐\n",
      "q_0: ┤ H ├\n",
      "     ├───┤\n",
      "q_1: ┤ H ├\n",
      "     ├───┤\n",
      "q_2: ┤ H ├\n",
      "     ├───┤\n",
      "q_3: ┤ H ├\n",
      "     ├───┤\n",
      "q_4: ┤ H ├\n",
      "     ├───┤\n",
      "q_5: ┤ H ├\n",
      "     ├───┤\n",
      "q_6: ┤ H ├\n",
      "     ├───┤\n",
      "q_7: ┤ H ├\n",
      "     └───┘\n",
      "| GHZ in 8 qubits:\n",
      "     ┌───┐                                   \n",
      "q_0: ┤ H ├──■────────────────────────────────\n",
      "     └───┘┌─┴─┐                              \n",
      "q_1: ─────┤ X ├──■───────────────────────────\n",
      "          └───┘┌─┴─┐                         \n",
      "q_2: ──────────┤ X ├──■──────────────────────\n",
      "               └───┘┌─┴─┐                    \n",
      "q_3: ───────────────┤ X ├──■─────────────────\n",
      "                    └───┘┌─┴─┐               \n",
      "q_4: ────────────────────┤ X ├──■────────────\n",
      "                         └───┘┌─┴─┐          \n",
      "q_5: ─────────────────────────┤ X ├──■───────\n",
      "                              └───┘┌─┴─┐     \n",
      "q_6: ──────────────────────────────┤ X ├──■──\n",
      "                                   └───┘┌─┴─┐\n",
      "q_7: ───────────────────────────────────┤ X ├\n",
      "                                        └───┘\n",
      "| Custom circuit:\n",
      "     ┌───┐\n",
      "q_0: ┤ X ├\n",
      "     └───┘\n",
      "q_1: ─────\n",
      "     ┌───┐\n",
      "q_2: ┤ X ├\n",
      "     └───┘\n",
      "q_3: ─────\n",
      "     ┌───┐\n",
      "q_4: ┤ X ├\n",
      "     └───┘\n",
      "q_5: ─────\n",
      "     ┌───┐\n",
      "q_6: ┤ X ├\n",
      "     └───┘\n",
      "q_7: ─────\n",
      "          \n"
     ]
    }
   ],
   "source": [
    "sample01 = TrivialParamagnet(8)\n",
    "print(\"| trivial paramagnet in 8 qubits:\")\n",
    "print(sample01)\n",
    "sample02 = GHZ(8)\n",
    "print(\"| GHZ in 8 qubits:\")\n",
    "print(sample02)\n",
    "sample03 = QuantumCircuit(8)\n",
    "sample03.x(range(0,8,2))\n",
    "print(\"| Custom circuit:\")\n",
    "print(sample03)"
   ]
  },
  {
   "cell_type": "markdown",
   "metadata": {},
   "source": [
    "- After we prepare three quantum circuits, we can add them to our `Qurry` object.\n",
    "The attribute `.waves` of `Qurry` object is a customized `dict`, we can check it by print it."
   ]
  },
  {
   "cell_type": "code",
   "execution_count": 7,
   "metadata": {},
   "outputs": [
    {
     "name": "stdout",
     "output_type": "stream",
     "text": [
      "<WaveContainer={\n",
      "    TrivialParamagnet: ...\n",
      "    GHZ: ...\n",
      "    2: ...\n",
      "} with 3 waves load, a customized dictionary>\n"
     ]
    }
   ],
   "source": [
    "experiment_execution_02.add(\n",
    "    wave=sample01,              # The circuit object\n",
    "    key='TrivialParamagnet',    # The name of the circuit\n",
    "    replace=False               # True for if you want to replace the circuit with the same name.\n",
    ")                               # Default is False, so if you add the same name when False, \n",
    "                                # it will be added with serial number.\n",
    "experiment_execution_02.add(sample02, 'GHZ')\n",
    "experiment_execution_02.add(sample03)\n",
    "print(experiment_execution_02.waves)"
   ]
  },
  {
   "attachments": {},
   "cell_type": "markdown",
   "metadata": {},
   "source": [
    "If you do not give the name of circuit, it will be named by series number.\n",
    "\n",
    "Now, waves are loading, time to excute."
   ]
  },
  {
   "attachments": {},
   "cell_type": "markdown",
   "metadata": {},
   "source": [
    "## 1.3 Excute Circuits"
   ]
  },
  {
   "cell_type": "markdown",
   "metadata": {},
   "source": [
    "- We can use `.measure()` to excute the specific circuit in `EntropyMeasure` object, and it will return hash id of this experiment and save a `Experiment` object in `EntropyMeasure`.\n",
    "- For `EntropyMeasure`, it will require the following parameters:\n",
    "  - wave: the name of circuit in `Qurry.waves` object\n",
    "  - times: the number of random measurement\n",
    "  - shots: the number of shots for each measurement. Default is 1024"
   ]
  },
  {
   "cell_type": "code",
   "execution_count": 8,
   "metadata": {},
   "outputs": [
    {
     "data": {
      "text/plain": [
       "'4625b1b3-b9d2-4103-922e-adba0d133661'"
      ]
     },
     "execution_count": 8,
     "metadata": {},
     "output_type": "execute_result"
    }
   ],
   "source": [
    "exp1 = experiment_execution_02.measure(\n",
    "    wave='TrivialParamagnet',\n",
    "    times=100,\n",
    "    shots=1024,\n",
    ")\n",
    "exp1 "
   ]
  },
  {
   "cell_type": "markdown",
   "metadata": {},
   "source": [
    "- And we can check the attribute `.exps` of `EntropyMeasure` object, it will return the hash id of all experiments."
   ]
  },
  {
   "cell_type": "code",
   "execution_count": 9,
   "metadata": {},
   "outputs": [
    {
     "name": "stdout",
     "output_type": "stream",
     "text": [
      "<ExperimentContainer={\n",
      "    4625b1b3-b9d2-4103-922e-adba0d133661: ...\n",
      "} with 1 experiments load, a customized dictionary>\n"
     ]
    }
   ],
   "source": [
    "print(experiment_execution_02.exps)"
   ]
  },
  {
   "cell_type": "markdown",
   "metadata": {},
   "source": [
    "- The following is the other informatiom you can access."
   ]
  },
  {
   "cell_type": "code",
   "execution_count": 10,
   "metadata": {},
   "outputs": [
    {
     "data": {
      "text/plain": [
       "<qurrentRandomized.Experiment with exp_id=4625b1b3-b9d2-4103-922e-adba0d133661, EntropyRandomizedArguments(exp_name='w=TrivialParamagnet.with100random.qurrent_haar', times=100, measure=(0, 8), unitary_loc=(0, 8), workers_num=16), Commonparams(exp_id='4625b1b3-b9d2-4103-922e-adba0d133661', wave_key='TrivialParamagnet', shots=1024, backend=<AerSimulator('aer_simulator')>, run_args={}, transpile_args={}, tags=(), default_analysis=[], save_location=PosixPath('.'), filename='', files={}, serial=None, summoner_id=None, summoner_name=None, datetimes={'build': '2024-03-18 14:33:17', 'run': '2024-03-18 14:33:17'}), 0 unused arguments, 6 preparing dates, 2 experiment result datasets, and 0 analysis>"
      ]
     },
     "execution_count": 10,
     "metadata": {},
     "output_type": "execute_result"
    }
   ],
   "source": [
    "experiment_execution_02.exps[exp1]"
   ]
  },
  {
   "cell_type": "code",
   "execution_count": 11,
   "metadata": {},
   "outputs": [
    {
     "name": "stdout",
     "output_type": "stream",
     "text": [
      " # qurrentRandomized.Experiment with exp_id=4625b1b3-b9d2-4103-922e-adba0d133661\n",
      " - arguments\n",
      "   - exp_name ---------------- w=TrivialParamagnet.with100random.qurrent_haar\n",
      "   - times ------------------- 100\n",
      "   - measure ----------------- (0, 8)\n",
      "   - unitary_loc ------------- (0, 8)\n",
      "   - workers_num ------------- 16\n",
      " - commonparams\n",
      "   - exp_id ------------------ 4625b1b3-b9d2-4103-922e-adba0d133661   # This is ID is generated by Qurry which is different from 'job_id' for pending.\n",
      "   - wave_key ---------------- TrivialParamagnet\n",
      "   - shots ------------------- 1024\n",
      "   - backend ----------------- aer_simulator\n",
      "   - run_args ---------------- {}\n",
      "   - transpile_args ---------- {}\n",
      "   - tags -------------------- ()\n",
      "   - default_analysis -------- []\n",
      "   - save_location ----------- .\n",
      "   - filename ---------------- \n",
      "   - files ------------------- {}\n",
      "   - serial ------------------ None\n",
      "   - summoner_id ------------- None\n",
      "   - summoner_name ----------- None\n",
      "   - datetimes --------------- {'build': '2024-03-18 14:33:17', 'run': '2024-03-18 14:33:17'}\n",
      " - outfields --------------- 0 ........  # Number of unused arguments.\n",
      " - beforewards\n",
      "   - circuit ----------------- 100 ......  # Number of circuit\n",
      "   - circuit_qasm ------------ 100 ......  # Number of circuit_qasm\n",
      "   - fig_original ------------ 0 ........  # Number of fig_original\n",
      "   - job_id ------------------ ef04f59a-1690-4091-9378-4644250fc971\n",
      "   - exp_name ---------------- w=TrivialParamagnet.with100random.qurrent_haar\n",
      "   - side_product ------------ 2 ........  # Number of side_product\n",
      " - afterwards\n",
      "   - result ------------------ 1 ........  # Number of result\n",
      "   - counts ------------------ 100 ......  # Number of counts\n",
      " - reports ----------------- 0 ........  # Number of analysis.\n",
      "\n"
     ]
    }
   ],
   "source": [
    "print(experiment_execution_02.exps[exp1].statesheet())"
   ]
  },
  {
   "attachments": {},
   "cell_type": "markdown",
   "metadata": {},
   "source": [
    "- Then, there is a experiment completed, and we can calculate the Renyi Entropy by `analyze`."
   ]
  },
  {
   "attachments": {},
   "cell_type": "markdown",
   "metadata": {},
   "source": [
    "---\n",
    "\n",
    "## 1.4 Result\n",
    "\n",
    "- We want to know the Renyi Entropy of half system. Then we can use `.analyze()` to calculate it and it will store a `Analysis` object in `Experiment`.\n",
    "- The following is the parameter `analyze` of `EntropyMeasure` required.\n",
    "  - degree: The size or range of subsystem, if it is a number, it will be the size of subsystem, if it is a tuple, it will be the range of subsystem."
   ]
  },
  {
   "cell_type": "code",
   "execution_count": 12,
   "metadata": {},
   "outputs": [
    {
     "data": {
      "application/vnd.jupyter.widget-view+json": {
       "model_id": "8c3c61fae372491286b71b30bfb8ea9a",
       "version_major": 2,
       "version_minor": 0
      },
      "text/plain": [
       "|  - 00:00 < ?"
      ]
     },
     "metadata": {},
     "output_type": "display_data"
    },
    {
     "data": {
      "application/vnd.jupyter.widget-view+json": {
       "model_id": "3b982a37c8004e57906792885a5b02b5",
       "version_major": 2,
       "version_minor": 0
      },
      "text/plain": [
       "|  - 00:00 < ?"
      ]
     },
     "metadata": {},
     "output_type": "display_data"
    }
   ],
   "source": [
    "exp1_report1 = experiment_execution_02.exps[exp1].analyze(\n",
    "    degree=(0, 4)\n",
    ")\n",
    "exp1_report2 = experiment_execution_02.exps[exp1].analyze(\n",
    "    degree=4\n",
    ")"
   ]
  },
  {
   "cell_type": "markdown",
   "metadata": {},
   "source": [
    "- The `analyze` will return the result of this analysis."
   ]
  },
  {
   "cell_type": "code",
   "execution_count": 13,
   "metadata": {},
   "outputs": [
    {
     "name": "stdout",
     "output_type": "stream",
     "text": [
      "<qurrentRandomized.Analysis with serial=0, AnalysisInput(degree=(0, 4), shots=1024, unitary_loc=(0, 8)), AnalysisContent(purity=1.2001620864868163, entropy=-0.26322926048331696, and others), 0 unused arguments>\n",
      "AnalysisHeader(serial=0, datetime='2024-03-18 14:33:19', summoner=None, log={})\n"
     ]
    }
   ],
   "source": [
    "print(exp1_report1)\n",
    "print(exp1_report1.header)"
   ]
  },
  {
   "cell_type": "markdown",
   "metadata": {},
   "source": [
    "- It can also be found in the attribute `.reports` of `Experiment` object."
   ]
  },
  {
   "cell_type": "code",
   "execution_count": 14,
   "metadata": {},
   "outputs": [
    {
     "name": "stdout",
     "output_type": "stream",
     "text": [
      "<AnalysisContainer={\n",
      "    0: ...\n",
      "    1: ...\n",
      "} with 2 analysis load, a customized dictionary>\n",
      "<qurrentRandomized.Analysis with serial=0, AnalysisInput(degree=(0, 4), shots=1024, unitary_loc=(0, 8)), AnalysisContent(purity=1.2001620864868163, entropy=-0.26322926048331696, and others), 0 unused arguments>\n",
      "AnalysisHeader(serial=0, datetime='2024-03-18 14:33:19', summoner=None, log={})\n"
     ]
    }
   ],
   "source": [
    "print(experiment_execution_02.exps[exp1].reports)\n",
    "print(experiment_execution_02.exps[exp1].reports[0])\n",
    "print(experiment_execution_02.exps[exp1].reports[0].header)"
   ]
  },
  {
   "cell_type": "markdown",
   "metadata": {},
   "source": [
    "- We can use `.export()` to get the result of this analysis."
   ]
  },
  {
   "cell_type": "code",
   "execution_count": 15,
   "metadata": {},
   "outputs": [],
   "source": [
    "main, side_prodct = experiment_execution_02.exps[exp1].reports[0].export()"
   ]
  },
  {
   "attachments": {},
   "cell_type": "markdown",
   "metadata": {},
   "source": [
    "- And there is it"
   ]
  },
  {
   "cell_type": "code",
   "execution_count": 16,
   "metadata": {},
   "outputs": [
    {
     "data": {
      "text/plain": [
       "{'purity': 1.2001620864868163,\n",
       " 'entropy': -0.26322926048331696,\n",
       " 'puritySD': 1.1239147826945266,\n",
       " 'entropySD': 1.3510394151190361,\n",
       " 'bitStringRange': [0, 4],\n",
       " 'allSystemSource': 'independent',\n",
       " 'purityAllSys': 1.350189094543457,\n",
       " 'entropyAllSys': -0.4331614714656859,\n",
       " 'puritySDAllSys': 1.4199841410257523,\n",
       " 'entropySDAllSys': 1.5172719781828246,\n",
       " 'bitsStringRangeAllSys': [0, 8],\n",
       " 'errorRate': -0.16256715294657023,\n",
       " 'mitigatedPurity': 0.9042384939238135,\n",
       " 'mitigatedEntropy': 0.14522475961169473,\n",
       " 'num_qubits': 8,\n",
       " 'measure': ['measure range:', [0, 8]],\n",
       " 'measureActually': [0, 8],\n",
       " 'measureActuallyAllSys': [0, 8],\n",
       " 'countsNum': 100,\n",
       " 'takingTime': 0.000836056,\n",
       " 'takingTimeAllSys': 0.00334642,\n",
       " 'input': {'degree': [0, 4], 'shots': 1024, 'unitary_loc': [0, 8]},\n",
       " 'header': {'serial': 0,\n",
       "  'datetime': '2024-03-18 14:33:19',\n",
       "  'summoner': None,\n",
       "  'log': {}}}"
      ]
     },
     "execution_count": 16,
     "metadata": {},
     "output_type": "execute_result"
    }
   ],
   "source": [
    "main"
   ]
  },
  {
   "attachments": {},
   "cell_type": "markdown",
   "metadata": {},
   "source": [
    "- Also, `sideProdct` will record the data of each circuit, and you can use it to do more analysis."
   ]
  },
  {
   "cell_type": "code",
   "execution_count": 17,
   "metadata": {},
   "outputs": [
    {
     "data": {
      "text/plain": [
       "{'purityCells': {87: 0.41632843017578125,\n",
       "  35: 1.540395736694336,\n",
       "  99: 0.24810028076171875,\n",
       "  81: 2.309049606323242,\n",
       "  15: 1.250265121459961,\n",
       "  73: 0.21718406677246094,\n",
       "  10: 0.5714302062988281,\n",
       "  8: 0.2646770477294922,\n",
       "  33: 1.3607463836669922,\n",
       "  12: 0.6284217834472656,\n",
       "  29: 0.4827556610107422,\n",
       "  80: 1.7007732391357422,\n",
       "  30: 1.6592826843261719,\n",
       "  62: 0.5863933563232422,\n",
       "  77: 0.24023818969726562,\n",
       "  3: 0.7625408172607422,\n",
       "  32: 0.31729698181152344,\n",
       "  98: 3.317646026611328,\n",
       "  64: 1.2047576904296875,\n",
       "  70: 4.04511833190918,\n",
       "  17: 4.54576301574707,\n",
       "  67: 0.7181148529052734,\n",
       "  57: 2.2141780853271484,\n",
       "  75: 0.2463665008544922,\n",
       "  54: 1.9171924591064453,\n",
       "  82: 1.7292346954345703,\n",
       "  96: 0.5467281341552734,\n",
       "  91: 0.9411029815673828,\n",
       "  14: 0.15072250366210938,\n",
       "  65: 4.197038650512695,\n",
       "  51: 2.9863052368164062,\n",
       "  53: 1.4476757049560547,\n",
       "  68: 0.6845722198486328,\n",
       "  28: 0.5784397125244141,\n",
       "  94: 0.3826484680175781,\n",
       "  69: 0.620330810546875,\n",
       "  44: 0.9136371612548828,\n",
       "  86: 1.8575916290283203,\n",
       "  19: 0.5462532043457031,\n",
       "  50: 1.8970623016357422,\n",
       "  13: 0.79254150390625,\n",
       "  38: 1.6414070129394531,\n",
       "  21: 0.20821762084960938,\n",
       "  5: 0.2888526916503906,\n",
       "  22: 1.5384445190429688,\n",
       "  24: 0.18691444396972656,\n",
       "  9: 0.7897434234619141,\n",
       "  27: 1.4459762573242188,\n",
       "  56: 3.0259933471679688,\n",
       "  93: 0.46011924743652344,\n",
       "  97: 1.8142356872558594,\n",
       "  20: 0.8044490814208984,\n",
       "  34: 0.5059299468994141,\n",
       "  40: 1.278646469116211,\n",
       "  66: 1.077035903930664,\n",
       "  78: 0.43150901794433594,\n",
       "  83: 1.3034515380859375,\n",
       "  6: 0.7295246124267578,\n",
       "  11: 0.20242691040039062,\n",
       "  25: 0.6201190948486328,\n",
       "  36: 0.675079345703125,\n",
       "  1: 0.46389007568359375,\n",
       "  0: 1.145425796508789,\n",
       "  4: 0.5599517822265625,\n",
       "  39: 5.704620361328125,\n",
       "  18: 3.1894664764404297,\n",
       "  43: 0.25208282470703125,\n",
       "  23: 0.6174697875976562,\n",
       "  37: 1.227090835571289,\n",
       "  46: 0.6468181610107422,\n",
       "  49: 0.12901878356933594,\n",
       "  55: 4.599830627441406,\n",
       "  59: 0.312530517578125,\n",
       "  16: 1.5967979431152344,\n",
       "  42: 0.5428256988525391,\n",
       "  48: 0.47746849060058594,\n",
       "  61: 0.23689651489257812,\n",
       "  74: 0.3557319641113281,\n",
       "  52: 1.641653060913086,\n",
       "  79: 0.30068016052246094,\n",
       "  84: 0.6125144958496094,\n",
       "  85: 0.5716075897216797,\n",
       "  45: 1.1200542449951172,\n",
       "  58: 0.3932228088378906,\n",
       "  88: 0.17693519592285156,\n",
       "  90: 2.0009918212890625,\n",
       "  71: 2.787069320678711,\n",
       "  92: 0.7246322631835938,\n",
       "  26: 0.6316375732421875,\n",
       "  89: 0.5736789703369141,\n",
       "  95: 0.3926963806152344,\n",
       "  31: 2.4546070098876953,\n",
       "  7: 0.9978656768798828,\n",
       "  63: 0.3931884765625,\n",
       "  60: 3.5112857818603516,\n",
       "  76: 0.7291698455810547,\n",
       "  2: 0.6612205505371094,\n",
       "  41: 1.734762191772461,\n",
       "  47: 2.9430465698242188,\n",
       "  72: 0.5407943725585938},\n",
       " 'purityCellsAllSys': {86: 3.0597991943359375,\n",
       "  67: 0.755279541015625,\n",
       "  13: 0.5322227478027344,\n",
       "  1: 0.5271129608154297,\n",
       "  9: 0.4522743225097656,\n",
       "  17: 3.9367942810058594,\n",
       "  33: 0.6948146820068359,\n",
       "  34: 0.5393638610839844,\n",
       "  75: 0.29834556579589844,\n",
       "  92: 0.5238800048828125,\n",
       "  98: 1.4897327423095703,\n",
       "  3: 1.1794490814208984,\n",
       "  12: 0.4776287078857422,\n",
       "  65: 1.4466571807861328,\n",
       "  95: 0.384124755859375,\n",
       "  63: 0.36585426330566406,\n",
       "  73: 0.3735218048095703,\n",
       "  87: 0.8116703033447266,\n",
       "  2: 0.8842945098876953,\n",
       "  39: 9.329753875732422,\n",
       "  89: 2.129314422607422,\n",
       "  7: 0.41800498962402344,\n",
       "  71: 3.5293960571289062,\n",
       "  85: 0.3528881072998047,\n",
       "  51: 0.9403419494628906,\n",
       "  90: 0.5680484771728516,\n",
       "  53: 5.682350158691406,\n",
       "  68: 0.46608734130859375,\n",
       "  61: 0.27256202697753906,\n",
       "  91: 0.4280357360839844,\n",
       "  37: 2.260629653930664,\n",
       "  32: 1.2845115661621094,\n",
       "  8: 0.5339908599853516,\n",
       "  88: 0.2839031219482422,\n",
       "  45: 1.9332828521728516,\n",
       "  29: 0.30283164978027344,\n",
       "  6: 0.5309925079345703,\n",
       "  46: 0.4691600799560547,\n",
       "  94: 0.8197555541992188,\n",
       "  69: 3.859935760498047,\n",
       "  49: 0.5400791168212891,\n",
       "  4: 0.4252147674560547,\n",
       "  21: 0.4056282043457031,\n",
       "  62: 0.6183052062988281,\n",
       "  47: 2.8109989166259766,\n",
       "  48: 0.9496173858642578,\n",
       "  70: 2.4786853790283203,\n",
       "  83: 0.7147617340087891,\n",
       "  93: 2.5542564392089844,\n",
       "  96: 1.4359283447265625,\n",
       "  43: 0.2809333801269531,\n",
       "  79: 0.626922607421875,\n",
       "  35: 4.960720062255859,\n",
       "  99: 0.3149223327636719,\n",
       "  54: 1.9924373626708984,\n",
       "  57: 1.5016288757324219,\n",
       "  38: 1.4934463500976562,\n",
       "  58: 1.4133720397949219,\n",
       "  72: 0.8219871520996094,\n",
       "  30: 1.5613727569580078,\n",
       "  19: 0.3676338195800781,\n",
       "  41: 3.568889617919922,\n",
       "  55: 3.7708663940429688,\n",
       "  77: 0.23740577697753906,\n",
       "  10: 1.3856372833251953,\n",
       "  0: 1.6003227233886719,\n",
       "  14: 0.2137165069580078,\n",
       "  44: 0.7807426452636719,\n",
       "  28: 0.6132640838623047,\n",
       "  16: 1.4310073852539062,\n",
       "  27: 1.6355762481689453,\n",
       "  66: 0.6416168212890625,\n",
       "  22: 0.7182407379150391,\n",
       "  76: 0.9405250549316406,\n",
       "  52: 1.0862483978271484,\n",
       "  78: 0.5714130401611328,\n",
       "  84: 0.5268611907958984,\n",
       "  97: 0.5498638153076172,\n",
       "  82: 3.356172561645508,\n",
       "  20: 0.9114856719970703,\n",
       "  25: 0.5874118804931641,\n",
       "  56: 2.1311397552490234,\n",
       "  42: 0.5557575225830078,\n",
       "  11: 0.3436698913574219,\n",
       "  15: 1.9876594543457031,\n",
       "  24: 0.46990966796875,\n",
       "  59: 1.2277030944824219,\n",
       "  18: 3.6815853118896484,\n",
       "  31: 0.5118865966796875,\n",
       "  36: 0.5021877288818359,\n",
       "  64: 0.91229248046875,\n",
       "  50: 4.9393768310546875,\n",
       "  80: 1.5578422546386719,\n",
       "  23: 0.29871177673339844,\n",
       "  40: 2.4175281524658203,\n",
       "  60: 1.5333061218261719,\n",
       "  74: 0.2595329284667969,\n",
       "  5: 0.5148391723632812,\n",
       "  81: 2.1748733520507812,\n",
       "  26: 0.47439002990722656}}"
      ]
     },
     "execution_count": 17,
     "metadata": {},
     "output_type": "execute_result"
    }
   ],
   "source": [
    "side_prodct"
   ]
  },
  {
   "cell_type": "code",
   "execution_count": 18,
   "metadata": {},
   "outputs": [
    {
     "data": {
      "text/plain": [
       " # qurrentRandomized.Analysis with serial=0\n",
       " - header\n",
       "   - serial ----------------------- 0\n",
       "   - datetime --------------------- 2024-03-18 14:33:19\n",
       "   - summoner --------------------- None\n",
       "   - log -------------------------- {}\n",
       " - input\n",
       "   - degree ----------------------- (0, 4)\n",
       "   - shots ------------------------ 1024\n",
       "   - unitary_loc ------------------ (0, 8)\n",
       " - outfields -------------------- 0 ........  # Number of unused arguments.\n",
       " - content\n",
       "   - purity ----------------------- 1.2001620864868163\n",
       "   - entropy ---------------------- -0.26322926048331696\n",
       "   - puritySD --------------------- 1.1239147826945266\n",
       "   - entropySD -------------------- 1.3510394151190361\n",
       "   - purityCells ------------------ {87: 0.41632843017578125, 35: 1.540395736694336, 99: 0.24810028076171875, 81: 2.309049606323242, 15: 1.250265121459961, 73: 0.21718406677246094, 10: 0.5714302062988281, 8: 0.2646770477294922, 33: 1.3607463836669922, 12: 0.6284217834472656, 29: 0.4827556610107422, 80: 1.7007732391357422, 30: 1.6592826843261719, 62: 0.5863933563232422, 77: 0.24023818969726562, 3: 0.7625408172607422, 32: 0.31729698181152344, 98: 3.317646026611328, 64: 1.2047576904296875, 70: 4.04511833190918, 17: 4.54576301574707, 67: 0.7181148529052734, 57: 2.2141780853271484, 75: 0.2463665008544922, 54: 1.9171924591064453, 82: 1.7292346954345703, 96: 0.5467281341552734, 91: 0.9411029815673828, 14: 0.15072250366210938, 65: 4.197038650512695, 51: 2.9863052368164062, 53: 1.4476757049560547, 68: 0.6845722198486328, 28: 0.5784397125244141, 94: 0.3826484680175781, 69: 0.620330810546875, 44: 0.9136371612548828, 86: 1.8575916290283203, 19: 0.5462532043457031, 50: 1.8970623016357422, 13: 0.79254150390625, 38: 1.6414070129394531, 21: 0.20821762084960938, 5: 0.2888526916503906, 22: 1.5384445190429688, 24: 0.18691444396972656, 9: 0.7897434234619141, 27: 1.4459762573242188, 56: 3.0259933471679688, 93: 0.46011924743652344, 97: 1.8142356872558594, 20: 0.8044490814208984, 34: 0.5059299468994141, 40: 1.278646469116211, 66: 1.077035903930664, 78: 0.43150901794433594, 83: 1.3034515380859375, 6: 0.7295246124267578, 11: 0.20242691040039062, 25: 0.6201190948486328, 36: 0.675079345703125, 1: 0.46389007568359375, 0: 1.145425796508789, 4: 0.5599517822265625, 39: 5.704620361328125, 18: 3.1894664764404297, 43: 0.25208282470703125, 23: 0.6174697875976562, 37: 1.227090835571289, 46: 0.6468181610107422, 49: 0.12901878356933594, 55: 4.599830627441406, 59: 0.312530517578125, 16: 1.5967979431152344, 42: 0.5428256988525391, 48: 0.47746849060058594, 61: 0.23689651489257812, 74: 0.3557319641113281, 52: 1.641653060913086, 79: 0.30068016052246094, 84: 0.6125144958496094, 85: 0.5716075897216797, 45: 1.1200542449951172, 58: 0.3932228088378...\n",
       "   - bitStringRange --------------- (0, 4)\n",
       "   - allSystemSource -------------- independent\n",
       "   - purityAllSys ----------------- 1.350189094543457\n",
       "   - entropyAllSys ---------------- -0.4331614714656859\n",
       "   - puritySDAllSys --------------- 1.4199841410257523\n",
       "   - entropySDAllSys -------------- 1.5172719781828246\n",
       "   - purityCellsAllSys ------------ {86: 3.0597991943359375, 67: 0.755279541015625, 13: 0.5322227478027344, 1: 0.5271129608154297, 9: 0.4522743225097656, 17: 3.9367942810058594, 33: 0.6948146820068359, 34: 0.5393638610839844, 75: 0.29834556579589844, 92: 0.5238800048828125, 98: 1.4897327423095703, 3: 1.1794490814208984, 12: 0.4776287078857422, 65: 1.4466571807861328, 95: 0.384124755859375, 63: 0.36585426330566406, 73: 0.3735218048095703, 87: 0.8116703033447266, 2: 0.8842945098876953, 39: 9.329753875732422, 89: 2.129314422607422, 7: 0.41800498962402344, 71: 3.5293960571289062, 85: 0.3528881072998047, 51: 0.9403419494628906, 90: 0.5680484771728516, 53: 5.682350158691406, 68: 0.46608734130859375, 61: 0.27256202697753906, 91: 0.4280357360839844, 37: 2.260629653930664, 32: 1.2845115661621094, 8: 0.5339908599853516, 88: 0.2839031219482422, 45: 1.9332828521728516, 29: 0.30283164978027344, 6: 0.5309925079345703, 46: 0.4691600799560547, 94: 0.8197555541992188, 69: 3.859935760498047, 49: 0.5400791168212891, 4: 0.4252147674560547, 21: 0.4056282043457031, 62: 0.6183052062988281, 47: 2.8109989166259766, 48: 0.9496173858642578, 70: 2.4786853790283203, 83: 0.7147617340087891, 93: 2.5542564392089844, 96: 1.4359283447265625, 43: 0.2809333801269531, 79: 0.626922607421875, 35: 4.960720062255859, 99: 0.3149223327636719, 54: 1.9924373626708984, 57: 1.5016288757324219, 38: 1.4934463500976562, 58: 1.4133720397949219, 72: 0.8219871520996094, 30: 1.5613727569580078, 19: 0.3676338195800781, 41: 3.568889617919922, 55: 3.7708663940429688, 77: 0.23740577697753906, 10: 1.3856372833251953, 0: 1.6003227233886719, 14: 0.2137165069580078, 44: 0.7807426452636719, 28: 0.6132640838623047, 16: 1.4310073852539062, 27: 1.6355762481689453, 66: 0.6416168212890625, 22: 0.7182407379150391, 76: 0.9405250549316406, 52: 1.0862483978271484, 78: 0.5714130401611328, 84: 0.5268611907958984, 97: 0.5498638153076172, 82: 3.356172561645508, 20: 0.9114856719970703, 25: 0.5874118804931641, 56: 2.1311397552490234, 42: 0.5557575225830078, 11: 0.34366989135742...\n",
       "   - bitsStringRangeAllSys -------- (0, 8)\n",
       "   - errorRate -------------------- -0.16256715294657023\n",
       "   - mitigatedPurity -------------- 0.9042384939238135\n",
       "   - mitigatedEntropy ------------- 0.14522475961169473\n",
       "   - num_qubits ------------------- 8\n",
       "   - measure ---------------------- ('measure range:', (0, 8))\n",
       "   - measureActually -------------- (0, 8)\n",
       "   - measureActuallyAllSys -------- (0, 8)\n",
       "   - countsNum -------------------- 100\n",
       "   - takingTime ------------------- 0.000836056\n",
       "   - takingTimeAllSys ------------- 0.00334642\n",
       "by <QurryAnalysisSheet>"
      ]
     },
     "execution_count": 18,
     "metadata": {},
     "output_type": "execute_result"
    }
   ],
   "source": [
    "experiment_execution_02.exps[exp1].reports[0].statesheet()"
   ]
  },
  {
   "cell_type": "markdown",
   "metadata": {},
   "source": [
    "---\n",
    "\n",
    "## Post-Process Availablities and Version Info\n",
    "\n",
    "We currently do not support Qsikit 1.0 for we are working on it, and we will support it in the future."
   ]
  },
  {
   "cell_type": "code",
   "execution_count": 19,
   "metadata": {},
   "outputs": [
    {
     "name": "stdout",
     "output_type": "stream",
     "text": [
      "| Qurry version: 0.7.1.dev3\n",
      "--------------------------------------------------------\n",
      " ### Qurry Post-Processing\n",
      "   - Backend Availability           Python Cython Rust  \n",
      " - randomized_measure\n",
      "   - entangled_core ............... True   True   True  \n",
      "   - purity_cell .................. True   True   True  \n",
      "   - wavefunction_overlap ......... True   True   None  \n",
      "   - echo_cell .................... True   True   None  \n",
      " - utils\n",
      "   - construct .................... True   True   True  \n",
      "   - construct .................... True   None   True  \n",
      "--------------------------------------------------------\n",
      "   + True ..... Working normally.\n",
      "   + False .... Exception occurred.\n",
      "   + None ..... Not supported yet.\n",
      "--------------------------------------------------------\n",
      "\n"
     ]
    }
   ],
   "source": [
    "from qurry import __version__\n",
    "from qurry.process import AVAIBILITY_STATESHEET\n",
    "print(\"| Qurry version:\", __version__)\n",
    "print(AVAIBILITY_STATESHEET)"
   ]
  },
  {
   "cell_type": "code",
   "execution_count": null,
   "metadata": {},
   "outputs": [],
   "source": []
  }
 ],
 "metadata": {
  "kernelspec": {
   "display_name": "quantumsphere11",
   "language": "python",
   "name": "python3"
  },
  "language_info": {
   "codemirror_mode": {
    "name": "ipython",
    "version": 3
   },
   "file_extension": ".py",
   "mimetype": "text/x-python",
   "name": "python",
   "nbconvert_exporter": "python",
   "pygments_lexer": "ipython3",
   "version": "3.11.3"
  },
  "orig_nbformat": 4
 },
 "nbformat": 4,
 "nbformat_minor": 2
}
