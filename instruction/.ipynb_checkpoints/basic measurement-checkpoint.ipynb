{
 "cells": [
  {
   "cell_type": "markdown",
   "metadata": {},
   "source": [
    "# Basic usage of Measuring entropy\n",
    "## Import Required Module\n",
    "- Import by relative path."
   ]
  },
  {
   "cell_type": "code",
   "execution_count": 2,
   "metadata": {},
   "outputs": [
    {
     "name": "stdout",
     "output_type": "stream",
     "text": [
      "/home/nccu/文件/.homejupyter/QC_atNCTS\n",
      "/home/nccu/文件/.homejupyter/QC_atNCTS/xproc/instruction\n"
     ]
    }
   ],
   "source": [
    "%cd ../..\n",
    "from xproc.tool import *\n",
    "from xproc.qurrent import *\n",
    "from xproc.case import *\n",
    "%cd xproc/instruction\n",
    "\n",
    "import os\n",
    "from pathlib import Path\n",
    "import numpy as np\n",
    "from math import pi\n",
    "from qiskit import (\n",
    "    IBMQ, Aer, execute,\n",
    "    QuantumRegister, ClassicalRegister, QuantumCircuit,\n",
    ")"
   ]
  },
  {
   "cell_type": "markdown",
   "metadata": {},
   "source": [
    "## Quantum Circuit Construnct\n",
    "- Use trivial Paramagnet as example.\n",
    "    ```\n",
    "        ┌───┐\n",
    "    q0: ┤ H ├\n",
    "        ├───┤\n",
    "    q1: ┤ H ├\n",
    "        ├───┤\n",
    "    q2: ┤ H ├\n",
    "        ├───┤\n",
    "    q3: ┤ H ├\n",
    "        ├───┤\n",
    "    q4: ┤ H ├\n",
    "        ├───┤\n",
    "    q5: ┤ H ├\n",
    "        ├───┤\n",
    "    q6: ┤ H ├\n",
    "        ├───┤\n",
    "    q7: ┤ H ├\n",
    "        └───┘      \n",
    "    ```"
   ]
  },
  {
   "cell_type": "code",
   "execution_count": 4,
   "metadata": {},
   "outputs": [],
   "source": [
    "q1 = QuantumRegister(8, 'q1')\n",
    "qc1 = QuantumCircuit(q1)\n",
    "for q in q1:\n",
    "    qc1.h(q)"
   ]
  },
  {
   "cell_type": "markdown",
   "metadata": {},
   "source": [
    " - Or create by the example from `xproc.case`"
   ]
  },
  {
   "cell_type": "code",
   "execution_count": 9,
   "metadata": {},
   "outputs": [],
   "source": [
    "from xproc.case import trivialParamagnet\n",
    "qc1_case = trivialParamagnet(8).wave()"
   ]
  },
  {
   "cell_type": "markdown",
   "metadata": {},
   "source": [
    "## Preparing the measurement\n",
    "- Now we have Hadamard test and Haar randomized measure"
   ]
  },
  {
   "cell_type": "code",
   "execution_count": 19,
   "metadata": {},
   "outputs": [],
   "source": [
    "from xproc.qurrent import hadamardTest, haarMeasure\n",
    "measureMethodHadamard = hadamardTest()\n",
    "measureMethodHaar = haarMeasure()"
   ]
  },
  {
   "cell_type": "markdown",
   "metadata": {},
   "source": [
    "- Add the wave function which wants to measre."
   ]
  },
  {
   "cell_type": "code",
   "execution_count": 20,
   "metadata": {},
   "outputs": [
    {
     "data": {
      "text/html": [
       "<pre style=\"word-wrap: normal;white-space: pre;background: #fff0;line-height: 1.1;font-family: &quot;Courier New&quot;,Courier,monospace\">      ┌───┐\n",
       "q1_0: ┤ H ├\n",
       "      ├───┤\n",
       "q1_1: ┤ H ├\n",
       "      ├───┤\n",
       "q1_2: ┤ H ├\n",
       "      ├───┤\n",
       "q1_3: ┤ H ├\n",
       "      ├───┤\n",
       "q1_4: ┤ H ├\n",
       "      ├───┤\n",
       "q1_5: ┤ H ├\n",
       "      ├───┤\n",
       "q1_6: ┤ H ├\n",
       "      ├───┤\n",
       "q1_7: ┤ H ├\n",
       "      └───┘</pre>"
      ],
      "text/plain": [
       "      ┌───┐\n",
       "q1_0: ┤ H ├\n",
       "      ├───┤\n",
       "q1_1: ┤ H ├\n",
       "      ├───┤\n",
       "q1_2: ┤ H ├\n",
       "      ├───┤\n",
       "q1_3: ┤ H ├\n",
       "      ├───┤\n",
       "q1_4: ┤ H ├\n",
       "      ├───┤\n",
       "q1_5: ┤ H ├\n",
       "      ├───┤\n",
       "q1_6: ┤ H ├\n",
       "      ├───┤\n",
       "q1_7: ┤ H ├\n",
       "      └───┘"
      ]
     },
     "execution_count": 20,
     "metadata": {},
     "output_type": "execute_result"
    }
   ],
   "source": [
    "measureMethodHadamard.addWave(\n",
    "    waveCircuit=qc1,\n",
    "    key='trivialPM',\n",
    ")\n",
    "measureMethodHadamard.waves['trivialPM'].draw()"
   ]
  },
  {
   "cell_type": "code",
   "execution_count": 22,
   "metadata": {},
   "outputs": [
    {
     "data": {
      "text/html": [
       "<pre style=\"word-wrap: normal;white-space: pre;background: #fff0;line-height: 1.1;font-family: &quot;Courier New&quot;,Courier,monospace\">     ┌───┐\n",
       "q_0: ┤ H ├\n",
       "     ├───┤\n",
       "q_1: ┤ H ├\n",
       "     ├───┤\n",
       "q_2: ┤ H ├\n",
       "     ├───┤\n",
       "q_3: ┤ H ├\n",
       "     ├───┤\n",
       "q_4: ┤ H ├\n",
       "     ├───┤\n",
       "q_5: ┤ H ├\n",
       "     ├───┤\n",
       "q_6: ┤ H ├\n",
       "     ├───┤\n",
       "q_7: ┤ H ├\n",
       "     └───┘</pre>"
      ],
      "text/plain": [
       "     ┌───┐\n",
       "q_0: ┤ H ├\n",
       "     ├───┤\n",
       "q_1: ┤ H ├\n",
       "     ├───┤\n",
       "q_2: ┤ H ├\n",
       "     ├───┤\n",
       "q_3: ┤ H ├\n",
       "     ├───┤\n",
       "q_4: ┤ H ├\n",
       "     ├───┤\n",
       "q_5: ┤ H ├\n",
       "     ├───┤\n",
       "q_6: ┤ H ├\n",
       "     ├───┤\n",
       "q_7: ┤ H ├\n",
       "     └───┘"
      ]
     },
     "execution_count": 22,
     "metadata": {},
     "output_type": "execute_result"
    }
   ],
   "source": [
    "measureMethodHaar.addWave(\n",
    "    waveCircuit=qc1_case,\n",
    "    key='trivialPMbyCase',\n",
    ")\n",
    "measureMethodHaar.waves['trivialPMbyCase'].draw()"
   ]
  },
  {
   "cell_type": "markdown",
   "metadata": {},
   "source": [
    "## Basic Executing Measurement\n",
    " - The measurement required multiple parameter to execute. The following are examples for showing how to run the measurement."
   ]
  },
  {
   "cell_type": "code",
   "execution_count": 23,
   "metadata": {},
   "outputs": [
    {
     "name": "stdout",
     "output_type": "stream",
     "text": [
      "Set key: 3994f417-3d7e-4312-ae1f-fa3fc686b55f\n",
      "# ------------------------------\n",
      "# Calculating hadamardTest...\n",
      "# name: 4_4\n",
      "# id: 3994f417-3d7e-4312-ae1f-fa3fc686b55f\n",
      "Entropy and Purity are figured out, result will clear.\n",
      "# hadamardTest completed\n",
      "# name: 4_4\n",
      "# id: 3994f417-3d7e-4312-ae1f-fa3fc686b55f\n",
      "End...\n",
      "\n",
      "\n",
      "Set key: e5324591-0479-4d6e-a309-4f11e4fad021\n",
      "Required '3' but got 2 params, autofilled by default params, for more info using '.help()'.\n",
      "# ------------------------------\n",
      "# Calculating haarMeasure...\n",
      "# name: 4_100-1-4\n",
      "# id: e5324591-0479-4d6e-a309-4f11e4fad021\n",
      "method: double count ensemble ave.\n",
      "Entropy and Purity are figured out, result will clear.\n",
      "# haarMeasure completed\n",
      "# name: 4_100-1-4\n",
      "# id: e5324591-0479-4d6e-a309-4f11e4fad021\n",
      "End...\n",
      "\n",
      "\n"
     ]
    }
   ],
   "source": [
    "expsResultHadamard = measureMethodHadamard.output(\n",
    "    wave='trivialPM',\n",
    "    params={\n",
    "        'degree': 4, # the degree of freedom\n",
    "    },\n",
    ")\n",
    "expsResultHaar = measureMethodHaar.output(\n",
    "    wave='trivialPMbyCase',\n",
    "    params={\n",
    "        'degree': 4, # the degree of freedom\n",
    "        'times': 100 # the number of random unitary for Haar randomized measure\n",
    "    },\n",
    ")\n"
   ]
  },
  {
   "cell_type": "markdown",
   "metadata": {},
   "source": [
    "- The following are all basic arguments which could be configured and it's default values.\n",
    "  - Function default:\n",
    "\n",
    "```python\n",
    "    # all controlled automatically by `.paramsControl`\n",
    "    def paramsControl(\n",
    "        self,\n",
    "        wave: Union[QuantumCircuit, any, None] = None,\n",
    "        expID: Optional[str] = None,\n",
    "        params: Union[list[int], dict[int], int, None] = None,\n",
    "        runBy: str = \"gate\",\n",
    "        shots: int = 1024,\n",
    "        backend: Backend = Aer.get_backend('qasm_simulator'),\n",
    "        drawMethod: Optional[str] = 'text',\n",
    "        decompose: Optional[int] = 1,\n",
    "        resultKeep: bool = False,\n",
    "        dataRetrieve: dict[str: Union[list[str], str]] = None,\n",
    "        provider: Optional[AccountProvider] = None,\n",
    "        expsName: str = 'exps',\n",
    "        tag: Optional[Union[list[str], str]] = None,\n",
    "        IBMQJob: bool = False,\n",
    "        **otherArgs: any\n",
    "    ):\n",
    "```\n",
    "\n",
    "  - Args:\n",
    "    - `wave (Union[QuantumCircuit, int, None], optional)`: \n",
    "  \n",
    "      The index of the wave function in `self.waves` or add new one to calaculation. \n",
    "      - Defaults to `None`.\n",
    "\n",
    "    - `expID (Optional[str], optional)`:\n",
    "      \n",
    "      Decide whether generate new id to initializw new experiment or continue current experiment. \n",
    "      True for createnew id, False for continuing current experiment.\n",
    "      `if self.current == None` will create new id automatically, then giving a key \n",
    "      which exists in `self.exps` will switch to this experiment to operate it.\n",
    "      - Default to `False`.\n",
    "\n",
    "    - `params (Union[list[int], dict[int], int, None], optional)`: \n",
    "      \n",
    "      Parameters of experiment. \n",
    "      - Defaults to `None`.\n",
    "\n",
    "    - `runBy (str, optional)`: \n",
    "      \n",
    "      Construct wave function as initial state by `Operater` or `Gate`.\n",
    "      - Defaults to `\"gate\"`.\n",
    "  \n",
    "    - `shots (int, optional)`: \n",
    "      \n",
    "      Shots of the job.\n",
    "      - Defaults to `1024`.\n",
    "  \n",
    "    - `backend (Backend, optional)`: \n",
    "      \n",
    "      The quantum backend.\n",
    "      - Defaults to `Aer.get_backend('qasm_simulator')`.\n",
    "\n",
    "    - `drawMethod (Optional[str], optional)`: \n",
    "      \n",
    "      Draw quantum circuit by \"text\", \"matplotlib\", or \"latex\".\n",
    "      - Defaults to `'text'`.\n",
    "    \n",
    "    - `decompose (Optional[int], optional)`: \n",
    "      \n",
    "      Running `QuantumCircuit` which be decomposed given times.\n",
    "      - Defaults to `1`.\n",
    "\n",
    "    - `resultKeep (bool, optional)`: \n",
    "      \n",
    "      Whether to keep the results.\n",
    "      - Defaults to `False`.\n",
    "            \n",
    "    - `dataRetrieve (bool, optional)`: \n",
    "      \n",
    "      Data to collect results from IBMQ via `IBMQJobManager`. \n",
    "      - Defaults to `None`.\n",
    "\n",
    "    - `provider (Optional[AccountProvider], optional)`: \n",
    "      \n",
    "      `AccountProvider` of current backend for running `IBMQJobManager`. \n",
    "      - Defaults to `None`.\n",
    "\n",
    "    - `expsName (str, optional)`:\n",
    "      \n",
    "      Name this experiment to recognize it when the jobs are pending to IBMQ Service.\n",
    "      This name is also used for creating a folder to store the exports.\n",
    "      - Defaults to `None`.\n",
    "\n",
    "    - `tags (Optional[Union[list[any], any]], optional)`:\n",
    "      \n",
    "      Given the experiment multiple tags to make a dictionary for recongnizing it.\n",
    "\n",
    "    - `IBMQJob (bool, optional)`:\n",
    "      \n",
    "      Whether to use `IBMQJobManager` to package the job.\n",
    "\n"
   ]
  },
  {
   "cell_type": "markdown",
   "metadata": {},
   "source": [
    "### Take the purity and entropy"
   ]
  },
  {
   "cell_type": "code",
   "execution_count": 25,
   "metadata": {},
   "outputs": [
    {
     "data": {
      "text/plain": [
       "dict_keys(['circuit', 'fig', 'counts', 'purity', 'entropy', 'jobID', 'IBMQJobManager', 'name', 'aNum', 'paramsOther', 'wave', 'expID', 'params', 'runBy', 'shots', 'backend', 'drawMethod', 'decompose', 'resultKeep', 'dataRetrieve', 'expsName', 'provider', 'tag', 'IBMQJob'])"
      ]
     },
     "execution_count": 25,
     "metadata": {},
     "output_type": "execute_result"
    }
   ],
   "source": [
    "expsResultHadamard['purity'], expsResultHadamard['entropy']"
   ]
  },
  {
   "cell_type": "code",
   "execution_count": null,
   "metadata": {},
   "outputs": [],
   "source": [
    "expsResultHaar['purity'], expsResultHaar['entropy']"
   ]
  }
 ],
 "metadata": {
  "interpreter": {
   "hash": "159f4e407912a17e167f5db34c957ad4331db5f294b01a1425dfe1db5ae08f50"
  },
  "kernelspec": {
   "display_name": "Python 3.9.7 ('base')",
   "language": "python",
   "name": "python3"
  },
  "language_info": {
   "codemirror_mode": {
    "name": "ipython",
    "version": 3
   },
   "file_extension": ".py",
   "mimetype": "text/x-python",
   "name": "python",
   "nbconvert_exporter": "python",
   "pygments_lexer": "ipython3",
   "version": "3.9.7"
  },
  "orig_nbformat": 4
 },
 "nbformat": 4,
 "nbformat_minor": 2
}
