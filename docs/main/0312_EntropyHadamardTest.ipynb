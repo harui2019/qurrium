{
 "cells": [
  {
   "cell_type": "markdown",
   "metadata": {},
   "source": [
    "## 3.1 EntropyMeasure\n",
    "\n",
    "The instance `EntropyMeasure` contains 2 methods, one is `EntropyHadamardTest` using Hadamard test, and the other is `EntropyRandomizedMeasure` using randomized measure, the default case.\n",
    "\n",
    "Both of them are used to calculate the entropy of a quantum state, but the calculation and post-processing are totally different. \n",
    "\n"
   ]
  },
  {
   "cell_type": "markdown",
   "metadata": {},
   "source": [
    "### 3.1.2 Hadamaed Test\n",
    "\n",
    "This method is also called 'Swap test'. The interested users are encouraged to read the papers [Identification of Symmetry-Protected Topological States on Noisy Quantum Computers](https://journals.aps.org/prl/abstract/10.1103/PhysRevLett.125.120502) and [Entanglement spectroscopy on a quantum computer](https://journals.aps.org/prb/abstract/10.1103/PhysRevB.96.195136) for the introduction and applications of this method.\n"
   ]
  },
  {
   "cell_type": "markdown",
   "metadata": {},
   "source": [
    "---\n",
    "\n",
    "### `hadamard_entangled_entropy`\n"
   ]
  },
  {
   "cell_type": "code",
   "execution_count": 1,
   "metadata": {},
   "outputs": [],
   "source": [
    "# Under construction ..."
   ]
  },
  {
   "cell_type": "markdown",
   "metadata": {},
   "source": [
    "---\n",
    "\n",
    "### Post-Process Availablities and Version Info\n",
    "\n"
   ]
  },
  {
   "cell_type": "code",
   "execution_count": 2,
   "metadata": {},
   "outputs": [
    {
     "data": {
      "text/plain": [
       " | Qurry version: 0.7.4.dev1\n",
       "--------------------------------------------------------\n",
       " ### Qurry Post-Processing\n",
       "   - Backend Availability ......... Python Cython Rust  \n",
       " - randomized_measure\n",
       "   - entangled_core ............... True   True   True  \n",
       "   - purity_cell .................. True   True   True  \n",
       "   - wavefunction_overlap ......... True   True   None  \n",
       "   - echo_cell .................... True   True   None  \n",
       " - utils\n",
       "   - randomized ................... True   True   True  \n",
       "   - construct .................... True   None   True  \n",
       "--------------------------------------------------------\n",
       "   + True ..... Working normally.\n",
       "   + False .... Exception occurred.\n",
       "   + None ..... Not supported yet.\n",
       "--------------------------------------------------------\n",
       "by <Hoshi>"
      ]
     },
     "execution_count": 2,
     "metadata": {},
     "output_type": "execute_result"
    }
   ],
   "source": [
    "from qurry.process.status import AVAIBILITY_STATESHEET\n",
    "\n",
    "AVAIBILITY_STATESHEET"
   ]
  },
  {
   "cell_type": "code",
   "execution_count": null,
   "metadata": {},
   "outputs": [],
   "source": []
  }
 ],
 "metadata": {
  "kernelspec": {
   "display_name": "Python 3 (ipykernel)",
   "language": "python",
   "name": "python3"
  },
  "language_info": {
   "codemirror_mode": {
    "name": "ipython",
    "version": 3
   },
   "file_extension": ".py",
   "mimetype": "text/x-python",
   "name": "python",
   "nbconvert_exporter": "python",
   "pygments_lexer": "ipython3",
   "version": "3.9.7"
  }
 },
 "nbformat": 4,
 "nbformat_minor": 4
}
