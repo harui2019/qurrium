{
 "cells": [
  {
   "cell_type": "markdown",
   "metadata": {},
   "source": [
    "## 3.1 EntropyMeasure\n",
    "\n",
    "The instance `EntropyMeasure` contains 2 methods, one is `EntropyHadamardTest` using Hadamard test, and the other is `EntropyRandomizedMeasure` using randomized measure, the default case.\n",
    "\n",
    "Both of them are used to calculate the entropy of a quantum state, but the calculation and post-processing are totally different.\n",
    "\n",
    "\n"
   ]
  },
  {
   "cell_type": "markdown",
   "metadata": {},
   "source": [
    "### 3.1.1 Randomized Measure\n",
    "\n",
    "This method is based on [Probing Rényi entanglement entropy via randomized measurements](https://www.science.org/doi/abs/10.1126/science.aau4963) with deplorizing error mitigation by [Simple mitigation of global depolarizing errors in quantum simulations](https://link.aps.org/doi/10.1103/PhysRevE.104.035309).\n"
   ]
  },
  {
   "cell_type": "markdown",
   "metadata": {},
   "source": [
    "---\n",
    "\n",
    "### b. `randomized_entangled_entropy_mitigated`\n",
    "\n",
    "<a id='randomized_entangled_entropy_mitigated'></a>\n"
   ]
  },
  {
   "cell_type": "markdown",
   "metadata": {},
   "source": [
    "Similar to `randomized_entangled_entropy` introduced in section 3.1.1 a, this function is used to calculate the entropy of a quantum state, but additionally, mitigate the depolarizing error. \n",
    "You can call the function `randomized_entangled_entropy_mitigated` from `qurry.process.randomized_measure`. In order to perform the error mitigation, \n",
    "this function requires the  measurement outcomes of the all system as the baseline.  \n",
    "If you already have data at hand, you can prepare a namedtuple `ExistedAllSystemInfo` like the following,\n",
    "which can be imported from `qurry.process.randomized_measure` :\n",
    "\n",
    "```python\n",
    "class ExistedAllSystemInfo(NamedTuple):\n",
    "    \"\"\"Existed all system information\"\"\"\n",
    "\n",
    "    source: str\n",
    "    \"\"\"The source of all system.\"\"\"\n",
    "\n",
    "    purityAllSys: GenericFloatType\n",
    "    \"\"\"The purity of the all system.\"\"\"\n",
    "    entropyAllSys: GenericFloatType\n",
    "    \"\"\"The entropy of the all system.\"\"\"\n",
    "    puritySDAllSys: GenericFloatType\n",
    "    \"\"\"The standard deviation of the purity of the all system.\"\"\"\n",
    "    entropySDAllSys: GenericFloatType\n",
    "    \"\"\"The standard deviation of the entropy of the all system.\"\"\"\n",
    "    purityCellsAllSys: Union[dict[int, np.float64], dict[int, float]]\n",
    "    \"\"\"The purity of each single count.\"\"\"\n",
    "\n",
    "    # new added\n",
    "    num_classical_registers_all_sys: int\n",
    "    \"\"\"The number of classical registers of all system.\"\"\"\n",
    "    classical_registers_all_sys: Optional[list[int]]\n",
    "    \"\"\"The list of the index of the selected classical registers.\"\"\"\n",
    "    classical_registers_actually_all_sys: list[int]\n",
    "    \"\"\"The list of the index of the selected classical registers which is actually used.\"\"\"\n",
    "\n",
    "    # refactored\n",
    "    taking_time_all_sys: GenericFloatType\n",
    "    \"\"\"The calculation time of the all system.\"\"\"\n",
    "\n",
    "```\n",
    "\n",
    "And assign it into the argument `existed_all_system` of the function `randomized_entangled_entropy_mitigated` to save a lot of time on mitigating purities of all partitions.\n",
    "\n",
    "This function requires only three arguments: `shots`, `counts`, and `selected_classical_registers`. All other arguments are optional.\n",
    "\n",
    "Note that `selected_classical_registers` expects a list of <u>bitstring indices</u>, **NOT** <u>qubit indices</u>, as these are distinct.\n",
    "\n",
    "The following is the arguments of the function:\n",
    "\n",
    "```python\n",
    "def randomized_entangled_entropy_mitigated(\n",
    "    shots: int,\n",
    "    counts: list[dict[str, int]],\n",
    "    selected_classical_registers: Optional[list[int]] = None,\n",
    "    backend: PostProcessingBackendLabel = DEFAULT_PROCESS_BACKEND,\n",
    "    existed_all_system: Optional[ExistedAllSystemInfo] = None,\n",
    "    pbar: Optional[tqdm.tqdm] = None,\n",
    ") -> EntangledEntropyResultMitigated:\n",
    "    \"\"\"Calculate entangled entropy.\n",
    "\n",
    "    Args:\n",
    "        shots (int):\n",
    "            Shots of the counts.\n",
    "        counts (list[dict[str, int]]):\n",
    "            Counts from randomized measurement results.\n",
    "        degree (Optional[Union[tuple[int, int], int]]):\n",
    "            The range of partition.\n",
    "        measure (Optional[tuple[int, int]], optional):\n",
    "            The range that implemented the measuring gate.\n",
    "            If not specified, then use all qubits.\n",
    "            This will affect the range of partition\n",
    "            when you not implement the measuring gate on all qubit.\n",
    "            Defaults to None.\n",
    "        backend (PostProcessingBackendLabel, optional):\n",
    "            Backend for the post-processing.\n",
    "            Defaults to DEFAULT_PROCESS_BACKEND.\n",
    "        workers_num (Optional[int], optional):\n",
    "            Number of multi-processing workers, it will be ignored if backend is Rust.\n",
    "            if sets to 1, then disable to using multi-processing;\n",
    "            if not specified, then use the number of all cpu counts by `os.cpu_count()`.\n",
    "            This only works for Python and Cython backend.\n",
    "            Defaults to None.\n",
    "        existed_all_system (Optional[ExistingAllSystemSource], optional):\n",
    "            Existing all system source.\n",
    "            If there is known all system result,\n",
    "            then you can put it here to save a lot of time on calculating all system\n",
    "            for not matter what partition you are using,\n",
    "            their all system result is the same.\n",
    "            All system source should contain\n",
    "            `purityCellsAllSys`, `bitStringRange`, `measureActually`, `source` for its name.\n",
    "            This can save a lot of time\n",
    "            Defaults to None.\n",
    "        pbar (Optional[tqdm.tqdm], optional):\n",
    "            The progress bar API, you can use put a :cls:`tqdm` object here.\n",
    "            This function will update the progress bar description.\n",
    "            Defaults to None.\n",
    "\n",
    "    Returns:\n",
    "        RandomizedEntangledEntropyMitigatedComplex:\n",
    "            A dictionary contains purity, entropy,\n",
    "            a list of each overlap, puritySD, degree,\n",
    "            actual measure range, bitstring range and more.\n",
    "    \"\"\"\n",
    "```\n",
    "This function returns a dictionary that contains the entropy, purity, and other relevant information.\n",
    "The return `dict` contains the following variables:\n",
    "\n",
    "```python\n",
    "class EntangledEntropyResultMitigated(EntangledEntropyResult):\n",
    "    \"\"\"The return type of the post-processing for entangled entropy with error mitigation.\"\"\"\n",
    "    # This TyedDict inherit from EntangledEntropyResult\n",
    "\n",
    "    # refactored\n",
    "    all_system_source: Union[str, Literal[\"independent\", \"null_counts\"]]\n",
    "    \"\"\"The name of source of all system.\n",
    "\n",
    "    - independent: The all system is calculated independently.\n",
    "    - null_counts: No counts exist.\n",
    "    \"\"\"\n",
    "\n",
    "    purityAllSys: GenericFloatType\n",
    "    \"\"\"The purity of the all system.\"\"\"\n",
    "    entropyAllSys: GenericFloatType\n",
    "    \"\"\"The entropy of the all system.\"\"\"\n",
    "    puritySDAllSys: GenericFloatType\n",
    "    \"\"\"The standard deviation of the purity of the all system.\"\"\"\n",
    "    entropySDAllSys: GenericFloatType\n",
    "    \"\"\"The standard deviation of the entropy of the all system.\"\"\"\n",
    "    purityCellsAllSys: Union[dict[int, np.float64], dict[int, float]]\n",
    "    \"\"\"The purity of each single count.\"\"\"\n",
    "\n",
    "    # new added\n",
    "    num_classical_registers_all_sys: int\n",
    "    \"\"\"The number of classical registers of all system.\"\"\"\n",
    "    classical_registers_all_sys: Optional[list[int]]\n",
    "    \"\"\"The list of the index of the selected classical registers.\"\"\"\n",
    "    classical_registers_actually_all_sys: list[int]\n",
    "    \"\"\"The list of the index of the selected classical registers which is actually used.\"\"\"\n",
    "\n",
    "    # mitigated info\n",
    "    errorRate: GenericFloatType\n",
    "    \"\"\"The error rate of the measurement from depolarizing error migigation calculated.\"\"\"\n",
    "    mitigatedPurity: GenericFloatType\n",
    "    \"\"\"The mitigated purity.\"\"\"\n",
    "    mitigatedEntropy: GenericFloatType\n",
    "    \"\"\"The mitigated entropy.\"\"\"\n",
    "\n",
    "    # refactored\n",
    "    taking_time_all_sys: GenericFloatType\n",
    "    \"\"\"The calculation time of the all system.\"\"\"\n",
    "\n",
    "class EntangledEntropyResult(TypedDict, total=False):\n",
    "    \"\"\"The return type of the post-processing for entangled entropy.\"\"\"\n",
    "\n",
    "    purity: GenericFloatType\n",
    "    \"\"\"The purity of the system.\"\"\"\n",
    "    entropy: GenericFloatType\n",
    "    \"\"\"The entropy of the system.\"\"\"\n",
    "    puritySD: GenericFloatType\n",
    "    \"\"\"The standard deviation of the purity.\"\"\"\n",
    "    entropySD: GenericFloatType\n",
    "    \"\"\"The standard deviation of the entropy.\"\"\"\n",
    "    purityCells: Union[dict[int, np.float64], dict[int, float]]\n",
    "    \"\"\"The purity of each single count.\"\"\"\n",
    "    # new added\n",
    "    num_classical_registers: int\n",
    "    \"\"\"The number of classical registers.\"\"\"\n",
    "    classical_registers: Optional[list[int]]\n",
    "    \"\"\"The list of the index of the selected classical registers.\"\"\"\n",
    "    classical_registers_actually: list[int]\n",
    "    \"\"\"The list of the index of the selected classical registers which is actually used.\"\"\"\n",
    "    # refactored\n",
    "    counts_num: int\n",
    "    \"\"\"The number of counts.\"\"\"\n",
    "    taking_time: GenericFloatType\n",
    "    \"\"\"The calculation time.\"\"\"\n",
    "```\n",
    "\n"
   ]
  },
  {
   "cell_type": "markdown",
   "metadata": {},
   "source": [
    "---\n",
    "\n",
    "#### Dummy Data\n"
   ]
  },
  {
   "cell_type": "code",
   "execution_count": 1,
   "metadata": {},
   "outputs": [],
   "source": [
    "from qurry.capsule import quickRead\n",
    "\n",
    "easy_dummy: dict[str, dict[str, int]] = quickRead(\"./easy-dummy.json\")\n",
    "large_dummy_list = [easy_dummy[\"0\"] for _ in range(100)]"
   ]
  },
  {
   "cell_type": "markdown",
   "metadata": {},
   "source": [
    "---\n",
    "\n",
    "#### Simple Example\n"
   ]
  },
  {
   "cell_type": "code",
   "execution_count": 2,
   "metadata": {},
   "outputs": [],
   "source": [
    "from qurry.process.randomized_measure import (\n",
    "    randomized_entangled_entropy_mitigated,\n",
    "    EntangledEntropyResultMitigated,\n",
    "    ExistedAllSystemInfo,\n",
    ")\n",
    "\n",
    "test_result_1_2_1 = randomized_entangled_entropy_mitigated(4096, large_dummy_list, list(range(6)))"
   ]
  },
  {
   "cell_type": "code",
   "execution_count": 3,
   "metadata": {},
   "outputs": [
    {
     "name": "stdout",
     "output_type": "stream",
     "text": [
      "| result of randomized_entangled_entropy except for purityCells\n",
      "{'all_system_source': 'independent',\n",
      " 'classical_registers': [0, 1, 2, 3, 4, 5],\n",
      " 'classical_registers_actually': [0, 1, 2, 3, 4, 5],\n",
      " 'classical_registers_actually_all_sys': [0, 1, 2, 3, 4, 5, 6, 7],\n",
      " 'classical_registers_all_sys': None,\n",
      " 'counts_num': 100,\n",
      " 'entropy': -0.0878606530863832,\n",
      " 'entropyAllSys': 0.9461940705953849,\n",
      " 'entropySD': 0.0,\n",
      " 'entropySDAllSys': 0.0,\n",
      " 'errorRate': 0.2808939301105586,\n",
      " 'mitigatedEntropy': -1.0290289944568636,\n",
      " 'mitigatedPurity': 2.0406503299038543,\n",
      " 'num_classical_registers': 8,\n",
      " 'num_classical_registers_all_sys': 8,\n",
      " 'purity': 1.0627930164337158,\n",
      " 'purityAllSys': 0.5189998149871826,\n",
      " 'puritySD': 0.0,\n",
      " 'puritySDAllSys': 0.0,\n",
      " 'taking_time': 0.002084814,\n",
      " 'taking_time_all_sys': 0.008520141}\n",
      "\n",
      "| result of randomized_entangled_entropy[purityCells]\n",
      "1.0627930164337158\n",
      "1.0627930164337158\n",
      "\n",
      "| result of randomized_entangled_entropy[purityCellsAllSys]\n",
      "0.5189998149871826\n",
      "0.5189998149871826\n"
     ]
    }
   ],
   "source": [
    "from pprint import pprint\n",
    "\n",
    "print(\"| result of randomized_entangled_entropy except for purityCells\")\n",
    "pprint({k: v for k, v in test_result_1_2_1.items() if \"purityCells\" not in k})\n",
    "# \"purityCells\" is too long we skip it here\n",
    "print()\n",
    "print(\"| result of randomized_entangled_entropy[purityCells]\")\n",
    "print(test_result_1_2_1[\"purityCells\"][0])\n",
    "print(test_result_1_2_1[\"purityCells\"][1])\n",
    "print()\n",
    "print(\"| result of randomized_entangled_entropy[purityCellsAllSys]\")\n",
    "print(test_result_1_2_1[\"purityCellsAllSys\"][0])\n",
    "print(test_result_1_2_1[\"purityCellsAllSys\"][1])"
   ]
  },
  {
   "cell_type": "markdown",
   "metadata": {},
   "source": [
    "---\n",
    "\n",
    "#### With Existing All System Data\n"
   ]
  },
  {
   "cell_type": "code",
   "execution_count": 4,
   "metadata": {},
   "outputs": [],
   "source": [
    "test_result_1_2_2 = randomized_entangled_entropy_mitigated(\n",
    "    4096,\n",
    "    large_dummy_list,\n",
    "    list(range(6)),\n",
    "    existed_all_system=ExistedAllSystemInfo(\n",
    "        source=\"from_previous_result:test_result_1_2_1\",\n",
    "        purityAllSys=test_result_1_2_1[\"purityAllSys\"],\n",
    "        entropyAllSys=test_result_1_2_1[\"entropyAllSys\"],\n",
    "        puritySDAllSys=test_result_1_2_1[\"puritySDAllSys\"],\n",
    "        entropySDAllSys=test_result_1_2_1[\"entropySDAllSys\"],\n",
    "        purityCellsAllSys=test_result_1_2_1[\"purityCellsAllSys\"],\n",
    "        num_classical_registers_all_sys=test_result_1_2_1[\"num_classical_registers_all_sys\"],\n",
    "        classical_registers_all_sys=test_result_1_2_1[\"classical_registers_all_sys\"],\n",
    "        classical_registers_actually_all_sys=test_result_1_2_1[\n",
    "            \"classical_registers_actually_all_sys\"\n",
    "        ],\n",
    "        taking_time_all_sys=test_result_1_2_1[\"taking_time_all_sys\"],\n",
    "    ),\n",
    ")"
   ]
  },
  {
   "cell_type": "code",
   "execution_count": 5,
   "metadata": {},
   "outputs": [
    {
     "name": "stdout",
     "output_type": "stream",
     "text": [
      "| result of randomized_entangled_entropy except for purityCells\n",
      "{'all_system_source': 'from_previous_result:test_result_1_2_1',\n",
      " 'classical_registers': [0, 1, 2, 3, 4, 5],\n",
      " 'classical_registers_actually': [0, 1, 2, 3, 4, 5],\n",
      " 'classical_registers_actually_all_sys': [0, 1, 2, 3, 4, 5, 6, 7],\n",
      " 'classical_registers_all_sys': None,\n",
      " 'counts_num': 100,\n",
      " 'entropy': -0.0878606530863832,\n",
      " 'entropyAllSys': 0.9461940705953849,\n",
      " 'entropySD': 0.0,\n",
      " 'entropySDAllSys': 0.0,\n",
      " 'errorRate': 0.2808939301105586,\n",
      " 'mitigatedEntropy': -1.0290289944568636,\n",
      " 'mitigatedPurity': 2.0406503299038543,\n",
      " 'num_classical_registers': 8,\n",
      " 'num_classical_registers_all_sys': 8,\n",
      " 'purity': 1.0627930164337158,\n",
      " 'purityAllSys': 0.5189998149871826,\n",
      " 'puritySD': 0.0,\n",
      " 'puritySDAllSys': 0.0,\n",
      " 'taking_time': 0.00163098,\n",
      " 'taking_time_all_sys': 0.008520141}\n",
      "\n",
      "| result of randomized_entangled_entropy[purityCells]\n",
      "1.0627930164337158\n",
      "1.0627930164337158\n",
      "\n",
      "| result of randomized_entangled_entropy[purityCellsAllSys]\n",
      "0.5189998149871826\n",
      "0.5189998149871826\n",
      "\n",
      "| You can see takingTimeAllSys is 0 for we use existed_all_system\n",
      "0.008520141\n"
     ]
    }
   ],
   "source": [
    "from pprint import pprint\n",
    "\n",
    "print(\"| result of randomized_entangled_entropy except for purityCells\")\n",
    "pprint({k: v for k, v in test_result_1_2_2.items() if \"purityCells\" not in k})\n",
    "# \"purityCells\" is too long we skip it here\n",
    "print()\n",
    "print(\"| result of randomized_entangled_entropy[purityCells]\")\n",
    "print(test_result_1_2_2[\"purityCells\"][0])\n",
    "print(test_result_1_2_2[\"purityCells\"][1])\n",
    "print()\n",
    "print(\"| result of randomized_entangled_entropy[purityCellsAllSys]\")\n",
    "print(test_result_1_2_2[\"purityCellsAllSys\"][0])\n",
    "print(test_result_1_2_2[\"purityCellsAllSys\"][1])\n",
    "print()\n",
    "print(\"| You can see takingTimeAllSys is 0 for we use existed_all_system\")\n",
    "print(test_result_1_2_2[\"taking_time_all_sys\"])"
   ]
  },
  {
   "cell_type": "markdown",
   "metadata": {},
   "source": [
    "---\n",
    "\n",
    "#### Integration wit your own progress bar\n"
   ]
  },
  {
   "cell_type": "code",
   "execution_count": 6,
   "metadata": {},
   "outputs": [
    {
     "name": "stderr",
     "output_type": "stream",
     "text": [
      "| Preparing error mitigation of selected qubits: [0, 1, 3, 4, 5, 6, 7] - 00:00 < 00:00"
     ]
    },
    {
     "name": "stdout",
     "output_type": "stream",
     "text": [
      "[0, 1, 2, 3, 4, 5]\n",
      "| partition: [0, 1, 2, 3, 4, 5]\n",
      "| - taking_time: 0.001732451\n",
      "| - taking_time_all_sys: 0.009048418\n",
      "[2, 3, 4, 5, 6, 7]\n",
      "| partition: [2, 3, 4, 5, 6, 7]\n",
      "| - taking_time: 0.001695612\n",
      "| - taking_time_all_sys: 0.008520141\n",
      "[0, 1, 2, 3, 4, 5, 6]\n",
      "| partition: [0, 1, 2, 3, 4, 5, 6]\n",
      "| - taking_time: 0.003853419\n",
      "| - taking_time_all_sys: 0.008520141\n",
      "[0, 1, 2, 3, 4, 5, 6]\n",
      "| partition: [0, 1, 2, 3, 4, 5, 6]\n",
      "| - taking_time: 0.003708713\n",
      "| - taking_time_all_sys: 0.008520141\n",
      "[0, 1, 2, 6, 7]\n",
      "| partition: [0, 1, 2, 6, 7]\n",
      "| - taking_time: 0.001046603\n",
      "| - taking_time_all_sys: 0.008520141\n",
      "[3, 4, 5, 6, 7, 0, 1]\n",
      "| partition: [3, 4, 5, 6, 7, 0, 1]\n",
      "| - taking_time: 0.003733456\n",
      "| - taking_time_all_sys: 0.008520141\n"
     ]
    },
    {
     "name": "stderr",
     "output_type": "stream",
     "text": [
      "\n"
     ]
    }
   ],
   "source": [
    "from tqdm import tqdm\n",
    "\n",
    "\n",
    "all_counts_progress_01 = tqdm(\n",
    "    [\n",
    "        (4096, large_dummy_list, list(range(6))),\n",
    "        (4096, large_dummy_list, list(range(2, 8))),\n",
    "        (4096, large_dummy_list, list(range(7))),\n",
    "        (4096, large_dummy_list, list(range(0, 7))),\n",
    "        (4096, large_dummy_list, [0, 1, 2, 6, 7]),\n",
    "        (4096, large_dummy_list, [3, 4, 5, 6, 7, 0, 1]),\n",
    "    ],\n",
    "    bar_format=\"| {desc} - {elapsed} < {remaining}\",\n",
    ")\n",
    "\n",
    "test_result_1_2_3 = []\n",
    "for tmp_shot, tmp_counts, tmp_partition in all_counts_progress_01:\n",
    "    print(tmp_partition)\n",
    "    test_result_1_2_3.append(\n",
    "        randomized_entangled_entropy_mitigated(\n",
    "            tmp_shot,\n",
    "            tmp_counts,\n",
    "            tmp_partition,\n",
    "            existed_all_system=(\n",
    "                None\n",
    "                if len(test_result_1_2_3) == 0\n",
    "                else ExistedAllSystemInfo(\n",
    "                    source=\"from_previous_result:test_result_1_2_1\",\n",
    "                    purityAllSys=test_result_1_2_1[\"purityAllSys\"],\n",
    "                    entropyAllSys=test_result_1_2_1[\"entropyAllSys\"],\n",
    "                    puritySDAllSys=test_result_1_2_1[\"puritySDAllSys\"],\n",
    "                    entropySDAllSys=test_result_1_2_1[\"entropySDAllSys\"],\n",
    "                    purityCellsAllSys=test_result_1_2_1[\"purityCellsAllSys\"],\n",
    "                    num_classical_registers_all_sys=test_result_1_2_1[\n",
    "                        \"num_classical_registers_all_sys\"\n",
    "                    ],\n",
    "                    classical_registers_all_sys=test_result_1_2_1[\"classical_registers_all_sys\"],\n",
    "                    classical_registers_actually_all_sys=test_result_1_2_1[\n",
    "                        \"classical_registers_actually_all_sys\"\n",
    "                    ],\n",
    "                    taking_time_all_sys=test_result_1_2_1[\"taking_time_all_sys\"],\n",
    "                )\n",
    "            ),\n",
    "            pbar=all_counts_progress_01,\n",
    "        )\n",
    "    )\n",
    "    print(f\"| partition: {tmp_partition}\")\n",
    "    print(\"| - taking_time:\", test_result_1_2_3[-1][\"taking_time\"])\n",
    "    print(\"| - taking_time_all_sys:\", test_result_1_2_3[-1][\"taking_time_all_sys\"])"
   ]
  },
  {
   "cell_type": "markdown",
   "metadata": {},
   "source": [
    "---\n",
    "\n",
    "#### Using Python backend\n",
    "\n",
    "It will be slow. Yoy better think twice before using it.\n"
   ]
  },
  {
   "cell_type": "code",
   "execution_count": 7,
   "metadata": {},
   "outputs": [
    {
     "name": "stderr",
     "output_type": "stream",
     "text": [
      "| Calculate selected classical registers: [0, 1, 2, 3, 4, 5]. - 00:00 < ?"
     ]
    },
    {
     "name": "stdout",
     "output_type": "stream",
     "text": [
      "[0, 1, 2, 3, 4, 5]\n"
     ]
    },
    {
     "name": "stderr",
     "output_type": "stream",
     "text": [
      "| Calculate selected classical registers: [2, 3, 4, 5, 6, 7]. - 00:00 < 00:01        "
     ]
    },
    {
     "name": "stdout",
     "output_type": "stream",
     "text": [
      "[2, 3, 4, 5, 6, 7]\n"
     ]
    },
    {
     "name": "stderr",
     "output_type": "stream",
     "text": [
      "| Calculate selected classical registers: [0, 1, 2, 3, 4, 5, 6]. - 00:00 < 00:00         "
     ]
    },
    {
     "name": "stdout",
     "output_type": "stream",
     "text": [
      "[0, 1, 2, 3, 4, 5, 6]\n"
     ]
    },
    {
     "name": "stderr",
     "output_type": "stream",
     "text": [
      "| Calculate selected classical registers: [0, 1, 2, 3, 4, 5, 6]. - 00:01 < 00:01         "
     ]
    },
    {
     "name": "stdout",
     "output_type": "stream",
     "text": [
      "[0, 1, 2, 3, 4, 5, 6]\n"
     ]
    },
    {
     "name": "stderr",
     "output_type": "stream",
     "text": [
      "| Calculate selected classical registers: [0, 1, 2, 6, 7]. - 00:01 < 00:01               "
     ]
    },
    {
     "name": "stdout",
     "output_type": "stream",
     "text": [
      "[0, 1, 2, 6, 7]\n"
     ]
    },
    {
     "name": "stderr",
     "output_type": "stream",
     "text": [
      "| Calculate selected classical registers: [3, 4, 5, 6, 7, 0, 1]. - 00:01 < 00:00         "
     ]
    },
    {
     "name": "stdout",
     "output_type": "stream",
     "text": [
      "[3, 4, 5, 6, 7, 0, 1]\n"
     ]
    },
    {
     "name": "stderr",
     "output_type": "stream",
     "text": [
      "| Preparing error mitigation of selected qubits: [7, 6, 5, 4, 3, 1, 0] - 00:03 < 00:00   \n"
     ]
    }
   ],
   "source": [
    "all_counts_progress_02 = tqdm(\n",
    "    [\n",
    "        (4096, large_dummy_list, list(range(6))),\n",
    "        (4096, large_dummy_list, list(range(2, 8))),\n",
    "        (4096, large_dummy_list, list(range(7))),\n",
    "        (4096, large_dummy_list, list(range(0, 7))),\n",
    "        (4096, large_dummy_list, [0, 1, 2, 6, 7]),\n",
    "        (4096, large_dummy_list, [3, 4, 5, 6, 7, 0, 1]),\n",
    "    ],\n",
    "    bar_format=\"| {desc} - {elapsed} < {remaining}\",\n",
    ")\n",
    "\n",
    "\n",
    "test_result_1_2_4 = []\n",
    "for tmp_shot, tmp_counts, tmp_partition in all_counts_progress_02:\n",
    "    print(tmp_partition)\n",
    "    test_result_1_2_4.append(\n",
    "        randomized_entangled_entropy_mitigated(\n",
    "            tmp_shot,\n",
    "            tmp_counts,\n",
    "            tmp_partition,\n",
    "            existed_all_system=(\n",
    "                None\n",
    "                if len(test_result_1_2_3) == 0\n",
    "                else ExistedAllSystemInfo(\n",
    "                    source=\"from_previous_result:test_result_1_2_1\",\n",
    "                    purityAllSys=test_result_1_2_1[\"purityAllSys\"],\n",
    "                    entropyAllSys=test_result_1_2_1[\"entropyAllSys\"],\n",
    "                    puritySDAllSys=test_result_1_2_1[\"puritySDAllSys\"],\n",
    "                    entropySDAllSys=test_result_1_2_1[\"entropySDAllSys\"],\n",
    "                    purityCellsAllSys=test_result_1_2_1[\"purityCellsAllSys\"],\n",
    "                    num_classical_registers_all_sys=test_result_1_2_1[\n",
    "                        \"num_classical_registers_all_sys\"\n",
    "                    ],\n",
    "                    classical_registers_all_sys=test_result_1_2_1[\"classical_registers_all_sys\"],\n",
    "                    classical_registers_actually_all_sys=test_result_1_2_1[\n",
    "                        \"classical_registers_actually_all_sys\"\n",
    "                    ],\n",
    "                    taking_time_all_sys=test_result_1_2_1[\"taking_time_all_sys\"],\n",
    "                )\n",
    "            ),\n",
    "            pbar=all_counts_progress_02,\n",
    "            backend=\"Python\",\n",
    "        )\n",
    "    )"
   ]
  },
  {
   "cell_type": "markdown",
   "metadata": {},
   "source": [
    "---\n",
    "\n",
    "### Post-Process Availablities and Version Info\n",
    "\n"
   ]
  },
  {
   "cell_type": "code",
   "execution_count": 8,
   "metadata": {},
   "outputs": [
    {
     "data": {
      "text/plain": [
       " | Qurry version: 0.9.2.dev1\n",
       "--------------------------------------------------------\n",
       " ### Qurry Post-Processing\n",
       "   - Backend Availability ................... Python Cython Rust  \n",
       " - randomized_measure\n",
       "   - entangled_entropy.entropy_core_2 ....... Yes    Depr.  Yes   \n",
       "   - entangle_entropy.purity_cell_2 ......... Yes    Depr.  Yes   \n",
       "   - wavefunction_overlap ................... Yes    Depr.  Yes   \n",
       "   - echo_cell .............................. Yes    Depr.  Error \n",
       " - utils\n",
       "   - randomized ............................. Yes    Depr.  Yes   \n",
       "   - construct .............................. Yes    No     Yes   \n",
       "   - dummy .................................. Yes    No     Yes   \n",
       " - hadamard_test\n",
       "   - purity_echo_core ....................... Yes    No     Yes   \n",
       " - magnet_square\n",
       "   - magnsq_core ............................ Yes    No     No    \n",
       "--------------------------------------------------------\n",
       "   + Yes ...... Working normally.\n",
       "   + Error .... Exception occurred.\n",
       "   + No ....... Not supported.\n",
       "   + Depr. .... Deprecated.\n",
       "--------------------------------------------------------\n",
       "by <Hoshi>"
      ]
     },
     "execution_count": 8,
     "metadata": {},
     "output_type": "execute_result"
    }
   ],
   "source": [
    "from qurry.process.status import AVAIBILITY_STATESHEET\n",
    "\n",
    "AVAIBILITY_STATESHEET"
   ]
  },
  {
   "cell_type": "code",
   "execution_count": null,
   "metadata": {},
   "outputs": [],
   "source": []
  }
 ],
 "metadata": {
  "kernelspec": {
   "display_name": "quantumsphere12",
   "language": "python",
   "name": "python3"
  },
  "language_info": {
   "codemirror_mode": {
    "name": "ipython",
    "version": 3
   },
   "file_extension": ".py",
   "mimetype": "text/x-python",
   "name": "python",
   "nbconvert_exporter": "python",
   "pygments_lexer": "ipython3",
   "version": "3.12.2"
  }
 },
 "nbformat": 4,
 "nbformat_minor": 4
}
