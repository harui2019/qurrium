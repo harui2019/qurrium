{
 "cells": [
  {
   "attachments": {},
   "cell_type": "markdown",
   "metadata": {},
   "source": [
    "## 03 - The True Power of Qurry\n",
    "\n",
    "In previous section, we have learned how to use Qurry in basic way, it's kind of boring and not attractive for anyone, even you may ask why should I use this tool. In this section, we will learn how to use Qurry in advanced way, where the true power of Qurry lies.\n",
    "\n"
   ]
  },
  {
   "cell_type": "code",
   "execution_count": 1,
   "metadata": {},
   "outputs": [],
   "source": [
    "from qurry import EntropyMeasure, BackendManager\n",
    "from qiskit import (\n",
    "    IBMQ, execute, transpile,\n",
    "    QuantumRegister, ClassicalRegister, QuantumCircuit,\n",
    ")\n",
    "from pathlib import Path\n",
    "\n",
    "experiment_executor_02 = EntropyMeasure()"
   ]
  },
  {
   "attachments": {},
   "cell_type": "markdown",
   "metadata": {},
   "source": [
    "## 3.1 - `BackendManager`, the advanced version `backendWrapper`\n",
    "\n",
    "In previous chapter, we used `backendWrapper` to import our backend, and put provider input it to load IBM Backend from our IBM Account. \n",
    "Now, `BackendManager` will load accout automatically, and you can use `BackendManager` to load backend directly.\n",
    "\n",
    "```python\n",
    "BackendManager.save_account('your_token')\n",
    "```\n",
    "To save your account, if you have already saved, you can ignore this step.\n",
    "\n",
    "```python\n",
    "backend = BackendManager(\n",
    "    instance='ibm-q/open/main'\n",
    ")\n",
    "```\n",
    "or \n",
    "```python\n",
    "backend = BackendManager(\n",
    "    hub='ibm-q', group='open', project='main'\n",
    ")\n",
    "```\n"
   ]
  },
  {
   "cell_type": "code",
   "execution_count": 2,
   "metadata": {},
   "outputs": [
    {
     "name": "stdout",
     "output_type": "stream",
     "text": [
      "| Provider by 'qiskit_ibm_provider'.\n"
     ]
    }
   ],
   "source": [
    "backend = BackendManager(\n",
    "    hub='ibm-q', group='open', project='main'\n",
    ")"
   ]
  },
  {
   "attachments": {},
   "cell_type": "markdown",
   "metadata": {},
   "source": [
    "You can just type the name of backend without the prefix of `'ibmq_'` or `'ibm_'`.\n"
   ]
  },
  {
   "cell_type": "code",
   "execution_count": 3,
   "metadata": {},
   "outputs": [
    {
     "data": {
      "text/plain": [
       "(<IBMBackend('ibmq_belem')>, <IBMBackend('ibmq_belem')>)"
      ]
     },
     "execution_count": 3,
     "metadata": {},
     "output_type": "execute_result"
    }
   ],
   "source": [
    "backend('ibmq_belem'), backend('belem')"
   ]
  },
  {
   "attachments": {},
   "cell_type": "markdown",
   "metadata": {},
   "source": [
    "## 3.2 - Launching a multiJob\n",
    "\n",
    "Consider a scenario where you have multiple circuit want to run on a backend, and you want to run them at the same time. In this case, you can use `multiOutput` to launch a multiJob.\n",
    "\n",
    "For our example, we will show how to measure 100 circuits with 100 times randomized measure, 4096 shots, and mesure their entropy with multiple subsystem divisions at the same time."
   ]
  },
  {
   "attachments": {},
   "cell_type": "markdown",
   "metadata": {},
   "source": [
    "### 1. Loading 100 circuits\n",
    "\n",
    "(Topological Paramagnetic State is already the most complicated case in Qurry, so we will use it as our example, ususally I prefer some more complicated circuits like sshxx model with 20+ trotter steps, but it's not necessary for this example.)\n",
    "\n",
    "```python"
   ]
  },
  {
   "cell_type": "code",
   "execution_count": 4,
   "metadata": {},
   "outputs": [
    {
     "name": "stdout",
     "output_type": "stream",
     "text": [
      "     ┌───┐         \n",
      "q_0: ┤ H ├─■─────■─\n",
      "     ├───┤ │     │ \n",
      "q_1: ┤ H ├─■──■──┼─\n",
      "     ├───┤    │  │ \n",
      "q_2: ┤ H ├─■──■──┼─\n",
      "     ├───┤ │     │ \n",
      "q_3: ┤ H ├─■──■──┼─\n",
      "     ├───┤    │  │ \n",
      "q_4: ┤ H ├─■──■──┼─\n",
      "     ├───┤ │     │ \n",
      "q_5: ┤ H ├─■──■──┼─\n",
      "     ├───┤    │  │ \n",
      "q_6: ┤ H ├─■──■──┼─\n",
      "     ├───┤ │     │ \n",
      "q_7: ┤ H ├─■─────■─\n",
      "     └───┘         \n"
     ]
    }
   ],
   "source": [
    "from qurry.case import topParamagnet\n",
    "sample = topParamagnet(8, 'period')\n",
    "print(sample.circuit)"
   ]
  },
  {
   "cell_type": "markdown",
   "metadata": {},
   "source": [
    "Loading circuits to `Qurry`"
   ]
  },
  {
   "cell_type": "code",
   "execution_count": 5,
   "metadata": {},
   "outputs": [],
   "source": [
    "for i in range(100):\n",
    "    experiment_executor_02.add(sample.circuit)\n"
   ]
  },
  {
   "cell_type": "markdown",
   "metadata": {},
   "source": [
    "Check the name or serial number of the circuit in `Qurry` by `experiment_executor_02.waves.keys()`\n"
   ]
  },
  {
   "cell_type": "code",
   "execution_count": 6,
   "metadata": {},
   "outputs": [
    {
     "name": "stdout",
     "output_type": "stream",
     "text": [
      "dict_keys([0, 1, 2, 3, 4, 5, 6, 7, 8, 9, 10, 11, 12, 13, 14, 15, 16, 17, 18, 19, 20, 21, 22, 23, 24, 25, 26, 27, 28, 29, 30, 31, 32, 33, 34, 35, 36, 37, 38, 39, 40, 41, 42, 43, 44, 45, 46, 47, 48, 49, 50, 51, 52, 53, 54, 55, 56, 57, 58, 59, 60, 61, 62, 63, 64, 65, 66, 67, 68, 69, 70, 71, 72, 73, 74, 75, 76, 77, 78, 79, 80, 81, 82, 83, 84, 85, 86, 87, 88, 89, 90, 91, 92, 93, 94, 95, 96, 97, 98, 99])\n"
     ]
    }
   ],
   "source": [
    "print(experiment_executor_02.waves.keys())"
   ]
  },
  {
   "attachments": {},
   "cell_type": "markdown",
   "metadata": {},
   "source": [
    "### 2. Preparing configurations\n",
    "\n",
    "For launch 100 experiment, it requires 100 configurations for each experiment, since they are similar, we can just make a list.\n",
    "\n",
    "For randomized measure, each configuration is in this form of dictionary:\n",
    "\n",
    "```python\n",
    "{\n",
    "    'waves': 'the circuit to measure',\n",
    "    'tags': 'tags for this job',\n",
    "    'shots': '...',\n",
    "    'times': 100,\n",
    "}\n",
    "```"
   ]
  },
  {
   "cell_type": "code",
   "execution_count": 6,
   "metadata": {},
   "outputs": [],
   "source": [
    "from typing import TypedDict, Hashable, Iterable, Union, Optional\n",
    "\n",
    "class randomizedConfig(TypedDict):\n",
    "    waves: Hashable\n",
    "    \"\"\"The name or serial number of circuit in Qurry.\"\"\"\n",
    "    tags: Union[Iterable[Hashable], Hashable]\n",
    "    \"\"\"You can metion tags to filter experiment.\"\"\"\n",
    "    times: Optional[int]\n",
    "    \"\"\"Default: 100 in :cls:`RandomizedMeasure`\"\"\"\n",
    "    "
   ]
  },
  {
   "cell_type": "code",
   "execution_count": 7,
   "metadata": {},
   "outputs": [],
   "source": [
    "configList: list[randomizedConfig] = [{\n",
    "    'wave': i,\n",
    "    'tags': ('topParamagnet', int(i/10)),\n",
    "    'times': 100,\n",
    "} for i in range(100)]"
   ]
  },
  {
   "attachments": {},
   "cell_type": "markdown",
   "metadata": {},
   "source": [
    "### 3. Launching multiJob\n",
    "\n",
    "Attenetion, this example may make your computer go brrrr."
   ]
  },
  {
   "cell_type": "code",
   "execution_count": 8,
   "metadata": {},
   "outputs": [
    {
     "name": "stdout",
     "output_type": "stream",
     "text": [
      "| MultiManager building...\n"
     ]
    },
    {
     "name": "stderr",
     "output_type": "stream",
     "text": [
      "| Write \"example.multiOutput.qurry.001\", at location \"example.multiOutput.qurry.001\": "
     ]
    },
    {
     "name": "stdout",
     "output_type": "stream",
     "text": [
      "| Found the tarfile 'example.multiOutput.qurry.001.qurry.tar.xz' in '.', decompressing is available.\n",
      "| No multi.config file found, decompressing all files in the tarfile 'example.multiOutput.qurry.001.qurry.tar.xz'.\n"
     ]
    },
    {
     "name": "stderr",
     "output_type": "stream",
     "text": [
      "\n",
      "| 100/100 100%|██████████| - Experiments build - 03:37 < 00:00\n"
     ]
    },
    {
     "name": "stdout",
     "output_type": "stream",
     "text": [
      "| Export multimanager...\n"
     ]
    },
    {
     "name": "stderr",
     "output_type": "stream",
     "text": [
      "| 10/10 - exporting done:  - 00:00 < 00:00                      \n",
      "| 0/0 - exporting quantity - 00:00 < ?\n"
     ]
    },
    {
     "name": "stdout",
     "output_type": "stream",
     "text": [
      "| Export multi.config.json for 08f2ee59-676a-4adb-a673-0a7a4be2e8dd\n"
     ]
    },
    {
     "name": "stderr",
     "output_type": "stream",
     "text": [
      "| 0/100   0%|          | - Experiments running - 00:00 < ?"
     ]
    },
    {
     "name": "stdout",
     "output_type": "stream",
     "text": [
      "| MultiOutput running...\n"
     ]
    },
    {
     "name": "stderr",
     "output_type": "stream",
     "text": [
      "| 100/100 100%|██████████| - Experiments running - 04:29 < 00:00\n"
     ]
    },
    {
     "name": "stdout",
     "output_type": "stream",
     "text": [
      "| Export multimanager...\n"
     ]
    },
    {
     "name": "stderr",
     "output_type": "stream",
     "text": [
      "| 10/10 - exporting done:  - 00:04 < 00:00                      \n",
      "| 0/0 - exporting quantity - 00:00 < ?\n"
     ]
    },
    {
     "name": "stdout",
     "output_type": "stream",
     "text": [
      "| Export multi.config.json for 08f2ee59-676a-4adb-a673-0a7a4be2e8dd\n"
     ]
    },
    {
     "name": "stderr",
     "output_type": "stream",
     "text": [
      "| 100/100 - Multimanger experiment write in 08f2ee59-676a-4adb-a673-0a7a4be2e8dd...done:  - 00:57 < 00:00                               \n"
     ]
    },
    {
     "name": "stdout",
     "output_type": "stream",
     "text": [
      "'example.multiOutput.qurry.001/multi.config.json' exported successfully.\n",
      "| Compress multimanager of 'example.multiOutput.qurry.001'.../r'example.multiOutput.qurry.001/multi.config.json' exported successfully.\n",
      "| Compress multimanager of 'example.multiOutput.qurry.001'...done\n"
     ]
    }
   ],
   "source": [
    "# please decoment this cell to run it.\n",
    "\n",
    "# hashID = experiment_executor_02.multiOutput(\n",
    "#     configList=configList,\n",
    "#     # backend=backend('aer_gpu'),\n",
    "#     backend=backend('aer'),\n",
    "#     saveLocation=Path('./'),\n",
    "#     summonerName='example.multiOutput',\n",
    "#     shots=4096,\n",
    "# )\n",
    "\n",
    "# It takes 10m 41.2s to run this cell on my computer."
   ]
  },
  {
   "cell_type": "markdown",
   "metadata": {},
   "source": [
    "The `multiOutput` will return a ID of this multiJob, \n",
    "\n",
    "you can use it to check the status of this multiJob in `experiment_executor_02.multimanagers[(the ID returned)]`."
   ]
  },
  {
   "cell_type": "code",
   "execution_count": 9,
   "metadata": {},
   "outputs": [
    {
     "data": {
      "text/plain": [
       "'08f2ee59-676a-4adb-a673-0a7a4be2e8dd'"
      ]
     },
     "execution_count": 9,
     "metadata": {},
     "output_type": "execute_result"
    }
   ],
   "source": [
    "hashID # The hashID of this multiOutput"
   ]
  },
  {
   "cell_type": "code",
   "execution_count": 10,
   "metadata": {},
   "outputs": [
    {
     "data": {
      "text/plain": [
       "{'08f2ee59-676a-4adb-a673-0a7a4be2e8dd': <qurry.qurrium.multimanager.multimanager.MultiManager at 0x7f9214517410>}"
      ]
     },
     "execution_count": 10,
     "metadata": {},
     "output_type": "execute_result"
    }
   ],
   "source": [
    "experiment_executor_02.multimanagers"
   ]
  },
  {
   "cell_type": "markdown",
   "metadata": {},
   "source": [
    "### 4. The automatic export of multiJob\n",
    "\n",
    "After the multiJob is finished, you may notice that there are some new files in your folder, they are the results of your multiJob.\n",
    "\n",
    "Qurry will automatically export the results of multiJob to your folder, and you can use `multiRead` to load them. And we will show how to use `multiRead` in later section."
   ]
  },
  {
   "attachments": {},
   "cell_type": "markdown",
   "metadata": {},
   "source": [
    "### 5. Make multiple analysis with multiple subsystem divisions\n",
    "\n",
    "Attenetion, this example may make your computer go brrrr too.\n",
    "And in randomized measure, this calculation already boosts by multiprocess and cython and makes it can be finished in one hour. In early version, such calculation can take all day, even few days to finish."
   ]
  },
  {
   "cell_type": "code",
   "execution_count": 11,
   "metadata": {},
   "outputs": [],
   "source": [
    "subsytems = [\n",
    "    2, 4, 6, (2, 4), (4, 6), (2, 6), \n",
    "    (-2, 2), (-4, 2), (-2, 4), 3, (5, 7), (4, 7)]\n",
    "# this is a list of subsystems that we want to measure"
   ]
  },
  {
   "cell_type": "code",
   "execution_count": 12,
   "metadata": {},
   "outputs": [
    {
     "name": "stdout",
     "output_type": "stream",
     "text": [
      "| Name: N_A=2\n"
     ]
    },
    {
     "name": "stderr",
     "output_type": "stream",
     "text": [
      "| 100/100 - Analysis: Partition: (6, 8), Measure: (0, 8), 14 workers, 100 overlaps with mitigation. - 03:07 < 00:00\n"
     ]
    },
    {
     "name": "stdout",
     "output_type": "stream",
     "text": [
      "| \"N_A=2\" has been completed.\n",
      "| Export multimanager...\n"
     ]
    },
    {
     "name": "stderr",
     "output_type": "stream",
     "text": [
      "| 10/10 - exporting done:  - 00:00 < 00:00                      \n",
      "| 1/1 - exported quantity complete:  - 00:00 < 00:00\n"
     ]
    },
    {
     "name": "stdout",
     "output_type": "stream",
     "text": [
      "| Export multi.config.json for 08f2ee59-676a-4adb-a673-0a7a4be2e8dd\n",
      "| Name: N_A=4\n"
     ]
    },
    {
     "name": "stderr",
     "output_type": "stream",
     "text": [
      "| 100/100 - Analysis: Partition: (4, 8), Measure: (0, 8), 14 workers, 100 overlaps with mitigation. - 03:10 < 00:00\n"
     ]
    },
    {
     "name": "stdout",
     "output_type": "stream",
     "text": [
      "| \"N_A=4\" has been completed.\n",
      "| Export multimanager...\n"
     ]
    },
    {
     "name": "stderr",
     "output_type": "stream",
     "text": [
      "| 10/10 - exporting done:  - 00:00 < 00:00                      \n",
      "| 2/2 - exported quantity complete:  - 00:00 < 00:00\n"
     ]
    },
    {
     "name": "stdout",
     "output_type": "stream",
     "text": [
      "| Export multi.config.json for 08f2ee59-676a-4adb-a673-0a7a4be2e8dd\n",
      "| Name: N_A=6\n"
     ]
    },
    {
     "name": "stderr",
     "output_type": "stream",
     "text": [
      "| 100/100 - Analysis: Partition: (2, 8), Measure: (0, 8), 14 workers, 100 overlaps with mitigation. - 03:19 < 00:00\n"
     ]
    },
    {
     "name": "stdout",
     "output_type": "stream",
     "text": [
      "| \"N_A=6\" has been completed.\n",
      "| Export multimanager...\n"
     ]
    },
    {
     "name": "stderr",
     "output_type": "stream",
     "text": [
      "| 10/10 - exporting done:  - 00:00 < 00:00                      \n",
      "| 3/3 - exported quantity complete:  - 00:00 < 00:00\n"
     ]
    },
    {
     "name": "stdout",
     "output_type": "stream",
     "text": [
      "| Export multi.config.json for 08f2ee59-676a-4adb-a673-0a7a4be2e8dd\n",
      "| Name: N_A=2to4\n"
     ]
    },
    {
     "name": "stderr",
     "output_type": "stream",
     "text": [
      "| 100/100 - Analysis: Partition: (2, 4), Measure: (0, 8), 14 workers, 100 overlaps with mitigation. - 03:09 < 00:00\n"
     ]
    },
    {
     "name": "stdout",
     "output_type": "stream",
     "text": [
      "| \"N_A=2to4\" has been completed.\n",
      "| Export multimanager...\n"
     ]
    },
    {
     "name": "stderr",
     "output_type": "stream",
     "text": [
      "| 10/10 - exporting done:  - 00:00 < 00:00                      \n",
      "| 4/4 - exported quantity complete:  - 00:00 < 00:00\n"
     ]
    },
    {
     "name": "stdout",
     "output_type": "stream",
     "text": [
      "| Export multi.config.json for 08f2ee59-676a-4adb-a673-0a7a4be2e8dd\n",
      "| Name: N_A=4to6\n"
     ]
    },
    {
     "name": "stderr",
     "output_type": "stream",
     "text": [
      "| 100/100 - Analysis: Partition: (4, 6), Measure: (0, 8), 14 workers, 100 overlaps with mitigation. - 03:11 < 00:00\n"
     ]
    },
    {
     "name": "stdout",
     "output_type": "stream",
     "text": [
      "| \"N_A=4to6\" has been completed.\n",
      "| Export multimanager...\n"
     ]
    },
    {
     "name": "stderr",
     "output_type": "stream",
     "text": [
      "| 10/10 - exporting done:  - 00:00 < 00:00                      \n",
      "| 5/5 - exported quantity complete:  - 00:00 < 00:00\n"
     ]
    },
    {
     "name": "stdout",
     "output_type": "stream",
     "text": [
      "| Export multi.config.json for 08f2ee59-676a-4adb-a673-0a7a4be2e8dd\n",
      "| Name: N_A=2to6\n"
     ]
    },
    {
     "name": "stderr",
     "output_type": "stream",
     "text": [
      "| 100/100 - Analysis: Partition: (2, 6), Measure: (0, 8), 14 workers, 100 overlaps with mitigation. - 03:08 < 00:00\n"
     ]
    },
    {
     "name": "stdout",
     "output_type": "stream",
     "text": [
      "| \"N_A=2to6\" has been completed.\n",
      "| Export multimanager...\n"
     ]
    },
    {
     "name": "stderr",
     "output_type": "stream",
     "text": [
      "| 10/10 - exporting done:  - 00:00 < 00:00                      \n",
      "| 6/6 - exported quantity complete:  - 00:00 < 00:00\n"
     ]
    },
    {
     "name": "stdout",
     "output_type": "stream",
     "text": [
      "| Export multi.config.json for 08f2ee59-676a-4adb-a673-0a7a4be2e8dd\n",
      "| Name: N_A=-2to2\n"
     ]
    },
    {
     "name": "stderr",
     "output_type": "stream",
     "text": [
      "| 100/100 - Analysis: Partition: cycling-(-2, 2), Measure: (0, 8), 14 workers, 100 overlaps with mitigation. - 03:08 < 00:00\n"
     ]
    },
    {
     "name": "stdout",
     "output_type": "stream",
     "text": [
      "| \"N_A=-2to2\" has been completed.\n",
      "| Export multimanager...\n"
     ]
    },
    {
     "name": "stderr",
     "output_type": "stream",
     "text": [
      "| 10/10 - exporting done:  - 00:00 < 00:00                      \n",
      "| 7/7 - exported quantity complete:  - 00:00 < 00:00\n"
     ]
    },
    {
     "name": "stdout",
     "output_type": "stream",
     "text": [
      "| Export multi.config.json for 08f2ee59-676a-4adb-a673-0a7a4be2e8dd\n",
      "| Name: N_A=-4to2\n"
     ]
    },
    {
     "name": "stderr",
     "output_type": "stream",
     "text": [
      "| 100/100 - Analysis: Partition: cycling-(-4, 2), Measure: (0, 8), 14 workers, 100 overlaps with mitigation. - 03:14 < 00:00\n"
     ]
    },
    {
     "name": "stdout",
     "output_type": "stream",
     "text": [
      "| \"N_A=-4to2\" has been completed.\n",
      "| Export multimanager...\n"
     ]
    },
    {
     "name": "stderr",
     "output_type": "stream",
     "text": [
      "| 10/10 - exporting done:  - 00:00 < 00:00                      \n",
      "| 8/8 - exported quantity complete:  - 00:00 < 00:00\n"
     ]
    },
    {
     "name": "stdout",
     "output_type": "stream",
     "text": [
      "| Export multi.config.json for 08f2ee59-676a-4adb-a673-0a7a4be2e8dd\n",
      "| Name: N_A=-2to4\n"
     ]
    },
    {
     "name": "stderr",
     "output_type": "stream",
     "text": [
      "| 100/100 - Analysis: Partition: cycling-(-2, 4), Measure: (0, 8), 14 workers, 100 overlaps with mitigation. - 03:13 < 00:00\n"
     ]
    },
    {
     "name": "stdout",
     "output_type": "stream",
     "text": [
      "| \"N_A=-2to4\" has been completed.\n",
      "| Export multimanager...\n"
     ]
    },
    {
     "name": "stderr",
     "output_type": "stream",
     "text": [
      "| 10/10 - exporting done:  - 00:00 < 00:00                      \n",
      "| 9/9 - exported quantity complete:  - 00:00 < 00:00\n"
     ]
    },
    {
     "name": "stdout",
     "output_type": "stream",
     "text": [
      "| Export multi.config.json for 08f2ee59-676a-4adb-a673-0a7a4be2e8dd\n",
      "| Name: N_A=3\n"
     ]
    },
    {
     "name": "stderr",
     "output_type": "stream",
     "text": [
      "| 100/100 - Analysis: Partition: (5, 8), Measure: (0, 8), 14 workers, 100 overlaps with mitigation. - 03:09 < 00:00\n"
     ]
    },
    {
     "name": "stdout",
     "output_type": "stream",
     "text": [
      "| \"N_A=3\" has been completed.\n",
      "| Export multimanager...\n"
     ]
    },
    {
     "name": "stderr",
     "output_type": "stream",
     "text": [
      "| 10/10 - exporting done:  - 00:00 < 00:00                      \n",
      "| 10/10 - exported quantity complete:  - 00:00 < 00:00\n"
     ]
    },
    {
     "name": "stdout",
     "output_type": "stream",
     "text": [
      "| Export multi.config.json for 08f2ee59-676a-4adb-a673-0a7a4be2e8dd\n",
      "| Name: N_A=5to7\n"
     ]
    },
    {
     "name": "stderr",
     "output_type": "stream",
     "text": [
      "| 100/100 - Analysis: Partition: (5, 7), Measure: (0, 8), 14 workers, 100 overlaps with mitigation. - 03:11 < 00:00\n"
     ]
    },
    {
     "name": "stdout",
     "output_type": "stream",
     "text": [
      "| \"N_A=5to7\" has been completed.\n",
      "| Export multimanager...\n"
     ]
    },
    {
     "name": "stderr",
     "output_type": "stream",
     "text": [
      "| 10/10 - exporting done:  - 00:00 < 00:00                      \n",
      "| 11/11 - exported quantity complete:  - 00:00 < 00:00\n"
     ]
    },
    {
     "name": "stdout",
     "output_type": "stream",
     "text": [
      "| Export multi.config.json for 08f2ee59-676a-4adb-a673-0a7a4be2e8dd\n",
      "| Name: N_A=4to7\n"
     ]
    },
    {
     "name": "stderr",
     "output_type": "stream",
     "text": [
      "| 100/100 - Analysis: Partition: (4, 7), Measure: (0, 8), 14 workers, 100 overlaps with mitigation. - 03:11 < 00:00\n"
     ]
    },
    {
     "name": "stdout",
     "output_type": "stream",
     "text": [
      "| \"N_A=4to7\" has been completed.\n",
      "| Export multimanager...\n"
     ]
    },
    {
     "name": "stderr",
     "output_type": "stream",
     "text": [
      "| 10/10 - exporting done:  - 00:00 < 00:00                      \n",
      "| 12/12 - exported quantity complete:  - 00:00 < 00:00"
     ]
    },
    {
     "name": "stdout",
     "output_type": "stream",
     "text": [
      "| Export multi.config.json for 08f2ee59-676a-4adb-a673-0a7a4be2e8dd\n"
     ]
    },
    {
     "name": "stderr",
     "output_type": "stream",
     "text": [
      "\n"
     ]
    }
   ],
   "source": [
    "for d in subsytems:\n",
    "    name = (\n",
    "        f'N_A={\"to\".join([str(dd) for dd in d])}' if isinstance(d, tuple) \n",
    "        else f'N_A={d}')\n",
    "    print(\"| Name:\", name)\n",
    "    \n",
    "    # please decoment this cell to run it.\n",
    "    \n",
    "    # experiment_executor_02.multiAnalysis(\n",
    "    #     summonerID=hashID,\n",
    "    #     degree=d,\n",
    "    #     analysisName=name,\n",
    "    #     noSerialize=True,\n",
    "    # )\n",
    "    \n",
    "# 38m 15.1s to run this cell on my computer."
   ]
  },
  {
   "attachments": {},
   "cell_type": "markdown",
   "metadata": {},
   "source": [
    "## 3.3 Reading and Writing Data"
   ]
  },
  {
   "cell_type": "code",
   "execution_count": 6,
   "metadata": {},
   "outputs": [
    {
     "name": "stdout",
     "output_type": "stream",
     "text": [
      "| MultiRead running...\n",
      "| Retrieve example.multiOutput.qurry.001...\n",
      "| at: example.multiOutput.qurry.001\n",
      "| Found the tarfile 'example.multiOutput.qurry.001.qurry.tar.xz' in '.', decompressing is available.\n",
      "The following files '['example.multiOutput.qurry.001/N_A=2to6.quantity.json']' are fitting giving 'name' and 'additionName', choosing the 'example.multiOutput.qurry.001/N_A=2to6.quantity.json'.\n",
      "The following files '['example.multiOutput.qurry.001/N_A=4to7.quantity.json']' are fitting giving 'name' and 'additionName', choosing the 'example.multiOutput.qurry.001/N_A=4to7.quantity.json'.\n"
     ]
    }
   ],
   "source": [
    "hashID = experiment_executor_02.multiRead(\n",
    "    saveLocation=Path('./'),\n",
    "    summonerName='read.example.multiOutput.qurry.001',\n",
    ")"
   ]
  },
  {
   "attachments": {},
   "cell_type": "markdown",
   "metadata": {},
   "source": [
    "## 3.4 Export and Compress"
   ]
  },
  {
   "cell_type": "code",
   "execution_count": 7,
   "metadata": {},
   "outputs": [
    {
     "name": "stdout",
     "output_type": "stream",
     "text": [
      "| Export multimanager...\n"
     ]
    },
    {
     "name": "stderr",
     "output_type": "stream",
     "text": [
      "| 10/10 - exporting done:  - 00:04 < 00:00                      \n",
      "| 12/12 - exported quantity complete:  - 00:00 < 00:00  \n"
     ]
    },
    {
     "name": "stdout",
     "output_type": "stream",
     "text": [
      "| Export multi.config.json for 08f2ee59-676a-4adb-a673-0a7a4be2e8dd\n"
     ]
    },
    {
     "name": "stderr",
     "output_type": "stream",
     "text": [
      "| 100/100 - Multimanger experiment write in 08f2ee59-676a-4adb-a673-0a7a4be2e8dd...done:  - 00:08 < 00:00                               \n"
     ]
    },
    {
     "name": "stdout",
     "output_type": "stream",
     "text": [
      "'example.multiOutput.qurry.001/multi.config.json' exported successfully.\n",
      "| Compress multimanager of 'example.multiOutput.qurry.001'.../r'example.multiOutput.qurry.001/multi.config.json' exported successfully.\n",
      "| Compress multimanager of 'example.multiOutput.qurry.001'...done\n"
     ]
    },
    {
     "data": {
      "text/plain": [
       "'08f2ee59-676a-4adb-a673-0a7a4be2e8dd'"
      ]
     },
     "execution_count": 7,
     "metadata": {},
     "output_type": "execute_result"
    }
   ],
   "source": [
    "experiment_executor_02.multiWrite(\n",
    "    saveLocation=Path('./'),\n",
    "    summonerID=hashID,\n",
    "    compress=True,\n",
    ")"
   ]
  },
  {
   "cell_type": "code",
   "execution_count": null,
   "metadata": {},
   "outputs": [],
   "source": []
  }
 ],
 "metadata": {
  "kernelspec": {
   "display_name": "quantumsphere11",
   "language": "python",
   "name": "python3"
  },
  "language_info": {
   "codemirror_mode": {
    "name": "ipython",
    "version": 3
   },
   "file_extension": ".py",
   "mimetype": "text/x-python",
   "name": "python",
   "nbconvert_exporter": "python",
   "pygments_lexer": "ipython3",
   "version": "3.11.3"
  },
  "orig_nbformat": 4
 },
 "nbformat": 4,
 "nbformat_minor": 2
}
