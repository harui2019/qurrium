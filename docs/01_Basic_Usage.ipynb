{
 "cells": [
  {
   "attachments": {},
   "cell_type": "markdown",
   "metadata": {},
   "source": [
    "# 01 - Basic Usage of Qurry\n",
    "\n",
    "In Qurry, we use the instance of `Qurry` to store Quantum Circuit, experiment, build experiment, and excute them by local simulator or pending to the real quantum machine on `IBM`. In this chapter (or we say this jupyter file), we will introduce how to use Qurry to build a simple quantum circuit and measure their Renyi Entropy by local simulator.\n"
   ]
  },
  {
   "attachments": {},
   "cell_type": "markdown",
   "metadata": {},
   "source": [
    "## 1.1 Setup Environment and Creat experiment executor"
   ]
  },
  {
   "cell_type": "code",
   "execution_count": 1,
   "metadata": {},
   "outputs": [],
   "source": [
    "from qurry import EntropyMeasure, BackendWrapper\n",
    "from qiskit import (\n",
    "    IBMQ, execute, transpile,\n",
    "    QuantumRegister, ClassicalRegister, QuantumCircuit,\n",
    ")"
   ]
  },
  {
   "attachments": {},
   "cell_type": "markdown",
   "metadata": {},
   "source": [
    "- Before we start, we need to import the package of Qurry and other packages we need. \n",
    "\n",
    "- In Qurry, we provider a simple way to import backend called `BackendWrapper`, it will help us to import the backend we need, if your environment includes the GPU acceleration, `qiskit-aer-gpu`, it will be check the availability to access, if does, the GPU backend will also be available.\n",
    "\n",
    "- The following chapter, we will told you how to use `BackendWrapper` to import the real backend from your IBM account by `IBMProvider` or `AccountProvider`, and the more powerful class `backendManager` to import the real backend more easily.\n",
    "\n",
    "- In this example, we will use normal `aer_simulator` as our backend\n"
   ]
  },
  {
   "cell_type": "code",
   "execution_count": 2,
   "metadata": {},
   "outputs": [
    {
     "data": {
      "text/plain": [
       "AerSimulator('aer_simulator_gpu')"
      ]
     },
     "execution_count": 2,
     "metadata": {},
     "output_type": "execute_result"
    }
   ],
   "source": [
    "backend = BackendWrapper()\n",
    "backend('aer')"
   ]
  },
  {
   "cell_type": "code",
   "execution_count": 4,
   "metadata": {},
   "outputs": [
    {
     "name": "stdout",
     "output_type": "stream",
     "text": [
      "| Does we have GPU backend to access: True\n",
      "aer_simulator_gpu\n"
     ]
    }
   ],
   "source": [
    "print(\"| Does we have GPU backend to access:\", backend.is_aer_gpu)\n",
    "try:\n",
    "    # If you have GPU, you can use this backend.\n",
    "    print(backend('aer_gpu'))\n",
    "except:\n",
    "    pass"
   ]
  },
  {
   "attachments": {},
   "cell_type": "markdown",
   "metadata": {},
   "source": [
    "- Now, initialize our `EntropyMeasure`, we have two methods, `randomized` for Randomized Measure as default, and `hadamard` for Hadamard Test, these are our methods for measurement.\n",
    "\n",
    "- In following tutorial, we will use `randomized` as our measurement method."
   ]
  },
  {
   "cell_type": "code",
   "execution_count": 13,
   "metadata": {},
   "outputs": [
    {
     "name": "stdout",
     "output_type": "stream",
     "text": [
      "| The first method is which is `Hadamard Test`\".\n",
      "| The default method is which is `Randomized Measure` we will use.\n"
     ]
    }
   ],
   "source": [
    "experiment_execution_01 = EntropyMeasure(method='hadamard')\n",
    "print(f'| The first method is which is `Hadamard Test`\".')\n",
    "experiment_execution_02 = EntropyMeasure()\n",
    "print(f'| The default method is which is `Randomized Measure` we will use.')"
   ]
  },
  {
   "attachments": {},
   "cell_type": "markdown",
   "metadata": {},
   "source": [
    "---\n",
    "\n",
    "## 1.2 Load quantum circuit\n",
    "\n",
    "- We use `TrivialParamagnet` as our target to measure, and add it to our `Qurry` object, and import from `qurry.case` which there are some simple cases."
   ]
  },
  {
   "cell_type": "code",
   "execution_count": 8,
   "metadata": {},
   "outputs": [],
   "source": [
    "from qurry.recipe.library import TrivialParamagnet, GHZ"
   ]
  },
  {
   "cell_type": "code",
   "execution_count": 12,
   "metadata": {},
   "outputs": [
    {
     "name": "stdout",
     "output_type": "stream",
     "text": [
      "| trivial paramagnet in 8 qubits:\n",
      "     ┌───┐\n",
      "q_0: ┤ H ├\n",
      "     ├───┤\n",
      "q_1: ┤ H ├\n",
      "     ├───┤\n",
      "q_2: ┤ H ├\n",
      "     ├───┤\n",
      "q_3: ┤ H ├\n",
      "     ├───┤\n",
      "q_4: ┤ H ├\n",
      "     ├───┤\n",
      "q_5: ┤ H ├\n",
      "     ├───┤\n",
      "q_6: ┤ H ├\n",
      "     ├───┤\n",
      "q_7: ┤ H ├\n",
      "     └───┘\n",
      "| GHZ in 8 qubits:\n",
      "     ┌───┐                                   \n",
      "q_0: ┤ H ├──■────────────────────────────────\n",
      "     └───┘┌─┴─┐                              \n",
      "q_1: ─────┤ X ├──■───────────────────────────\n",
      "          └───┘┌─┴─┐                         \n",
      "q_2: ──────────┤ X ├──■──────────────────────\n",
      "               └───┘┌─┴─┐                    \n",
      "q_3: ───────────────┤ X ├──■─────────────────\n",
      "                    └───┘┌─┴─┐               \n",
      "q_4: ────────────────────┤ X ├──■────────────\n",
      "                         └───┘┌─┴─┐          \n",
      "q_5: ─────────────────────────┤ X ├──■───────\n",
      "                              └───┘┌─┴─┐     \n",
      "q_6: ──────────────────────────────┤ X ├──■──\n",
      "                                   └───┘┌─┴─┐\n",
      "q_7: ───────────────────────────────────┤ X ├\n",
      "                                        └───┘\n"
     ]
    }
   ],
   "source": [
    "sample01 = TrivialParamagnet(8)\n",
    "print(\"| trivial paramagnet in 8 qubits:\")\n",
    "print(sample01.wave())\n",
    "sample02 = GHZ(8)\n",
    "print(\"| GHZ in 8 qubits:\")\n",
    "print(sample02.wave())"
   ]
  },
  {
   "cell_type": "code",
   "execution_count": 14,
   "metadata": {},
   "outputs": [
    {
     "data": {
      "text/plain": [
       "<WaveContainer={\n",
       "    TrivialParamagnet: ...\n",
       "    GHZ: ...\n",
       "    2: ...\n",
       "} with 3 waves load, a customized dictionary>"
      ]
     },
     "execution_count": 14,
     "metadata": {},
     "output_type": "execute_result"
    }
   ],
   "source": [
    "experiment_execution_02.add(sample01.wave(), 'TrivialParamagnet')\n",
    "experiment_execution_02.add(sample02.wave(), 'GHZ')\n",
    "experiment_execution_02.add(sample02.wave())\n",
    "experiment_execution_02.waves"
   ]
  },
  {
   "attachments": {},
   "cell_type": "markdown",
   "metadata": {},
   "source": [
    "If you do not give the name of circuit, it will be named by series number.\n",
    "\n",
    "Now, waves are loading, time to excute."
   ]
  },
  {
   "attachments": {},
   "cell_type": "markdown",
   "metadata": {},
   "source": [
    "## 1.3 Excute Circuits"
   ]
  },
  {
   "cell_type": "code",
   "execution_count": 15,
   "metadata": {},
   "outputs": [
    {
     "data": {
      "text/plain": [
       "'a371d2f0-f25c-4022-992d-0fa2809fd8fa'"
      ]
     },
     "execution_count": 15,
     "metadata": {},
     "output_type": "execute_result"
    }
   ],
   "source": [
    "exp1 = experiment_execution_02.measure(\n",
    "    wave='TrivialParamagnet',\n",
    "    times=100,\n",
    "    shots=1024,\n",
    ")\n",
    "exp1 "
   ]
  },
  {
   "cell_type": "code",
   "execution_count": 16,
   "metadata": {},
   "outputs": [
    {
     "data": {
      "text/plain": [
       "<ExperimentContainer={\n",
       "    a371d2f0-f25c-4022-992d-0fa2809fd8fa: ...\n",
       "} with 1 experiments load, a customized dictionary>"
      ]
     },
     "execution_count": 16,
     "metadata": {},
     "output_type": "execute_result"
    }
   ],
   "source": [
    "experiment_execution_02.exps"
   ]
  },
  {
   "attachments": {},
   "cell_type": "markdown",
   "metadata": {},
   "source": [
    "- Then, there is a experiment completed, and we can calculate the Renyi Entropy by `analyze`."
   ]
  },
  {
   "attachments": {},
   "cell_type": "markdown",
   "metadata": {},
   "source": [
    "---\n",
    "\n",
    "## 1.4 Result\n",
    "\n",
    "And we want to know the Renyi Entropy of half system. Then"
   ]
  },
  {
   "cell_type": "code",
   "execution_count": 17,
   "metadata": {},
   "outputs": [
    {
     "data": {
      "application/vnd.jupyter.widget-view+json": {
       "model_id": "038e6cabd19543dc946605018da6c0f3",
       "version_major": 2,
       "version_minor": 0
      },
      "text/plain": [
       "|  - 00:00 < ?"
      ]
     },
     "metadata": {},
     "output_type": "display_data"
    },
    {
     "data": {
      "text/plain": [
       "<qurrentRandomized.Analysis with serial=0, AnalysisInput(degree=(0, 4), shots=1024, unitary_loc=(0, 8)), AnalysisContent(purity=1.085250644683838, entropy=-0.11802827961166419, and others), 0 unused arguments>"
      ]
     },
     "execution_count": 17,
     "metadata": {},
     "output_type": "execute_result"
    }
   ],
   "source": [
    "experiment_execution_02.exps[exp1].analyze(\n",
    "    (0, 4)\n",
    ")"
   ]
  },
  {
   "attachments": {},
   "cell_type": "markdown",
   "metadata": {},
   "source": [
    "- You will found a report in `reports`"
   ]
  },
  {
   "cell_type": "code",
   "execution_count": 18,
   "metadata": {},
   "outputs": [
    {
     "data": {
      "text/plain": [
       "<AnalysisContainer={\n",
       "    0: ...\n",
       "} with 1 analysis load, a customized dictionary>"
      ]
     },
     "execution_count": 18,
     "metadata": {},
     "output_type": "execute_result"
    }
   ],
   "source": [
    "experiment_execution_02.exps[exp1].reports"
   ]
  },
  {
   "cell_type": "code",
   "execution_count": 19,
   "metadata": {},
   "outputs": [],
   "source": [
    "main, side_prodct = experiment_execution_02.exps[exp1].reports[0].export()"
   ]
  },
  {
   "attachments": {},
   "cell_type": "markdown",
   "metadata": {},
   "source": [
    "- And there is it"
   ]
  },
  {
   "cell_type": "code",
   "execution_count": 20,
   "metadata": {},
   "outputs": [
    {
     "data": {
      "text/plain": [
       "{'purity': 1.085250644683838,\n",
       " 'entropy': -0.11802827961166419,\n",
       " 'puritySD': 0.9219032140143772,\n",
       " 'entropySD': 1.2255465606524565,\n",
       " 'bitStringRange': [0, 4],\n",
       " 'allSystemSource': 'independent',\n",
       " 'purityAllSys': 1.460403881072998,\n",
       " 'entropyAllSys': -0.5463674079016825,\n",
       " 'puritySDAllSys': 1.907963766941096,\n",
       " 'entropySDAllSys': 1.8848278208760503,\n",
       " 'bitsStringRangeAllSys': [0, 8],\n",
       " 'errorRate': -0.20921850237621262,\n",
       " 'mitigatedPurity': 0.7619556690267512,\n",
       " 'mitigatedEntropy': 0.3922210314676187,\n",
       " 'num_qubits': 8,\n",
       " 'measure': 'measure range: (0, 8)',\n",
       " 'measureActually': [0, 8],\n",
       " 'measureActuallyAllSys': [0, 8],\n",
       " 'countsNum': 100,\n",
       " 'takingTime': 0.00101097,\n",
       " 'takingTimeAllSys': 0.003631155,\n",
       " 'input': {'degree': [0, 4], 'shots': 1024, 'unitary_loc': [0, 8]},\n",
       " 'header': {'serial': 0,\n",
       "  'datetime': '2023-12-08 21:15:04',\n",
       "  'summoner': None,\n",
       "  'log': {}}}"
      ]
     },
     "execution_count": 20,
     "metadata": {},
     "output_type": "execute_result"
    }
   ],
   "source": [
    "main"
   ]
  },
  {
   "attachments": {},
   "cell_type": "markdown",
   "metadata": {},
   "source": [
    "- Also, `sideProdct` will record the data of each circuit, and you can use it to do more analysis."
   ]
  },
  {
   "cell_type": "code",
   "execution_count": 21,
   "metadata": {},
   "outputs": [
    {
     "data": {
      "text/plain": [
       "{'purityCells': {94: 0.3366661071777344,\n",
       "  10: 1.0396652221679688,\n",
       "  98: 2.3355541229248047,\n",
       "  38: 0.4231433868408203,\n",
       "  58: 3.668916702270508,\n",
       "  55: 1.451080322265625,\n",
       "  23: 0.2035999298095703,\n",
       "  4: 0.4166603088378906,\n",
       "  29: 0.9898319244384766,\n",
       "  50: 0.18678855895996094,\n",
       "  45: 0.8540477752685547,\n",
       "  7: 0.30043983459472656,\n",
       "  52: 0.39267921447753906,\n",
       "  67: 1.1649150848388672,\n",
       "  74: 1.5161571502685547,\n",
       "  39: 1.4526023864746094,\n",
       "  56: 0.7681827545166016,\n",
       "  17: 0.4980964660644531,\n",
       "  59: 1.4511547088623047,\n",
       "  46: 1.6836128234863281,\n",
       "  33: 0.26143836975097656,\n",
       "  73: 0.09354782104492188,\n",
       "  32: 1.4813385009765625,\n",
       "  44: 0.1337566375732422,\n",
       "  8: 0.3845539093017578,\n",
       "  22: 2.2182464599609375,\n",
       "  53: 0.33995628356933594,\n",
       "  65: 0.2037944793701172,\n",
       "  84: 0.27897071838378906,\n",
       "  90: 0.4830131530761719,\n",
       "  24: 0.6211776733398438,\n",
       "  28: 0.48456382751464844,\n",
       "  87: 1.4054927825927734,\n",
       "  78: 2.2416954040527344,\n",
       "  89: 0.44782257080078125,\n",
       "  92: 3.7884044647216797,\n",
       "  36: 2.385547637939453,\n",
       "  62: 2.9536209106445312,\n",
       "  76: 0.6053791046142578,\n",
       "  80: 1.1764049530029297,\n",
       "  43: 0.8282184600830078,\n",
       "  1: 0.4891471862792969,\n",
       "  25: 0.17897796630859375,\n",
       "  57: 0.7635478973388672,\n",
       "  70: 0.5505390167236328,\n",
       "  96: 0.9385738372802734,\n",
       "  30: 0.34105491638183594,\n",
       "  60: 1.3311634063720703,\n",
       "  63: 0.3822765350341797,\n",
       "  66: 0.8634719848632812,\n",
       "  71: 3.4101486206054688,\n",
       "  40: 1.0498218536376953,\n",
       "  42: 0.18973541259765625,\n",
       "  18: 2.6049537658691406,\n",
       "  20: 2.207826614379883,\n",
       "  34: 0.22289466857910156,\n",
       "  61: 0.6340179443359375,\n",
       "  13: 0.41573333740234375,\n",
       "  3: 2.1138534545898438,\n",
       "  79: 0.3685951232910156,\n",
       "  91: 0.5155487060546875,\n",
       "  93: 0.2787933349609375,\n",
       "  72: 0.5422134399414062,\n",
       "  41: 1.7831649780273438,\n",
       "  99: 0.6612434387207031,\n",
       "  95: 1.4814872741699219,\n",
       "  54: 0.2547321319580078,\n",
       "  26: 1.7872848510742188,\n",
       "  48: 3.8104686737060547,\n",
       "  21: 0.5499382019042969,\n",
       "  37: 2.182340621948242,\n",
       "  47: 0.8724899291992188,\n",
       "  6: 0.4887409210205078,\n",
       "  5: 0.27141761779785156,\n",
       "  51: 3.0982112884521484,\n",
       "  68: 1.0851898193359375,\n",
       "  69: 1.0501594543457031,\n",
       "  64: 0.16376304626464844,\n",
       "  77: 2.5856761932373047,\n",
       "  81: 0.2376232147216797,\n",
       "  82: 0.7484760284423828,\n",
       "  2: 1.9908008575439453,\n",
       "  83: 0.34709739685058594,\n",
       "  0: 1.0000228881835938,\n",
       "  14: 2.824005126953125,\n",
       "  31: 0.3686065673828125,\n",
       "  16: 1.0587196350097656,\n",
       "  11: 3.219083786010742,\n",
       "  9: 0.35386085510253906,\n",
       "  35: 0.6891441345214844,\n",
       "  19: 0.9607410430908203,\n",
       "  49: 0.5031661987304688,\n",
       "  75: 1.2470893859863281,\n",
       "  85: 1.2308158874511719,\n",
       "  86: 1.8196430206298828,\n",
       "  15: 0.7976512908935547,\n",
       "  88: 0.37642860412597656,\n",
       "  97: 0.6052589416503906,\n",
       "  12: 0.4275665283203125,\n",
       "  27: 1.2493267059326172},\n",
       " 'purityCellsAllSys': {51: 6.293802261352539,\n",
       "  26: 0.7366313934326172,\n",
       "  66: 0.5294990539550781,\n",
       "  38: 0.3850288391113281,\n",
       "  67: 0.6794223785400391,\n",
       "  98: 1.2971744537353516,\n",
       "  95: 1.4997062683105469,\n",
       "  76: 0.5537376403808594,\n",
       "  82: 0.2472991943359375,\n",
       "  12: 0.8027381896972656,\n",
       "  57: 0.5961036682128906,\n",
       "  6: 0.5714931488037109,\n",
       "  79: 0.583251953125,\n",
       "  24: 1.0940990447998047,\n",
       "  59: 2.3752708435058594,\n",
       "  44: 0.35720252990722656,\n",
       "  64: 0.43222999572753906,\n",
       "  15: 0.3582782745361328,\n",
       "  32: 0.6125316619873047,\n",
       "  83: 0.4174957275390625,\n",
       "  23: 0.8010501861572266,\n",
       "  41: 7.214347839355469,\n",
       "  58: 1.773162841796875,\n",
       "  46: 1.1381988525390625,\n",
       "  2: 0.7081928253173828,\n",
       "  65: 0.300537109375,\n",
       "  54: 0.7543869018554688,\n",
       "  3: 1.259054183959961,\n",
       "  10: 0.8855190277099609,\n",
       "  20: 1.9876537322998047,\n",
       "  47: 1.2278060913085938,\n",
       "  8: 0.7112026214599609,\n",
       "  81: 0.501220703125,\n",
       "  22: 10.033760070800781,\n",
       "  14: 1.1458377838134766,\n",
       "  42: 0.3067913055419922,\n",
       "  21: 4.250986099243164,\n",
       "  49: 0.37125587463378906,\n",
       "  11: 9.185237884521484,\n",
       "  75: 1.0301094055175781,\n",
       "  77: 0.8887290954589844,\n",
       "  84: 0.4010505676269531,\n",
       "  40: 0.6955814361572266,\n",
       "  85: 0.6059970855712891,\n",
       "  86: 0.6256694793701172,\n",
       "  92: 5.025585174560547,\n",
       "  0: 1.5368537902832031,\n",
       "  13: 0.4771537780761719,\n",
       "  4: 0.5464992523193359,\n",
       "  60: 2.9782485961914062,\n",
       "  96: 2.4779129028320312,\n",
       "  53: 0.4890327453613281,\n",
       "  37: 3.7053146362304688,\n",
       "  16: 0.4315605163574219,\n",
       "  31: 0.34549522399902344,\n",
       "  35: 1.3536109924316406,\n",
       "  72: 2.3236522674560547,\n",
       "  90: 0.28266143798828125,\n",
       "  34: 1.1325626373291016,\n",
       "  48: 1.9516735076904297,\n",
       "  27: 0.8522624969482422,\n",
       "  73: 0.2350940704345703,\n",
       "  19: 0.5205841064453125,\n",
       "  93: 0.36156272888183594,\n",
       "  9: 0.3584556579589844,\n",
       "  7: 0.5087680816650391,\n",
       "  18: 2.491680145263672,\n",
       "  61: 0.9937858581542969,\n",
       "  78: 3.399139404296875,\n",
       "  91: 1.3266773223876953,\n",
       "  1: 0.4102630615234375,\n",
       "  52: 0.6796684265136719,\n",
       "  25: 0.8214492797851562,\n",
       "  87: 0.7116889953613281,\n",
       "  71: 3.5101871490478516,\n",
       "  99: 0.4004039764404297,\n",
       "  5: 0.41480064392089844,\n",
       "  45: 3.798818588256836,\n",
       "  68: 2.284679412841797,\n",
       "  69: 0.7190418243408203,\n",
       "  17: 0.5215854644775391,\n",
       "  33: 0.41493797302246094,\n",
       "  39: 9.731681823730469,\n",
       "  50: 0.3889942169189453,\n",
       "  43: 0.2292461395263672,\n",
       "  80: 0.3670787811279297,\n",
       "  89: 0.4007415771484375,\n",
       "  70: 0.6350250244140625,\n",
       "  56: 1.5895252227783203,\n",
       "  74: 2.1409244537353516,\n",
       "  28: 1.5588550567626953,\n",
       "  30: 0.31296539306640625,\n",
       "  62: 1.0853958129882812,\n",
       "  88: 0.6796169281005859,\n",
       "  55: 0.721771240234375,\n",
       "  97: 1.0446090698242188,\n",
       "  29: 0.4758892059326172,\n",
       "  36: 3.3246612548828125,\n",
       "  94: 0.5631389617919922,\n",
       "  63: 0.7705802917480469}}"
      ]
     },
     "execution_count": 21,
     "metadata": {},
     "output_type": "execute_result"
    }
   ],
   "source": [
    "side_prodct"
   ]
  },
  {
   "cell_type": "code",
   "execution_count": 22,
   "metadata": {},
   "outputs": [
    {
     "data": {
      "text/plain": [
       "{'Python': True, 'Rust': True}"
      ]
     },
     "execution_count": 22,
     "metadata": {},
     "output_type": "execute_result"
    }
   ],
   "source": [
    "from qurry import BackendAvailabilities\n",
    "\n",
    "BackendAvailabilities"
   ]
  },
  {
   "cell_type": "code",
   "execution_count": null,
   "metadata": {},
   "outputs": [],
   "source": []
  }
 ],
 "metadata": {
  "kernelspec": {
   "display_name": "quantumsphere11",
   "language": "python",
   "name": "python3"
  },
  "language_info": {
   "codemirror_mode": {
    "name": "ipython",
    "version": 3
   },
   "file_extension": ".py",
   "mimetype": "text/x-python",
   "name": "python",
   "nbconvert_exporter": "python",
   "pygments_lexer": "ipython3",
   "version": "3.11.3"
  },
  "orig_nbformat": 4
 },
 "nbformat": 4,
 "nbformat_minor": 2
}
